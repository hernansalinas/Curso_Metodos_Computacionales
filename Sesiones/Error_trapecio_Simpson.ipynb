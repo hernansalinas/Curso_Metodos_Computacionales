{
  "nbformat": 4,
  "nbformat_minor": 0,
  "metadata": {
    "colab": {
      "name": "Error_trapecio_Simpson.ipynb",
      "provenance": [],
      "collapsed_sections": []
    },
    "kernelspec": {
      "name": "python3",
      "display_name": "Python 3"
    }
  },
  "cells": [
    {
      "cell_type": "markdown",
      "metadata": {
        "id": "U9TjqwZ-oaJY"
      },
      "source": [
        "# Integrales definidas:   Este programa muestra como es el uso del cálculo del error en el metodo del trapecio "
      ]
    },
    {
      "cell_type": "markdown",
      "metadata": {
        "id": "McFGDoF36X_w"
      },
      "source": [
        "#Metodo del trapecio\n",
        "\n",
        "> $$\n",
        "  \\int_{a}^{b} f(x)\\,dx \n",
        "  = \\sum_{i=0}^{N-1}  \\int_{i}^{x_{i+1}} f(x)\\,dx\n",
        "  =  \\frac{h}{2} \\sum_{i=0}^{N-1}(f(x_i)+f(x_{i+1})) \n",
        "    - \\frac{(b-a) h^2}{12}f''(\\xi),\n",
        "  $$\n",
        "\n",
        "donde $\\xi\\in [b,a]$, $h=a-b$\n",
        "\n",
        "\\epsilon=0.001\n",
        "\n"
      ]
    },
    {
      "cell_type": "markdown",
      "metadata": {
        "id": "NpUQnUHt6r67"
      },
      "source": [
        "## Cálculo del error para que sea menor $\\epsilon$. \n",
        "\n",
        "Sea \n",
        "\n",
        ">$$\n",
        " \\int_0^1 \\log(1+x^2)\\, dx\n",
        " $$"
      ]
    },
    {
      "cell_type": "code",
      "metadata": {
        "id": "YFZcnjp26rbs"
      },
      "source": [
        "a, b = 0,  1.\n",
        "\n",
        "def f(x): \n",
        "  return np.log(1 + x ** 2)\n",
        "\n",
        "epsilon = 0.001"
      ],
      "execution_count": 11,
      "outputs": []
    },
    {
      "cell_type": "markdown",
      "metadata": {
        "id": "L9Lq0NfL7JrK"
      },
      "source": [
        "Para encontrar el error, se debe de encontrar el maximo de $f''(\\xi)$, para ello empleemos la libreria sympy, para mostrar que la derivada de la función es:\n",
        "\n",
        "\n",
        "  * $\\displaystyle f'(x)=\\frac{2x}{1+x^2}$\n",
        "  * $\\displaystyle f''(x)=\\frac{2(1+x^2) - 2x\\cdot2x}{(1+x^2)^2}\n",
        "      = \\frac{2 - 2x^2}{(1+x^2)^2}$\n",
        "  \n"
      ]
    },
    {
      "cell_type": "code",
      "metadata": {
        "id": "m9lnKNRB6Ztv"
      },
      "source": [
        "#=================================================\n",
        "import sympy as sp \n",
        "import numpy as np\n",
        "import matplotlib.pylab as plt\n",
        "from sympy import init_printing\n",
        "init_printing() \n",
        "#=================================================\n"
      ],
      "execution_count": 12,
      "outputs": []
    },
    {
      "cell_type": "code",
      "source": [
        "x = sp.symbols(\"x\")\n",
        "sp.log(1 + x**2, 10)"
      ],
      "metadata": {
        "colab": {
          "base_uri": "https://localhost:8080/",
          "height": 59
        },
        "id": "uFLU7h5c_Yma",
        "outputId": "1c586c01-02ff-4868-a238-897bb4b322b3"
      },
      "execution_count": 13,
      "outputs": [
        {
          "output_type": "execute_result",
          "data": {
            "image/png": "[encoded data removed]",
            "text/latex": "$\\displaystyle \\frac{\\log{\\left(x^{2} + 1 \\right)}}{\\log{\\left(10 \\right)}}$",
            "text/plain": [
              "   ⎛ 2    ⎞\n",
              "log⎝x  + 1⎠\n",
              "───────────\n",
              "  log(10)  "
            ]
          },
          "metadata": {},
          "execution_count": 13
        }
      ]
    },
    {
      "cell_type": "code",
      "metadata": {
        "id": "Aftxe0I-8lkp",
        "outputId": "531aff1c-2576-4622-8f9c-e7a4313a6afa",
        "colab": {
          "base_uri": "https://localhost:8080/"
        }
      },
      "source": [
        "f_s = lambda x: sp.log(1 + x**2)\n",
        "\n",
        "x = sp.symbols(\"x\")\n",
        "\n",
        "print(f_s(x))\n",
        "print(sp.diff(f_s(x), x, 1))\n",
        "print(sp.diff(f_s(x), x, 2))\n",
        "print(sp.diff(f_s(x), x, 3))\n"
      ],
      "execution_count": 14,
      "outputs": [
        {
          "output_type": "stream",
          "name": "stdout",
          "text": [
            "log(x**2 + 1)\n",
            "2*x/(x**2 + 1)\n",
            "2*(-2*x**2/(x**2 + 1) + 1)/(x**2 + 1)\n",
            "4*x*(4*x**2/(x**2 + 1) - 3)/(x**2 + 1)**2\n"
          ]
        }
      ]
    },
    {
      "cell_type": "code",
      "metadata": {
        "id": "lWS6aAmUV-P6",
        "outputId": "29318b07-0179-4d0e-8bd6-3e368c7dd035",
        "colab": {
          "base_uri": "https://localhost:8080/",
          "height": 38
        }
      },
      "source": [
        "f_s(x)"
      ],
      "execution_count": 15,
      "outputs": [
        {
          "output_type": "execute_result",
          "data": {
            "image/png": "[encoded data removed]",
            "text/latex": "$\\displaystyle \\log{\\left(x^{2} + 1 \\right)}$",
            "text/plain": [
              "   ⎛ 2    ⎞\n",
              "log⎝x  + 1⎠"
            ]
          },
          "metadata": {},
          "execution_count": 15
        }
      ]
    },
    {
      "cell_type": "code",
      "metadata": {
        "id": "Q1O4udXk99iM",
        "outputId": "48bafa64-e9bb-41f7-f81b-850989f9e255",
        "colab": {
          "base_uri": "https://localhost:8080/",
          "height": 421
        }
      },
      "source": [
        "#Numpy funcion para evaluar la funcion de sympy\n",
        "f2 = sp.diff(f_s(x), x, 2)\n",
        "\n",
        "fxn5 = sp.lambdify(x, f2, 'numpy') #numpy funcion\n",
        "\n",
        "x_ = np.linspace(0, 1)\n",
        "print(fxn5(x_))\n",
        "\n",
        "plt.figure()\n",
        "plt.plot(x_, fxn5(x_))\n",
        "plt.show()"
      ],
      "execution_count": 16,
      "outputs": [
        {
          "output_type": "stream",
          "name": "stdout",
          "text": [
            "[2.         1.99750277 1.99003185 1.97764915 1.96045663 1.9385946\n",
            " 1.91223931 1.8816     1.84691548 1.80845033 1.76649084 1.7213407\n",
            " 1.67331668 1.62274433 1.56995372 1.51527551 1.45903713 1.4015594\n",
            " 1.34315347 1.28411812 1.22473753 1.16527943 1.10599365 1.04711109\n",
            " 0.98884303 0.93138078 0.87489566 0.81953924 0.76544379 0.71272293\n",
            " 0.66147251 0.61177148 0.56368301 0.51725552 0.4725239  0.42951059\n",
            " 0.38822682 0.34867367 0.31084322 0.2747196  0.24027997 0.20749549\n",
            " 0.17633218 0.14675178 0.11871245 0.09216949 0.06707595 0.0433832\n",
            " 0.0210414  0.        ]\n"
          ]
        },
        {
          "output_type": "display_data",
          "data": {
            "image/png": "[encoded data removed]",
            "text/plain": [
              "<Figure size 432x288 with 1 Axes>"
            ]
          },
          "metadata": {
            "needs_background": "light"
          }
        }
      ]
    },
    {
      "cell_type": "code",
      "metadata": {
        "id": "a3Zf7cQh_moC",
        "outputId": "eb2da440-f629-4124-c1fd-deec28674386",
        "colab": {
          "base_uri": "https://localhost:8080/"
        }
      },
      "source": [
        "Max = np.max(fxn5(x_))\n",
        "print(Max)\n",
        "#Maximo de la función"
      ],
      "execution_count": 17,
      "outputs": [
        {
          "output_type": "stream",
          "name": "stdout",
          "text": [
            "2.0\n"
          ]
        }
      ]
    },
    {
      "cell_type": "markdown",
      "metadata": {
        "id": "t3BFlqO7-zlq"
      },
      "source": [
        "$$\n",
        "  |E_N(f)| \\le  \\frac{(b-a) h^2}{12} f''(\\xi), = 1 *2\\frac{h^2}{12}= \\frac{h^2}{6}<\\epsilon\n",
        "  $$\n",
        "  \n",
        "  > $\\epsilon=0.001$\n",
        "  \n",
        "  $$\n",
        "  \\frac{h^2}{6}<\\epsilon\n",
        "  $$\n",
        "  \n",
        "  $$\n",
        "  h = \\sqrt{6\\epsilon}= \\sqrt{0.006}\n",
        "  $$\n",
        "  \n",
        "  "
      ]
    },
    {
      "cell_type": "code",
      "metadata": {
        "id": "PT0z2kNn7Ggp",
        "outputId": "de7ab6e2-d7bc-4795-f0a9-fc33b4375868",
        "colab": {
          "base_uri": "https://localhost:8080/"
        }
      },
      "source": [
        "h = np.sqrt(0.006)\n",
        "print(\"El tamaño de cada paso es %.5lf:\"  %h)\n",
        "\n",
        "print(\"El numero de intervalos es: %.5lf\" %((b-a)/h) )"
      ],
      "execution_count": 18,
      "outputs": [
        {
          "output_type": "stream",
          "name": "stdout",
          "text": [
            "El tamaño de cada paso es 0.07746:\n",
            "El numero de intervalos es: 12.90994\n"
          ]
        }
      ]
    },
    {
      "cell_type": "markdown",
      "metadata": {
        "id": "krtHdiD9AKS3"
      },
      "source": [
        "Lo anterior implica, que el número minimo de intervalos para realizar la integral con un error de 0.001, es de N=13. Empleando la ecuacion para resolver la integral por el metodo del trapecio compuesto, tenemos que: \n",
        "\n",
        "\\begin{equation}\n",
        "\\int_{a}^{b}f(x)dx=  \\frac{h}{2}\\left[f(a)+2\\sum_{j=1}^{n-1}f(x_j)+f(b)\\right ]\n",
        "\\end{equation}\n",
        "\n"
      ]
    },
    {
      "cell_type": "code",
      "metadata": {
        "id": "IQ-xdPW7-k6C",
        "outputId": "a27fb204-2019-425d-e783-9cba91396d16",
        "colab": {
          "base_uri": "https://localhost:8080/"
        }
      },
      "source": [
        "N = 13\n",
        "a, b = 0, 1 \n",
        "h = float((b - a)/N)\n",
        "\n",
        "x = np.linspace(a, b, N+1) #Definición de los puntos extremos\n",
        "x_interior = x[1:-1]  #Puntos del interior\n",
        "\n",
        "T1 =  (f(a))\n",
        "T3 =  (f(b))\n",
        "T2 =  sum(f(x_interior))\n",
        "\n",
        "trap_f = T1 + 2*T2 + T3\n",
        "trap_f = 0.5*h*trap_f\n",
        "\n",
        "print(\"El valor de la integral es: %.8lf \" %trap_f)\n"
      ],
      "execution_count": 19,
      "outputs": [
        {
          "output_type": "stream",
          "name": "stdout",
          "text": [
            "El valor de la integral es: 0.26443665 \n"
          ]
        }
      ]
    },
    {
      "cell_type": "code",
      "metadata": {
        "id": "Spm377GWDmyr",
        "outputId": "49e4631a-04fc-434e-e09e-a40bf27a5693",
        "colab": {
          "base_uri": "https://localhost:8080/"
        }
      },
      "source": [
        "from scipy import integrate\n",
        "t = integrate.trapz( f(x), x, h )\n",
        "print(\"El valor, empleando la libreria integrate es: %lf\" %t)"
      ],
      "execution_count": 24,
      "outputs": [
        {
          "output_type": "stream",
          "name": "stdout",
          "text": [
            "El valor, empleando la libreria integrate es: 0.264437\n"
          ]
        }
      ]
    },
    {
      "cell_type": "code",
      "source": [
        "t = integrate.trapz( f(x), x, 1E-12 )\n",
        "print(\"El valor, empleando la libreria integrate es: %lf\" %t)"
      ],
      "metadata": {
        "colab": {
          "base_uri": "https://localhost:8080/"
        },
        "id": "21S5bjPsClxr",
        "outputId": "b0880fd4-bd6a-4fa9-aefd-a9577a45834b"
      },
      "execution_count": 26,
      "outputs": [
        {
          "output_type": "stream",
          "name": "stdout",
          "text": [
            "El valor, empleando la libreria integrate es: 0.264437\n"
          ]
        }
      ]
    },
    {
      "cell_type": "code",
      "metadata": {
        "id": "Ez--ROSQCE09",
        "outputId": "3d1a5b7c-a365-49de-bc7c-98ebdd666ecc",
        "colab": {
          "base_uri": "https://localhost:8080/",
          "height": 51
        }
      },
      "source": [
        "#Comparando con el valor exacto, tenemos que: \n",
        "from scipy.integrate import quad\n",
        "quad_python = quad(f, a, b)\n",
        "print (\"Cuadratura de python:\", quad_python)\n",
        "Iq = quad_python [0]\n",
        "\n",
        "print (\"Diferencia:\", ( (trap_f - Iq)/Iq))"
      ],
      "execution_count": null,
      "outputs": [
        {
          "output_type": "stream",
          "text": [
            "Cuadratura de python: (0.26394350735484196, 2.930361590656649e-15)\n",
            "Diferencia: 0.0018683741818406388\n"
          ],
          "name": "stdout"
        }
      ]
    },
    {
      "cell_type": "markdown",
      "metadata": {
        "id": "dcJFaUCRExsB"
      },
      "source": [
        "#Metodo del Sympson"
      ]
    },
    {
      "cell_type": "markdown",
      "metadata": {
        "id": "QjcU_vSsFiHy"
      },
      "source": [
        "\n",
        " En general, la regla de simpson es\n",
        " \n",
        "$$\n",
        " \\int_a^b f(x)dx = \\frac{h}{3}\\left[f(a) + 2\\sum_{i=1}^{(n-1)}f(x_{2i}) + 4\\sum_{i=1}^{n}f(x_{2i-1}) + f(b)\\right]-\\frac{b − a}{180}h^4f^{(4)}(\\xi)\n",
        ",$$\n",
        " \n",
        " donde $\\xi ∈ (a,b).$\n",
        "error=0.001\n"
      ]
    },
    {
      "cell_type": "code",
      "metadata": {
        "id": "CZ08a_DgETtr"
      },
      "source": [
        "a, b = 0,  1.\n",
        "def f(x): \n",
        "  return np.log(1 + x ** 2)\n",
        "\n",
        "epsilon = 0.001\n",
        "\n",
        "epsilon = 1e-5"
      ],
      "execution_count": null,
      "outputs": []
    },
    {
      "cell_type": "code",
      "metadata": {
        "id": "rCtM8ItsGNUv"
      },
      "source": [
        "def simpson(f, a, b, N):\n",
        "    \"\"\"\n",
        "    Aproxima la integral de $f$ en $[a,b]$ mediante la fórmula compuesta \n",
        "    de Simpson con N subintervalos\n",
        "    \"\"\"\n",
        "    n_nodos = 2*N+1 # (N+1 extremos de subintervalos) + (N puntos medios)\n",
        "    x = np.linspace(a, b, n_nodos)\n",
        "\n",
        "    x_impar = x[1: :2] # Nodos con coordenada impar (ptos medios)\n",
        "    x_par = x[2:n_nodos-1:2] # Nodos con coordenada par (salvo el primero y el último)\n",
        "\n",
        "    h = (b-a)/(2*N) # Distancia entre dos nodos de integración\n",
        "    cuad = h/3*(f(a) + 2*sum(f(x_par)) + 4*sum(f(x_impar)) + f(b)) # F. comp. de Simpson\n",
        "    return cuad  \n",
        "  \n",
        "#- La expresión `x`, o `x[:]`, representa todos los elementos de la lista x\n",
        "#- La expresión `x[M:N]`, o `x[M:]`, representa los elementos `x[M]`, `x[M+1]`,..., `x[N-1]`\n",
        "#- La expresión `x[M:N:k]`, o `x[M::k]`, representa los elementos `x[M]`, `x[M+k]`,..., `x[N-1]`\n",
        "#x = np.linspace(0, 1, 10)\n",
        "#x_impar = x[1:: 2]  \n",
        "#x_par = x[2: -1: 2]\n",
        "#print(x)\n",
        "#print(x_impar)\n",
        "#print(x_par)\n",
        "\n",
        "  \n",
        "  "
      ],
      "execution_count": null,
      "outputs": []
    },
    {
      "cell_type": "code",
      "metadata": {
        "id": "mpLSrlEdIVR5",
        "outputId": "ffb2d82c-f02d-4597-aecc-79f225509cc6",
        "colab": {
          "base_uri": "https://localhost:8080/",
          "height": 34
        }
      },
      "source": [
        "x = simpson(f, 0, 1, 20)\n",
        "print(x)"
      ],
      "execution_count": null,
      "outputs": [
        {
          "output_type": "stream",
          "text": [
            "0.26394350518567283\n"
          ],
          "name": "stdout"
        }
      ]
    },
    {
      "cell_type": "markdown",
      "metadata": {
        "id": "e4KK2QIpKsB8"
      },
      "source": [
        "## Para deducir el numero de intervalos tenemos que : \n",
        "$$\n",
        "\\frac{b − a}{180}h^4f^{(4)}(\\xi) = \\epsilon\n",
        "$$\n",
        "\n",
        "$$\n",
        "\\frac{b − a}{180}h^4 \\mathrm{Max} ||f^{(4)}(\\xi)||=\\epsilon\n",
        "$$\n",
        "\n",
        "con $$h = (b-a)/(2N)$$\n",
        "\n",
        "$$\n",
        "\\frac{(b − a)^5}{180(2N)^4} \\mathrm{Max} ||f^{(4)}(\\xi)||=\\epsilon\n",
        "$$\n",
        "\n",
        "$$\n",
        "N^4 = \\frac{(b − a)^5}{180(2)^4\\epsilon} \\mathrm{Max} ||f^{(4)}(\\xi)||\n",
        "$$"
      ]
    },
    {
      "cell_type": "code",
      "metadata": {
        "id": "KL_x-OKcHY2L",
        "outputId": "8b3f9960-c7b6-40bb-cf88-49b96301bc29",
        "colab": {
          "base_uri": "https://localhost:8080/",
          "height": 108
        }
      },
      "source": [
        "f_s = lambda x: sp.log(1 + x**2)\n",
        "\n",
        "x = sp.symbols(\"x\")\n",
        "\n",
        "print(f_s(x))\n",
        "print(sp.diff(f_s(x), x, 1))\n",
        "print(sp.diff(f_s(x), x, 2))\n",
        "print(sp.diff(f_s(x), x, 3))\n",
        "print(sp.diff(f_s(x), x, 4))\n"
      ],
      "execution_count": null,
      "outputs": [
        {
          "output_type": "stream",
          "text": [
            "log(x**2 + 1)\n",
            "2*x/(x**2 + 1)\n",
            "2*(-2*x**2/(x**2 + 1) + 1)/(x**2 + 1)\n",
            "4*x*(4*x**2/(x**2 + 1) - 3)/(x**2 + 1)**2\n",
            "12*(-8*x**4/(x**2 + 1)**2 + 8*x**2/(x**2 + 1) - 1)/(x**2 + 1)**2\n"
          ],
          "name": "stdout"
        }
      ]
    },
    {
      "cell_type": "code",
      "metadata": {
        "id": "-DLhti7ddE93",
        "outputId": "dd72f6a7-8b46-427a-c6b4-55b28dbabfa9",
        "colab": {
          "base_uri": "https://localhost:8080/",
          "height": 451
        }
      },
      "source": [
        "#Numpy funcion para evaluar la funcion de sympy\n",
        "f2 = sp.diff(f_s(x), x, 4)\n",
        "\n",
        "fxn5 = sp.lambdify(x, f2, 'numpy') #numpy funcion\n",
        "\n",
        "x_ = np.linspace(0, 1)\n",
        "print(fxn5(x_))\n",
        "\n",
        "plt.figure()\n",
        "plt.plot(x_, fxn5(x_))\n",
        "plt.show()"
      ],
      "execution_count": null,
      "outputs": [
        {
          "output_type": "stream",
          "text": [
            "[-12.         -11.95009361 -11.80124435 -11.55603605 -11.21868988\n",
            " -10.79494054 -10.29187077  -9.71771136  -9.0816152   -8.39341451\n",
            "  -7.66337093  -6.90192756  -6.1194715   -5.32611444  -4.53149713\n",
            "  -3.74462252  -2.97372025  -2.22614402  -1.50830157  -0.82561607\n",
            "  -0.18251637   0.41754692   0.97206344   1.47940701   1.93876566\n",
            "   2.35006168   2.71386543   3.03130622   3.30398314   3.53387829\n",
            "   3.72327433   3.8746778    3.99074921   4.07424061   4.12794086\n",
            "   4.15462866   4.15703306   4.1378012    4.09947262   4.0444596\n",
            "   3.97503298   3.89331257   3.80126184   3.70068589   3.59323238\n",
            "   3.48039484   3.36351768   3.24380275   3.12231685   3.        ]\n"
          ],
          "name": "stdout"
        },
        {
          "output_type": "display_data",
          "data": {
            "image/png": "[encoded data removed]",
            "text/plain": [
              "<Figure size 432x288 with 1 Axes>"
            ]
          },
          "metadata": {
            "tags": []
          }
        }
      ]
    },
    {
      "cell_type": "code",
      "metadata": {
        "id": "sXjyFd-sdGzP",
        "outputId": "60ee5d5d-744c-4eea-e7f4-394816bd5cfd",
        "colab": {
          "base_uri": "https://localhost:8080/",
          "height": 35
        }
      },
      "source": [
        "epsilon=1e-5\n",
        "\n",
        "def N(a, b, M):\n",
        "  return ((b-a)**5*M/(epsilon*180*2**4))**(1./4)\n",
        "\n",
        "N(0,1,12)"
      ],
      "execution_count": null,
      "outputs": [
        {
          "output_type": "execute_result",
          "data": {
            "image/png": "[encoded data removed]",
            "text/latex": "$$4.518010018049224$$",
            "text/plain": [
              "4.518010018049224"
            ]
          },
          "metadata": {
            "tags": []
          },
          "execution_count": 178
        }
      ]
    },
    {
      "cell_type": "code",
      "metadata": {
        "id": "07qmKgzQdMkn"
      },
      "source": [
        "simp = simpson(f, a, b, 4)\n"
      ],
      "execution_count": null,
      "outputs": []
    },
    {
      "cell_type": "code",
      "metadata": {
        "id": "Ot8zIZabhpTk"
      },
      "source": [
        "#Comparando con el valor exacto, tenemos que: \n",
        "from scipy.integrate import quad\n",
        "quad_python = quad(f, a, b)\n"
      ],
      "execution_count": null,
      "outputs": []
    },
    {
      "cell_type": "code",
      "metadata": {
        "id": "TvvXXgFkibpB",
        "outputId": "691a711e-c8c1-43ef-de13-737a05ce8c22",
        "colab": {
          "base_uri": "https://localhost:8080/",
          "height": 54
        }
      },
      "source": [
        "\n",
        "print (\"Cuadratura de python:\", quad_python)\n",
        "Iq = quad_python [0]\n",
        "\n",
        "print (\"Diferencia:\", ( (simp - Iq)/Iq))"
      ],
      "execution_count": null,
      "outputs": [
        {
          "output_type": "stream",
          "text": [
            "Cuadratura de python: (0.26394350735484196, 2.930361590656649e-15)\n",
            "Diferencia: -5.080038902204066e-06\n"
          ],
          "name": "stdout"
        }
      ]
    },
    {
      "cell_type": "code",
      "metadata": {
        "id": "DcmmaW8hi8--"
      },
      "source": [
        ""
      ],
      "execution_count": null,
      "outputs": []
    }
  ]
}