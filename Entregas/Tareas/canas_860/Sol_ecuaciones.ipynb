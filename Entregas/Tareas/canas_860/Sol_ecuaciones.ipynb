{
 "cells": [
  {
   "cell_type": "code",
   "execution_count": 1,
   "id": "34b1034f-51d7-45b0-8320-ac71cb98826d",
   "metadata": {},
   "outputs": [],
   "source": [
    "import numpy as np\n",
    "import matplotlib.pyplot as plt\n",
    "import pandas as pd\n",
    "from scipy import optimize"
   ]
  },
  {
   "cell_type": "markdown",
   "id": "4846842a-00e3-47a3-b687-07cb8fb77f6c",
   "metadata": {},
   "source": [
    "# Solucion de los problema propuestos"
   ]
  },
  {
   "cell_type": "markdown",
   "id": "25764fa1-6b7b-4f03-8777-0bfda8706459",
   "metadata": {},
   "source": [
    "## Primer punto\n",
    "\n",
    "- Hallar la solución de la ecuacion $h(x)= e ^{x}-2-\\cos({e^{x}-2)}$ [1], igualamos la función f(x) = 0."
   ]
  },
  {
   "cell_type": "code",
   "execution_count": 2,
   "id": "a574b716-1657-499e-a945-b5f5fc12a83b",
   "metadata": {},
   "outputs": [
    {
     "data": {
      "image/png": "[encoded data removed]",
      "text/plain": [
       "<Figure size 432x288 with 1 Axes>"
      ]
     },
     "metadata": {
      "needs_background": "light"
     },
     "output_type": "display_data"
    }
   ],
   "source": [
    "h = lambda x: np.exp(x)-np.cos(np.exp(x)-2)-2 #Definimos la función lamda\n",
    "x = np.linspace(-np.pi,np.pi,100)\n",
    "plt.plot(x,h(x))\n",
    "plt.grid()\n",
    "plt.xlabel(\"x\")\n",
    "plt.ylabel(\"h(x)\")\n",
    "plt.show()"
   ]
  },
  {
   "cell_type": "code",
   "execution_count": 3,
   "id": "0d549f9f-7e1b-4474-85e5-9051931303c6",
   "metadata": {},
   "outputs": [
    {
     "name": "stdout",
     "output_type": "stream",
     "text": [
      "Metodo de la biseccion = 1.0076243877410889\n"
     ]
    }
   ],
   "source": [
    "# Metodod de bisección\n",
    "op = optimize.bisect(h,a=0,b=1.5,xtol=1E-6)\n",
    "print(\"Metodo de la biseccion =\",op)"
   ]
  },
  {
   "cell_type": "code",
   "execution_count": 4,
   "id": "96c68cd0-d7d2-4464-acfe-8e4031651c8f",
   "metadata": {},
   "outputs": [
    {
     "name": "stdout",
     "output_type": "stream",
     "text": [
      "Metodo de punto fijo = 1.0076239716581368\n"
     ]
    }
   ],
   "source": [
    "#Metodo del punto fijo\n",
    "e = lambda x: x - h(x)\n",
    "p = optimize.fixed_point(e,1)\n",
    "print(\"Metodo de punto fijo =\",p)"
   ]
  },
  {
   "cell_type": "code",
   "execution_count": 5,
   "id": "b1239083-9fe6-47e2-aed3-1f9379df2ce0",
   "metadata": {},
   "outputs": [
    {
     "name": "stdout",
     "output_type": "stream",
     "text": [
      "Metodo de la secante = 1.007623971658137\n"
     ]
    }
   ],
   "source": [
    "#Metodo de la secante\n",
    "s = optimize.newton(h,1)\n",
    "print(\"Metodo de la secante =\", s)"
   ]
  },
  {
   "cell_type": "code",
   "execution_count": 6,
   "id": "3b2ff824-d4ad-439c-b44b-2911a8d63149",
   "metadata": {},
   "outputs": [
    {
     "name": "stdout",
     "output_type": "stream",
     "text": [
      "Metodo de Newton-Rapshon = 1.0076239716581368\n"
     ]
    }
   ],
   "source": [
    "#Metodo de Newton-Rapshon\n",
    "h_prima = lambda x : np.exp(x)+np.sin(np.exp(x)-2)*np.exp(x)\n",
    "n = optimize.newton(h,1,h_prima)\n",
    "print(\"Metodo de Newton-Rapshon =\",n)"
   ]
  },
  {
   "cell_type": "markdown",
   "id": "76eddc3f-e876-4f93-bdf4-24042930a93d",
   "metadata": {},
   "source": [
    "# Segundo punto"
   ]
  },
  {
   "cell_type": "markdown",
   "id": "5c4e678f-9069-4853-b62c-7a41553fb4a1",
   "metadata": {},
   "source": [
    "- Solucion de la ecuacion  $x(t) = - \\frac {g}{2{\\omega^2}}(\\frac {e^{\\omega t}- e^{- \\omega t}}{2}) - sin \\ \\omega t$  [2]"
   ]
  },
  {
   "cell_type": "markdown",
   "id": "517557dd-3279-45f9-8a97-825d7cc873a1",
   "metadata": {},
   "source": [
    "Del enunciado nos dice que cuando ha pasado un instante de 1s la particula se ha desplazado 0.51m, reemplazando en la ecuación [2] se obtiene el valor de $\\omega$  "
   ]
  },
  {
   "cell_type": "code",
   "execution_count": 7,
   "id": "b4090b1b-2473-422a-8324-a2026fd935ff",
   "metadata": {},
   "outputs": [
    {
     "data": {
      "image/png": "[encoded data removed]",
      "text/plain": [
       "<Figure size 432x288 with 1 Axes>"
      ]
     },
     "metadata": {
      "needs_background": "light"
     },
     "output_type": "display_data"
    }
   ],
   "source": [
    "g = 9.76 #m/s²\n",
    "w = np.linspace(-np.pi,np.pi,100)\n",
    "z = lambda w : -(g/(2*(w)**2))*(np.sinh(w)-np.sin(w))\n",
    "plt.plot(w,z(w))\n",
    "plt.xlabel(\"t\")\n",
    "plt.ylabel(\"z(t)\")\n",
    "plt.grid()"
   ]
  },
  {
   "cell_type": "code",
   "execution_count": 8,
   "id": "43f49a93-d99b-4e41-b2aa-966126e0385b",
   "metadata": {},
   "outputs": [
    {
     "name": "stdout",
     "output_type": "stream",
     "text": [
      "Metodo de bisección = 1.1920928923357466e-08\n"
     ]
    }
   ],
   "source": [
    "#Metodo de biseccion\n",
    "p = optimize.bisect(z,a=-0.5,b=0.2)\n",
    "print(\"Metodo de bisección =\",p)"
   ]
  },
  {
   "cell_type": "code",
   "execution_count": 9,
   "id": "5cd09abc-463c-4bbc-a200-1463e0ac1172",
   "metadata": {},
   "outputs": [
    {
     "name": "stdout",
     "output_type": "stream",
     "text": [
      "Metodo de la secante = 1.1092782057237545e-08\n"
     ]
    }
   ],
   "source": [
    "#Metodo de secante\n",
    "s = optimize.newton(z,0.5)\n",
    "print(\"Metodo de la secante =\",s)"
   ]
  },
  {
   "cell_type": "code",
   "execution_count": 10,
   "id": "5238775d-dd4e-4dc2-a43b-263ebc246112",
   "metadata": {},
   "outputs": [
    {
     "name": "stdout",
     "output_type": "stream",
     "text": [
      "Metodo de punto fijo = 1.8187708283878834e-14\n"
     ]
    }
   ],
   "source": [
    "#Metodo de punto fijo\n",
    "h = lambda w : w-z(w)\n",
    "m = optimize.fixed_point(h,0.5)\n",
    "print(\"Metodo de punto fijo =\",m)"
   ]
  },
  {
   "cell_type": "code",
   "execution_count": 11,
   "id": "6d7ef9c8-539f-4dca-a07f-3feb6e018242",
   "metadata": {},
   "outputs": [],
   "source": [
    "# Metodo de Newton-rapshon\n",
    "z_pr = lambda w: -(g/2*w)*(np.cosh(w)-np.cos(w))"
   ]
  },
  {
   "cell_type": "markdown",
   "id": "b90f6abd-70e2-479b-b877-14844b953f2c",
   "metadata": {},
   "source": [
    "# Tercer punto"
   ]
  },
  {
   "cell_type": "markdown",
   "id": "4b984c38-73e7-4191-b63e-ea34f1cbeba4",
   "metadata": {},
   "source": [
    "$ V = L(0.5 \\pi r^2 - r^2 \\arcsin{\\frac{h}{r}}- h(r^2 - h^2)^{\\frac{1}{2}}))$"
   ]
  },
  {
   "cell_type": "code",
   "execution_count": 12,
   "id": "ac2eb484-b950-4d8b-993d-d4325ddee499",
   "metadata": {},
   "outputs": [
    {
     "data": {
      "image/png": "[encoded data removed]",
      "text/plain": [
       "<Figure size 432x288 with 1 Axes>"
      ]
     },
     "metadata": {
      "needs_background": "light"
     },
     "output_type": "display_data"
    }
   ],
   "source": [
    "L = 10 #Pies\n",
    "r = 1  # Pies\n",
    "V_0 = 12.4 #Pies cubicos\n",
    "V = lambda h: (V_0)/L - 0.5*np.pi*(r**2)+(r**2)*np.arcsin(h/r)+h*(r**2-h**2)**(1/2)\n",
    "h = np.linspace(-1,1,100)\n",
    "plt.plot(h,V(h))\n",
    "plt.grid()\n",
    "plt.xlabel(\"h\")\n",
    "plt.ylabel(\"V(h)\")\n",
    "plt.show()"
   ]
  },
  {
   "cell_type": "code",
   "execution_count": 13,
   "id": "94d77595-0b73-4029-bd10-9c8584736e35",
   "metadata": {},
   "outputs": [
    {
     "name": "stdout",
     "output_type": "stream",
     "text": [
      "Metodo de bisección 0.1661660346599092\n"
     ]
    }
   ],
   "source": [
    "#Metodo de biseccion\n",
    "u = optimize.bisect(V,a=-1,b=1)\n",
    "print(\"Metodo de bisección\",u)"
   ]
  },
  {
   "cell_type": "code",
   "execution_count": 14,
   "id": "7758e77a-fc8e-4cdd-a815-6e5221ca6c3b",
   "metadata": {},
   "outputs": [
    {
     "name": "stdout",
     "output_type": "stream",
     "text": [
      "Metodo de la secante = 0.16616603465836785\n"
     ]
    }
   ],
   "source": [
    "#Metodo de la secante\n",
    "i = optimize.newton(V,0)\n",
    "print(\"Metodo de la secante =\",i)"
   ]
  },
  {
   "cell_type": "code",
   "execution_count": 15,
   "id": "49c996ce-3b45-4703-824f-b5f5bb5383ea",
   "metadata": {},
   "outputs": [
    {
     "name": "stdout",
     "output_type": "stream",
     "text": [
      "Metodo del punto fijo = 0.16616603465836816\n"
     ]
    }
   ],
   "source": [
    "#Metodo de punto fijo\n",
    "w = lambda h: h -V(h)\n",
    "q = optimize.fixed_point(w,0)\n",
    "print(\"Metodo del punto fijo =\",q)"
   ]
  },
  {
   "cell_type": "code",
   "execution_count": 16,
   "id": "99b085e0-5744-461a-a296-657ac0fb8b30",
   "metadata": {},
   "outputs": [
    {
     "name": "stdout",
     "output_type": "stream",
     "text": [
      "Metodo de Newton-Rapshon = 0.16616603465836816\n"
     ]
    }
   ],
   "source": [
    "#Metodo de Newton-Rapshon\n",
    "V_pri =lambda h: ((r**2)/np.sqrt(1-(h/r)**2))+ np.sqrt(r**2-h**2) - (h**2/r)*(1/(np.sqrt(1-(h/r)**2)))\n",
    "d = optimize.newton(V,0,V_pri)\n",
    "print(\"Metodo de Newton-Rapshon =\",d)"
   ]
  },
  {
   "cell_type": "markdown",
   "id": "91d62658-5d53-4c13-82bf-4d4f0da2f7f1",
   "metadata": {},
   "source": [
    "La profundidad del agua cuando la longitud es de 10 pies, el radio de 1 pie y el volumen es de 12.4 es de 0.166 pies de profundidad "
   ]
  },
  {
   "cell_type": "markdown",
   "id": "073da1fa-740c-44d0-968a-0faee6290ca5",
   "metadata": {},
   "source": [
    "# Cuarto punto"
   ]
  },
  {
   "cell_type": "markdown",
   "id": "471c3548-8fc0-42cb-b554-7ca5c1c07978",
   "metadata": {},
   "source": [
    "Ecuacion necesaria para resolver el siguiente problema es: \n",
    "$ A \\sin{\\alpha} \\cos{\\alpha} + B \\sin^2{\\alpha}- C \\cos{\\alpha} - E \\sin{\\alpha}$\n",
    "\n",
    "donde \n",
    "$A = l\\sin{\\beta}$ $\\space B = l \\cos{\\beta}$"
   ]
  },
  {
   "cell_type": "code",
   "execution_count": 17,
   "id": "c829163f-8933-4e91-bd6a-66795b070fff",
   "metadata": {},
   "outputs": [
    {
     "data": {
      "image/png": "[encoded data removed]",
      "text/plain": [
       "<Figure size 432x288 with 1 Axes>"
      ]
     },
     "metadata": {
      "needs_background": "light"
     },
     "output_type": "display_data"
    }
   ],
   "source": [
    "l = 89 #Pulgadas\n",
    "h = 49 #Pulgadas\n",
    "D = 55 #Pulgadas\n",
    "β = 11.5 #Grados\n",
    "β = np.deg2rad(β)\n",
    "A = l*np.sin(β)\n",
    "B = l*np.cos(β)\n",
    "C = (h + 0.5*D)*np.sin(β)-0.5*D*np.tan(β)\n",
    "E = (h + 0.5*D)*np.cos(β)-0.5*D\n",
    "k = lambda α: A*np.sin(α)*np.cos(α) + B*(np.power(np.sin(α),2))-C*np.cos(α)-E*np.sin(α)\n",
    "α_1 = np.linspace(0,4*np.pi,100)\n",
    "plt.plot(α_1,k(α_1),\"--b\")\n",
    "plt.scatter(r,k(r), color=\"red\")\n",
    "plt.grid()\n",
    "plt.xlabel(r\"$\\alpha$\", fontsize = 14)\n",
    "plt.ylabel(r\"$k(\\alpha)$\", fontsize = 14)\n",
    "plt.show()"
   ]
  },
  {
   "cell_type": "code",
   "execution_count": 18,
   "id": "38e64c13-4b8a-4075-a080-d62e82701f88",
   "metadata": {},
   "outputs": [
    {
     "name": "stdout",
     "output_type": "stream",
     "text": [
      "El algulo es de 33.0 grados\n"
     ]
    }
   ],
   "source": [
    "# Metodo de biseccion\n",
    "s = optimize.bisect(k,a=0,b=2)\n",
    "root = np.rad2deg(s)\n",
    "print(f\"El algulo es de {root:.3} grados\")"
   ]
  },
  {
   "cell_type": "code",
   "execution_count": 19,
   "id": "b962ef12-621c-45b4-84a5-cf714bcfbcce",
   "metadata": {},
   "outputs": [
    {
     "name": "stdout",
     "output_type": "stream",
     "text": [
      "Con este algoritmo me dieron valores que no er\n"
     ]
    }
   ],
   "source": [
    "#Metodo de punto fijo\n",
    "j = lambda α : α - k(α)\n",
    "s = optimize.fixed_point(j,0.2)\n",
    "rot_2 = np.rad2deg(s)\n",
    "print(f\"Con este algoritmo me dieron valores que no er\")"
   ]
  },
  {
   "cell_type": "code",
   "execution_count": 20,
   "id": "6a218595-ff74-4bf8-a16a-ef7ec09e48bb",
   "metadata": {},
   "outputs": [
    {
     "name": "stdout",
     "output_type": "stream",
     "text": [
      "El angulo es de 33.0 grados\n"
     ]
    }
   ],
   "source": [
    "#Metodo de la secante\n",
    "sec = optimize.newton(k,1)\n",
    "root_2 = np.rad2deg(sec)\n",
    "print(f\"El angulo es de {root_2:.3} grados\")"
   ]
  },
  {
   "cell_type": "code",
   "execution_count": 21,
   "id": "ce176726-6e24-449c-9f51-dec9d840bbe9",
   "metadata": {},
   "outputs": [
    {
     "name": "stdout",
     "output_type": "stream",
     "text": [
      "El angulo es de 33.0 grados\n"
     ]
    }
   ],
   "source": [
    "#Metodo de Newton-Rapshon\n",
    "k_prima = lambda α: A*(2*np.cos(α)-1) + B*np.sin(2*α) + C*np.sin(α)-E*np.cos(α)\n",
    "r = optimize.newton(k,1,k_prima)\n",
    "rot_2 = np.rad2deg(r)\n",
    "print(f\"El angulo es de {rot_2:.3} grados\")"
   ]
  },
  {
   "cell_type": "markdown",
   "id": "934e2488-6362-45f7-97b2-1bcf4445ea52",
   "metadata": {},
   "source": [
    "# Quinto punto"
   ]
  },
  {
   "cell_type": "markdown",
   "id": "9479dc52-b81f-4948-bebc-692e4f049281",
   "metadata": {},
   "source": [
    "a) Para hallar el area de un segmento circular cuya area sea igual a un cuerto del area del circulo se procede a hacer un esquema y así encontrar la ecuación trascental."
   ]
  },
  {
   "cell_type": "markdown",
   "id": "7737b42c-cce0-4de8-816d-c8458b6f4b9e",
   "metadata": {},
   "source": [
    "- Primero hallamos el area del triangulo que forma la cuerda con los radios de la circunferencia. Obteniendo así la ecuación: $A_{T} = r^2 \\cos{\\frac{\\theta}{2}}\\sin{\\frac{\\theta}{2}}$. Luego de obtener la ecuación que corresponde al area del triangulo, se halla la ecuacion que corresponde al area que forma el angulo $\\theta$, esto teniendo en cuenta que el area total del circulo corresponde a $2\\pi$ y se encuentra que para un angulo $\\theta$, el area corresponde a $A_{s} = \\frac{r^2 \\theta}{2}$.\n",
    "Finalmente el area del segmento es la resta del area formada por el angulo $\\theta$ y el area del triangulo e igualando a un cuarto del area del circulo, se halla la siguiente expreción que corresponde a la ecuación trascendental.\n",
    "\n",
    "1. $\\theta - \\sin{\\theta} = \\frac{\\pi}{2}$"
   ]
  },
  {
   "cell_type": "markdown",
   "id": "f096c634-aee6-4834-a64b-3cb713d5c904",
   "metadata": {},
   "source": [
    "b) Definamos la funcion $f(\\theta) = \\theta - \\sin{\\theta}-\\frac{\\pi}{2}$"
   ]
  },
  {
   "cell_type": "code",
   "execution_count": 22,
   "id": "7a826891-25d2-464c-8878-00c5babaa5d7",
   "metadata": {},
   "outputs": [],
   "source": [
    "L = lambda theta: theta-np.sin(theta)-np.pi/2\n",
    "x = np.linspace(-2*np.pi,2*np.pi,1000)"
   ]
  },
  {
   "cell_type": "code",
   "execution_count": 23,
   "id": "ca960628-641b-4d3c-9a7d-f8ff2fcfe071",
   "metadata": {},
   "outputs": [
    {
     "data": {
      "image/png": "[encoded data removed]",
      "text/plain": [
       "<Figure size 432x288 with 1 Axes>"
      ]
     },
     "metadata": {
      "needs_background": "light"
     },
     "output_type": "display_data"
    }
   ],
   "source": [
    "# Punto c,d,f\n",
    "dicc = {\"theta\":x,\"f(theta)\":L(x)}\n",
    "df = pd.DataFrame(dicc)\n",
    "plt.plot(df[\"theta\"],df[\"f(theta)\"])\n",
    "plt.grid()\n",
    "plt.show()"
   ]
  },
  {
   "cell_type": "markdown",
   "id": "990ca693-e4e3-401b-b41f-8393a03b51eb",
   "metadata": {},
   "source": [
    "El intervalo en que se encuentra la raiz de la ecuacion trascendental es en el abierto [2,3]."
   ]
  },
  {
   "cell_type": "markdown",
   "id": "a2571a06-3c85-40f5-8b5f-500981b5ec02",
   "metadata": {},
   "source": [
    "Para hallar el valor cuando la funcion $f(\\theta)=0$ se utilizará el algoritmo de la bisección."
   ]
  },
  {
   "cell_type": "markdown",
   "id": "a6347d9b-222a-437e-a834-3445cce6d10a",
   "metadata": {},
   "source": [
    "# Algoritmo de la bisección"
   ]
  },
  {
   "cell_type": "markdown",
   "id": "23ba008e-7196-4136-8a70-a1d3f2b86fe6",
   "metadata": {},
   "source": [
    "### Valor del angulo con los metodos de Bisección, Newton-Rapshon, Secante, Punto fijo"
   ]
  },
  {
   "cell_type": "markdown",
   "id": "5cabeef1-0cc9-4018-ae15-505f6b3340d8",
   "metadata": {},
   "source": [
    "### Metodo de biseccion"
   ]
  },
  {
   "cell_type": "code",
   "execution_count": 28,
   "id": "7dd3538e-de7c-40d8-9214-7720e0684e0a",
   "metadata": {},
   "outputs": [
    {
     "name": "stdout",
     "output_type": "stream",
     "text": [
      "Metodo de biseccion =  2.309882164001465\n",
      "El angulo por el metodo de la biseccion es --> 132.3464991698294\n"
     ]
    }
   ],
   "source": [
    "w = optimize.bisect(L,a=2,b=3,xtol=1E-6)\n",
    "root = np.rad2deg(w)\n",
    "print(\"Metodo de biseccion = \",w)\n",
    "print(f\"El angulo por el metodo de la biseccion es --> {root}\")"
   ]
  },
  {
   "cell_type": "markdown",
   "id": "61036051-3a5e-46ff-8c79-61879653e7b4",
   "metadata": {},
   "source": [
    "### Algoritmo de Newton-Rapshon"
   ]
  },
  {
   "cell_type": "code",
   "execution_count": 29,
   "id": "65c96e46-7912-44d4-adb2-bff52bd0cc97",
   "metadata": {},
   "outputs": [
    {
     "name": "stdout",
     "output_type": "stream",
     "text": [
      "Metodo de Newton = 2.3098814600100575\n",
      "El angulo por el metodo de Newton es --> 132.34645883409294\n"
     ]
    }
   ],
   "source": [
    "L_prima = lambda theta: 1-np.cos(theta)\n",
    "met_New = optimize.newton(L,2,L_prima)\n",
    "root1 = np.rad2deg(met_New)\n",
    "print(\"Metodo de Newton =\",met_New)\n",
    "print(f\"El angulo por el metodo de Newton es --> {root1}\")"
   ]
  },
  {
   "cell_type": "markdown",
   "id": "e6c95a4a-fbff-4aa9-a90e-5671608febba",
   "metadata": {},
   "source": [
    "### Metodo de la secante"
   ]
  },
  {
   "cell_type": "code",
   "execution_count": 34,
   "id": "40798c19-bd99-4e11-82bb-0e28759bb343",
   "metadata": {},
   "outputs": [
    {
     "name": "stdout",
     "output_type": "stream",
     "text": [
      "Metodo de la secante = 2.309881460010033\n",
      "El angulo por el metodo de la secante es --> 132.34645883409152\n"
     ]
    }
   ],
   "source": [
    "met_sec = optimize.newton(L,2)\n",
    "print(\"Metodo de la secante =\",met_sec)\n",
    "root2 = np.rad2deg(met_sec)\n",
    "print(f\"El angulo por el metodo de la secante es --> {root2}\")"
   ]
  },
  {
   "cell_type": "markdown",
   "id": "033b7fae-d898-4e6a-b551-a10731207cf7",
   "metadata": {},
   "source": [
    "### Metodo del punto fijo"
   ]
  },
  {
   "cell_type": "code",
   "execution_count": 35,
   "id": "41c4953e-9e65-4509-b278-f400173e4d2b",
   "metadata": {},
   "outputs": [
    {
     "name": "stdout",
     "output_type": "stream",
     "text": [
      "Metodo de punto fijo = 2.3098814600100575\n",
      "El angulo por el metodo de punto fijo es --> 132.34645883409294\n"
     ]
    }
   ],
   "source": [
    "g = lambda theta: theta - L(theta)\n",
    "met_punto = optimize.fixed_point(g,2)\n",
    "root3 = np.rad2deg(met_punto)\n",
    "print(\"Metodo de punto fijo =\",met_punto)\n",
    "print(f\"El angulo por el metodo de punto fijo es --> {root3}\")"
   ]
  },
  {
   "cell_type": "code",
   "execution_count": null,
   "id": "9a299968-2433-4854-a837-92062fead987",
   "metadata": {},
   "outputs": [],
   "source": []
  },
  {
   "cell_type": "code",
   "execution_count": null,
   "id": "95a83570-2211-4c57-b8ba-d76c58e3bf30",
   "metadata": {},
   "outputs": [],
   "source": []
  }
 ],
 "metadata": {
  "kernelspec": {
   "display_name": "Python 3 (ipykernel)",
   "language": "python",
   "name": "python3"
  },
  "language_info": {
   "codemirror_mode": {
    "name": "ipython",
    "version": 3
   },
   "file_extension": ".py",
   "mimetype": "text/x-python",
   "name": "python",
   "nbconvert_exporter": "python",
   "pygments_lexer": "ipython3",
   "version": "3.9.7"
  }
 },
 "nbformat": 4,
 "nbformat_minor": 5
}
