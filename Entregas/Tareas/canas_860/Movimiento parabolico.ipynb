{
 "cells": [
  {
   "cell_type": "code",
   "execution_count": 2,
   "id": "0afd246b-88b7-4c1b-b84c-bc0518c78b3b",
   "metadata": {},
   "outputs": [],
   "source": [
    "import numpy as np\n",
    "import matplotlib.pylab as plt"
   ]
  },
  {
   "cell_type": "code",
   "execution_count": 17,
   "id": "d743b7b6-cb21-47c9-8a1d-55f8818bd0cb",
   "metadata": {},
   "outputs": [
    {
     "name": "stdin",
     "output_type": "stream",
     "text": [
      "Ingrese el valor del parametro D  23\n",
      "Ingrese la velocidad a la que quiere lanzar el balon en m/s:  34\n"
     ]
    },
    {
     "name": "stdout",
     "output_type": "stream",
     "text": [
      "La velocidad ingresada por el usuario hace que el balon no enceste\n"
     ]
    },
    {
     "data": {
      "image/png": "[encoded data removed]",
      "text/plain": [
       "<Figure size 432x288 with 1 Axes>"
      ]
     },
     "metadata": {
      "needs_background": "light"
     },
     "output_type": "display_data"
    }
   ],
   "source": [
    "## g=9.8\n",
    "angulo=45\n",
    "D=int(input(\"Ingrese el valor del parametro D \"))\n",
    "v_bn = int(input(\"Ingrese la velocidad a la que quiere lanzar el balon en m/s: \"))\n",
    "aux=0\n",
    "angulo=angulo*np.pi/180\n",
    "\n",
    "v_min=(6/np.cos(angulo))*np.sqrt((g*D)/(12*np.tan(angulo)-4))\n",
    "v_max=(7/np.cos(angulo))*np.sqrt((g*D)/(14*np.tan(angulo)-4))\n",
    "\n",
    "def tiromin(x):\n",
    "    return (-g/2)*np.power(x/(v_min*np.cos(angulo)),2)+x*np.tan(angulo)\n",
    "\n",
    "def tiromax(x):\n",
    "    return (-g/2)*np.power(x/(v_max*np.cos(angulo)),2)+x*np.tan(angulo)\n",
    "\n",
    "def tirobn(x):\n",
    "    return (-g/2)*np.power(x/(v_bn*np.cos(angulo)),2)+x*np.tan(angulo)\n",
    "\n",
    "def cesta(x):\n",
    "    return D*(0.05*np.sin(x*D/4)+0.5)\n",
    "\n",
    "if v_bn<v_min:\n",
    "    zero=6*D\n",
    "    print(\"La velocidad ingresada por el usuario hace que el balon no enceste\")\n",
    "\n",
    "elif v_bn<v_max:\n",
    "    zero=7*D\n",
    "    print(\"La velocidad ingresada por el usuario hace que haya cesta\")\n",
    "\n",
    "else:\n",
    "    zero = (2/g)*np.sin(angulo)*np.cos(angulo)*v_bn*v_bn\n",
    "    print(\"La velocidad ingresada por el usuario hace que el balon sobrepase la cesta\")\n",
    "    aux = 1\n",
    "\n",
    "if (tirobn(6*D) < 0):\n",
    "    zero = (2/g)*np.sin(angulo)*np.cos(angulo)*v_bn*v_bn\n",
    "\n",
    "if aux==1:\n",
    "    zero_max=zero\n",
    "else:\n",
    "    zero_max=zero_max = 8*D\n",
    "\n",
    "\n",
    "t1 = np.arange(0.0, 6*D, 0.02)\n",
    "t2 = np.arange(0.0, 7*D, 0.02)\n",
    "t3 = np.arange(0.0, zero, 0.02)\n",
    "ta = np.arange(6.1*D, 7*D, 0.02)\n",
    "\n",
    "\n",
    "plt.figure(1)\n",
    "plt.plot([0,6*D,6*D,6.1*D,6.1*D,7*D,7*D,7.1*D,7.1*D,zero_max+D/4,zero_max+D/4,0,0],[0,0,2*D,2*D,0,0,2*D,2*D,0,0,-0.1,-0.1,0],'k')\n",
    "plt.plot(t1, tiromin(t1), 'k--')\n",
    "plt.plot(t2, tiromax(t2), 'r--')\n",
    "plt.plot(t3, tirobn(t3), 'b')\n",
    "plt.plot(ta, cesta(ta), 'b')\n",
    "plt.axis('equal')\n",
    "plt.xlabel('Distancia (m)') #Nombre de la barra x\n",
    "plt.ylabel('Distancia (m)') #Nombre de la barra y\n",
    "plt.show()"
   ]
  },
  {
   "cell_type": "code",
   "execution_count": null,
   "id": "fe018d90-e268-48ab-ab1d-a660dac21a52",
   "metadata": {},
   "outputs": [],
   "source": []
  }
 ],
 "metadata": {
  "kernelspec": {
   "display_name": "Python 3 (ipykernel)",
   "language": "python",
   "name": "python3"
  },
  "language_info": {
   "codemirror_mode": {
    "name": "ipython",
    "version": 3
   },
   "file_extension": ".py",
   "mimetype": "text/x-python",
   "name": "python",
   "nbconvert_exporter": "python",
   "pygments_lexer": "ipython3",
   "version": "3.9.7"
  }
 },
 "nbformat": 4,
 "nbformat_minor": 5
}
