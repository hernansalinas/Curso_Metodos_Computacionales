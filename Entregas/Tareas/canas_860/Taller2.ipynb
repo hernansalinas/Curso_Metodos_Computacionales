{
 "cells": [
  {
   "cell_type": "code",
   "execution_count": 222,
   "id": "adfae657-1bc1-4be0-a3bd-be0996fc8431",
   "metadata": {},
   "outputs": [],
   "source": [
    "import numpy as np\n",
    "import matplotlib.pylab as plt\n",
    "import math as mt"
   ]
  },
  {
   "cell_type": "markdown",
   "id": "9db26792-c8af-4f7d-90aa-fa72b1fc43f1",
   "metadata": {},
   "source": [
    "### 1. Definir la funcion $ e^{-x}$"
   ]
  },
  {
   "cell_type": "code",
   "execution_count": 223,
   "id": "37667812-712d-4dca-b3b3-a3f6db19cdb8",
   "metadata": {},
   "outputs": [],
   "source": [
    "#Exponential function\n",
    "def exp_terms(x, n):\n",
    "    return mt.pow(-x,n)/mt.factorial(n)\n",
    "\n",
    "def exp_serie(x,N):\n",
    "    s = 0\n",
    "    for n in range(N+1):\n",
    "        s+= exp_terms(x,n)\n",
    "    return s"
   ]
  },
  {
   "cell_type": "markdown",
   "id": "dffac8c2-d3bf-4461-80e7-a95a0eac9b79",
   "metadata": {},
   "source": [
    "### 2. Calcular el valor de N que no sobrepase una estimacion de $10^{-7}$"
   ]
  },
  {
   "cell_type": "code",
   "execution_count": 224,
   "id": "38fae111-ddd3-4d0f-8c52-16e7c8b8313d",
   "metadata": {},
   "outputs": [],
   "source": [
    "def Valor_max_N(x,err):\n",
    "    N=0\n",
    "    while np.abs(exp_terms(x,N+1)/exp_serie(x,N))>=err:\n",
    "        N += 1\n",
    "    return N "
   ]
  },
  {
   "cell_type": "code",
   "execution_count": 225,
   "id": "01360a99-8848-41bb-a5b9-f2ef8e9f1e12",
   "metadata": {},
   "outputs": [
    {
     "name": "stdin",
     "output_type": "stream",
     "text": [
      "Ingresar un numero real que sea menor o igual que 1 0.2\n"
     ]
    },
    {
     "name": "stdout",
     "output_type": "stream",
     "text": [
      "Cuando utilizamos el valor de x = 0.2 en la serie\n",
      "se obtiene que el numero de iteracion es 6 \n",
      "y se obtiene el valor de 0.8187307530779542 \n",
      "\n",
      "Cuando utilizamos el valor de x = 0.2 en la funcion que\n",
      "genera numpy, se obtiene que el valor es 0.8187307530779818\n"
     ]
    }
   ],
   "source": [
    "# tomemos un valor x<1 para estimar el valor de N con un error de 10^-7\n",
    "x = float(input(\"\"\"Ingresar un numero real que sea menor o igual que 1\"\"\"))\n",
    "err = 1e-7\n",
    "exp = 1/np.exp(x)\n",
    "p = Valor_max_N(x,err)\n",
    "print(f\"\"\"Cuando utilizamos el valor de x = {x} en la serie\n",
    "se obtiene que el numero de iteracion es {Valor_max_N(x,err)} \n",
    "y se obtiene el valor de {exp_serie(x,9)} \\n\"\"\")\n",
    "print(f\"\"\"Cuando utilizamos el valor de x = {x} en la funcion que\n",
    "genera numpy, se obtiene que el valor es {exp}\"\"\")"
   ]
  },
  {
   "cell_type": "code",
   "execution_count": 226,
   "id": "abc4a0bf-44f3-41da-a7d3-d0be83614f40",
   "metadata": {},
   "outputs": [
    {
     "name": "stdout",
     "output_type": "stream",
     "text": [
      "El error absoluto es --> 2.477573812775802e-09\n",
      "El error relativo es --> 3.026115488469773e-09\n",
      "La comparacion que se obtiene al evaluar el valor de 0.2 en la serie\n",
      "y en la funcion dada por python es de 3.026115488469773e-09%, lo cual corresponde\n",
      "a un error muy pequeño\n"
     ]
    }
   ],
   "source": [
    "#Error relativo:\n",
    "err_abs = np.abs(exp_serie(x,Valor_max_N(x,err))-exp) #Error relativo\n",
    "err_rel = np.abs(err_abs/exp)\n",
    "print(f\"\"\"El error absoluto es --> {err_abs}\n",
    "El error relativo es --> {err_rel}\"\"\")\n",
    "print(f\"\"\"La comparacion que se obtiene al evaluar el valor de {x} en la serie\n",
    "y en la funcion dada por python es de {err_rel}%, lo cual corresponde\n",
    "a un error muy pequeño\"\"\")"
   ]
  },
  {
   "cell_type": "markdown",
   "id": "b35d7a21-308e-4e8c-aab0-b253bf3dcd39",
   "metadata": {},
   "source": [
    "### 3. Examinar la serie para valores cercanos a 10\n"
   ]
  },
  {
   "cell_type": "code",
   "execution_count": 227,
   "id": "1c875a7c-bb1d-41d0-bbb4-00ca126e20f6",
   "metadata": {},
   "outputs": [
    {
     "name": "stdin",
     "output_type": "stream",
     "text": [
      "Ingresar valores que sean proximos a diez 9.99\n"
     ]
    },
    {
     "name": "stdout",
     "output_type": "stream",
     "text": [
      "El numero de iteraciones para calcular la serie cuando x = 9.99 \n",
      "es de 45 iteraciones \n",
      "Cuando remplazamos el valor de 9.99 en la serie que se definio, se obtiene el valor de \n",
      "4.5856205079526375e-05 y reemplazando el valor 9.99 en la funcion de numpy se obtiene\n",
      "4.585620664220731e-05, lo que significa que a medida que tome valores más cercanos a 10 necesita más iteraciones,\n",
      "esto probocando más capacidad de calculo.  \n"
     ]
    }
   ],
   "source": [
    "x = float(input(\"Ingresar valores que sean proximos a diez\"))\n",
    "exp = 1/np.exp(x)\n",
    "print(f\"\"\"El numero de iteraciones para calcular la serie cuando x = {x} \n",
    "es de {Valor_max_N(x,err)} iteraciones \"\"\")\n",
    "print(f\"\"\"Cuando remplazamos el valor de {x} en la serie que se definio, se obtiene el valor de \n",
    "{exp_serie(x,Valor_max_N(x,err))} y reemplazando el valor {x} en la funcion de numpy se obtiene\n",
    "{exp}, lo que significa que a medida que tome valores más cercanos a 10 necesita más iteraciones,\n",
    "esto probocando más capacidad de calculo.  \"\"\")"
   ]
  },
  {
   "cell_type": "markdown",
   "id": "74e8ace3-4bb7-4137-a814-dafa759b54ea",
   "metadata": {},
   "source": [
    "### 5. Incrementando de 1-10 y de 10-100"
   ]
  },
  {
   "cell_type": "code",
   "execution_count": 236,
   "id": "878f4d2e-4d18-487b-b5ea-fbf383046524",
   "metadata": {},
   "outputs": [
    {
     "name": "stdin",
     "output_type": "stream",
     "text": [
      "Ingresar Algun valor de 1 hasta el 100 2\n"
     ]
    },
    {
     "data": {
      "image/png": "[encoded data removed]",
      "text/plain": [
       "<Figure size 432x288 with 1 Axes>"
      ]
     },
     "metadata": {
      "needs_background": "light"
     },
     "output_type": "display_data"
    },
    {
     "name": "stdout",
     "output_type": "stream",
     "text": [
      "En la grafica se puede observar que hay puntos en los que\n",
      "la serie fluctua y luego de un numero N de iteraciones se normaliza.\n",
      "El valor de x que puede tomar la serie para que no diverge es de x = 67 \n"
     ]
    }
   ],
   "source": [
    "x = float(input(\"Ingresar Algun valor de 1 hasta el 100\"))\n",
    "Nmax = Valor_max_N(x,err)\n",
    "N = np.arange(0,Nmax+1,1)\n",
    "plt.scatter(N,[exp_serie(x,N[i]) for i in range(len(N))])\n",
    "plt.plot(N,[exp_serie(x,N[i]) for i in range(len(N))])\n",
    "plt.hlines(np.exp(-x),0,Nmax, color = \"red\")\n",
    "plt.xlabel(\"N(Iteraciones)\")\n",
    "plt.ylabel(\"S(N)\")\n",
    "plt.grid()\n",
    "plt.show()\n",
    "print(f\"\"\"En la grafica se puede observar que hay puntos en los que\n",
    "la serie fluctua y luego de un numero N de iteraciones se normaliza.\n",
    "El valor de x que puede tomar la serie para que no diverge es de x = 67 \"\"\")"
   ]
  },
  {
   "cell_type": "code",
   "execution_count": null,
   "id": "66101181-1f4a-44a8-8d33-2e8b91d72aed",
   "metadata": {},
   "outputs": [],
   "source": []
  }
 ],
 "metadata": {
  "kernelspec": {
   "display_name": "Python 3 (ipykernel)",
   "language": "python",
   "name": "python3"
  },
  "language_info": {
   "codemirror_mode": {
    "name": "ipython",
    "version": 3
   },
   "file_extension": ".py",
   "mimetype": "text/x-python",
   "name": "python",
   "nbconvert_exporter": "python",
   "pygments_lexer": "ipython3",
   "version": "3.9.7"
  }
 },
 "nbformat": 4,
 "nbformat_minor": 5
}
