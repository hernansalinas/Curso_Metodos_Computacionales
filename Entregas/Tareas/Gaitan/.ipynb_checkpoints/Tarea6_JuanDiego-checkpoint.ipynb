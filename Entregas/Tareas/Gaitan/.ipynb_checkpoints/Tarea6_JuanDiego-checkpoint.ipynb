{
 "cells": [
  {
   "cell_type": "code",
   "execution_count": 9,
   "metadata": {
    "colab": {
     "base_uri": "https://localhost:8080/",
     "height": 460
    },
    "id": "WKZotgYy3RRH",
    "outputId": "7fdc60f9-ec6a-43bf-a234-217ab81963b0"
   },
   "outputs": [
    {
     "data": {
      "text/plain": [
       "Text(0, 0.5, 'dW/dR')"
      ]
     },
     "execution_count": 9,
     "metadata": {},
     "output_type": "execute_result"
    },
    {
     "data": {
      "image/png": "[encoded data removed]",
      "text/plain": [
       "<Figure size 576x504 with 2 Axes>"
      ]
     },
     "metadata": {
      "needs_background": "light"
     },
     "output_type": "display_data"
    }
   ],
   "source": [
    "import numpy as np\n",
    "import sympy as sp\n",
    "import pandas as pd\n",
    "from scipy import integrate\n",
    "import matplotlib.pyplot as plt\n",
    "\n",
    "q = sp.Symbol('q')\n",
    "Ws = lambda q:(1+3*(q))*(1-(q)**3)\n",
    "W = sp.lambdify(q,Ws(q),'numpy')\n",
    "h=1\n",
    "R_ = np.linspace(0,h,20)\n",
    "q_ = R_/h\n",
    "#Funcion evaluada en q=R/h, con h constante\n",
    "W_ = (5/(h**2*np.pi))*W(q_)\n",
    "\n",
    "#derivada simbolica\n",
    "dWs = sp.diff(Ws(q),q)\n",
    "dW= sp.lambdify(q,dWs,'numpy')#númerica\n",
    "dW_ = (5/(h**2*np.pi))*dW(q_)\n",
    "\n",
    "#graficas\n",
    "#gráfica de W\n",
    "plt.figure(figsize=(8,7))\n",
    "plt.subplot(2,1,1)\n",
    "plt.plot(R_,W_)\n",
    "plt.xlabel('R')\n",
    "plt.ylabel('W')\n",
    "\n",
    "#gráfica de dW/dR\n",
    "plt.subplot(2,1,2)\n",
    "plt.plot(R_, dW_,)\n",
    "plt.xlabel('R')\n",
    "plt.ylabel('dW/dR')"
   ]
  },
  {
   "cell_type": "markdown",
   "metadata": {
    "id": "FaS2ejNrXOGC"
   },
   "source": [
    "Punto 2: \\\\\n",
    "Formúlas de los métodos de integración númerica (Burden)\n",
    "\n",
    "Sea $h= \\frac{b-a}{n}$ \\\\\n",
    "\n",
    "1.  Regla del trapecio: \\\\\n",
    "\n",
    "\n",
    "\\begin{equation}\n",
    "\\int_a^b {f(x)} \\,{\\rm d}x = \\frac{h}{2} [f(a) + 2\\sum_{i=1}^{n-1} f(x_i) + f(b) ] - \\frac{(b-a)h^2}{12} f''(\\xi)\n",
    "\\end{equation}\n",
    "\n",
    "\n",
    "2.  Regla de Simpson:\n",
    "\\begin{equation}\n",
    "\\int_a^b {f(x)}\\,{\\rm d}x = \\frac{h}{3}[f(x_0) + 2\\sum_{i=1}^{(n/2)-1} f(x_{2i}) + 4\\sum_{i=1}^{n/2} f(x_{2i-1}) + f(x_n)] - \\frac{(b-a)h^4}{180} f^{(4)}(\\xi)\n",
    "\\end{equation} \n"
   ]
  },
  {
   "cell_type": "code",
   "execution_count": null,
   "metadata": {
    "colab": {
     "base_uri": "https://localhost:8080/"
    },
    "id": "RwonbeXi79HB",
    "outputId": "45b20958-5863-45dc-d7d0-a37aa363b7ed"
   },
   "outputs": [
    {
     "name": "stdout",
     "output_type": "stream",
     "text": [
      "h = 0.0013833284705325852\n",
      "área =  2.67242825669353\n"
     ]
    }
   ],
   "source": [
    "\n",
    "#2.1\n",
    "#cálculo de h para 10^5\n",
    "a , b = 0.1 , np.pi #límites de integración\n",
    "n = 12 \n",
    "c = np.linspace(a,b,n) \n",
    "epsilon = 10**-5 #tolerancia\n",
    "\n",
    "#hallamos el valor que maximiza f''(x) en el intervalo (a,b)\n",
    "x = sp.Symbol('x')\n",
    "fs = lambda x: sp.exp(1-sp.sqrt(x))\n",
    "df2 = sp.diff(fs(x),x,2)\n",
    "df2 = sp.lambdify(x,df2,'numpy') #segunda derivada \n",
    "maximo = max(df2(c)) \n",
    "h = np.sqrt((12*epsilon)/((b-a)*maximo)) #tamaño de paso\n",
    "print('h =', str(h))\n",
    "\n",
    "#regla del trapecio\n",
    "f = sp.lambdify(x,fs(x),'numpy')\n",
    "integral = integrate.trapz(f(c),c,h) \n",
    "print('área = ', str(integral))"
   ]
  },
  {
   "cell_type": "code",
   "execution_count": null,
   "metadata": {
    "colab": {
     "base_uri": "https://localhost:8080/"
    },
    "id": "rTMVMe2NoX42",
    "outputId": "f95fab79-612e-41ee-c874-9b49bd34f32d"
   },
   "outputs": [
    {
     "name": "stdout",
     "output_type": "stream",
     "text": [
      "h = 0.000587019217073831\n",
      "área =  1.600914086489327\n"
     ]
    }
   ],
   "source": [
    "#2.2\n",
    "#cálculo de h para 10^5\n",
    "a , b = 0.1 , np.pi/2 #límites de integración\n",
    "n = 12 \n",
    "c = np.linspace(a,b,n) \n",
    "epsilon = 10**-5 #tolerancia\n",
    "x = sp.Symbol('x')\n",
    "fs = lambda x: 1/sp.sqrt(sp.tan(x))\n",
    "df2 = sp.diff(fs(x),x,2)\n",
    "df2 = sp.lambdify(x,df2,'numpy') #segunda derivada \n",
    "maximo = max(df2(c))\n",
    "h = np.sqrt((12*epsilon)/((b-a)*maximo)) #tamaño de paso\n",
    "print('h =', str(h))\n",
    "\n",
    "#regla del trapecio\n",
    "f = sp.lambdify(x,fs(x),'numpy')\n",
    "integral = integrate.trapz(f(c),c,h) \n",
    "print('área = ', str(integral))"
   ]
  },
  {
   "cell_type": "code",
   "execution_count": null,
   "metadata": {
    "colab": {
     "base_uri": "https://localhost:8080/"
    },
    "id": "Zypd7R0UmR7g",
    "outputId": "cce9c2ec-b801-40bf-fff7-4b1de9cee482"
   },
   "outputs": [
    {
     "data": {
      "text/plain": [
       "(3.141592653589793, 5.155583041103855e-10)"
      ]
     },
     "execution_count": 5,
     "metadata": {},
     "output_type": "execute_result"
    }
   ],
   "source": [
    "#2.3\n",
    "f = lambda x: 1/(1+x**2)\n",
    "integral = integrate.quad(f,-np.Infinity,np.Infinity,epsrel=10**-5)\n",
    "integral"
   ]
  },
  {
   "cell_type": "code",
   "execution_count": 3,
   "metadata": {
    "colab": {
     "base_uri": "https://localhost:8080/"
    },
    "id": "n_5eJ8t63BJm",
    "outputId": "44125c13-1a67-4698-9f06-01170e0fac14"
   },
   "outputs": [
    {
     "data": {
      "text/plain": [
       "(0.4041197515454243, 8.073391512546048e-15)"
      ]
     },
     "execution_count": 3,
     "metadata": {},
     "output_type": "execute_result"
    }
   ],
   "source": [
    "#2.4\n",
    "f = lambda x,y: 2*y*np.sin(x) + (np.cos(x))**2\n",
    "a = 0\n",
    "b = np.pi/4\n",
    "g1 = lambda x: np.sin(x)\n",
    "g2 = lambda x: np.cos(x)\n",
    "i = integrate.dblquad(f,a,b,g1,g2)\n",
    "i "
   ]
  },
  {
   "cell_type": "code",
   "execution_count": null,
   "metadata": {
    "colab": {
     "base_uri": "https://localhost:8080/"
    },
    "id": "svW-tqfBkNbR",
    "outputId": "e0bc9790-d6fe-4f9b-a40d-12b62c62c773"
   },
   "outputs": [
    {
     "name": "stdout",
     "output_type": "stream",
     "text": [
      "h = 0.010427428884358877\n",
      "área =  2.005352647676793\n"
     ]
    }
   ],
   "source": [
    "#2.5\n",
    "#cálculo de h para 10^5\n",
    "a , b = np.e , 2*np.e #límites de integración\n",
    "n = 12\n",
    "c = np.linspace(a,b,n) \n",
    "epsilon = 10**-5 #tolerancia\n",
    "\n",
    "#hallamos el valor que maximiza f''(x) en el intervalo (a,b)\n",
    "x = sp.Symbol('x')\n",
    "fs = lambda x: 1/sp.log(x)\n",
    "df2 = sp.diff(fs(x),x,2)\n",
    "df2 = sp.lambdify(x,df2,'numpy') #segunda derivada \n",
    "maximo = max(df2(c)) \n",
    "h = np.sqrt((12*epsilon)/((b-a)*maximo)) #tamaño de paso\n",
    "print('h =', str(h))\n",
    "\n",
    "#regla del trapecio\n",
    "f = sp.lambdify(x,fs(x),'numpy')\n",
    "integral = integrate.trapz(f(c),c,h) \n",
    "print('área = ', str(integral))"
   ]
  },
  {
   "cell_type": "markdown",
   "metadata": {
    "id": "nJ5Vj1eOqoZ_"
   },
   "source": [
    "Suppose a body of mass m is traveling vertically upward starting at the surface of the earth. If all resistance except gravity is neglected, the escape velocity v is given by\n",
    "\n",
    "\\begin{equation}\n",
    "V^2 = 2gR\\int_1^\\infty {z^{-2}} \\,{\\rm d}z \n",
    "\\end{equation}\n",
    "\n",
    "where $z=x/R$, $R$ is the earth radius and $g$ the gravity aceleration. Approximate the scape velocity.\n",
    "\n",
    "Then ${\\rm d}z = \\frac{1}{R}{\\rm d}x$. Making the change of variable and simplifying\n",
    "\n",
    "\\begin{equation}\n",
    "V = \\sqrt{2gR^2\\int_{R}^\\infty {x^{-2}} \\,{\\rm d}x }\n",
    "\\end{equation}"
   ]
  },
  {
   "cell_type": "code",
   "execution_count": null,
   "metadata": {
    "colab": {
     "base_uri": "https://localhost:8080/"
    },
    "id": "8WYKsEersJMA",
    "outputId": "243c8248-fbd0-4ab1-b481-d7b3afb535ca"
   },
   "outputs": [
    {
     "name": "stdout",
     "output_type": "stream",
     "text": [
      "la velocidad de escape  es aproximadamente 165.42 m/s\n"
     ]
    }
   ],
   "source": [
    "g = 9.8 #m/s^2\n",
    "R = 6.371e6 #m\n",
    "f = lambda x: x**-2\n",
    "integral, error = integrate.quad(f,R,np.Infinity,epsrel=1e-2)\n",
    "V = np.sqrt(2*g *(R**2)*integral)\n",
    "print('la velocidad de escape  es aproximadamente {v} m/s'.format(v=round(V,2)))"
   ]
  },
  {
   "cell_type": "code",
   "execution_count": null,
   "metadata": {
    "colab": {
     "base_uri": "https://localhost:8080/"
    },
    "id": "Q6maJSy-5Fc9",
    "outputId": "135807dd-6c6d-4e0d-c573-2f4b6fce4f74"
   },
   "outputs": [
    {
     "name": "stdout",
     "output_type": "stream",
     "text": [
      "Método trapecio--> solución análitica vs solución númerica 100 trapecios: 0.6321205588285577 vs 0.6321258264911017 \n",
      "Método Simpson--> solución análitica vs solución númerica 100 intervalos: 0.6321205588285577 vs 0.6275714959812905 \n"
     ]
    }
   ],
   "source": [
    "\n",
    "#límites de integración\n",
    "a = 0 #np.double(input('a= '))\n",
    "b = 1 #np.double(input('b= '))\n",
    "n = 100 #int(input('n= ')) #número de trapecios\n",
    "h = (b-a)/n\n",
    "f = lambda x: np.exp(-x)\n",
    "\n",
    "#método del trapecio compuesta\n",
    "intervalo_sum = np.arange(a+h,b,h, dtype= np.double)\n",
    "suma = np.sum(f(intervalo_sum)) #sumatoria en la formúla\n",
    "\n",
    "integral_trapecio = np.double((h/2)*(f(a)+2*suma+f(b))) #formúla \n",
    "print('Método trapecio--> solución análitica vs solución númerica {n} trapecios: {sol_A} vs {sol_N} '.format(n=n,sol_A= 1-np.exp(-1), sol_N = integral_trapecio))\n",
    "\n",
    "#-------------------------------------------------------------------------------------------------------------------------------------------------------------------\n",
    "#método de simpson compuesta\n",
    "#se sacan los xi de las sumatorias, excluyendo a x0 y xn\n",
    "impares =[]\n",
    "pares = []\n",
    "for i in range(len(intervalo_sum)):\n",
    "  if i % 2 != 0: \n",
    "    impares.append(intervalo_sum[i])\n",
    "\n",
    "  else:\n",
    "    pares.append(intervalo_sum[i])\n",
    "#las sumatorias    \n",
    "suma_impares = np.sum(f(np.array(impares)))\n",
    "suma_pares = np.sum(f(np.array(pares))) \n",
    "#formúla\n",
    "integral_simpson = (h/3)*(f(a) + 2*suma_pares + 4*suma_impares + f(b))\n",
    "\n",
    "print('Método Simpson--> solución análitica vs solución númerica {n} intervalos: {sol_A} vs {sol_N} '.format(n=n,sol_A= 1-np.exp(-1), sol_N = integral_simpson))"
   ]
  },
  {
   "cell_type": "code",
   "execution_count": null,
   "metadata": {
    "colab": {
     "base_uri": "https://localhost:8080/",
     "height": 269
    },
    "id": "seljnaY0wRsO",
    "outputId": "adc1129e-cfff-4041-951e-a4f2f0e23143"
   },
   "outputs": [
    {
     "data": {
      "text/html": [
       "\n",
       "  <div id=\"df-4e28a24f-e3bd-4db5-8b58-a87017d42f5c\">\n",
       "    <div class=\"colab-df-container\">\n",
       "      <div>\n",
       "<style scoped>\n",
       "    .dataframe tbody tr th:only-of-type {\n",
       "        vertical-align: middle;\n",
       "    }\n",
       "\n",
       "    .dataframe tbody tr th {\n",
       "        vertical-align: top;\n",
       "    }\n",
       "\n",
       "    .dataframe thead th {\n",
       "        text-align: right;\n",
       "    }\n",
       "</style>\n",
       "<table border=\"1\" class=\"dataframe\">\n",
       "  <thead>\n",
       "    <tr style=\"text-align: right;\">\n",
       "      <th></th>\n",
       "      <th>N</th>\n",
       "      <th>ER trapecio</th>\n",
       "      <th>ER Simpson</th>\n",
       "    </tr>\n",
       "  </thead>\n",
       "  <tbody>\n",
       "    <tr>\n",
       "      <th>0</th>\n",
       "      <td>2</td>\n",
       "      <td>3.333334e-09</td>\n",
       "      <td>0.000088</td>\n",
       "    </tr>\n",
       "    <tr>\n",
       "      <th>1</th>\n",
       "      <td>10</td>\n",
       "      <td>8.333333e-08</td>\n",
       "      <td>0.000333</td>\n",
       "    </tr>\n",
       "    <tr>\n",
       "      <th>2</th>\n",
       "      <td>20</td>\n",
       "      <td>3.333333e-07</td>\n",
       "      <td>0.000666</td>\n",
       "    </tr>\n",
       "    <tr>\n",
       "      <th>3</th>\n",
       "      <td>40</td>\n",
       "      <td>1.333333e-06</td>\n",
       "      <td>0.001331</td>\n",
       "    </tr>\n",
       "    <tr>\n",
       "      <th>4</th>\n",
       "      <td>80</td>\n",
       "      <td>5.333328e-06</td>\n",
       "      <td>0.002656</td>\n",
       "    </tr>\n",
       "    <tr>\n",
       "      <th>5</th>\n",
       "      <td>120</td>\n",
       "      <td>1.199997e-05</td>\n",
       "      <td>0.003976</td>\n",
       "    </tr>\n",
       "    <tr>\n",
       "      <th>6</th>\n",
       "      <td>160</td>\n",
       "      <td>2.133324e-05</td>\n",
       "      <td>0.005291</td>\n",
       "    </tr>\n",
       "  </tbody>\n",
       "</table>\n",
       "</div>\n",
       "      <button class=\"colab-df-convert\" onclick=\"convertToInteractive('df-4e28a24f-e3bd-4db5-8b58-a87017d42f5c')\"\n",
       "              title=\"Convert this dataframe to an interactive table.\"\n",
       "              style=\"display:none;\">\n",
       "        \n",
       "  <svg xmlns=\"http://www.w3.org/2000/svg\" height=\"24px\"viewBox=\"0 0 24 24\"\n",
       "       width=\"24px\">\n",
       "    <path d=\"M0 0h24v24H0V0z\" fill=\"none\"/>\n",
       "    <path d=\"M18.56 5.44l.94 2.06.94-2.06 2.06-.94-2.06-.94-.94-2.06-.94 2.06-2.06.94zm-11 1L8.5 8.5l.94-2.06 2.06-.94-2.06-.94L8.5 2.5l-.94 2.06-2.06.94zm10 10l.94 2.06.94-2.06 2.06-.94-2.06-.94-.94-2.06-.94 2.06-2.06.94z\"/><path d=\"M17.41 7.96l-1.37-1.37c-.4-.4-.92-.59-1.43-.59-.52 0-1.04.2-1.43.59L10.3 9.45l-7.72 7.72c-.78.78-.78 2.05 0 2.83L4 21.41c.39.39.9.59 1.41.59.51 0 1.02-.2 1.41-.59l7.78-7.78 2.81-2.81c.8-.78.8-2.07 0-2.86zM5.41 20L4 18.59l7.72-7.72 1.47 1.35L5.41 20z\"/>\n",
       "  </svg>\n",
       "      </button>\n",
       "      \n",
       "  <style>\n",
       "    .colab-df-container {\n",
       "      display:flex;\n",
       "      flex-wrap:wrap;\n",
       "      gap: 12px;\n",
       "    }\n",
       "\n",
       "    .colab-df-convert {\n",
       "      background-color: #E8F0FE;\n",
       "      border: none;\n",
       "      border-radius: 50%;\n",
       "      cursor: pointer;\n",
       "      display: none;\n",
       "      fill: #1967D2;\n",
       "      height: 32px;\n",
       "      padding: 0 0 0 0;\n",
       "      width: 32px;\n",
       "    }\n",
       "\n",
       "    .colab-df-convert:hover {\n",
       "      background-color: #E2EBFA;\n",
       "      box-shadow: 0px 1px 2px rgba(60, 64, 67, 0.3), 0px 1px 3px 1px rgba(60, 64, 67, 0.15);\n",
       "      fill: #174EA6;\n",
       "    }\n",
       "\n",
       "    [theme=dark] .colab-df-convert {\n",
       "      background-color: #3B4455;\n",
       "      fill: #D2E3FC;\n",
       "    }\n",
       "\n",
       "    [theme=dark] .colab-df-convert:hover {\n",
       "      background-color: #434B5C;\n",
       "      box-shadow: 0px 1px 3px 1px rgba(0, 0, 0, 0.15);\n",
       "      filter: drop-shadow(0px 1px 2px rgba(0, 0, 0, 0.3));\n",
       "      fill: #FFFFFF;\n",
       "    }\n",
       "  </style>\n",
       "\n",
       "      <script>\n",
       "        const buttonEl =\n",
       "          document.querySelector('#df-4e28a24f-e3bd-4db5-8b58-a87017d42f5c button.colab-df-convert');\n",
       "        buttonEl.style.display =\n",
       "          google.colab.kernel.accessAllowed ? 'block' : 'none';\n",
       "\n",
       "        async function convertToInteractive(key) {\n",
       "          const element = document.querySelector('#df-4e28a24f-e3bd-4db5-8b58-a87017d42f5c');\n",
       "          const dataTable =\n",
       "            await google.colab.kernel.invokeFunction('convertToInteractive',\n",
       "                                                     [key], {});\n",
       "          if (!dataTable) return;\n",
       "\n",
       "          const docLinkHtml = 'Like what you see? Visit the ' +\n",
       "            '<a target=\"_blank\" href=https://colab.research.google.com/notebooks/data_table.ipynb>data table notebook</a>'\n",
       "            + ' to learn more about interactive tables.';\n",
       "          element.innerHTML = '';\n",
       "          dataTable['output_type'] = 'display_data';\n",
       "          await google.colab.output.renderOutput(dataTable, element);\n",
       "          const docLink = document.createElement('div');\n",
       "          docLink.innerHTML = docLinkHtml;\n",
       "          element.appendChild(docLink);\n",
       "        }\n",
       "      </script>\n",
       "    </div>\n",
       "  </div>\n",
       "  "
      ],
      "text/plain": [
       "     N   ER trapecio  ER Simpson\n",
       "0    2  3.333334e-09    0.000088\n",
       "1   10  8.333333e-08    0.000333\n",
       "2   20  3.333333e-07    0.000666\n",
       "3   40  1.333333e-06    0.001331\n",
       "4   80  5.333328e-06    0.002656\n",
       "5  120  1.199997e-05    0.003976\n",
       "6  160  2.133324e-05    0.005291"
      ]
     },
     "execution_count": 95,
     "metadata": {},
     "output_type": "execute_result"
    }
   ],
   "source": [
    "N = [2,10,20,40,80,120,160]\n",
    "ERT = []\n",
    "ERS = []\n",
    "for i in N:\n",
    "  a = 0\n",
    "  b = i\n",
    "  n = 1e4\n",
    "  h= (b-a)/n\n",
    "  f = lambda x: np.exp(-x)\n",
    "\n",
    "  #por formula del trapecio compuesta\n",
    "  intervalo_sum = np.arange(a+h,b,h, dtype= np.double)\n",
    "  suma = np.sum(f(intervalo_sum)) \n",
    "  integral_trapecio = np.double((h/2)*(f(a)+2*suma+f(b)))\n",
    "\n",
    "  #Error relativo\n",
    "  valor_exacto = 1 - np.exp(-i) #valor exacto variando N\n",
    "  ERT.append(np.double(abs(integral_trapecio - valor_exacto)/valor_exacto))\n",
    "#-------------------------------------------------------------------------------------------------------------------------------------------------------------------\n",
    "\n",
    "#para el metodo de simpson variando b\n",
    "  impares =[]\n",
    "  pares = []\n",
    "  for i in range(len(intervalo_sum)):\n",
    "    if i % 2 != 0: \n",
    "      impares.append(intervalo_sum[i])\n",
    "    else:\n",
    "      pares.append(intervalo_sum[i])\n",
    "\n",
    "  #las sumatorias    \n",
    "  suma_impares = np.sum(f(np.array(impares)))\n",
    "  suma_pares = np.sum(f(np.array(pares))) \n",
    "  #formúla\n",
    "  integral_simpson = (h/3)*(f(a) + 2*suma_pares + 4*suma_impares + f(b))\n",
    "  #Error relativo\n",
    "  ERS.append(np.double(abs(integral_simpson - valor_exacto)/valor_exacto))\n",
    "\n",
    "dicc = {'N':N, 'ER trapecio':ERT,'ER Simpson':ERS}\n",
    "df = pd.DataFrame(dicc)\n",
    "df\n"
   ]
  }
 ],
 "metadata": {
  "colab": {
   "collapsed_sections": [],
   "name": "Tarea6_JuanDiego.ipynb",
   "provenance": []
  },
  "kernelspec": {
   "display_name": "Python 3 (ipykernel)",
   "language": "python",
   "name": "python3"
  },
  "language_info": {
   "codemirror_mode": {
    "name": "ipython",
    "version": 3
   },
   "file_extension": ".py",
   "mimetype": "text/x-python",
   "name": "python",
   "nbconvert_exporter": "python",
   "pygments_lexer": "ipython3",
   "version": "3.8.12"
  }
 },
 "nbformat": 4,
 "nbformat_minor": 1
}
