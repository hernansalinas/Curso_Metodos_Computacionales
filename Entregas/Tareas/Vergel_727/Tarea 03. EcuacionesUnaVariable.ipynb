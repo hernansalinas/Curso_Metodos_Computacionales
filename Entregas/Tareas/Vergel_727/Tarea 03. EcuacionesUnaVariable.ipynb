{
 "cells": [
  {
   "cell_type": "markdown",
   "metadata": {},
   "source": [
    "# Taller Resolver los siguientes problemas, por el metodo de la biseccion, newton, punto fijo, etc.\n",
    "\n",
    "**1.** Encontrar los ceros de $e^{x}-2= \\cos(e^x-2)$"
   ]
  },
  {
   "cell_type": "markdown",
   "metadata": {},
   "source": [
    "### Solución:\n",
    "\n",
    "Sin importar cuál sea el método para resolver esta ecuación se debe despejar e igualar a cero para facilitar los cálculos\n",
    "\n",
    "$$ e^x - 2 - cos(e^x -2) = 0 $$\n",
    "$$ f(x) = e^x - cos(e^x -2) - 2 $$\n",
    "\n",
    "Veamos gráficamente como se comporta la función en un intervalo de $-25 < x < 25$"
   ]
  },
  {
   "cell_type": "code",
   "execution_count": 1,
   "metadata": {},
   "outputs": [
    {
     "data": {
      "image/png": "[encoded data removed]",
      "text/plain": [
       "<Figure size 432x288 with 1 Axes>"
      ]
     },
     "metadata": {
      "needs_background": "light"
     },
     "output_type": "display_data"
    }
   ],
   "source": [
    "import numpy as np\n",
    "import matplotlib.pyplot as plt\n",
    "import math as mt\n",
    "\n",
    "x = np.linspace(-5,5,100)\n",
    "def fx(x):\n",
    "    y = np.exp(x) - np.cos(np.exp(x)-2) - 2\n",
    "    return y\n",
    "\n",
    "plt.figure\n",
    "plt.plot(x,fx(x),label='y=f(x)')\n",
    "plt.xlabel(\"$x$\")\n",
    "plt.ylabel(\"$y(x)$\")\n",
    "plt.grid()\n",
    "plt.legend()\n",
    "plt.show()"
   ]
  },
  {
   "cell_type": "code",
   "execution_count": 2,
   "metadata": {},
   "outputs": [
    {
     "name": "stdout",
     "output_type": "stream",
     "text": [
      "-5.0 -> -1.583251414445704\n",
      "-4.5 -> -1.5828710191501811\n",
      "-4.0 -> -1.5822607556436032\n",
      "-3.5 -> -1.58129973410632\n",
      "-3.0 -> -1.5798343037660165\n",
      "-2.5 -> -1.5777252520248148\n",
      "-2.0 -> -1.5750077794632529\n",
      "-1.5 -> -1.5722517626969736\n",
      "-1.0 -> -1.570834756180591\n",
      "-0.5 -> -1.5698684497967008\n",
      "0.0 -> -1.5403023058681398\n",
      "0.5 -> -1.2902122007865966\n",
      "1.0 -> -0.034655726394720254\n",
      "1.5 -> 3.2717404128965573\n",
      "2.0 -> 4.762858120152077\n",
      "2.5 -> 10.908901576093001\n",
      "3.0 -> 17.363475533038773\n",
      "3.5 -> 30.160255824297444\n",
      "4.0 -> 53.28842661990634\n",
      "4.5 -> 87.01851105130454\n"
     ]
    }
   ],
   "source": [
    "for i in np.arange(-5,5,0.5):\n",
    "    y = fx(i)\n",
    "    print(i,'->',y)"
   ]
  },
  {
   "cell_type": "code",
   "execution_count": 3,
   "metadata": {},
   "outputs": [
    {
     "name": "stdout",
     "output_type": "stream",
     "text": [
      "Usando el método de la bisección la solución es 1.0076239716574946\n"
     ]
    }
   ],
   "source": [
    "# MÉTODO DE LA BISECCIÓN\n",
    "\n",
    "# Elegimos un dos puntos que evaluados en f(x) tengan signos contrarios\n",
    "a = -0.5\n",
    "b = 2\n",
    "\n",
    "from scipy import optimize\n",
    "x0b = optimize.bisect(fx,a,b)\n",
    "print(f\"Usando el método de la bisección la solución es {x0b}\")"
   ]
  },
  {
   "cell_type": "code",
   "execution_count": 4,
   "metadata": {},
   "outputs": [
    {
     "name": "stdout",
     "output_type": "stream",
     "text": [
      "-2.943423282886215e-12\n"
     ]
    }
   ],
   "source": [
    "print(fx(x0b))"
   ]
  },
  {
   "cell_type": "code",
   "execution_count": 5,
   "metadata": {},
   "outputs": [
    {
     "name": "stdout",
     "output_type": "stream",
     "text": [
      "Usando el método de Newton la solución es 1.0076239716581368\n"
     ]
    }
   ],
   "source": [
    "#MÉTODO DE NEWTON\n",
    "\n",
    "# Para el método de Newton consideramos la derivada de f(x)\n",
    "\n",
    "dfx = lambda x: mt.exp(x)+mt.exp(x)*np.sin(mt.exp(x)-2)\n",
    "xi = 0.5\n",
    "\n",
    "x0n = optimize.newton(fx,xi,dfx)\n",
    "print(f\"Usando el método de Newton la solución es {x0n}\")"
   ]
  },
  {
   "cell_type": "code",
   "execution_count": 6,
   "metadata": {},
   "outputs": [
    {
     "name": "stdout",
     "output_type": "stream",
     "text": [
      "4.440892098500626e-16\n"
     ]
    }
   ],
   "source": [
    "print(fx(x0n))"
   ]
  },
  {
   "cell_type": "code",
   "execution_count": 7,
   "metadata": {},
   "outputs": [
    {
     "name": "stdout",
     "output_type": "stream",
     "text": [
      "Usando el método de la secante la solución es 1.0076239716581368\n"
     ]
    }
   ],
   "source": [
    "#MÉTODO DE LA SECANTE\n",
    "\n",
    "# Para el método de la secante usamos la funición anterior pero sin la derivada\n",
    "\n",
    "x0s = optimize.newton(fx,xi)\n",
    "print(f\"Usando el método de la secante la solución es {x0s}\")"
   ]
  },
  {
   "cell_type": "code",
   "execution_count": 8,
   "metadata": {},
   "outputs": [],
   "source": [
    "# Para el método del punto fijo reescribimos la función en términos de x - g(x)\n",
    "# La reescritura usa el siguiente argumento"
   ]
  },
  {
   "cell_type": "markdown",
   "metadata": {},
   "source": [
    "Sabemos que inicialmete la ecuación a resolver es:\n",
    "$$ e^x - \\cos (e^x - 2) - 2 = 0 $$\n",
    "Luego podemos dejar en términos de  $e^x$\n",
    "$$ e^x = \\cos (e^x - 2) + 2 $$\n",
    "Sacando logaritmo natural a ambos lados tenemos:\n",
    "$$ x = \\ln [\\cos (e^x -2) + 2] $$\n",
    "Por lo tanto tomemos ahora:\n",
    "$$f(x) = x - \\ln [\\cos (e^x -2) + 2]$$\n",
    "\\\n",
    "Luego:\n",
    "$f(x) = x - g(x)$, donde $g(x) = \\ln [\\cos (e^x -2) + 2]$"
   ]
  },
  {
   "cell_type": "code",
   "execution_count": 9,
   "metadata": {},
   "outputs": [
    {
     "name": "stdout",
     "output_type": "stream",
     "text": [
      "1.0076239716581368\n"
     ]
    }
   ],
   "source": [
    "# MÉTODO DEL PUNTO FIJO\n",
    "\n",
    "# Así tenemos que escribiendo las funciones tenemos\n",
    "\n",
    "gx = lambda x: np.log( np.cos(mt.exp(x) - 2) + 2 )\n",
    "\n",
    "# Mientras el punto fijo que para x sería 0.5, para u es e^(0.5)\n",
    "x_f = 0.5\n",
    "\n",
    "# Luego el método, al ingresar la función g(x) es\n",
    "\n",
    "x0p = optimize.fixed_point(gx,x_f)\n",
    "print(x0p)"
   ]
  },
  {
   "cell_type": "code",
   "execution_count": 10,
   "metadata": {},
   "outputs": [
    {
     "name": "stdout",
     "output_type": "stream",
     "text": [
      "Así, tenemos que el valor de la raíz obtenido es de: 1.0076239716579762\n",
      "Que al evaluar en la función nos da -7.354117315117037e-13\n"
     ]
    }
   ],
   "source": [
    "# RESULTADO FINAL Y CONCLUSIÓN\n",
    "\n",
    "# Podemos promediar los valores obtenidos en cada método para hayar el valor más aproximado posible\n",
    "\n",
    "prom = (x0p+x0s+x0n+x0b)/4\n",
    "valf = fx(prom)\n",
    "print(\"Así, tenemos que el valor de la raíz obtenido es de: {}\".format(prom))\n",
    "print(\"Que al evaluar en la función nos da {}\".format(valf))"
   ]
  },
  {
   "cell_type": "markdown",
   "metadata": {},
   "source": [
    "**2.** Una particula parte del reposo sobre un plano inclinado uniforme, cuyo ángulo \n",
    "$\\theta$ cambia con una rapidez constante de : \n",
    "\n",
    "\\begin{equation}\n",
    "\\frac{\\mathrm{d}\\theta}{\\mathrm{d} t} = \\omega < 0\n",
    "\\end{equation}\n",
    "\n",
    "Al final de t segundos, la posición del objeto esta dada por: \n",
    "\n",
    "\n",
    "\\begin{equation}\n",
    "x(t) = -\\frac{g}{2\\omega^2} \\left( \\frac{e^{\\omega t}-e^{-\\omega t}}{2} -\\sin\\omega t \\right)\n",
    "\\end{equation}\n",
    "\n",
    "\n",
    "Suponga que la partícula se desplazo 0.51m en 1s. Encuentre, con una exactitud de $10^{-5}$, la rapidez $\\omega$ con que $\\theta$ cambia. Suponga que $g=9.76m/s$"
   ]
  },
  {
   "cell_type": "markdown",
   "metadata": {},
   "source": [
    "### Solución:\n",
    "\n",
    "Para encontrar el valor de $\\omega$ reemplazamos los valores para $x(1) = 0.51$, luego nos resulta la ecuación:\n",
    "\n",
    "$$ 0.51 + \\frac{g}{2\\omega^2} \\left( \\frac{e^{\\omega t}-e^{-\\omega t}}{2} -\\sin\\omega t \\right) = 0$$\n",
    "\n",
    "Luego, como $t = 1$, podemos escribir la función de la siguiente manera:\n",
    "\n",
    "$$ c\\theta(\\omega) = 0.51 + \\frac{g}{2\\omega^2} \\left( \\frac{e^{\\omega t}-e^{-\\omega t}}{2} -\\sin\\omega t \\right) $$\n",
    "\n",
    "Y cuya derivada está dada por:\n",
    "\n",
    "$$ \\frac{dc\\theta}{dw} = -\\frac{g\\left(w\\left(e^w+e^{-w}-2\\cos \\left(w\\right)\\right)-2\\left(e^w-e^{-w}-2\\sin \\left(w\\right)\\right)\\right)}{4w^3}$$"
   ]
  },
  {
   "cell_type": "code",
   "execution_count": 11,
   "metadata": {},
   "outputs": [
    {
     "name": "stdout",
     "output_type": "stream",
     "text": [
      "-1.0 -> -1.1186034191192158\n",
      "-0.75 -> -0.7104595607697417\n",
      "-0.5 -> -0.30339384968390626\n",
      "-0.25 -> 0.10333144221137336\n",
      "0.0 -> nan\n",
      "0.25 -> 0.9166685577886267\n",
      "0.5 -> 1.3233938496839062\n",
      "0.75 -> 1.7304595607697417\n"
     ]
    },
    {
     "name": "stderr",
     "output_type": "stream",
     "text": [
      "/tmp/ipykernel_4797/2770638047.py:5: RuntimeWarning: divide by zero encountered in double_scalars\n",
      "  im2 = g/(2*w**2) * ((np.exp(w) - np.exp((-1)*w)) / 2 - np.sin(w))\n",
      "/tmp/ipykernel_4797/2770638047.py:5: RuntimeWarning: invalid value encountered in double_scalars\n",
      "  im2 = g/(2*w**2) * ((np.exp(w) - np.exp((-1)*w)) / 2 - np.sin(w))\n"
     ]
    }
   ],
   "source": [
    "# Definamos inicialmente la función y su derivada\n",
    "g = 9.76\n",
    "def fw(w):\n",
    "    im1 = 0.51\n",
    "    im2 = g/(2*w**2) * ((np.exp(w) - np.exp((-1)*w)) / 2 - np.sin(w))\n",
    "    ctheta = im1 + im2\n",
    "    return ctheta\n",
    "def dfw(w):\n",
    "    in1 = w*(np.exp(w)+np.exp(-w)-2*np.cos(w))\n",
    "    in2 = 2*(np.exp(w)-np.exp(-w)-2*np.sin(w))\n",
    "    in3 = 4*w**3\n",
    "    return g*(in1-in2)/in3\n",
    "\n",
    "#Evaluamos la función ctheta en un intervalo para determinar dos valores de signos contrarios\n",
    "\n",
    "for i in np.arange(-1,1,0.25):\n",
    "    w = fw(i)\n",
    "    print(i,'->',w)"
   ]
  },
  {
   "cell_type": "code",
   "execution_count": 12,
   "metadata": {},
   "outputs": [
    {
     "data": {
      "image/png": "[encoded data removed]",
      "text/plain": [
       "<Figure size 432x288 with 1 Axes>"
      ]
     },
     "metadata": {
      "needs_background": "light"
     },
     "output_type": "display_data"
    }
   ],
   "source": [
    "#Realicemos un gráfico para entender la función\n",
    "\n",
    "wj = np.arange(-5,5,0.05)\n",
    "\n",
    "plt.figure\n",
    "plt.plot(wj,fw(wj),label='$y=f(\\omega)$')\n",
    "plt.xlabel(\"$\\omega$\")\n",
    "plt.ylabel(\"$x(t=1)$\")\n",
    "plt.grid()\n",
    "plt.legend()\n",
    "plt.show()"
   ]
  },
  {
   "cell_type": "markdown",
   "metadata": {},
   "source": [
    "**Rta:** Cuando para el segundo término de la ecuación $\\frac{g}{2 \\ w}$ el w se hace cero tenemos que para este valor la función no está definida.\n",
    "\n",
    "De esta forma es necesario para el método de la bisección que los puntos a,b cumplan que $a \\not = -b$"
   ]
  },
  {
   "cell_type": "code",
   "execution_count": 13,
   "metadata": {},
   "outputs": [
    {
     "name": "stdout",
     "output_type": "stream",
     "text": [
      "Usando el método de la bisección la solución es -0.3135209839253548\n",
      "\n",
      "Al evaluar la función en el valor obtenido anteriormente nos resulta 1.94932958663685e-12\n"
     ]
    }
   ],
   "source": [
    "#MÉTODO DE LA BISECCIÓN\n",
    "\n",
    "# Considerando la función en los puntos de forma que evitemos el valor de w = 0, tenemos\n",
    "a = -1.1\n",
    "b = -0.25\n",
    "\n",
    "from scipy import optimize\n",
    "w0b = optimize.bisect(fw,a,b)\n",
    "print(f\"Usando el método de la bisección la solución es {w0b}\")\n",
    "\n",
    "#Comprobemos que se cumple para este valor\n",
    "\n",
    "print(\"\\nAl evaluar la función en el valor obtenido anteriormente nos resulta {}\".format(fw(w0b)))"
   ]
  },
  {
   "cell_type": "code",
   "execution_count": 14,
   "metadata": {},
   "outputs": [
    {
     "name": "stdout",
     "output_type": "stream",
     "text": [
      "Usando el método de Newton la solución es -0.31352098392655375\n",
      "\n",
      "Al evaluar la función en el valor obtenido anteriormente nos resulta -8.881784197001252e-16\n"
     ]
    }
   ],
   "source": [
    "#MÉTODO DE NEWTON\n",
    "\n",
    "wi = 10.5\n",
    "w0n = optimize.newton(fw,wi,dfw)\n",
    "print(f\"Usando el método de Newton la solución es {w0n}\")\n",
    "print(\"\\nAl evaluar la función en el valor obtenido anteriormente nos resulta {}\".format(fw(w0n)))"
   ]
  },
  {
   "cell_type": "code",
   "execution_count": 15,
   "metadata": {},
   "outputs": [
    {
     "name": "stdout",
     "output_type": "stream",
     "text": [
      "Usando el método de la secante la solución es -0.3135209839265525\n",
      "\n",
      "Al evaluar la función en el valor obtenido anteriormente nos resulta 4.440892098500626e-16\n"
     ]
    }
   ],
   "source": [
    "# MÉTODO DE LA SECANTE\n",
    "\n",
    "wi = -0.98\n",
    "\n",
    "w0s = optimize.newton(fw,wi)\n",
    "print(f\"Usando el método de la secante la solución es {w0s}\")\n",
    "\n",
    "#Comprobemos que se cumple para este valor\n",
    "\n",
    "print(\"\\nAl evaluar la función en el valor obtenido anteriormente nos resulta {}\".format(fw(w0s)))"
   ]
  },
  {
   "cell_type": "code",
   "execution_count": 16,
   "metadata": {},
   "outputs": [],
   "source": [
    "# Escribamos la función g(w) para nuestra función f(w)"
   ]
  },
  {
   "cell_type": "markdown",
   "metadata": {},
   "source": [
    "Y para el método de punto fijo tenemos la escritura:\n",
    "\n",
    "$$ c\\theta(\\omega) = w - \\left[ \\left( \\frac{e^{-\\omega}-e^{\\omega}}{2} + \\sin(w) \\right) \\frac{g}{1.02w} \\right ] $$\n",
    "\n",
    "$$ g(w) = \\left[ \\left( \\frac{e^{-\\omega}-e^{\\omega}}{2} + \\sin(w) \\right) \\frac{g}{1.02w} \\right ] $$"
   ]
  },
  {
   "cell_type": "code",
   "execution_count": 17,
   "metadata": {},
   "outputs": [
    {
     "name": "stdout",
     "output_type": "stream",
     "text": [
      "Usando el método de Punto Fijo la solución es -0.3135209839265518\n",
      "\n",
      "Al evaluar la función en el valor obtenido anteriormente nos resulta 9.992007221626409e-16\n"
     ]
    }
   ],
   "source": [
    "# MÉTODO DEL PUNTO FIJO\n",
    "\n",
    "def gw(w):\n",
    "    g = 9.76\n",
    "    in1 = (np.exp(-w) - np.exp(w)) / 2 + np.sin(w)\n",
    "    in2 = g/(w*1.02)\n",
    "    return in1*in2\n",
    "\n",
    "#Tomemos un punto inicial definido y no demasiado grande del intervalo anterior, luego:\n",
    "\n",
    "w_f = -0.98\n",
    "\n",
    "# Luego el método, al ingresar la función g(x) es\n",
    "\n",
    "w0p = optimize.fixed_point(gw,w_f)\n",
    "\n",
    "print(f\"Usando el método de Punto Fijo la solución es {w0p}\")\n",
    "\n",
    "print(\"\\nAl evaluar la función en el valor obtenido anteriormente nos resulta {}\".format(fw(w0p)))"
   ]
  },
  {
   "cell_type": "markdown",
   "metadata": {
    "id": "SqA4V6ZKyeoc"
   },
   "source": [
    "**3.** Un reservorio de longitud L tiene una seccion transveral en forma de semicirculo con radio r.\n",
    "\n",
    "\\begin{equation}\n",
    "V=L \\left ( \\frac{1}{2}\\pi r^2 -r^2 \\arcsin{\\frac{h}{r}}-h(r^2-h^2) ^{1/2} \\right)\n",
    "\\end{equation}\n",
    "\n",
    "Determinar la profundidad del agua para L=10pies, r=1pies, V=12.4pies\n",
    "\n",
    "\n",
    "![Reservorio](https://raw.githubusercontent.com/hernansalinas/Metodos_Computacionales_taller/main/sesiones/images/ecuacion_1_variable/Fig1.png)"
   ]
  },
  {
   "cell_type": "markdown",
   "metadata": {},
   "source": [
    "### Solución:\n",
    "\n",
    "Despejando la ecuación para igualar a cero y reemplazando los valores tenemos:\n",
    "\n",
    "$$ f(h) = 12.4 - 10 \\left ( \\frac{\\pi}{2} - \\sin (h) - h \\sqrt{1 - h^2} \\right )   $$\n",
    "\n",
    "Por lo que podemos ver que la función existe en los reales para $h \\leq 1$\n",
    "\n",
    "También, sabemos que al derivar esta función obtenemos:\n",
    "\n",
    "$$ \\frac{df(h)}{dh} = \\frac{10\\sqrt{1-h^2}\\ \\cos(h) + 1-2h^2}{\\sqrt{1-h^2}}  $$\n",
    "\n",
    "La cuál está definida para $ h<1 $"
   ]
  },
  {
   "cell_type": "code",
   "execution_count": 18,
   "metadata": {},
   "outputs": [],
   "source": [
    "# Definamos la función  y su derivada\n",
    "\n",
    "def fh(h):\n",
    "    ih0 = np.pi/2 - np.sin(h) - h*np.sqrt(1-h**2)\n",
    "    return 12.4 - 10*ih0\n",
    "\n",
    "def dfh(h):\n",
    "    ih1 = (1-h**2)**(1/2)\n",
    "    ih2 = 10*ih1*np.cos(h)+1-2*h**2\n",
    "    return ih2/ih1"
   ]
  },
  {
   "cell_type": "code",
   "execution_count": 19,
   "metadata": {},
   "outputs": [
    {
     "data": {
      "image/png": "[encoded data removed]",
      "text/plain": [
       "<Figure size 432x288 with 1 Axes>"
      ]
     },
     "metadata": {
      "needs_background": "light"
     },
     "output_type": "display_data"
    }
   ],
   "source": [
    "# Grafiquemos la función para entender mejor el proceso\n",
    "\n",
    "hj = np.linspace(-1,1,500)\n",
    "\n",
    "plt.figure\n",
    "plt.plot(hj,fh(hj),label='$y=f(h)$')\n",
    "plt.xlabel(\"$h$\")\n",
    "plt.ylabel(\"$V(h)$\")\n",
    "plt.grid()\n",
    "plt.legend()\n",
    "plt.show()"
   ]
  },
  {
   "cell_type": "code",
   "execution_count": 20,
   "metadata": {},
   "outputs": [
    {
     "name": "stdout",
     "output_type": "stream",
     "text": [
      "-1.0 -> -11.722673116027932\n",
      "-0.7777777777777778 -> -15.213581504286276\n",
      "-0.5555555555555556 -> -13.20144723279594\n",
      "-0.33333333333333337 -> -9.722607041184032\n",
      "-0.11111111111111116 -> -5.521020653048394\n",
      "0.11111111111111116 -> -1.0949058828495364\n",
      "0.33333333333333326 -> 3.1066805052861\n",
      "0.5555555555555554 -> 6.5855206968980085\n",
      "0.7777777777777777 -> 8.597654968388346\n",
      "1.0 -> 5.10674658013\n"
     ]
    }
   ],
   "source": [
    "# Encontremos dos valores para los cuales la función evaluada tenga signo negativo\n",
    "h = np.linspace(-1,1,10)\n",
    "for i in h:\n",
    "    print(i,'->',fh(i))"
   ]
  },
  {
   "cell_type": "code",
   "execution_count": 21,
   "metadata": {},
   "outputs": [
    {
     "name": "stdout",
     "output_type": "stream",
     "text": [
      "Usando el método de la bisección la solución es 0.16695713869357862\n",
      "\n",
      "Al evaluar la función en el valor obtenido anteriormente nos resulta -1.248778858098376e-11\n"
     ]
    }
   ],
   "source": [
    "# METODO DE LA BISECCIÓN\n",
    "\n",
    "# Hallemos el 0 de la función usando los valores -0.42 y 0.9\n",
    "\n",
    "a = -0.42\n",
    "b = 0.9\n",
    "\n",
    "from scipy import optimize\n",
    "h0b = optimize.bisect(fh,a,b)\n",
    "print(f\"Usando el método de la bisección la solución es {h0b}\")\n",
    "\n",
    "#Comprobemos que se cumple para este valor\n",
    "\n",
    "print(\"\\nAl evaluar la función en el valor obtenido anteriormente nos resulta {}\".format(fh(h0b)))"
   ]
  },
  {
   "cell_type": "code",
   "execution_count": 22,
   "metadata": {},
   "outputs": [
    {
     "data": {
      "image/png": "[encoded data removed]",
      "text/plain": [
       "<Figure size 432x288 with 1 Axes>"
      ]
     },
     "metadata": {
      "needs_background": "light"
     },
     "output_type": "display_data"
    }
   ],
   "source": [
    "# Veamos ahora, como se comporta la gráfica para la derivada\n",
    "\n",
    "hk = np.linspace(-0.5,0.5,100)\n",
    "\n",
    "\n",
    "plt.figure\n",
    "plt.plot(hk,dfh(hk),label='$y=df(h)/dh$')\n",
    "plt.xlabel(\"$h$\")\n",
    "plt.ylabel(\"$dV(h)/dh$\")\n",
    "plt.grid()\n",
    "plt.legend()\n",
    "plt.show()"
   ]
  },
  {
   "cell_type": "code",
   "execution_count": 23,
   "metadata": {},
   "outputs": [
    {
     "name": "stdout",
     "output_type": "stream",
     "text": [
      "-0.5 -> 9.353175888093352\n",
      "-0.3888888888888889 -> 10.0104376916082\n",
      "-0.2777777777777778 -> 10.496995725815752\n",
      "-0.16666666666666669 -> 10.81927380432157\n",
      "-0.05555555555555558 -> 10.979936273721\n",
      "0.05555555555555558 -> 10.979936273721\n",
      "0.16666666666666663 -> 10.81927380432157\n",
      "0.2777777777777777 -> 10.496995725815754\n",
      "0.38888888888888884 -> 10.0104376916082\n",
      "0.5 -> 9.353175888093352\n"
     ]
    }
   ],
   "source": [
    "h = np.linspace(-0.5,0.5,10)\n",
    "for i in h:\n",
    "    print(i,'->',dfh(i))"
   ]
  },
  {
   "cell_type": "code",
   "execution_count": 24,
   "metadata": {},
   "outputs": [
    {
     "name": "stdout",
     "output_type": "stream",
     "text": [
      "Usando el método de Newton la solución es 0.1669571334133202\n",
      "\n",
      "Al evaluar la función en el valor obtenido anteriormente nos resulta -1.0264949779070776e-07\n"
     ]
    }
   ],
   "source": [
    "#MÉTODO DE NEWTON\n",
    "\n",
    "# Hallemos el cero de la función para desde un punto inicial cercano a 0 por los negativos \n",
    "hi = 0.16\n",
    "h0n = optimize.newton(fh,hi,dfh,maxiter=100)\n",
    "\n",
    "print(f\"Usando el método de Newton la solución es {h0n}\")\n",
    "\n",
    "print(\"\\nAl evaluar la función en el valor obtenido anteriormente nos resulta {}\".format(fh(h0n)))"
   ]
  },
  {
   "cell_type": "markdown",
   "metadata": {},
   "source": [
    "**Análisis :**\n",
    "A pesar del error obtenido con el método, vemos que después de 50 iteraciones el tiene calculado internamente el valor de $\\approx 0.1669558$. El cuál concuerda con el valor hallado con el método de la bisección.\n",
    "\n",
    "Luego las iteraciones debieron ser modificadas pues al usar las 50 por defecto"
   ]
  },
  {
   "cell_type": "code",
   "execution_count": 25,
   "metadata": {},
   "outputs": [
    {
     "name": "stdout",
     "output_type": "stream",
     "text": [
      "Usando el método de la secante la solución es 0.16695713869422085\n",
      "\n",
      "Al evaluar la función en el valor obtenido anteriormente nos resulta -3.552713678800501e-15\n"
     ]
    }
   ],
   "source": [
    "# MÉTODO DE LA SECANTE\n",
    "\n",
    "# Hallemos el cero de la función para desde un punto inicial cercano a -1 \n",
    "hi = 0.5\n",
    "h0s = optimize.newton(fh,hi)\n",
    "print(f\"Usando el método de la secante la solución es {h0s}\")\n",
    "\n",
    "print(\"\\nAl evaluar la función en el valor obtenido anteriormente nos resulta {}\".format(fh(h0s)))"
   ]
  },
  {
   "cell_type": "markdown",
   "metadata": {},
   "source": [
    "Luego reescribiendo nuestra función para usar el método del punto fijo tenemos:\n",
    "\n",
    "$$ f(h) = h - g(h) $$\n",
    "$$ f(h) = h - \\sin ^{-1} \\left [ \\frac{\\pi}{2} - 1.24 - h \\sqrt{1-h^2}  \\right ]   $$\n",
    "\n",
    "Pero si no queremos que quede en términos de arcsin entonces:\n",
    "\n",
    "$$ g(h) = \\frac{1}{\\sqrt{1-h^2}} \\left[ \\frac{\\pi}{2} - 1.24 - \\sin (h)  \\right] $$"
   ]
  },
  {
   "cell_type": "code",
   "execution_count": 26,
   "metadata": {},
   "outputs": [
    {
     "name": "stdout",
     "output_type": "stream",
     "text": [
      "Usando el método del punto fijo la solución es 0.16695713869422102\n",
      "\n",
      "Al evaluar la función en el valor obtenido anteriormente nos resulta 0.0\n"
     ]
    }
   ],
   "source": [
    "#MÉTODO DE PUNTO FIJO\n",
    "\n",
    "# Escribimos la función g(h):\n",
    "\n",
    "def gh(h):\n",
    "    ih3 = np.pi/2 - 1.24 - h*(1-h**2)**(1/2)\n",
    "    return np.arcsin(ih3)\n",
    "\n",
    "#Tomemos un punto inicial definido y no demasiado grande del intervalo anterior, luego:\n",
    "\n",
    "h_f = 0.5\n",
    "\n",
    "# Luego el método, al ingresar la función g(x) es\n",
    "\n",
    "h0p = optimize.fixed_point(gh,h_f)\n",
    "print(f\"Usando el método del punto fijo la solución es {h0p}\")\n",
    "\n",
    "#Comprobemos que se cumple para este valor\n",
    "\n",
    "print(\"\\nAl evaluar la función en el valor obtenido anteriormente nos resulta {}\".format(fh(h0p)))"
   ]
  },
  {
   "cell_type": "markdown",
   "metadata": {},
   "source": [
    "### Conclusión:\n",
    "Así, el valor de la altura de agua en el reservorio es de aproximadamente 0.16696 pies."
   ]
  },
  {
   "cell_type": "markdown",
   "metadata": {},
   "source": [
    "**4.** Resolver la siguiente situación\n",
    "\n",
    "En el diseño de los vehiculos para todo tipo de terreno,  es necesario tener encuentra fallas cuando se trata de liberar dos tipos de obstáculos. Una es la falla por rozamiento, y ocurre cuando el vehiculo \n",
    "intenta cruzar un obstáculo que hace que su fondo toque el suelo. La otra recibie el nombre de falla por colision de la defensa delantera y ocurre cuando el vehiculo desciende por una zanja y la defensa delantera toca el suelo.\n",
    "\n",
    "\n",
    "\n",
    "La figura muestra las componentes asociados al segundo tipo  de falla. En ella se indentifica el ángulo máximo $\\alpha$ que puede alcanzar un vehículo cuando $\\beta$ es el ángulo máximo en que no ocurre la falla por rozamiento y satisface la siguiente ecuación: \n",
    "\n",
    "\n",
    "\\begin{equation}\n",
    "A \\sin(\\alpha) \\cos(\\alpha)+B \\sin^2(\\alpha) - C \\cos(\\alpha) -  E  \\sin(\\alpha)=0\n",
    "\\end{equation}\n",
    "\n",
    "donde: \n",
    "\\begin{equation}\n",
    "A = l \\sin(\\beta)\n",
    "\\end{equation}\n",
    "\n",
    "\\begin{equation}\n",
    "B = l \\cos(\\beta)\n",
    "\\end{equation}\n",
    "\n",
    "\\begin{equation}\n",
    "C = (h + 0.5 D )\\sin(\\beta) - 0.5 D \\tan(\\beta)\n",
    "\\end{equation}\n",
    "\n",
    "\\begin{equation}\n",
    "E = (h + 0.5 D ) \\cos(\\beta) - 0.5 D\n",
    "\\end{equation}\n",
    "\n",
    "\n",
    "Para $l=89$pulg, $h=49$pul, $D=55$, $\\beta=11.5$ , el ángulo se aproximara a 33°. Verificar este resultado.\n",
    "\n",
    "\n",
    "![fallas_vehiculo](https://raw.githubusercontent.com/hernansalinas/Metodos_Computacionales_taller/main/sesiones/images/ecuacion_1_variable/Fig2.png)\n",
    "\n",
    "Referencias: Numerical Analysis Book by J. Douglas Faires and Richard L. Burden"
   ]
  },
  {
   "cell_type": "code",
   "execution_count": 27,
   "metadata": {},
   "outputs": [
    {
     "name": "stdout",
     "output_type": "stream",
     "text": [
      "(17.74374616313055, 87.21329871125383, 9.656708748763851, 47.464239903493464)\n"
     ]
    }
   ],
   "source": [
    "import numpy as np\n",
    "from scipy import optimize\n",
    "import matplotlib.pyplot as plt\n",
    "\n",
    "# Colocamos los valores de las variables dados:\n",
    "\n",
    "l = 89 #pg\n",
    "h = 49 #pg\n",
    "D = 55 #pg\n",
    "𝛽 = np.deg2rad(11.5) #grados --> radianes\n",
    "\n",
    "# Definimos los parámetros como una función de las variables anteriores:\n",
    "\n",
    "def init_param(l,h,D,𝛽):\n",
    "    A = l*np.sin(𝛽)\n",
    "    B = l*np.cos(𝛽)\n",
    "    C = (h+0.5*D)*np.sin(𝛽) - 0.5*D*np.tan(𝛽)\n",
    "    E = (h+0.5*D)*np.cos(𝛽) - 0.5*D\n",
    "    \n",
    "    return A,B,C,E\n",
    "\n",
    "print(init_param(l,h,D,𝛽))"
   ]
  },
  {
   "cell_type": "code",
   "execution_count": 28,
   "metadata": {},
   "outputs": [],
   "source": [
    "# Asociemos los valores de la función con los parámetros:\n",
    "\n",
    "A,B,C,E = init_param(l,h,D,𝛽)\n",
    "params = init_param(l,h,D,𝛽)"
   ]
  },
  {
   "cell_type": "code",
   "execution_count": 29,
   "metadata": {},
   "outputs": [],
   "source": [
    "# Definimos la función f(alpha):\n",
    "\n",
    "def fa(𝛼,A,B,C,E):\n",
    "    ia1 = A*np.sin(𝛼) + B*(np.sin(𝛼))**2\n",
    "    ia2 = -C*np.cos(𝛼) - E*np.sin(𝛼)\n",
    "    return ia1 + ia2\n",
    "\n",
    "# Definimos su derivada:\n",
    "\n",
    "def dfa(𝛼,A,B,C,E):\n",
    "    ia1 = A*np.cos(2*𝛼) + B*np.sin(2*𝛼)\n",
    "    ia2 = C*np.sin(𝛼) - E*np.cos(𝛼)\n",
    "    return ia1 + ia2"
   ]
  },
  {
   "cell_type": "code",
   "execution_count": 30,
   "metadata": {},
   "outputs": [
    {
     "data": {
      "text/plain": [
       "-11.926502543909354"
      ]
     },
     "execution_count": 30,
     "metadata": {},
     "output_type": "execute_result"
    }
   ],
   "source": [
    "fa(0.2,*params)"
   ]
  },
  {
   "cell_type": "code",
   "execution_count": 31,
   "metadata": {},
   "outputs": [
    {
     "data": {
      "image/png": "[encoded data removed]",
      "text/plain": [
       "<Figure size 432x288 with 1 Axes>"
      ]
     },
     "metadata": {
      "needs_background": "light"
     },
     "output_type": "display_data"
    }
   ],
   "source": [
    "# Grafiquemos la función para ver dos valores que evaluados den signos contrarios\n",
    "\n",
    "alp = np.linspace(-5,5,100)\n",
    "plt.figure\n",
    "plt.plot(alp,fa(alp,*params),label='$y=f(𝛼)$',)\n",
    "plt.xlabel(\"$𝛼$\")\n",
    "plt.ylabel(\"$f(𝛼)$\")\n",
    "plt.grid()\n",
    "plt.legend()\n",
    "plt.show()"
   ]
  },
  {
   "cell_type": "markdown",
   "metadata": {},
   "source": [
    "### Análisis:\n",
    "\n",
    "Vemos que la función tiene muchos ceros por lo que  nuestra intención es encontrar las aproximaciones a $33°$, para demostrar lo dicho anteriormente, así que nuestra intención es escoger los valores que nos lleven a este cero, donde sabemos que dicho valor en radianes de forma que lo podemos ver en la gráfica es de $\\alpha \\approx 0.58\\ rad$"
   ]
  },
  {
   "cell_type": "code",
   "execution_count": 32,
   "metadata": {},
   "outputs": [
    {
     "data": {
      "image/png": "[encoded data removed]",
      "text/plain": [
       "<Figure size 432x288 with 1 Axes>"
      ]
     },
     "metadata": {
      "needs_background": "light"
     },
     "output_type": "display_data"
    }
   ],
   "source": [
    "# Veamos entonces esta función en el rango donde tenemos a este valor entre los puntos 0 y 2\n",
    "\n",
    "alp = np.linspace(0,2,100)\n",
    "plt.figure\n",
    "plt.plot(alp,fa(alp,*params),label='$y=f(𝛼)$',)\n",
    "plt.xlabel(\"$𝛼$\")\n",
    "plt.ylabel(\"$f(𝛼)$\")\n",
    "plt.grid()\n",
    "plt.legend()\n",
    "plt.show()"
   ]
  },
  {
   "cell_type": "code",
   "execution_count": 33,
   "metadata": {},
   "outputs": [
    {
     "name": "stdout",
     "output_type": "stream",
     "text": [
      "0.5759586531581288\n"
     ]
    }
   ],
   "source": [
    "valg = 33\n",
    "valr = valg*np.pi/180\n",
    "print(valr)"
   ]
  },
  {
   "cell_type": "code",
   "execution_count": 34,
   "metadata": {},
   "outputs": [
    {
     "name": "stdout",
     "output_type": "stream",
     "text": [
      "Con este método, la solución es 0.5489589188259743 o  en grados 31.453029174793077\n",
      "\n",
      "Al evaluar la función en el valor obtenido anteriormente nos resulta -2.4627411221445072e-11\n"
     ]
    }
   ],
   "source": [
    "# MÉTODO DE LA BISECCIÓN\n",
    "\n",
    "# Consideremos dos puntos de signo contrario en 'y' y cuyo 'x' esté entre -1 y 1 y encierren el 0.5\n",
    "\n",
    "a = 0\n",
    "b = 0.75\n",
    "\n",
    "a0b = optimize.bisect(fa,a,b,args=params)\n",
    "\n",
    "print(f\"Con este método, la solución es {a0b} o  en grados {a0b*180/np.pi}\")\n",
    "\n",
    "#Comprobemos que se cumple para este valor\n",
    "\n",
    "print(\"\\nAl evaluar la función en el valor obtenido anteriormente nos resulta {}\".format(fa(a0b,*params)))"
   ]
  },
  {
   "cell_type": "code",
   "execution_count": 35,
   "metadata": {},
   "outputs": [
    {
     "name": "stdout",
     "output_type": "stream",
     "text": [
      "Con este método, la solución es 0.5489589191861113 o en grados 31.45302919542741\n",
      "\n",
      "Al evaluar la función en el valor obtenido anteriormente nos resulta 2.062125048496455e-08\n"
     ]
    }
   ],
   "source": [
    "# MÉTODO DE NEWTON\n",
    "\n",
    "# Consideremos un punto con pendiente positiva cercano a nuestro posible cero\n",
    "\n",
    "a1 = 0.32\n",
    "\n",
    "a0n = optimize.newton(fa,a1,dfa,args=params)\n",
    "\n",
    "print(f\"Con este método, la solución es {a0n} o en grados {a0n*180/np.pi}\")\n",
    "\n",
    "#Comprobemos que se cumple para este valor\n",
    "\n",
    "print(\"\\nAl evaluar la función en el valor obtenido anteriormente nos resulta {}\".format(fa(a0n,*params)))"
   ]
  },
  {
   "cell_type": "code",
   "execution_count": 36,
   "metadata": {},
   "outputs": [
    {
     "name": "stdout",
     "output_type": "stream",
     "text": [
      "Con este método, la solución es 0.5489589188264038 o en grados 31.45302917481769\n",
      "\n",
      "Al evaluar la función en el valor obtenido anteriormente nos resulta -7.105427357601002e-15\n"
     ]
    }
   ],
   "source": [
    "# MÉTODO DE LA SECANTE\n",
    "\n",
    "a1 = 1\n",
    "a0s = optimize.newton(fa,a1,args=params)\n",
    "\n",
    "print(f\"Con este método, la solución es {a0s} o en grados {a0s*180/np.pi}\")\n",
    "\n",
    "#Comprobemos que se cumple para este valor\n",
    "\n",
    "print(\"\\nAl evaluar la función en el valor obtenido anteriormente nos resulta {}\".format(fa(a0s,*params)))"
   ]
  },
  {
   "cell_type": "markdown",
   "metadata": {},
   "source": [
    "### Solución:\n",
    "\n",
    "Podemos usando las ecuaciones anteriores escribir la función:\n",
    "\n",
    "$$ f(\\alpha) =  A \\sin(\\alpha) \\cos(\\alpha)+B \\sin^2(\\alpha) - C \\cos(\\alpha) -  E  \\sin(\\alpha) $$\n",
    "\n",
    "Con los parámetros y variables definidas anteriormente. Luego, veamos que $\\alpha = 33°$ cuando las variables tienen los valores mencionados anteriormente.\n",
    "\n",
    "Luego, al determinar la derivada tenemos que:\n",
    "\n",
    "$$ \\frac{df(\\alpha)}{d\\alpha} = A\\cos(2\\alpha) + B\\sin(2\\alpha) + C\\sin(\\alpha) - E\\cos(\\alpha)$$"
   ]
  },
  {
   "cell_type": "markdown",
   "metadata": {},
   "source": [
    "#### Reescritura:\n",
    "\n",
    "Para el método del punto fijo y teniendo en cuenta la imagen de la función $\\sin^{-1}$ reescribimos nuestra función como:\n",
    "\n",
    "$$ f(\\alpha) = \\alpha - \\sin^{-1} \\left[ \\frac{A}{E} \\sin (\\alpha) \\cos(\\alpha) + \\frac{B}{E} \\sin^2 (\\alpha) - \\frac{C}{E} \\cos(\\alpha) \\right] $$"
   ]
  },
  {
   "cell_type": "code",
   "execution_count": 63,
   "metadata": {},
   "outputs": [
    {
     "data": {
      "text/plain": [
       "49.356638043700244"
      ]
     },
     "execution_count": 63,
     "metadata": {},
     "output_type": "execute_result"
    }
   ],
   "source": [
    "np.abs(1-dfa(0.55,*params))"
   ]
  },
  {
   "cell_type": "code",
   "execution_count": 72,
   "metadata": {},
   "outputs": [
    {
     "name": "stdout",
     "output_type": "stream",
     "text": [
      "Con este método, la solución es 0.5754730121943988 o en grados 32.97217482241961\n",
      "\n",
      "Al evaluar la función en el valor obtenido anteriormente nos resulta 1.5553581030370722\n"
     ]
    }
   ],
   "source": [
    "# MÉTODO DEL PUNTO FIJO\n",
    "\n",
    "# Escribamos la función g(𝛼):\n",
    "\n",
    "def ga(𝛼,A,B,C,E):\n",
    "    ig1 = (A/E)*np.sin(𝛼)*np.cos(𝛼)\n",
    "    ig2 = (B/E)*(np.sin(𝛼))**2\n",
    "    ig3 = (C/E)*np.cos(𝛼)\n",
    "    \n",
    "    return 2*𝛼-np.arcsin(ig1+ig2-ig3)\n",
    "\n",
    "# Usemos el método para hallar el punto\n",
    "\n",
    "a1 = 0.25\n",
    "a0p = optimize.fixed_point(ga,a1,args=params)\n",
    "\n",
    "print(f\"Con este método, la solución es {a0p} o en grados {a0p*180/np.pi}\")\n",
    "\n",
    "#Comprobemos que se cumple para este valor\n",
    "\n",
    "print(\"\\nAl evaluar la función en el valor obtenido anteriormente nos resulta {}\".format(fa(a0p,*params)))"
   ]
  },
  {
   "cell_type": "markdown",
   "metadata": {},
   "source": [
    "## Teorema 2.4 del burden\n",
    "\n",
    "Estabilidad de los puntos puede ser de muchas formas:\n",
    "\n",
    "$$ f(x) = x - g(x) $$\n",
    "$$ f(x) = g(x) -x $$"
   ]
  },
  {
   "cell_type": "code",
   "execution_count": 71,
   "metadata": {},
   "outputs": [
    {
     "name": "stderr",
     "output_type": "stream",
     "text": [
      "/tmp/ipykernel_4797/1700036697.py:8: RuntimeWarning: invalid value encountered in arcsin\n",
      "  plt.plot(alpha, np.arcsin(ga_arg(alpha,A,B,C,E)))\n"
     ]
    },
    {
     "data": {
      "text/plain": [
       "(-1.0, 2.0)"
      ]
     },
     "execution_count": 71,
     "metadata": {},
     "output_type": "execute_result"
    },
    {
     "data": {
      "image/png": "[encoded data removed]",
      "text/plain": [
       "<Figure size 432x288 with 1 Axes>"
      ]
     },
     "metadata": {
      "needs_background": "light"
     },
     "output_type": "display_data"
    }
   ],
   "source": [
    "def ga_arg(𝛼,A,B,C,E):\n",
    "    ig1 = (A/E)*np.sin(𝛼)*np.cos(𝛼)\n",
    "    ig2 = (B/E)*(np.sin(𝛼))**2\n",
    "    ig3 = (C/E)*np.cos(𝛼)\n",
    "    \n",
    "    return ig1+ig2-ig3\n",
    "alpha=np.linspace(0,2*np.pi, 100)\n",
    "plt.plot(alpha, np.arcsin(ga_arg(alpha,A,B,C,E)))\n",
    "plt.grid()\n",
    "plt.ylim(-1,2)\n",
    "#plt.hlines(1, 0, 2*np.pi)"
   ]
  },
  {
   "cell_type": "code",
   "execution_count": null,
   "metadata": {},
   "outputs": [],
   "source": [
    "print(ga(0.25,*params))"
   ]
  },
  {
   "cell_type": "markdown",
   "metadata": {},
   "source": [
    "# Pregunta:\n",
    "\n",
    "¿Por qué solo converge para un valor demasiado cercano como es $ \\alpha_1 =0.5$ y no para los otros valores cercanos?"
   ]
  },
  {
   "cell_type": "code",
   "execution_count": null,
   "metadata": {},
   "outputs": [],
   "source": [
    "prom_a = (a0n+a0s+a0b)/3\n",
    "print(prom_a,prom_a*180/np.pi)"
   ]
  },
  {
   "cell_type": "markdown",
   "metadata": {},
   "source": [
    "### Análisis (Excluye la pregunta anterior)\n",
    "\n",
    "Al verificar los demás métodos vemos que en realidad el valor que debe tener $\\alpha$ es de $\\approx 0.549\\ rad$ o $31.45°$"
   ]
  },
  {
   "cell_type": "markdown",
   "metadata": {},
   "source": [
    "**5.** Hallar el área de un segmento circular cuya area sea igual a una cuarta parte del área del circulo. Para la solución se sugiere lo siguiente:\n",
    "\n",
    "a) Encontrar la ecuacion trascendental.\n",
    "\n",
    "b) Con la ecuación anterior, definir una funcion $f(\\theta)=0$. Emplee la funcion labmda de python.\n",
    "\n",
    "c) Construir una data frame de pandas con la columna \"theta\" con 1000 registros(filas) entre $[-2\\pi, 2\\pi]$. Sugerencia, para construir el data frame emplee la función linspace como sigue : np.linspace(-2*np.pi, 2*np.pi, 1000 )\n",
    "\n",
    "d) Construir una segunda columna titulada \"F_theta\" con los registros f(theta)\n",
    "\n",
    "f) Realice un gráfico de  \"F_theta\" vs \"theta\". Identifique el intervalo de la raiz.\n",
    "\n",
    "Estime el valor del ángulo empleando los siguientes metodos(Emplee  la documentacion):\n",
    "\n",
    "g) [Bisección](https://docs.scipy.org/doc/scipy/reference/generated/scipy.optimize.bisect.html)\n",
    "\n",
    "h) [Newton-Rapshon](https://docs.scipy.org/doc/scipy/reference/generated/scipy.optimize.newton.html)\n",
    "\n",
    "i) [Secante](https://docs.scipy.org/doc/scipy/reference/generated/scipy.optimize.newton.html) \n",
    "\n",
    "j) [Punto Fijo](https://docs.scipy.org/doc/scipy/reference/generated/scipy.optimize.fixed_point.html)"
   ]
  },
  {
   "cell_type": "markdown",
   "metadata": {
    "id": "odRKFik2HW8N"
   },
   "source": [
    "### Solución:\n",
    "\n",
    "Sabemos que el valor del segmento circular es $1/4$ de toda el área del círculo, luego podemos escribir esto como la siguiente ecuación:\n",
    "\n",
    "\n",
    "$$ A_{seg} = \\frac{Ac}{4} $$\n",
    "\n",
    "Donde el área del segmento circular está dado por:\n",
    "\n",
    "$$ A_{seg} = \\frac{R^2\\ (\\theta - \\sin \\theta)}{2} $$\n",
    "\n",
    "Luego haciendo las manipulaciones algebraicas tenemos:\n",
    "\n",
    "$$\\theta-\\sin \\theta = \\frac{\\pi}{2}$$\n",
    "\n",
    "Así, podemos escribi una función asociada a esta ecuación y su derivada como:\n",
    "\n",
    "$$f(\\theta)=\\theta-\\sin \\theta - \\frac{\\pi}{2} $$\n",
    "\n",
    "$$ \\frac{df(\\theta)}{d\\theta} = 1 - \\cos(\\theta) $$"
   ]
  },
  {
   "cell_type": "code",
   "execution_count": 73,
   "metadata": {
    "id": "MVhCfSf3Ikhe"
   },
   "outputs": [],
   "source": [
    "import numpy as np\n",
    "import matplotlib.pylab as plt\n",
    "from scipy import optimize"
   ]
  },
  {
   "cell_type": "code",
   "execution_count": 74,
   "metadata": {
    "id": "DnPwEP_Wzcnl"
   },
   "outputs": [],
   "source": [
    "# Definamos la función en términos de 𝜃 y su derivada:\n",
    "\n",
    "f = lambda theta: theta - np.sin(theta) - 0.5 * np.pi\n",
    "df = lambda theta: 1 - np.cos(theta)"
   ]
  },
  {
   "cell_type": "code",
   "execution_count": 75,
   "metadata": {
    "colab": {
     "base_uri": "https://localhost:8080/",
     "height": 285
    },
    "id": "-oK3DTo8IgTb",
    "outputId": "ade27e13-314a-4417-b4d1-7c621713e4f6"
   },
   "outputs": [
    {
     "data": {
      "image/png": "[encoded data removed]",
      "text/plain": [
       "<Figure size 432x288 with 1 Axes>"
      ]
     },
     "metadata": {
      "needs_background": "light"
     },
     "output_type": "display_data"
    }
   ],
   "source": [
    "# Realicemos la gráfica en un intervalo completo de la función sin(x), i.e de -2pi a 2pi\n",
    "\n",
    "theta = np.linspace(-2*np.pi, 2*np.pi, 1000)\n",
    "\n",
    "plt.figure(figsize=(6,4))\n",
    "plt.plot(theta, f(theta), label=\"$f(\\\\theta)$\")\n",
    "plt.xlabel(\"$\\\\theta$\")\n",
    "plt.ylabel(\"$f(\\\\theta)$\")\n",
    "plt.grid()\n",
    "plt.legend()\n",
    "\n",
    "plt.show()"
   ]
  },
  {
   "cell_type": "code",
   "execution_count": 76,
   "metadata": {
    "colab": {
     "base_uri": "https://localhost:8080/"
    },
    "id": "3pr1JcYZI54U",
    "outputId": "ec80b2d2-9747-49be-e5de-6ee1deb7053c"
   },
   "outputs": [
    {
     "name": "stdout",
     "output_type": "stream",
     "text": [
      "La raiz de f(𝜃) es 2.309881460009592\n",
      "Al evaluar este valor en la función nos da como resultado -7.784883848671598e-13\n"
     ]
    }
   ],
   "source": [
    "# MÉTODO DE LA BISECCIÓN\n",
    "\n",
    "th0b = optimize.bisect(f, a=1, b=4, xtol=1E-12)\n",
    "print(f\"La raiz de f(𝜃) es {th0b}\")\n",
    "print(\"Al evaluar este valor en la función nos da como resultado {}\".format(f(th0b)))"
   ]
  },
  {
   "cell_type": "code",
   "execution_count": 79,
   "metadata": {
    "colab": {
     "base_uri": "https://localhost:8080/"
    },
    "id": "ZwxiaAzaMp6n",
    "outputId": "269d84b9-1d65-4d5e-8472-a305eb558207"
   },
   "outputs": [
    {
     "name": "stdout",
     "output_type": "stream",
     "text": [
      "La raiz de f(𝜃) es 2.309881460010057\n",
      "Al evaluar este valor en la función nos da como resultado -4.440892098500626e-16\n"
     ]
    }
   ],
   "source": [
    "# MÉTODO DE NEWTON\n",
    "\n",
    "th1 = 1\n",
    "\n",
    "th0n = optimize.newton(f,th1,df)\n",
    "print(f\"La raiz de f(𝜃) es {th0n}\")\n",
    "print(\"Al evaluar este valor en la función nos da como resultado {}\".format(f(th0n)))"
   ]
  },
  {
   "cell_type": "code",
   "execution_count": 77,
   "metadata": {
    "id": "U-JUDHBXNJPp"
   },
   "outputs": [
    {
     "name": "stdout",
     "output_type": "stream",
     "text": [
      "La raiz de f(𝜃) es 2.3098814600100575\n",
      "Al evaluar este valor en la función nos da como resultado 4.440892098500626e-16\n"
     ]
    }
   ],
   "source": [
    "# MÉTODO DE LA SECANTE\n",
    "\n",
    "th1 = 0.5\n",
    "\n",
    "th0s = optimize.newton(f,th1)\n",
    "print(f\"La raiz de f(𝜃) es {th0s}\")\n",
    "print(\"Al evaluar este valor en la función nos da como resultado {}\".format(f(th0s)))"
   ]
  },
  {
   "cell_type": "code",
   "execution_count": 81,
   "metadata": {},
   "outputs": [
    {
     "name": "stdout",
     "output_type": "stream",
     "text": [
      "La raiz de f(𝜃) es 2.309881460010057\n",
      "Al evaluar este valor en la función nos da como resultado -4.440892098500626e-16\n"
     ]
    }
   ],
   "source": [
    "# MÉTODO DEL PUNTO FIJO\n",
    "\n",
    "# Definamos la función g(𝜃) para el f(𝜃) inicial:\n",
    "\n",
    "g = lambda theta: np.sin(theta) + 0.5 * np.pi\n",
    "\n",
    "# Encontremos el valor de la raíz con este método:\n",
    "\n",
    "th1 = 0.5\n",
    "\n",
    "th0p = optimize.fixed_point(g,th1)\n",
    "print(f\"La raiz de f(𝜃) es {th0p}\")\n",
    "print(\"Al evaluar este valor en la función nos da como resultado {}\".format(f(th0p)))"
   ]
  },
  {
   "cell_type": "markdown",
   "metadata": {},
   "source": [
    "# Pregunta:\n",
    "\n",
    "¿Por qué el método anterior nos arroja hacia el valor de $\\pi$ y no hacia el 0 como los demás valores?"
   ]
  },
  {
   "cell_type": "code",
   "execution_count": null,
   "metadata": {},
   "outputs": [],
   "source": []
  }
 ],
 "metadata": {
  "colab": {
   "name": "EcuacionesUnaVariable.ipynb",
   "provenance": []
  },
  "kernelspec": {
   "display_name": "Python 3",
   "language": "python",
   "name": "python3"
  },
  "language_info": {
   "codemirror_mode": {
    "name": "ipython",
    "version": 3
   },
   "file_extension": ".py",
   "mimetype": "text/x-python",
   "name": "python",
   "nbconvert_exporter": "python",
   "pygments_lexer": "ipython3",
   "version": "3.9.7"
  }
 },
 "nbformat": 4,
 "nbformat_minor": 1
}
