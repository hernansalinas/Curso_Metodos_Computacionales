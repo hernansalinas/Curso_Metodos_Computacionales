{
 "cells": [
  {
   "cell_type": "markdown",
   "metadata": {
    "id": "Cdy-GXp4LEri"
   },
   "source": [
    "# Matrices "
   ]
  },
  {
   "cell_type": "markdown",
   "metadata": {
    "id": "Yrith54klatR"
   },
   "source": [
    "## Operaciones Básicas\n",
    "\n",
    "1. Un proceso para encriptar un mensaje secreto es usar cierta matrix cuadrada cuyos elementos son enteros con elementos enteros en la inversa. Se recibe un mensaje, se asigna un número a cada letra Por ejemplo, A=1, B=2, C=3, ... etc y espacio=27), se arreglan los números en una matriz de izquierda a derecha en cada fila, donde el número de elementos en la fila es igual al tamano de la matriz de codigo, se multiplica esa matriz por la matriz de código por la derecha, se transcribe el mensaje en una cadena de números y se manda el mensaje. \n",
    "\n",
    "La persona que debe recibir el mensaje conoce la matriz de codigo. El o ellla arrelgan el mensaje encriptado en una matriz de izquierda a derecha en cada fila, en donde el numero de elementos en una fila conicide con el tamano de la matriz de codigo muplicada por la derecha, por el inverso de la matriz de código y puede leer mensaje decodificado.\n",
    "\n",
    "Usted a recibido el siguiente mensaje que fue encriptado usando la matriz A. Decodifiquelo.\n",
    "\n",
    "```\n",
    "A = matrix([[ 1,  2, -3,  4,  5],\n",
    "        [-2, -5,  8, -8, -9],\n",
    "        [ 1,  2, -2,  7,  9],\n",
    "        [ 1,  1,  0,  6, 12],\n",
    "        [ 2,  4, -6,  8, 11]])\n",
    "```\n",
    "Mensaje\n",
    "\n",
    "47,49,-19,257,487,10,-9,63,137,236, 79,142,-184,372,536,59,70,-40,332,588, \n",
    "\n",
    "la primera fila del mensaje es 47,49,-19,257,487\n",
    "\n",
    "¿Cual es el mensaje?\n",
    "\n",
    "```\n",
    "abc=['A','B','C','D','E','F','G','H','I','J','K','L','M','N','O','P','Q','R','S','T','U','V','W','X','Y','Z',' ']\n",
    "num=['1','2','3','4','5','6','7','8','9','10','11','12','13','14','15','16','17','18','19','20','21','22','23','24','25','26','27']\n",
    "```\n",
    "\n",
    "2. Construir un programa que permita realizar la multiplicacion de dos matrices. El programa debe establecer si las matrices se pueden multiplicar."
   ]
  },
  {
   "cell_type": "code",
   "execution_count": 2,
   "metadata": {},
   "outputs": [],
   "source": [
    "import numpy as np\n",
    "import sympy as sy\n",
    "import scipy.linalg as lin"
   ]
  },
  {
   "cell_type": "code",
   "execution_count": 3,
   "metadata": {},
   "outputs": [
    {
     "data": {
      "text/latex": [
       "$\\displaystyle \\left[\\begin{matrix}1 & 2 & -3 & 4 & 5\\\\-2 & -5 & 8 & -8 & -9\\\\1 & 2 & -2 & 7 & 9\\\\1 & 1 & 0 & 6 & 12\\\\2 & 4 & -6 & 8 & 11\\end{matrix}\\right]$"
      ],
      "text/plain": [
       "Matrix([\n",
       "[ 1,  2, -3,  4,  5],\n",
       "[-2, -5,  8, -8, -9],\n",
       "[ 1,  2, -2,  7,  9],\n",
       "[ 1,  1,  0,  6, 12],\n",
       "[ 2,  4, -6,  8, 11]])"
      ]
     },
     "execution_count": 3,
     "metadata": {},
     "output_type": "execute_result"
    }
   ],
   "source": [
    "# Escribimos la matriz código\n",
    "\n",
    "A1 = np.array([[1,2,-3,4,5],[-2,-5,8,-8,-9],[1,2,-2,7,9],[1,1,0,6,12],[2,4,-6,8,11]])\n",
    "sy.Matrix(A1)"
   ]
  },
  {
   "cell_type": "code",
   "execution_count": 4,
   "metadata": {},
   "outputs": [
    {
     "data": {
      "text/plain": [
       "array([[ 14.,   1.,  -2.,   1.,  -5.],\n",
       "       [ 22.,  -7.,  -4.,   6., -19.],\n",
       "       [ 13.,  -3.,  -2.,   3., -10.],\n",
       "       [ -2.,   1.,   1.,  -1.,   2.],\n",
       "       [ -2.,  -0.,  -0.,  -0.,   1.]])"
      ]
     },
     "execution_count": 4,
     "metadata": {},
     "output_type": "execute_result"
    }
   ],
   "source": [
    "# Obtenemos la inversa de la matriz código A^-1\n",
    "\n",
    "A_ = np.linalg.inv(A1)\n",
    "A_"
   ]
  },
  {
   "cell_type": "code",
   "execution_count": 5,
   "metadata": {},
   "outputs": [
    {
     "data": {
      "text/plain": [
       "array([[  47,   49,  -19,  257,  487],\n",
       "       [  10,   -9,   63,  137,  236],\n",
       "       [  79,  142, -184,  372,  536],\n",
       "       [  59,   70,  -40,  332,  588]])"
      ]
     },
     "execution_count": 5,
     "metadata": {},
     "output_type": "execute_result"
    }
   ],
   "source": [
    "# Escribimos la matriz mensaje\n",
    "\n",
    "M1 = np.array([[47,49,-19,257,487],[10,-9,63,137,236],[79,142,-184,372,536],[59,70,-40,332,588]])\n",
    "M1"
   ]
  },
  {
   "cell_type": "code",
   "execution_count": 6,
   "metadata": {},
   "outputs": [
    {
     "data": {
      "text/plain": [
       "array([[ 1., 18.,  5., 27., 25.],\n",
       "       [15., 21., 27.,  8.,  1.],\n",
       "       [22.,  9., 14.,  7., 27.],\n",
       "       [ 6., 21., 14., 27., 27.]])"
      ]
     },
     "execution_count": 6,
     "metadata": {},
     "output_type": "execute_result"
    }
   ],
   "source": [
    "# Multiplicando por la matriz mensaje a derecha po la inversa de la matriz código, tenemos: \n",
    "\n",
    "DEC = M1@A_\n",
    "DEC"
   ]
  },
  {
   "cell_type": "code",
   "execution_count": 7,
   "metadata": {},
   "outputs": [
    {
     "data": {
      "text/plain": [
       "[1, 18, 5, 27, 25, 15, 21, 27, 8, 1, 22, 9, 14, 7, 27, 6, 21, 14, 27, 27]"
      ]
     },
     "execution_count": 7,
     "metadata": {},
     "output_type": "execute_result"
    }
   ],
   "source": [
    "# Escribamos todos los valores de la matriz de izquierda a derecha en una sola lista\n",
    "\n",
    "mensaje = []\n",
    "for i in range(len(DEC)):\n",
    "    for j in range(5):\n",
    "        mensaje.append(round(DEC[i,j]))\n",
    "        \n",
    "mensaje"
   ]
  },
  {
   "cell_type": "code",
   "execution_count": 8,
   "metadata": {},
   "outputs": [
    {
     "name": "stdout",
     "output_type": "stream",
     "text": [
      "A\n",
      "R\n",
      "E\n",
      " \n",
      "Y\n",
      "O\n",
      "U\n",
      " \n",
      "H\n",
      "A\n",
      "V\n",
      "I\n",
      "N\n",
      "G\n",
      " \n",
      "F\n",
      "U\n",
      "N\n",
      " \n",
      " \n"
     ]
    }
   ],
   "source": [
    "# Definamos las listas de asociación de número a valor\n",
    "\n",
    "abc=['A','B','C','D','E','F','G','H','I','J','K','L','M','N','O','P','Q','R','S','T','U','V','W','X','Y','Z',' ']\n",
    "num=[1,2,3,4,5,6,7,8,9,10,11,12,13,14,15,16,17,18,19,20,21,22,23,24,25,26,27]\n",
    "\n",
    "for k in range(len(mensaje)):\n",
    "    print(abc[num.index(mensaje[k])])"
   ]
  },
  {
   "cell_type": "markdown",
   "metadata": {
    "id": "tkhci52rmiif"
   },
   "source": [
    "\n",
    "## Regresión lineal: 1D\n",
    "2. Para los datos generados en el siguiente dataframe  realizar una regresión lineal, empleando  la siguiente ecuación.\n",
    "\n",
    "$\\Theta = (X^T X)^{-1} X^T y$\n",
    "\n",
    "Los parametros theta se corresponden con la siguiente ecuacion de la recta:\n",
    "\n",
    "$y = \\theta^T X =\\theta_0 + \\theta_1 x_1 $"
   ]
  },
  {
   "cell_type": "code",
   "execution_count": 9,
   "metadata": {},
   "outputs": [],
   "source": [
    "import pandas as pd\n",
    "import matplotlib.pyplot as plt"
   ]
  },
  {
   "cell_type": "code",
   "execution_count": 10,
   "metadata": {},
   "outputs": [
    {
     "data": {
      "text/plain": [
       "(10, 1)"
      ]
     },
     "execution_count": 10,
     "metadata": {},
     "output_type": "execute_result"
    },
    {
     "data": {
      "image/png": "[encoded data removed]",
      "text/plain": [
       "<Figure size 432x288 with 1 Axes>"
      ]
     },
     "metadata": {
      "needs_background": "light"
     },
     "output_type": "display_data"
    }
   ],
   "source": [
    "N = 10\n",
    "x1 = np.linspace(-1, 1, N)\n",
    "y = 2*x1 #- 3*x2 + 0.0\n",
    "df = pd.DataFrame({\"Y\":y, \"X1\":x1})\n",
    "\n",
    "df[\"ones\"] = np.ones(N)\n",
    "\n",
    "plt.plot(df.X1,df.Y,\"ro\")\n",
    "\n",
    "X = np.matrix(df[ [\"ones\",\"X1\"] ])\n",
    "np.shape(X)\n",
    "y = np.array([df[\"Y\"]])\n",
    "Y  = np.matrix(np.transpose(y))\n",
    "np.shape(Y)"
   ]
  },
  {
   "cell_type": "code",
   "execution_count": 11,
   "metadata": {},
   "outputs": [
    {
     "data": {
      "text/plain": [
       "matrix([[-2.        ],\n",
       "        [-1.55555556],\n",
       "        [-1.11111111],\n",
       "        [-0.66666667],\n",
       "        [-0.22222222],\n",
       "        [ 0.22222222],\n",
       "        [ 0.66666667],\n",
       "        [ 1.11111111],\n",
       "        [ 1.55555556],\n",
       "        [ 2.        ]])"
      ]
     },
     "execution_count": 11,
     "metadata": {},
     "output_type": "execute_result"
    }
   ],
   "source": [
    "Y"
   ]
  },
  {
   "cell_type": "code",
   "execution_count": 12,
   "metadata": {},
   "outputs": [
    {
     "data": {
      "text/plain": [
       "matrix([[5.55111512e-17],\n",
       "        [2.00000000e+00]])"
      ]
     },
     "execution_count": 12,
     "metadata": {},
     "output_type": "execute_result"
    }
   ],
   "source": [
    "# Hallamos la función THETA:\n",
    "\n",
    "THETAa = np.linalg.inv(np.transpose(X)@X)@np.transpose(X)@Y\n",
    "THETAa"
   ]
  },
  {
   "cell_type": "code",
   "execution_count": 13,
   "metadata": {},
   "outputs": [
    {
     "name": "stdout",
     "output_type": "stream",
     "text": [
      "theta_0 = 0 , valor que corresponde al intercepto\n",
      "theta_1 = 2 , valor que corresponde a la pendiente\n"
     ]
    }
   ],
   "source": [
    "# Puesto que THETA1 es matriz 2x1, entonces extraemos sus valores como\n",
    "\n",
    "print(\"theta_0 =\", round(THETAa[0,0]), \", valor que corresponde al intercepto\")\n",
    "print(\"theta_1 =\", round(THETAa[1,0]), \", valor que corresponde a la pendiente\")"
   ]
  },
  {
   "cell_type": "markdown",
   "metadata": {},
   "source": [
    "## Regresión lineal: 2D\n",
    "3. La ecuación anterior puede ser aplicada a sistemas n-dimensionales, como se describie en el siguiente ejercicio. Suponga que se tiene un sistema físico con dos caracteristiacs X1,X2 que se corresponden con un predicción  Y. \n",
    "\n",
    "- Encontrar el plano que ajusta los datos, para los datos sinteticos dados mas abajo , a través de:\n",
    "\\begin{equation}\n",
    "\\Theta = (X^T X)^{-1} X^T y\n",
    "\\end{equation}\n",
    "\n",
    "- Construya el plano en 3D, donde se evidencia los puntos y el plano de ajustes.\n",
    "\n",
    "$y = \\theta^T X =\\theta_0 + \\theta_1 X_1+ \\theta_2 X_2$"
   ]
  },
  {
   "cell_type": "code",
   "execution_count": 14,
   "metadata": {},
   "outputs": [
    {
     "data": {
      "text/plain": [
       "Text(0.5, 0, 'Y1')"
      ]
     },
     "execution_count": 14,
     "metadata": {},
     "output_type": "execute_result"
    },
    {
     "data": {
      "image/png": "[encoded data removed]",
      "text/plain": [
       "<Figure size 432x288 with 1 Axes>"
      ]
     },
     "metadata": {
      "needs_background": "light"
     },
     "output_type": "display_data"
    }
   ],
   "source": [
    "N = 200\n",
    "x1 = np.linspace(-1, 1, N) \n",
    "x2 = np.linspace(-1, 1, N)\n",
    "\n",
    "X1, X2 = np.meshgrid(x1,x2)\n",
    "Y = 0.2*X1 - 0.5*X2 - 1.0\n",
    "\n",
    "# Ecuaciones parametricas del mismo plano:\n",
    "alpha = 2*np.random.random(N)-1\n",
    "beta  = 2*np.random.random(N)-1\n",
    "x1 = alpha\n",
    "x2 = beta\n",
    "y = 0.2*alpha - 0.5*beta - 1.0\n",
    "\n",
    "fig, ax = plt.subplots(subplot_kw={\"projection\": \"3d\"})\n",
    "surf = ax.scatter(x1, x2, y, color=\"green\")\n",
    "ax.set_xlabel(\"X1\")\n",
    "ax.set_ylabel(\"X2\")\n",
    "ax.set_zlabel(\"Y1\")"
   ]
  },
  {
   "cell_type": "markdown",
   "metadata": {},
   "source": [
    "#### DataFrame"
   ]
  },
  {
   "cell_type": "code",
   "execution_count": 15,
   "metadata": {},
   "outputs": [],
   "source": [
    "# Regresion bi-lineal\n",
    "df = pd.DataFrame({\"Y\":y, \"X1\":x1,\"X2\":x2})\n",
    "df[\"ones\"] = np.ones(N)\n",
    "\n",
    "\n",
    "y = np.reshape(df.Y.values, (N,1))\n",
    "X = df[[\"ones\",\"X1\",\"X2\"]].values\n",
    "X = np.matrix(X)"
   ]
  },
  {
   "cell_type": "markdown",
   "metadata": {},
   "source": [
    "\\begin{equation}\n",
    "\\Theta = (X^T X)^{-1} X^T y\n",
    "\\end{equation}\n"
   ]
  },
  {
   "cell_type": "code",
   "execution_count": 16,
   "metadata": {},
   "outputs": [
    {
     "data": {
      "text/plain": [
       "matrix([[-1. ],\n",
       "        [ 0.2],\n",
       "        [-0.5]])"
      ]
     },
     "execution_count": 16,
     "metadata": {},
     "output_type": "execute_result"
    }
   ],
   "source": [
    "(X.T@X).I@X.T@y"
   ]
  },
  {
   "cell_type": "markdown",
   "metadata": {},
   "source": [
    "Por lo que obtenemos que $ y = -1 + 0.2 x_1 - 0.5 x_2 $, es la ecuación del plano original, por lo que hemos llegado a lo querido."
   ]
  },
  {
   "cell_type": "markdown",
   "metadata": {
    "id": "pKmGWUKqNOnY"
   },
   "source": [
    "## Autovalores y autovectores\n",
    "\n",
    "Se sabe que un sistema físico es gobernado por las ecuaciones,\n",
    "\n",
    "$$\n",
    "\\begin{matrix}\n",
    "x' &=& 2x&-y&+z, \\\\\n",
    "y' &=&   &3y&-1z, \\\\\n",
    "z' &=& 2x&+y&+3z,\n",
    "\\end{matrix}\n",
    "$$\n",
    "\n",
    "donde $x',y',z'$ son las derivadas, en forma vectorial esto se puede representar como $\\mathbf{r}'=A\\mathbf{r}$ que tiene solución analítica general, $\\mathbf{r} = e^{At} \\mathbf{r}(0)$.<br> \n",
    "a) Diagonalize $A$.<br> \n",
    "\n",
    "b) Use el hecho de que $f(A) = U f(D) U^{-1}$ para encontrar $x(t),y(t),z(t)$ en el intervalo de tiempo $[0,2]$.<br>.\n",
    "c) Grafique $x(t),y(t),z(t)$ (use la condición inicial $\\mathbf{r}(0)=(1,1,2))$.<br> \n",
    "d) Compare el resultado a la solución analítica,\n",
    "\n",
    "$$\n",
    "\\begin{align}\n",
    "2x & = x(0)(e^{2t}(1+e^{2t}-2t)) + y(0) (-2te^{2t}) + z(0)(e^{2t}(-1+e^{2t})), \\\\\n",
    "2y & = x(0)(-e^{2t}(-1+e^{2t}-2t)) + y(0)(2(t+1)e^{2t}) + z(0)(-e^{2t}(-1+e^{2t})), \\\\\n",
    "2z & = x(0)(e^{2t}(-1+e^{2t}+2t)) + y(0)(2te^{2t}) + z(0)(e^{2t}(1+e^{2t})).\n",
    "\\end{align}\n",
    "$$"
   ]
  },
  {
   "cell_type": "code",
   "execution_count": 31,
   "metadata": {},
   "outputs": [
    {
     "data": {
      "text/plain": [
       "matrix([[ 2, -1,  1],\n",
       "        [ 0,  3, -1],\n",
       "        [ 2,  1,  3]])"
      ]
     },
     "execution_count": 31,
     "metadata": {},
     "output_type": "execute_result"
    }
   ],
   "source": [
    "# Escribamos la matriz asociada al sistema de ecuaciones\n",
    "\n",
    "A = np.array([[2,-1,1],[0,3,-1],[2,1,3]])\n",
    "A = np.matrix(A)\n",
    "A"
   ]
  },
  {
   "cell_type": "code",
   "execution_count": 45,
   "metadata": {},
   "outputs": [],
   "source": [
    "values, vectors = np.linalg.eig(A)"
   ]
  },
  {
   "cell_type": "code",
   "execution_count": 46,
   "metadata": {},
   "outputs": [
    {
     "data": {
      "text/plain": [
       "array([4.+0.00000000e+00j, 2.+3.46677325e-09j, 2.-3.46677325e-09j])"
      ]
     },
     "execution_count": 46,
     "metadata": {},
     "output_type": "execute_result"
    }
   ],
   "source": [
    "values"
   ]
  },
  {
   "cell_type": "code",
   "execution_count": 47,
   "metadata": {},
   "outputs": [
    {
     "data": {
      "text/plain": [
       "matrix([[-0.57735027+0.00000000e+00j, -0.57735027+2.00154247e-09j,\n",
       "         -0.57735027-2.00154247e-09j],\n",
       "        [ 0.57735027+0.00000000e+00j,  0.57735027+0.00000000e+00j,\n",
       "          0.57735027-0.00000000e+00j],\n",
       "        [-0.57735027+0.00000000e+00j,  0.57735027-2.00154247e-09j,\n",
       "          0.57735027+2.00154247e-09j]])"
      ]
     },
     "execution_count": 47,
     "metadata": {},
     "output_type": "execute_result"
    }
   ],
   "source": [
    "vectors"
   ]
  },
  {
   "cell_type": "code",
   "execution_count": 60,
   "metadata": {},
   "outputs": [
    {
     "data": {
      "text/plain": [
       "array([[4.+0.00000000e+00j, 0.+0.00000000e+00j, 0.+0.00000000e+00j],\n",
       "       [0.+0.00000000e+00j, 2.+3.46677325e-09j, 0.+0.00000000e+00j],\n",
       "       [0.+0.00000000e+00j, 0.+0.00000000e+00j, 2.-3.46677325e-09j]])"
      ]
     },
     "execution_count": 60,
     "metadata": {},
     "output_type": "execute_result"
    }
   ],
   "source": [
    "# Así, podemos escribir A = CDc^-1, donde:\n",
    "\n",
    "I = np.matrix(np.identity(3))\n",
    "\n",
    "D = np.array([ [values[0],0,0] , [0,values[1],0] , [0,0,values[2]] ])\n",
    "D"
   ]
  },
  {
   "cell_type": "code",
   "execution_count": 62,
   "metadata": {},
   "outputs": [
    {
     "data": {
      "text/plain": [
       "matrix([[-0.57735027+0.00000000e+00j, -0.57735027+2.00154247e-09j,\n",
       "         -0.57735027-2.00154247e-09j],\n",
       "        [ 0.57735027+0.00000000e+00j,  0.57735027+0.00000000e+00j,\n",
       "          0.57735027-0.00000000e+00j],\n",
       "        [-0.57735027+0.00000000e+00j,  0.57735027-2.00154247e-09j,\n",
       "          0.57735027+2.00154247e-09j]])"
      ]
     },
     "execution_count": 62,
     "metadata": {},
     "output_type": "execute_result"
    }
   ],
   "source": [
    "C = vectors\n",
    "C"
   ]
  },
  {
   "cell_type": "markdown",
   "metadata": {},
   "source": [
    "Por lo tanto, podemos evaluar la función exponencial en cada elemento de matriz D para encontrarlo en la matriz A:"
   ]
  },
  {
   "cell_type": "code",
   "execution_count": 67,
   "metadata": {},
   "outputs": [
    {
     "data": {
      "text/plain": [
       "array([[54.59815003+0.00000000e+00j,  1.        +0.00000000e+00j,\n",
       "         1.        +0.00000000e+00j],\n",
       "       [ 1.        +0.00000000e+00j,  7.3890561 +2.56161821e-08j,\n",
       "         1.        +0.00000000e+00j],\n",
       "       [ 1.        +0.00000000e+00j,  1.        +0.00000000e+00j,\n",
       "         7.3890561 -2.56161821e-08j]])"
      ]
     },
     "execution_count": 67,
     "metadata": {},
     "output_type": "execute_result"
    }
   ],
   "source": [
    "E = np.exp(D)\n",
    "E"
   ]
  },
  {
   "cell_type": "code",
   "execution_count": 72,
   "metadata": {},
   "outputs": [
    {
     "data": {
      "text/plain": [
       "matrix([[ 22.60454697+1.43051147e-06j, -10.3890561 +0.00000000e+00j,\n",
       "          23.60454697+0.00000000e+00j],\n",
       "        [-16.21549087-1.43051147e-06j,  16.7781122 +0.00000000e+00j,\n",
       "         -23.60454697+0.00000000e+00j],\n",
       "        [ 30.99360307+1.78813934e-06j,   8.3890561 +0.00000000e+00j,\n",
       "          29.99360307+0.00000000e+00j]])"
      ]
     },
     "execution_count": 72,
     "metadata": {},
     "output_type": "execute_result"
    }
   ],
   "source": [
    "AE = C@E@C.I\n",
    "AE"
   ]
  },
  {
   "cell_type": "code",
   "execution_count": 85,
   "metadata": {},
   "outputs": [
    {
     "data": {
      "text/plain": [
       "matrix([[1],\n",
       "        [1],\n",
       "        [2]])"
      ]
     },
     "execution_count": 85,
     "metadata": {},
     "output_type": "execute_result"
    }
   ],
   "source": [
    "r0 = np.array([1,1,2])\n",
    "r0 = np.matrix(r0).T\n",
    "r0"
   ]
  },
  {
   "cell_type": "code",
   "execution_count": 86,
   "metadata": {},
   "outputs": [
    {
     "data": {
      "text/plain": [
       "matrix([[ 59.4245848+1.43051147e-06j],\n",
       "        [-46.6464726-1.43051147e-06j],\n",
       "        [ 99.3698653+1.78813934e-06j]])"
      ]
     },
     "execution_count": 86,
     "metadata": {},
     "output_type": "execute_result"
    }
   ],
   "source": [
    "AE@r0"
   ]
  },
  {
   "cell_type": "markdown",
   "metadata": {},
   "source": [
    "Resolviendo Simbólicamente tenemos:"
   ]
  },
  {
   "cell_type": "code",
   "execution_count": 89,
   "metadata": {},
   "outputs": [
    {
     "data": {
      "text/latex": [
       "$\\displaystyle \\left[\\begin{matrix}x_{0}\\\\y_{0}\\\\z_{0}\\end{matrix}\\right]$"
      ],
      "text/plain": [
       "Matrix([\n",
       "[x0],\n",
       "[y0],\n",
       "[z0]])"
      ]
     },
     "execution_count": 89,
     "metadata": {},
     "output_type": "execute_result"
    }
   ],
   "source": [
    "import sympy as sy\n",
    "\n",
    "t,x0,y0,z0 = sy.symbols('t,x0,y0,z0')\n",
    "r0 = sy.matrices.Matrix([[x0],[y0],[z0]])\n",
    "r0"
   ]
  },
  {
   "cell_type": "code",
   "execution_count": 93,
   "metadata": {},
   "outputs": [
    {
     "data": {
      "text/latex": [
       "$\\displaystyle \\left[\\begin{matrix}x\\\\y\\\\z\\end{matrix}\\right]$"
      ],
      "text/plain": [
       "Matrix([\n",
       "[x],\n",
       "[y],\n",
       "[z]])"
      ]
     },
     "execution_count": 93,
     "metadata": {},
     "output_type": "execute_result"
    }
   ],
   "source": [
    "x,y,z = sy.symbols('x,y,z')\n",
    "r = sy.matrices.Matrix([[x],[y],[z]])\n",
    "r"
   ]
  },
  {
   "cell_type": "code",
   "execution_count": 95,
   "metadata": {},
   "outputs": [
    {
     "data": {
      "text/latex": [
       "$\\displaystyle \\left[\\begin{matrix}2 & -1 & 1\\\\0 & 3 & -1\\\\2 & 1 & 3\\end{matrix}\\right]$"
      ],
      "text/plain": [
       "Matrix([\n",
       "[2, -1,  1],\n",
       "[0,  3, -1],\n",
       "[2,  1,  3]])"
      ]
     },
     "execution_count": 95,
     "metadata": {},
     "output_type": "execute_result"
    }
   ],
   "source": [
    "A_sym = sy.matrices.Matrix(A)\n",
    "A_sym"
   ]
  },
  {
   "cell_type": "code",
   "execution_count": 96,
   "metadata": {},
   "outputs": [],
   "source": [
    "r_func = lambda r0,M,t: sy.exp(M*t)*r0"
   ]
  },
  {
   "cell_type": "code",
   "execution_count": 104,
   "metadata": {},
   "outputs": [
    {
     "data": {
      "text/latex": [
       "$\\displaystyle \\left[\\begin{matrix}- 2 t y_{0} e^{2 t} + 2 x_{0} \\left(- t e^{2 t} + \\frac{e^{4 t}}{2} + \\frac{e^{2 t}}{2}\\right) + 2 z_{0} \\left(\\frac{e^{4 t}}{2} - \\frac{e^{2 t}}{2}\\right) & x\\\\2 x_{0} \\left(t e^{2 t} - \\frac{e^{4 t}}{2} + \\frac{e^{2 t}}{2}\\right) + 2 y_{0} \\left(t e^{2 t} + e^{2 t}\\right) + 2 z_{0} \\left(- \\frac{e^{4 t}}{2} + \\frac{e^{2 t}}{2}\\right) & y\\\\2 t y_{0} e^{2 t} + 2 x_{0} \\left(t e^{2 t} + \\frac{e^{4 t}}{2} - \\frac{e^{2 t}}{2}\\right) + 2 z_{0} \\left(\\frac{e^{4 t}}{2} + \\frac{e^{2 t}}{2}\\right) & z\\end{matrix}\\right]$"
      ],
      "text/plain": [
       "Matrix([\n",
       "[            -2*t*y0*exp(2*t) + 2*x0*(-t*exp(2*t) + exp(4*t)/2 + exp(2*t)/2) + 2*z0*(exp(4*t)/2 - exp(2*t)/2), x],\n",
       "[2*x0*(t*exp(2*t) - exp(4*t)/2 + exp(2*t)/2) + 2*y0*(t*exp(2*t) + exp(2*t)) + 2*z0*(-exp(4*t)/2 + exp(2*t)/2), y],\n",
       "[              2*t*y0*exp(2*t) + 2*x0*(t*exp(2*t) + exp(4*t)/2 - exp(2*t)/2) + 2*z0*(exp(4*t)/2 + exp(2*t)/2), z]])"
      ]
     },
     "execution_count": 104,
     "metadata": {},
     "output_type": "execute_result"
    }
   ],
   "source": [
    "sln = 2*r_func(r0,A_sym,t)\n",
    "sln.row_join(r)"
   ]
  },
  {
   "cell_type": "markdown",
   "metadata": {},
   "source": [
    "b) Use el hecho de que $f(A) = U f(D) U^{-1}$ para encontrar $x(t),y(t),z(t)$ en el intervalo de tiempo $[0,2]$.<br>.\n",
    "c) Grafique $x(t),y(t),z(t)$ (use la condición inicial $\\mathbf{r}(0)=(1,1,2))$.<br> \n",
    "d) Compare el resultado a la solución analítica,\n",
    "\n",
    "$$\n",
    "\\begin{align}\n",
    "2x & = x(0)(e^{2t}(1+e^{2t}-2t)) + y(0) (-2te^{2t}) + z(0)(e^{2t}(-1+e^{2t})), \\\\\n",
    "2y & = x(0)(-e^{2t}(-1+e^{2t}-2t)) + y(0)(2(t+1)e^{2t}) + z(0)(-e^{2t}(-1+e^{2t})), \\\\\n",
    "2z & = x(0)(e^{2t}(-1+e^{2t}+2t)) + y(0)(2te^{2t}) + z(0)(e^{2t}(1+e^{2t})).\n",
    "\\end{align}\n",
    "$$"
   ]
  },
  {
   "cell_type": "code",
   "execution_count": null,
   "metadata": {},
   "outputs": [],
   "source": []
  }
 ],
 "metadata": {
  "colab": {
   "collapsed_sections": [],
   "name": "Tarea09_MatricesBasico.ipynb",
   "provenance": []
  },
  "kernelspec": {
   "display_name": "Python 3",
   "language": "python",
   "name": "python3"
  },
  "language_info": {
   "codemirror_mode": {
    "name": "ipython",
    "version": 3
   },
   "file_extension": ".py",
   "mimetype": "text/x-python",
   "name": "python",
   "nbconvert_exporter": "python",
   "pygments_lexer": "ipython3",
   "version": "3.9.7"
  }
 },
 "nbformat": 4,
 "nbformat_minor": 1
}
