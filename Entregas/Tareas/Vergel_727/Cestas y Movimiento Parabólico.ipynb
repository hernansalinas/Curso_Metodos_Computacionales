{
 "cells": [
  {
   "cell_type": "code",
   "execution_count": 112,
   "metadata": {},
   "outputs": [],
   "source": [
    "import numpy as np\n",
    "import matplotlib.pyplot as plt\n",
    "import matplotlib.patches as pts"
   ]
  },
  {
   "cell_type": "markdown",
   "metadata": {},
   "source": [
    "Consideremos las ecuaciones que modulan el movimiento parabólico:\n",
    "\n",
    "$$ x = v_0 \\cdot \\cos \\theta \\cdot t $$\n",
    "$$ y = v_0 \\cdot \\sin \\theta \\cdot t - \\frac{1}{2}g \\cdot t^2 $$\n",
    "\n",
    "Ahora bien, la intención es generar un programa que calcule las posiciones del balón en un intervalo de tiempo, donde el tiempo máximo está dado por el tiempo de vuelo, que resulta de igualar y a 0:\n",
    "\n",
    "$$ t = \\frac{2v_0 \\cdot \\sin \\theta}{g} $$\n",
    "\n",
    "Luego de calcular las posiciones para cada instante de tiempo, calcula la distancia entre los puntos asociados al que se encuentra el balón y el punto central de la cesta. \n",
    "\n",
    "Dicho punto corresponde a la mitad de la medida de la cesta que es de 50 cm, luego como la distancia total al final de la cesta es de 14 m entonces el punto central se encuentra con la resta $ x_{final} = 14 - 0.25 \\ m = 13.75 \\ m$; mientras que para la altura está dado por la resta entre la altura de la cesta 3 m y la altura del jugador 1.85 m, luego $y_{final} = 1.15\\ m$.\n",
    "\n",
    "Ahora bien, si al calcular la distancia en x la diferencia entre estos puntos esta es menor al valor de la mitad de la canasta entonces se produce una cesta, siempre que esta distancia para y sea igual a la mitad de la altura del balón que es de 12 cm, tomando la consideración de que si pasa por esta distancia el tamaño del balón hará que rebote en el orillo y caiga en la cesta. Además, para considerar que el balón siempre entre por encima de la cesta tomamos la derivada de la función $y(x)$ con respecto a x, para lo cual haciendo fracciones parciales tenemos:\n",
    "\n",
    "$$ \\frac{dy}{dx} = \\frac{\\partial y}{\\partial t} \\cdot \\frac{\\partial t}{\\partial x}$$\n",
    "$$ = \\frac{\\partial y}{\\partial t} \\cdot \\frac{1}{\\partial x / \\partial t} $$\n",
    "$$ = \\tan \\theta - \\frac{g \\ t}{v_0 \\cdot \\cos \\theta} $$"
   ]
  },
  {
   "cell_type": "code",
   "execution_count": 179,
   "metadata": {},
   "outputs": [],
   "source": [
    "def xy(v0,theta,t):\n",
    "    g=9.8\n",
    "    return (v0*np.cos(theta)*t, 0.01+v0*np.sin(theta)*t - 1/2*g*t**2)\n",
    "\n",
    "v0=12.6\n",
    "theta=np.radians(60)\n",
    "g = 9.8\n",
    "\n",
    "tiempo_vuelo=2*v0*np.sin(theta)/g\n",
    "ts=np.linspace(0,tiempo_vuelo,100)\n",
    "\n",
    "pos=np.zeros((len(ts),2))\n",
    "for i in range(len(ts)):\n",
    "    pos[i,0]= xy(v0,theta,ts[i])[0]\n",
    "    pos[i,1]= xy(v0,theta,ts[i])[1]"
   ]
  },
  {
   "cell_type": "code",
   "execution_count": 180,
   "metadata": {},
   "outputs": [
    {
     "name": "stdout",
     "output_type": "stream",
     "text": [
      "no encestó\n"
     ]
    }
   ],
   "source": [
    "epsx=0.25\n",
    "epsy=0.12\n",
    "\n",
    "x_final=13.75 #m\n",
    "y_final=1.15 #m\n",
    "\n",
    "diffx = [np.abs(x_final - tupla[0]) for tupla in pos]\n",
    "diffy = [np.abs(y_final - tupla[1]) for tupla in pos]\n",
    "\n",
    "pend = []\n",
    "for i in range(len(ts)):\n",
    "    a =[np.tan(theta)-(g*ts[i])/(v0*np.cos(theta))]\n",
    "    pend.append(a)\n",
    "    \n",
    "for i in range(len(diff)):\n",
    "    if diffx[i]<epsx and diffy[i]<epsy and pend[i][0]<0:\n",
    "        print(\"encestó\")\n",
    "        break\n",
    "    elif pos[i,0]>14:\n",
    "        print(\"no encestó\")\n",
    "        break"
   ]
  },
  {
   "cell_type": "markdown",
   "metadata": {},
   "source": [
    "Para facilitar el análisis de los resultados realizamos una gráfica de y vs. x de manera que podamos ver la elipse y la pendiente de la función al tocarla."
   ]
  },
  {
   "cell_type": "code",
   "execution_count": 181,
   "metadata": {},
   "outputs": [
    {
     "data": {
      "image/png": "[encoded data removed]",
      "text/plain": [
       "<Figure size 432x288 with 1 Axes>"
      ]
     },
     "metadata": {
      "needs_background": "light"
     },
     "output_type": "display_data"
    }
   ],
   "source": [
    "plt.figure()\n",
    "ax=plt.gca()\n",
    "\n",
    "plt.plot(pos[:,0],pos[:,1], \"k-\")\n",
    "ax.add_patch(pts.Ellipse((x_final, y_final), 2*epsx, 2*epsy, color=\"red\", fill=False))\n",
    "\n",
    "plt.title(\"Trayectoria\", size=18)\n",
    "plt.xlabel(\"x\",size=15)\n",
    "plt.ylabel(\"y\",size=15)\n",
    "plt.xlim(0,2*x_final)\n",
    "plt.ylim(0,2*y_final)\n",
    "plt.axis(\"equal\")\n",
    "plt.grid()\n",
    "plt.show()"
   ]
  }
 ],
 "metadata": {
  "kernelspec": {
   "display_name": "Python 3",
   "language": "python",
   "name": "python3"
  },
  "language_info": {
   "codemirror_mode": {
    "name": "ipython",
    "version": 3
   },
   "file_extension": ".py",
   "mimetype": "text/x-python",
   "name": "python",
   "nbconvert_exporter": "python",
   "pygments_lexer": "ipython3",
   "version": "3.8.10"
  }
 },
 "nbformat": 4,
 "nbformat_minor": 4
}
