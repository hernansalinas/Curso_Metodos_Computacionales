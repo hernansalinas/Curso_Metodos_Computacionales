{
 "cells": [
  {
   "cell_type": "markdown",
   "metadata": {
    "id": "rARH0cdA-OaH"
   },
   "source": [
    "# Examen 02\n",
    "\n",
    "Metodos Computacionales\n",
    "\n",
    "Profesor: Hernan David Salinas Jimenez"
   ]
  },
  {
   "cell_type": "code",
   "execution_count": 2,
   "metadata": {},
   "outputs": [],
   "source": [
    "import numpy as np\n",
    "import matplotlib.pyplot as plt\n",
    "import scipy as sc\n",
    "import scipy.misc as scm\n",
    "import sympy as sy"
   ]
  },
  {
   "cell_type": "markdown",
   "metadata": {},
   "source": [
    "### Integracion \n",
    "1. (33%) I) The period of a pendulum of length l oscillating at a large angle $\\alpha$ is given by\n",
    "$$\n",
    "T=T_{0} \\frac{\\sqrt{2}}{\\pi} \\int_{0}^{\\alpha} \\frac{d \\theta}{(\\cos \\theta-\\cos \\alpha)^{\\frac{1}{2}}}\n",
    "$$\n",
    "where\n",
    "$$\n",
    "T_{0}=2 \\pi \\sqrt{\\frac{l}{g}}\n",
    "$$\n",
    "is the period of the same pendulum at small amplitudes. Any numerical evaluation of the integral as is would fail (explain why). If we change the variable by writing:\n",
    "$$\n",
    "\\sin \\frac{\\theta}{2}=\\sin \\frac{\\alpha}{2} \\sin \\phi\n",
    "$$\n",
    "we can get:\n",
    "$$\n",
    "T=\\frac{2 T_{0}}{\\pi} \\int_{0}^{\\frac{\\pi}{2}} \\frac{d \\phi}{\\left(1-\\sin ^{2} \\frac{\\alpha}{2} \\sin ^{2} \\phi\\right)^{\\frac{1}{2}}}\n",
    "$$\n",
    "which is a well-behaved integral. Write a program to use the above integral to calculate the ratio $T/T_0$ for integral amplitudes $0^\\circ \\le\\alpha \\le 90^\\circ$. Output these values as a pandas dataframe showing the amplitude in degrees and radians as well as $T/T_0$, and make a plot with the two columns. Explain the result when $\\alpha = 0.$ "
   ]
  },
  {
   "cell_type": "markdown",
   "metadata": {},
   "source": [
    "**Respuesta 1:** Si queremos evaluar numéricamente la primer integral esta fallaría debido a que existe una singularidad cuando evaluamos la función a integrar en el valor de $\\alpha$, puesto que el denominador nos quedaría valiendo 0 en el punto final del intervalo."
   ]
  },
  {
   "cell_type": "code",
   "execution_count": 3,
   "metadata": {},
   "outputs": [],
   "source": [
    "# Consideremos entonces la función dada en la segunda integral al realizar el cambio de variable.\n",
    "\n",
    "al, fi = sy.symbols('𝛼 𝜙')\n",
    "\n",
    "def f_fi(al,fi): #Escrita en términos de senos\n",
    "    return 1/np.sqrt(1 - (np.sin(al/2))**2 * (np.sin(fi))**2 )"
   ]
  },
  {
   "cell_type": "code",
   "execution_count": 4,
   "metadata": {},
   "outputs": [
    {
     "data": {
      "text/plain": [
       "15"
      ]
     },
     "execution_count": 4,
     "metadata": {},
     "output_type": "execute_result"
    }
   ],
   "source": [
    "# Usemos la integración numérica por método de Simpson para una cantidad de 15 alphas diferentes\n",
    "\n",
    "aldeg = np.linspace(0,90,15)\n",
    "alrad = np.pi/180 * aldeg\n",
    "len(alrad)"
   ]
  },
  {
   "cell_type": "code",
   "execution_count": 5,
   "metadata": {},
   "outputs": [
    {
     "data": {
      "text/plain": [
       "matrix([[0., 0., 0., ..., 0., 0., 0.],\n",
       "        [0., 0., 0., ..., 0., 0., 0.],\n",
       "        [0., 0., 0., ..., 0., 0., 0.],\n",
       "        ...,\n",
       "        [0., 0., 0., ..., 0., 0., 0.],\n",
       "        [0., 0., 0., ..., 0., 0., 0.],\n",
       "        [0., 0., 0., ..., 0., 0., 0.]])"
      ]
     },
     "execution_count": 5,
     "metadata": {},
     "output_type": "execute_result"
    }
   ],
   "source": [
    "import scipy.integrate as scin\n",
    "\n",
    "# Escribamos el arreglo de valores de fi sobre el que vamos a trabajar\n",
    "# Consideremos los vectores fila como cada valor asociado\n",
    "\n",
    "\n",
    "Fi = np.linspace(0,np.pi/2,100)\n",
    "FFial = np.zeros((100,15)) \n",
    "FFial = np.matrix(FFial)\n",
    "FFial"
   ]
  },
  {
   "cell_type": "code",
   "execution_count": 6,
   "metadata": {},
   "outputs": [
    {
     "data": {
      "text/plain": [
       "matrix([[1.        , 1.        , 1.        , ..., 1.        , 1.        ,\n",
       "         1.        ],\n",
       "        [1.        , 1.0000004 , 1.00000158, ..., 1.00004893, 1.00005589,\n",
       "         1.00006294],\n",
       "        [1.        , 1.00000158, 1.00000631, ..., 1.00019572, 1.00022356,\n",
       "         1.00025176],\n",
       "        ...,\n",
       "        [1.        , 1.00157407, 1.00632115, ..., 1.27863878, 1.34058711,\n",
       "         1.41350228],\n",
       "        [1.        , 1.00157527, 1.00632597, ..., 1.27894564, 1.34099109,\n",
       "         1.4140356 ],\n",
       "        [1.        , 1.00157566, 1.00632758, ..., 1.27904801, 1.34112587,\n",
       "         1.41421356]])"
      ]
     },
     "execution_count": 6,
     "metadata": {},
     "output_type": "execute_result"
    }
   ],
   "source": [
    "for i in range(15):\n",
    "    for j in range(100):\n",
    "        FFial[j,i] = f_fi(alrad[i],Fi[j]) \n",
    "FFial"
   ]
  },
  {
   "cell_type": "code",
   "execution_count": 7,
   "metadata": {},
   "outputs": [
    {
     "data": {
      "text/plain": [
       "array([0., 0., 0., 0., 0., 0., 0., 0., 0., 0., 0., 0., 0., 0., 0.])"
      ]
     },
     "execution_count": 7,
     "metadata": {},
     "output_type": "execute_result"
    }
   ],
   "source": [
    "TT0al = np.zeros(15)\n",
    "TT0al"
   ]
  },
  {
   "cell_type": "code",
   "execution_count": 8,
   "metadata": {},
   "outputs": [
    {
     "data": {
      "text/plain": [
       "array([1., 1., 1., 1., 1., 1., 1., 1., 1., 1., 1., 1., 1., 1., 1., 1., 1.,\n",
       "       1., 1., 1., 1., 1., 1., 1., 1., 1., 1., 1., 1., 1., 1., 1., 1., 1.,\n",
       "       1., 1., 1., 1., 1., 1., 1., 1., 1., 1., 1., 1., 1., 1., 1., 1., 1.,\n",
       "       1., 1., 1., 1., 1., 1., 1., 1., 1., 1., 1., 1., 1., 1., 1., 1., 1.,\n",
       "       1., 1., 1., 1., 1., 1., 1., 1., 1., 1., 1., 1., 1., 1., 1., 1., 1.,\n",
       "       1., 1., 1., 1., 1., 1., 1., 1., 1., 1., 1., 1., 1., 1., 1.])"
      ]
     },
     "execution_count": 8,
     "metadata": {},
     "output_type": "execute_result"
    }
   ],
   "source": [
    "N = np.array(np.transpose(FFial[:,0]))\n",
    "N[0]"
   ]
  },
  {
   "cell_type": "code",
   "execution_count": 9,
   "metadata": {},
   "outputs": [
    {
     "data": {
      "text/plain": [
       "array([1.        , 1.00078737, 1.0031563 , 1.0071275 , 1.012736  ,\n",
       "       1.02003212, 1.02908279, 1.03997334, 1.05280999, 1.06772305,\n",
       "       1.08487113, 1.10444668, 1.12668323, 1.1518651 , 1.1803405 ])"
      ]
     },
     "execution_count": 9,
     "metadata": {},
     "output_type": "execute_result"
    }
   ],
   "source": [
    "for k in range(15):\n",
    "    TT0al[k] = 2/np.pi * scin.simpson( np.array(np.transpose(FFial[:,k])),Fi )\n",
    "    \n",
    "TT0al"
   ]
  },
  {
   "cell_type": "code",
   "execution_count": 10,
   "metadata": {},
   "outputs": [
    {
     "data": {
      "text/html": [
       "<div>\n",
       "<style scoped>\n",
       "    .dataframe tbody tr th:only-of-type {\n",
       "        vertical-align: middle;\n",
       "    }\n",
       "\n",
       "    .dataframe tbody tr th {\n",
       "        vertical-align: top;\n",
       "    }\n",
       "\n",
       "    .dataframe thead th {\n",
       "        text-align: right;\n",
       "    }\n",
       "</style>\n",
       "<table border=\"1\" class=\"dataframe\">\n",
       "  <thead>\n",
       "    <tr style=\"text-align: right;\">\n",
       "      <th></th>\n",
       "      <th>Alpha_degradientes</th>\n",
       "      <th>Alpha_radianes</th>\n",
       "      <th>Relación T/T0</th>\n",
       "    </tr>\n",
       "  </thead>\n",
       "  <tbody>\n",
       "    <tr>\n",
       "      <th>0</th>\n",
       "      <td>0.000000</td>\n",
       "      <td>0.000000</td>\n",
       "      <td>1.000000</td>\n",
       "    </tr>\n",
       "    <tr>\n",
       "      <th>1</th>\n",
       "      <td>6.428571</td>\n",
       "      <td>0.112200</td>\n",
       "      <td>1.000787</td>\n",
       "    </tr>\n",
       "    <tr>\n",
       "      <th>2</th>\n",
       "      <td>12.857143</td>\n",
       "      <td>0.224399</td>\n",
       "      <td>1.003156</td>\n",
       "    </tr>\n",
       "    <tr>\n",
       "      <th>3</th>\n",
       "      <td>19.285714</td>\n",
       "      <td>0.336599</td>\n",
       "      <td>1.007127</td>\n",
       "    </tr>\n",
       "    <tr>\n",
       "      <th>4</th>\n",
       "      <td>25.714286</td>\n",
       "      <td>0.448799</td>\n",
       "      <td>1.012736</td>\n",
       "    </tr>\n",
       "    <tr>\n",
       "      <th>5</th>\n",
       "      <td>32.142857</td>\n",
       "      <td>0.560999</td>\n",
       "      <td>1.020032</td>\n",
       "    </tr>\n",
       "    <tr>\n",
       "      <th>6</th>\n",
       "      <td>38.571429</td>\n",
       "      <td>0.673198</td>\n",
       "      <td>1.029083</td>\n",
       "    </tr>\n",
       "    <tr>\n",
       "      <th>7</th>\n",
       "      <td>45.000000</td>\n",
       "      <td>0.785398</td>\n",
       "      <td>1.039973</td>\n",
       "    </tr>\n",
       "    <tr>\n",
       "      <th>8</th>\n",
       "      <td>51.428571</td>\n",
       "      <td>0.897598</td>\n",
       "      <td>1.052810</td>\n",
       "    </tr>\n",
       "    <tr>\n",
       "      <th>9</th>\n",
       "      <td>57.857143</td>\n",
       "      <td>1.009798</td>\n",
       "      <td>1.067723</td>\n",
       "    </tr>\n",
       "    <tr>\n",
       "      <th>10</th>\n",
       "      <td>64.285714</td>\n",
       "      <td>1.121997</td>\n",
       "      <td>1.084871</td>\n",
       "    </tr>\n",
       "    <tr>\n",
       "      <th>11</th>\n",
       "      <td>70.714286</td>\n",
       "      <td>1.234197</td>\n",
       "      <td>1.104447</td>\n",
       "    </tr>\n",
       "    <tr>\n",
       "      <th>12</th>\n",
       "      <td>77.142857</td>\n",
       "      <td>1.346397</td>\n",
       "      <td>1.126683</td>\n",
       "    </tr>\n",
       "    <tr>\n",
       "      <th>13</th>\n",
       "      <td>83.571429</td>\n",
       "      <td>1.458597</td>\n",
       "      <td>1.151865</td>\n",
       "    </tr>\n",
       "    <tr>\n",
       "      <th>14</th>\n",
       "      <td>90.000000</td>\n",
       "      <td>1.570796</td>\n",
       "      <td>1.180341</td>\n",
       "    </tr>\n",
       "  </tbody>\n",
       "</table>\n",
       "</div>"
      ],
      "text/plain": [
       "    Alpha_degradientes  Alpha_radianes  Relación T/T0\n",
       "0             0.000000        0.000000       1.000000\n",
       "1             6.428571        0.112200       1.000787\n",
       "2            12.857143        0.224399       1.003156\n",
       "3            19.285714        0.336599       1.007127\n",
       "4            25.714286        0.448799       1.012736\n",
       "5            32.142857        0.560999       1.020032\n",
       "6            38.571429        0.673198       1.029083\n",
       "7            45.000000        0.785398       1.039973\n",
       "8            51.428571        0.897598       1.052810\n",
       "9            57.857143        1.009798       1.067723\n",
       "10           64.285714        1.121997       1.084871\n",
       "11           70.714286        1.234197       1.104447\n",
       "12           77.142857        1.346397       1.126683\n",
       "13           83.571429        1.458597       1.151865\n",
       "14           90.000000        1.570796       1.180341"
      ]
     },
     "execution_count": 10,
     "metadata": {},
     "output_type": "execute_result"
    }
   ],
   "source": [
    "import pandas as pd\n",
    "\n",
    "RelTT0 = pd.DataFrame({'Alpha_degradientes':aldeg,'Alpha_radianes':alrad,'Relación T/T0':TT0al})\n",
    "RelTT0"
   ]
  },
  {
   "cell_type": "code",
   "execution_count": 11,
   "metadata": {},
   "outputs": [
    {
     "data": {
      "text/plain": [
       "Text(0, 0.5, 'Relación $T/T_0$')"
      ]
     },
     "execution_count": 11,
     "metadata": {},
     "output_type": "execute_result"
    },
    {
     "data": {
      "image/png": "[encoded data removed]",
      "text/plain": [
       "<Figure size 432x288 with 1 Axes>"
      ]
     },
     "metadata": {
      "needs_background": "light"
     },
     "output_type": "display_data"
    }
   ],
   "source": [
    "plt.plot(aldeg,TT0al)\n",
    "plt.xlabel(r'$\\alpha$ en degradientes')\n",
    "plt.ylabel(r'Relación $T/T_0$')"
   ]
  },
  {
   "cell_type": "markdown",
   "metadata": {},
   "source": [
    "### Derivación \n",
    "2. En el siguiente link ([datos_pendulo](https://github.com/hernansalinas/Curso_Metodos_Computacionales/tree/main/Entregas/Parciales/Parcial2/dataset)), se encuentran  datos experimentales de un péndulo simple tomadas a través de una cámara web y procesados con el programa [kinovea](https://www.kinovea.org/). Dados los datos en formato csv,  construir un programa que realice lo siguiente: \n",
    "\n",
    "- a. Leer el archivo csv a través de un Data Frame de Pandas, las columnas del data frame deberan ser:\n",
    "\n",
    "col=[\"Tiempo[ms]\", \"AnguloDeg\", \"AnguloRad\"]\n",
    "\n",
    "- b. Construya una grafica de :\n",
    "plt.plot(df['Tiempo[ms]'], df['AnguloDeg'],\"b-\")\n",
    "\n",
    "¿Qué puede concluir respecto al movimiento del pendulo?\n",
    "\n",
    "- c. Realice un gráfico de la rapidez angular como funcion del tiempo medio.$\\frac{\\mathrm{d}\\theta}{\\mathrm{d}t}$\n",
    "\n",
    "- d. realice un grafico de la  aceleración angular como funcion del tiempo medio  $\\frac{\\mathrm{d^2}\\theta}{\\mathrm{d}t^2}$"
   ]
  },
  {
   "cell_type": "code",
   "execution_count": 12,
   "metadata": {},
   "outputs": [
    {
     "ename": "FileNotFoundError",
     "evalue": "[Errno 2] No such file or directory: 'Pendulo_simple.csv'",
     "output_type": "error",
     "traceback": [
      "\u001b[1;31m---------------------------------------------------------------------------\u001b[0m",
      "\u001b[1;31mFileNotFoundError\u001b[0m                         Traceback (most recent call last)",
      "Input \u001b[1;32mIn [12]\u001b[0m, in \u001b[0;36m<cell line: 3>\u001b[1;34m()\u001b[0m\n\u001b[0;32m      1\u001b[0m \u001b[38;5;66;03m# Importemos el Dataset\u001b[39;00m\n\u001b[1;32m----> 3\u001b[0m Angles \u001b[38;5;241m=\u001b[39m \u001b[43mpd\u001b[49m\u001b[38;5;241;43m.\u001b[39;49m\u001b[43mread_csv\u001b[49m\u001b[43m(\u001b[49m\u001b[38;5;124;43m'\u001b[39;49m\u001b[38;5;124;43mPendulo_simple.csv\u001b[39;49m\u001b[38;5;124;43m'\u001b[39;49m\u001b[43m,\u001b[49m\u001b[43msep\u001b[49m\u001b[38;5;241;43m=\u001b[39;49m\u001b[38;5;124;43m'\u001b[39;49m\u001b[38;5;124;43m;\u001b[39;49m\u001b[38;5;124;43m'\u001b[39;49m\u001b[43m)\u001b[49m\n\u001b[0;32m      4\u001b[0m pi \u001b[38;5;241m=\u001b[39m np\u001b[38;5;241m.\u001b[39mpi\n\u001b[0;32m      5\u001b[0m Angles\n",
      "File \u001b[1;32m~\\anaconda3\\lib\\site-packages\\pandas\\util\\_decorators.py:311\u001b[0m, in \u001b[0;36mdeprecate_nonkeyword_arguments.<locals>.decorate.<locals>.wrapper\u001b[1;34m(*args, **kwargs)\u001b[0m\n\u001b[0;32m    305\u001b[0m \u001b[38;5;28;01mif\u001b[39;00m \u001b[38;5;28mlen\u001b[39m(args) \u001b[38;5;241m>\u001b[39m num_allow_args:\n\u001b[0;32m    306\u001b[0m     warnings\u001b[38;5;241m.\u001b[39mwarn(\n\u001b[0;32m    307\u001b[0m         msg\u001b[38;5;241m.\u001b[39mformat(arguments\u001b[38;5;241m=\u001b[39marguments),\n\u001b[0;32m    308\u001b[0m         \u001b[38;5;167;01mFutureWarning\u001b[39;00m,\n\u001b[0;32m    309\u001b[0m         stacklevel\u001b[38;5;241m=\u001b[39mstacklevel,\n\u001b[0;32m    310\u001b[0m     )\n\u001b[1;32m--> 311\u001b[0m \u001b[38;5;28;01mreturn\u001b[39;00m \u001b[43mfunc\u001b[49m\u001b[43m(\u001b[49m\u001b[38;5;241;43m*\u001b[39;49m\u001b[43margs\u001b[49m\u001b[43m,\u001b[49m\u001b[43m \u001b[49m\u001b[38;5;241;43m*\u001b[39;49m\u001b[38;5;241;43m*\u001b[39;49m\u001b[43mkwargs\u001b[49m\u001b[43m)\u001b[49m\n",
      "File \u001b[1;32m~\\anaconda3\\lib\\site-packages\\pandas\\io\\parsers\\readers.py:680\u001b[0m, in \u001b[0;36mread_csv\u001b[1;34m(filepath_or_buffer, sep, delimiter, header, names, index_col, usecols, squeeze, prefix, mangle_dupe_cols, dtype, engine, converters, true_values, false_values, skipinitialspace, skiprows, skipfooter, nrows, na_values, keep_default_na, na_filter, verbose, skip_blank_lines, parse_dates, infer_datetime_format, keep_date_col, date_parser, dayfirst, cache_dates, iterator, chunksize, compression, thousands, decimal, lineterminator, quotechar, quoting, doublequote, escapechar, comment, encoding, encoding_errors, dialect, error_bad_lines, warn_bad_lines, on_bad_lines, delim_whitespace, low_memory, memory_map, float_precision, storage_options)\u001b[0m\n\u001b[0;32m    665\u001b[0m kwds_defaults \u001b[38;5;241m=\u001b[39m _refine_defaults_read(\n\u001b[0;32m    666\u001b[0m     dialect,\n\u001b[0;32m    667\u001b[0m     delimiter,\n\u001b[1;32m   (...)\u001b[0m\n\u001b[0;32m    676\u001b[0m     defaults\u001b[38;5;241m=\u001b[39m{\u001b[38;5;124m\"\u001b[39m\u001b[38;5;124mdelimiter\u001b[39m\u001b[38;5;124m\"\u001b[39m: \u001b[38;5;124m\"\u001b[39m\u001b[38;5;124m,\u001b[39m\u001b[38;5;124m\"\u001b[39m},\n\u001b[0;32m    677\u001b[0m )\n\u001b[0;32m    678\u001b[0m kwds\u001b[38;5;241m.\u001b[39mupdate(kwds_defaults)\n\u001b[1;32m--> 680\u001b[0m \u001b[38;5;28;01mreturn\u001b[39;00m \u001b[43m_read\u001b[49m\u001b[43m(\u001b[49m\u001b[43mfilepath_or_buffer\u001b[49m\u001b[43m,\u001b[49m\u001b[43m \u001b[49m\u001b[43mkwds\u001b[49m\u001b[43m)\u001b[49m\n",
      "File \u001b[1;32m~\\anaconda3\\lib\\site-packages\\pandas\\io\\parsers\\readers.py:575\u001b[0m, in \u001b[0;36m_read\u001b[1;34m(filepath_or_buffer, kwds)\u001b[0m\n\u001b[0;32m    572\u001b[0m _validate_names(kwds\u001b[38;5;241m.\u001b[39mget(\u001b[38;5;124m\"\u001b[39m\u001b[38;5;124mnames\u001b[39m\u001b[38;5;124m\"\u001b[39m, \u001b[38;5;28;01mNone\u001b[39;00m))\n\u001b[0;32m    574\u001b[0m \u001b[38;5;66;03m# Create the parser.\u001b[39;00m\n\u001b[1;32m--> 575\u001b[0m parser \u001b[38;5;241m=\u001b[39m \u001b[43mTextFileReader\u001b[49m\u001b[43m(\u001b[49m\u001b[43mfilepath_or_buffer\u001b[49m\u001b[43m,\u001b[49m\u001b[43m \u001b[49m\u001b[38;5;241;43m*\u001b[39;49m\u001b[38;5;241;43m*\u001b[39;49m\u001b[43mkwds\u001b[49m\u001b[43m)\u001b[49m\n\u001b[0;32m    577\u001b[0m \u001b[38;5;28;01mif\u001b[39;00m chunksize \u001b[38;5;129;01mor\u001b[39;00m iterator:\n\u001b[0;32m    578\u001b[0m     \u001b[38;5;28;01mreturn\u001b[39;00m parser\n",
      "File \u001b[1;32m~\\anaconda3\\lib\\site-packages\\pandas\\io\\parsers\\readers.py:933\u001b[0m, in \u001b[0;36mTextFileReader.__init__\u001b[1;34m(self, f, engine, **kwds)\u001b[0m\n\u001b[0;32m    930\u001b[0m     \u001b[38;5;28mself\u001b[39m\u001b[38;5;241m.\u001b[39moptions[\u001b[38;5;124m\"\u001b[39m\u001b[38;5;124mhas_index_names\u001b[39m\u001b[38;5;124m\"\u001b[39m] \u001b[38;5;241m=\u001b[39m kwds[\u001b[38;5;124m\"\u001b[39m\u001b[38;5;124mhas_index_names\u001b[39m\u001b[38;5;124m\"\u001b[39m]\n\u001b[0;32m    932\u001b[0m \u001b[38;5;28mself\u001b[39m\u001b[38;5;241m.\u001b[39mhandles: IOHandles \u001b[38;5;241m|\u001b[39m \u001b[38;5;28;01mNone\u001b[39;00m \u001b[38;5;241m=\u001b[39m \u001b[38;5;28;01mNone\u001b[39;00m\n\u001b[1;32m--> 933\u001b[0m \u001b[38;5;28mself\u001b[39m\u001b[38;5;241m.\u001b[39m_engine \u001b[38;5;241m=\u001b[39m \u001b[38;5;28;43mself\u001b[39;49m\u001b[38;5;241;43m.\u001b[39;49m\u001b[43m_make_engine\u001b[49m\u001b[43m(\u001b[49m\u001b[43mf\u001b[49m\u001b[43m,\u001b[49m\u001b[43m \u001b[49m\u001b[38;5;28;43mself\u001b[39;49m\u001b[38;5;241;43m.\u001b[39;49m\u001b[43mengine\u001b[49m\u001b[43m)\u001b[49m\n",
      "File \u001b[1;32m~\\anaconda3\\lib\\site-packages\\pandas\\io\\parsers\\readers.py:1217\u001b[0m, in \u001b[0;36mTextFileReader._make_engine\u001b[1;34m(self, f, engine)\u001b[0m\n\u001b[0;32m   1213\u001b[0m     mode \u001b[38;5;241m=\u001b[39m \u001b[38;5;124m\"\u001b[39m\u001b[38;5;124mrb\u001b[39m\u001b[38;5;124m\"\u001b[39m\n\u001b[0;32m   1214\u001b[0m \u001b[38;5;66;03m# error: No overload variant of \"get_handle\" matches argument types\u001b[39;00m\n\u001b[0;32m   1215\u001b[0m \u001b[38;5;66;03m# \"Union[str, PathLike[str], ReadCsvBuffer[bytes], ReadCsvBuffer[str]]\"\u001b[39;00m\n\u001b[0;32m   1216\u001b[0m \u001b[38;5;66;03m# , \"str\", \"bool\", \"Any\", \"Any\", \"Any\", \"Any\", \"Any\"\u001b[39;00m\n\u001b[1;32m-> 1217\u001b[0m \u001b[38;5;28mself\u001b[39m\u001b[38;5;241m.\u001b[39mhandles \u001b[38;5;241m=\u001b[39m \u001b[43mget_handle\u001b[49m\u001b[43m(\u001b[49m\u001b[43m  \u001b[49m\u001b[38;5;66;43;03m# type: ignore[call-overload]\u001b[39;49;00m\n\u001b[0;32m   1218\u001b[0m \u001b[43m    \u001b[49m\u001b[43mf\u001b[49m\u001b[43m,\u001b[49m\n\u001b[0;32m   1219\u001b[0m \u001b[43m    \u001b[49m\u001b[43mmode\u001b[49m\u001b[43m,\u001b[49m\n\u001b[0;32m   1220\u001b[0m \u001b[43m    \u001b[49m\u001b[43mencoding\u001b[49m\u001b[38;5;241;43m=\u001b[39;49m\u001b[38;5;28;43mself\u001b[39;49m\u001b[38;5;241;43m.\u001b[39;49m\u001b[43moptions\u001b[49m\u001b[38;5;241;43m.\u001b[39;49m\u001b[43mget\u001b[49m\u001b[43m(\u001b[49m\u001b[38;5;124;43m\"\u001b[39;49m\u001b[38;5;124;43mencoding\u001b[39;49m\u001b[38;5;124;43m\"\u001b[39;49m\u001b[43m,\u001b[49m\u001b[43m \u001b[49m\u001b[38;5;28;43;01mNone\u001b[39;49;00m\u001b[43m)\u001b[49m\u001b[43m,\u001b[49m\n\u001b[0;32m   1221\u001b[0m \u001b[43m    \u001b[49m\u001b[43mcompression\u001b[49m\u001b[38;5;241;43m=\u001b[39;49m\u001b[38;5;28;43mself\u001b[39;49m\u001b[38;5;241;43m.\u001b[39;49m\u001b[43moptions\u001b[49m\u001b[38;5;241;43m.\u001b[39;49m\u001b[43mget\u001b[49m\u001b[43m(\u001b[49m\u001b[38;5;124;43m\"\u001b[39;49m\u001b[38;5;124;43mcompression\u001b[39;49m\u001b[38;5;124;43m\"\u001b[39;49m\u001b[43m,\u001b[49m\u001b[43m \u001b[49m\u001b[38;5;28;43;01mNone\u001b[39;49;00m\u001b[43m)\u001b[49m\u001b[43m,\u001b[49m\n\u001b[0;32m   1222\u001b[0m \u001b[43m    \u001b[49m\u001b[43mmemory_map\u001b[49m\u001b[38;5;241;43m=\u001b[39;49m\u001b[38;5;28;43mself\u001b[39;49m\u001b[38;5;241;43m.\u001b[39;49m\u001b[43moptions\u001b[49m\u001b[38;5;241;43m.\u001b[39;49m\u001b[43mget\u001b[49m\u001b[43m(\u001b[49m\u001b[38;5;124;43m\"\u001b[39;49m\u001b[38;5;124;43mmemory_map\u001b[39;49m\u001b[38;5;124;43m\"\u001b[39;49m\u001b[43m,\u001b[49m\u001b[43m \u001b[49m\u001b[38;5;28;43;01mFalse\u001b[39;49;00m\u001b[43m)\u001b[49m\u001b[43m,\u001b[49m\n\u001b[0;32m   1223\u001b[0m \u001b[43m    \u001b[49m\u001b[43mis_text\u001b[49m\u001b[38;5;241;43m=\u001b[39;49m\u001b[43mis_text\u001b[49m\u001b[43m,\u001b[49m\n\u001b[0;32m   1224\u001b[0m \u001b[43m    \u001b[49m\u001b[43merrors\u001b[49m\u001b[38;5;241;43m=\u001b[39;49m\u001b[38;5;28;43mself\u001b[39;49m\u001b[38;5;241;43m.\u001b[39;49m\u001b[43moptions\u001b[49m\u001b[38;5;241;43m.\u001b[39;49m\u001b[43mget\u001b[49m\u001b[43m(\u001b[49m\u001b[38;5;124;43m\"\u001b[39;49m\u001b[38;5;124;43mencoding_errors\u001b[39;49m\u001b[38;5;124;43m\"\u001b[39;49m\u001b[43m,\u001b[49m\u001b[43m \u001b[49m\u001b[38;5;124;43m\"\u001b[39;49m\u001b[38;5;124;43mstrict\u001b[39;49m\u001b[38;5;124;43m\"\u001b[39;49m\u001b[43m)\u001b[49m\u001b[43m,\u001b[49m\n\u001b[0;32m   1225\u001b[0m \u001b[43m    \u001b[49m\u001b[43mstorage_options\u001b[49m\u001b[38;5;241;43m=\u001b[39;49m\u001b[38;5;28;43mself\u001b[39;49m\u001b[38;5;241;43m.\u001b[39;49m\u001b[43moptions\u001b[49m\u001b[38;5;241;43m.\u001b[39;49m\u001b[43mget\u001b[49m\u001b[43m(\u001b[49m\u001b[38;5;124;43m\"\u001b[39;49m\u001b[38;5;124;43mstorage_options\u001b[39;49m\u001b[38;5;124;43m\"\u001b[39;49m\u001b[43m,\u001b[49m\u001b[43m \u001b[49m\u001b[38;5;28;43;01mNone\u001b[39;49;00m\u001b[43m)\u001b[49m\u001b[43m,\u001b[49m\n\u001b[0;32m   1226\u001b[0m \u001b[43m\u001b[49m\u001b[43m)\u001b[49m\n\u001b[0;32m   1227\u001b[0m \u001b[38;5;28;01massert\u001b[39;00m \u001b[38;5;28mself\u001b[39m\u001b[38;5;241m.\u001b[39mhandles \u001b[38;5;129;01mis\u001b[39;00m \u001b[38;5;129;01mnot\u001b[39;00m \u001b[38;5;28;01mNone\u001b[39;00m\n\u001b[0;32m   1228\u001b[0m f \u001b[38;5;241m=\u001b[39m \u001b[38;5;28mself\u001b[39m\u001b[38;5;241m.\u001b[39mhandles\u001b[38;5;241m.\u001b[39mhandle\n",
      "File \u001b[1;32m~\\anaconda3\\lib\\site-packages\\pandas\\io\\common.py:789\u001b[0m, in \u001b[0;36mget_handle\u001b[1;34m(path_or_buf, mode, encoding, compression, memory_map, is_text, errors, storage_options)\u001b[0m\n\u001b[0;32m    784\u001b[0m \u001b[38;5;28;01melif\u001b[39;00m \u001b[38;5;28misinstance\u001b[39m(handle, \u001b[38;5;28mstr\u001b[39m):\n\u001b[0;32m    785\u001b[0m     \u001b[38;5;66;03m# Check whether the filename is to be opened in binary mode.\u001b[39;00m\n\u001b[0;32m    786\u001b[0m     \u001b[38;5;66;03m# Binary mode does not support 'encoding' and 'newline'.\u001b[39;00m\n\u001b[0;32m    787\u001b[0m     \u001b[38;5;28;01mif\u001b[39;00m ioargs\u001b[38;5;241m.\u001b[39mencoding \u001b[38;5;129;01mand\u001b[39;00m \u001b[38;5;124m\"\u001b[39m\u001b[38;5;124mb\u001b[39m\u001b[38;5;124m\"\u001b[39m \u001b[38;5;129;01mnot\u001b[39;00m \u001b[38;5;129;01min\u001b[39;00m ioargs\u001b[38;5;241m.\u001b[39mmode:\n\u001b[0;32m    788\u001b[0m         \u001b[38;5;66;03m# Encoding\u001b[39;00m\n\u001b[1;32m--> 789\u001b[0m         handle \u001b[38;5;241m=\u001b[39m \u001b[38;5;28;43mopen\u001b[39;49m\u001b[43m(\u001b[49m\n\u001b[0;32m    790\u001b[0m \u001b[43m            \u001b[49m\u001b[43mhandle\u001b[49m\u001b[43m,\u001b[49m\n\u001b[0;32m    791\u001b[0m \u001b[43m            \u001b[49m\u001b[43mioargs\u001b[49m\u001b[38;5;241;43m.\u001b[39;49m\u001b[43mmode\u001b[49m\u001b[43m,\u001b[49m\n\u001b[0;32m    792\u001b[0m \u001b[43m            \u001b[49m\u001b[43mencoding\u001b[49m\u001b[38;5;241;43m=\u001b[39;49m\u001b[43mioargs\u001b[49m\u001b[38;5;241;43m.\u001b[39;49m\u001b[43mencoding\u001b[49m\u001b[43m,\u001b[49m\n\u001b[0;32m    793\u001b[0m \u001b[43m            \u001b[49m\u001b[43merrors\u001b[49m\u001b[38;5;241;43m=\u001b[39;49m\u001b[43merrors\u001b[49m\u001b[43m,\u001b[49m\n\u001b[0;32m    794\u001b[0m \u001b[43m            \u001b[49m\u001b[43mnewline\u001b[49m\u001b[38;5;241;43m=\u001b[39;49m\u001b[38;5;124;43m\"\u001b[39;49m\u001b[38;5;124;43m\"\u001b[39;49m\u001b[43m,\u001b[49m\n\u001b[0;32m    795\u001b[0m \u001b[43m        \u001b[49m\u001b[43m)\u001b[49m\n\u001b[0;32m    796\u001b[0m     \u001b[38;5;28;01melse\u001b[39;00m:\n\u001b[0;32m    797\u001b[0m         \u001b[38;5;66;03m# Binary mode\u001b[39;00m\n\u001b[0;32m    798\u001b[0m         handle \u001b[38;5;241m=\u001b[39m \u001b[38;5;28mopen\u001b[39m(handle, ioargs\u001b[38;5;241m.\u001b[39mmode)\n",
      "\u001b[1;31mFileNotFoundError\u001b[0m: [Errno 2] No such file or directory: 'Pendulo_simple.csv'"
     ]
    }
   ],
   "source": [
    "# Importemos el Dataset\n",
    "\n",
    "Angles = pd.read_csv('Pendulo_simple.csv',sep=';')\n",
    "pi = np.pi\n",
    "Angles"
   ]
  },
  {
   "cell_type": "markdown",
   "metadata": {},
   "source": [
    "### No aparecieron las tres columnas"
   ]
  },
  {
   "cell_type": "code",
   "execution_count": 13,
   "metadata": {},
   "outputs": [
    {
     "ename": "NameError",
     "evalue": "name 'Angles' is not defined",
     "output_type": "error",
     "traceback": [
      "\u001b[1;31m---------------------------------------------------------------------------\u001b[0m",
      "\u001b[1;31mNameError\u001b[0m                                 Traceback (most recent call last)",
      "Input \u001b[1;32mIn [13]\u001b[0m, in \u001b[0;36m<cell line: 1>\u001b[1;34m()\u001b[0m\n\u001b[1;32m----> 1\u001b[0m Angles[\u001b[38;5;124m'\u001b[39m\u001b[38;5;124mÁngulo Radianes\u001b[39m\u001b[38;5;124m'\u001b[39m] \u001b[38;5;241m=\u001b[39m (\u001b[43mAngles\u001b[49m[\u001b[38;5;124m'\u001b[39m\u001b[38;5;124mÁngulo 1\u001b[39m\u001b[38;5;124m'\u001b[39m]\u001b[38;5;241m*\u001b[39mpi)\u001b[38;5;241m/\u001b[39m\u001b[38;5;241m180\u001b[39m\n",
      "\u001b[1;31mNameError\u001b[0m: name 'Angles' is not defined"
     ]
    }
   ],
   "source": [
    "Angles['Ángulo Radianes'] = (Angles['Ángulo 1']*pi)/180"
   ]
  },
  {
   "cell_type": "markdown",
   "metadata": {},
   "source": [
    "Bonus \n",
    "\n",
    "Calcule la transformada de fourier de los datos obtenidos, para encontrar la frecuencia de oscilacion del sistema, para ello realice lo siguiente:\n",
    "\n",
    "- importe la librerias de scipy fft, fftfreq.\n",
    "- Aplique la transformada de fourier como sigue:\n",
    "\n",
    "```\n",
    "tf = fft(df['AnguloRad'].values)\n",
    "T = 33E-3 #Paso del tiempo\n",
    "N = len(df['Tiempo[ms]'])\n",
    "xf = fftfreq(N, T)[:N//2]\n",
    "\n",
    "plt.plot(xf[1:N//2], np.abs(tf[1:N//2]),\"o-\")\n",
    "plt.ylabel(\"TF\")\n",
    "plt.xlabel(\"Frecuencia\")\n",
    "plt.xlim(0, 2)\n",
    "\n",
    "```\n",
    "\n",
    "-  Para las valores en el eje x y eje y de la anterior gráfica, realice una interpolación. \n",
    "\n",
    "- Encuentre el valor máximo de frecuencia"
   ]
  },
  {
   "cell_type": "markdown",
   "metadata": {},
   "source": [
    "$\\lambda$"
   ]
  },
  {
   "cell_type": "markdown",
   "metadata": {},
   "source": [
    "### Matrices: Rotación  en el plano, autovalores y autovectores\n",
    "3.   Considere la siguiente matrix de rotación:\n",
    "\\begin{bmatrix} \n",
    "1 & 0 &0\\\\\n",
    "0&\\cos \\theta & -\\sin \\theta\\\\ \n",
    "0&\\sin \\theta & \\cos \\theta\n",
    "\\end{bmatrix}\n",
    "\n",
    "a) Encontrar el polinomio característico de A\n",
    "\n",
    "b) Encontrar los autovalores y autovectores\n",
    "\n",
    "c) construya la matriz diagonal con los autovalores y autovectores y compruebe su solución. \n",
    "\n",
    "Encontrar los autovalores y autovectores para $\\theta=45$."
   ]
  },
  {
   "cell_type": "code",
   "execution_count": 14,
   "metadata": {},
   "outputs": [],
   "source": [
    "import sympy as sy\n",
    "import scipy.linalg as lin\n",
    "sy.init_printing()\n",
    "\n",
    "th,lmb = sy.symbols('𝜃 𝜆')\n",
    "A1 = np.array([[1,0,0],[0,sy.cos(th),-1*sy.sin(th)],[0,sy.sin(th),sy.cos(th)]])\n",
    "A1 = sy.Matrix(A1)"
   ]
  },
  {
   "cell_type": "code",
   "execution_count": 15,
   "metadata": {},
   "outputs": [
    {
     "data": {
      "image/png": "[encoded data removed]",
      "text/latex": [
       "$\\displaystyle \\left\\{ 1 : 1, \\  - \\sqrt{\\left(\\cos{\\left(𝜃 \\right)} - 1\\right) \\left(\\cos{\\left(𝜃 \\right)} + 1\\right)} + \\cos{\\left(𝜃 \\right)} : 1, \\  \\sqrt{\\left(\\cos{\\left(𝜃 \\right)} - 1\\right) \\left(\\cos{\\left(𝜃 \\right)} + 1\\right)} + \\cos{\\left(𝜃 \\right)} : 1\\right\\}$"
      ],
      "text/plain": [
       "⎧          ___________________________                ________________________\n",
       "⎨1: 1, - ╲╱ (cos(𝜃) - 1)⋅(cos(𝜃) + 1)  + cos(𝜃): 1, ╲╱ (cos(𝜃) - 1)⋅(cos(𝜃) + \n",
       "⎩                                                                             \n",
       "\n",
       "___            ⎫\n",
       "1)  + cos(𝜃): 1⎬\n",
       "               ⎭"
      ]
     },
     "execution_count": 15,
     "metadata": {},
     "output_type": "execute_result"
    }
   ],
   "source": [
    "vals = A1.eigenvals()\n",
    "vals"
   ]
  },
  {
   "cell_type": "code",
   "execution_count": 16,
   "metadata": {},
   "outputs": [
    {
     "data": {
      "text/latex": [
       "$\\displaystyle \\left[ \\left( 1, \\  1, \\  \\left[ \\left[\\begin{matrix}1\\\\0\\\\0\\end{matrix}\\right]\\right]\\right), \\  \\left( - \\sqrt{\\left(\\cos{\\left(𝜃 \\right)} - 1\\right) \\left(\\cos{\\left(𝜃 \\right)} + 1\\right)} + \\cos{\\left(𝜃 \\right)}, \\  1, \\  \\left[ \\left[\\begin{matrix}0\\\\\\frac{\\sin{\\left(𝜃 \\right)}}{\\sqrt{\\cos^{2}{\\left(𝜃 \\right)} - 1}}\\\\1\\end{matrix}\\right]\\right]\\right), \\  \\left( \\sqrt{\\left(\\cos{\\left(𝜃 \\right)} - 1\\right) \\left(\\cos{\\left(𝜃 \\right)} + 1\\right)} + \\cos{\\left(𝜃 \\right)}, \\  1, \\  \\left[ \\left[\\begin{matrix}0\\\\- \\frac{\\sin{\\left(𝜃 \\right)}}{\\sqrt{\\cos^{2}{\\left(𝜃 \\right)} - 1}}\\\\1\\end{matrix}\\right]\\right]\\right)\\right]$"
      ],
      "text/plain": [
       "⎡               ⎛                                             ⎡⎡       0      \n",
       "⎢               ⎜                                             ⎢⎢              \n",
       "⎢⎛      ⎡⎡1⎤⎤⎞  ⎜                                             ⎢⎢     sin(𝜃)   \n",
       "⎢⎜      ⎢⎢ ⎥⎥⎟  ⎜    ___________________________              ⎢⎢──────────────\n",
       "⎢⎜1, 1, ⎢⎢0⎥⎥⎟, ⎜- ╲╱ (cos(𝜃) - 1)⋅(cos(𝜃) + 1)  + cos(𝜃), 1, ⎢⎢   ___________\n",
       "⎢⎜      ⎢⎢ ⎥⎥⎟  ⎜                                             ⎢⎢  ╱    2      \n",
       "⎢⎝      ⎣⎣0⎦⎦⎠  ⎜                                             ⎢⎢╲╱  cos (𝜃) - \n",
       "⎢               ⎜                                             ⎢⎢              \n",
       "⎣               ⎝                                             ⎣⎣       1      \n",
       "\n",
       "  ⎤⎤⎞  ⎛                                           ⎡⎡       0        ⎤⎤⎞⎤\n",
       "  ⎥⎥⎟  ⎜                                           ⎢⎢                ⎥⎥⎟⎥\n",
       "  ⎥⎥⎟  ⎜                                           ⎢⎢    -sin(𝜃)     ⎥⎥⎟⎥\n",
       "──⎥⎥⎟  ⎜  ___________________________              ⎢⎢────────────────⎥⎥⎟⎥\n",
       "__⎥⎥⎟, ⎜╲╱ (cos(𝜃) - 1)⋅(cos(𝜃) + 1)  + cos(𝜃), 1, ⎢⎢   _____________⎥⎥⎟⎥\n",
       "  ⎥⎥⎟  ⎜                                           ⎢⎢  ╱    2        ⎥⎥⎟⎥\n",
       "1 ⎥⎥⎟  ⎜                                           ⎢⎢╲╱  cos (𝜃) - 1 ⎥⎥⎟⎥\n",
       "  ⎥⎥⎟  ⎜                                           ⎢⎢                ⎥⎥⎟⎥\n",
       "  ⎦⎦⎠  ⎝                                           ⎣⎣       1        ⎦⎦⎠⎦"
      ]
     },
     "execution_count": 16,
     "metadata": {},
     "output_type": "execute_result"
    }
   ],
   "source": [
    "vects = A1.eigenvects()\n",
    "vects"
   ]
  },
  {
   "cell_type": "code",
   "execution_count": null,
   "metadata": {},
   "outputs": [],
   "source": []
  },
  {
   "cell_type": "code",
   "execution_count": null,
   "metadata": {},
   "outputs": [],
   "source": []
  },
  {
   "cell_type": "code",
   "execution_count": 17,
   "metadata": {},
   "outputs": [
    {
     "data": {
      "text/latex": [
       "$\\displaystyle \\left[\\begin{matrix}1.0 & 0 & 0\\\\0 & 1.0 & 0\\\\0 & 0 & 1.0\\end{matrix}\\right]$"
      ],
      "text/plain": [
       "⎡1.0   0    0 ⎤\n",
       "⎢             ⎥\n",
       "⎢ 0   1.0   0 ⎥\n",
       "⎢             ⎥\n",
       "⎣ 0    0   1.0⎦"
      ]
     },
     "execution_count": 17,
     "metadata": {},
     "output_type": "execute_result"
    }
   ],
   "source": [
    "I = np.identity(3)\n",
    "I1 = sy.Matrix(I)\n",
    "I1"
   ]
  },
  {
   "cell_type": "code",
   "execution_count": null,
   "metadata": {},
   "outputs": [],
   "source": []
  },
  {
   "cell_type": "code",
   "execution_count": 106,
   "metadata": {},
   "outputs": [
    {
     "data": {
      "text/latex": [
       "$\\displaystyle \\left[\\begin{matrix}1 - 1.0 𝜆 & 0 & 0\\\\0 & - 1.0 𝜆 + \\cos{\\left(𝜃 \\right)} & - \\sin{\\left(𝜃 \\right)}\\\\0 & \\sin{\\left(𝜃 \\right)} & - 1.0 𝜆 + \\cos{\\left(𝜃 \\right)}\\end{matrix}\\right]$"
      ],
      "text/plain": [
       "Matrix([\n",
       "[1 - 1.0*𝜆,               0,               0],\n",
       "[        0, -1.0*𝜆 + cos(𝜃),         -sin(𝜃)],\n",
       "[        0,          sin(𝜃), -1.0*𝜆 + cos(𝜃)]])"
      ]
     },
     "execution_count": 106,
     "metadata": {},
     "output_type": "execute_result"
    }
   ],
   "source": [
    "M = A1 - lmb*I1\n",
    "M"
   ]
  },
  {
   "cell_type": "code",
   "execution_count": 107,
   "metadata": {},
   "outputs": [
    {
     "data": {
      "text/latex": [
       "$\\displaystyle - 1.0 𝜆^{3} + 2.0 𝜆^{2} \\cos{\\left(𝜃 \\right)} + 1.0 𝜆^{2} - 1.0 𝜆 \\sin^{2}{\\left(𝜃 \\right)} - 1.0 𝜆 \\cos^{2}{\\left(𝜃 \\right)} - 2.0 𝜆 \\cos{\\left(𝜃 \\right)} + \\sin^{2}{\\left(𝜃 \\right)} + \\cos^{2}{\\left(𝜃 \\right)}$"
      ],
      "text/plain": [
       "-1.0*𝜆**3 + 2.0*𝜆**2*cos(𝜃) + 1.0*𝜆**2 - 1.0*𝜆*sin(𝜃)**2 - 1.0*𝜆*cos(𝜃)**2 - 2.0*𝜆*cos(𝜃) + sin(𝜃)**2 + cos(𝜃)**2"
      ]
     },
     "execution_count": 107,
     "metadata": {},
     "output_type": "execute_result"
    }
   ],
   "source": [
    "polyA = M.det()\n",
    "polyA"
   ]
  },
  {
   "cell_type": "code",
   "execution_count": 116,
   "metadata": {},
   "outputs": [
    {
     "data": {
      "text/latex": [
       "$\\displaystyle - 2.0 \\left(1.0 𝜆 - 1.0\\right) \\left(0.5 𝜆^{2} - 1.0 𝜆 \\cos{\\left(𝜃 \\right)} + 0.5 \\sin^{2}{\\left(𝜃 \\right)} + 0.5 \\cos^{2}{\\left(𝜃 \\right)}\\right)$"
      ],
      "text/plain": [
       "-2.0*(1.0*𝜆 - 1.0)*(0.5*𝜆**2 - 1.0*𝜆*cos(𝜃) + 0.5*sin(𝜃)**2 + 0.5*cos(𝜃)**2)"
      ]
     },
     "execution_count": 116,
     "metadata": {},
     "output_type": "execute_result"
    }
   ],
   "source": [
    "sy.factor(polyA)"
   ]
  },
  {
   "cell_type": "code",
   "execution_count": 118,
   "metadata": {},
   "outputs": [],
   "source": [
    "EigV = np.array([-2.0, 1.0*lmb - 1.0, 0.5*lmb**2 - 1.0*lmb*sy.cos(th) + 0.5*sy.sin(th)**2 + 0.5*sy.cos(th)**2])"
   ]
  },
  {
   "cell_type": "code",
   "execution_count": 121,
   "metadata": {},
   "outputs": [
    {
     "data": {
      "text/latex": [
       "$\\displaystyle \\left[\\begin{matrix}-2.0\\\\1.0 𝜆 - 1.0\\\\0.5 𝜆^{2} - 1.0 𝜆 \\cos{\\left(𝜃 \\right)} + 0.5 \\sin^{2}{\\left(𝜃 \\right)} + 0.5 \\cos^{2}{\\left(𝜃 \\right)}\\end{matrix}\\right]$"
      ],
      "text/plain": [
       "Matrix([\n",
       "[                                                   -2.0],\n",
       "[                                            1.0*𝜆 - 1.0],\n",
       "[0.5*𝜆**2 - 1.0*𝜆*cos(𝜃) + 0.5*sin(𝜃)**2 + 0.5*cos(𝜃)**2]])"
      ]
     },
     "execution_count": 121,
     "metadata": {},
     "output_type": "execute_result"
    }
   ],
   "source": [
    "EigV = sy.Matrix(EigV)\n",
    "EigV"
   ]
  },
  {
   "cell_type": "code",
   "execution_count": null,
   "metadata": {},
   "outputs": [],
   "source": []
  }
 ],
 "metadata": {
  "colab": {
   "name": "Examen_02MEtodosComptuacionales_v2.ipynb",
   "provenance": []
  },
  "kernelspec": {
   "display_name": "Python 3 (ipykernel)",
   "language": "python",
   "name": "python3"
  },
  "language_info": {
   "codemirror_mode": {
    "name": "ipython",
    "version": 3
   },
   "file_extension": ".py",
   "mimetype": "text/x-python",
   "name": "python",
   "nbconvert_exporter": "python",
   "pygments_lexer": "ipython3",
   "version": "3.8.12"
  }
 },
 "nbformat": 4,
 "nbformat_minor": 1
}
