{
 "cells": [
  {
   "cell_type": "markdown",
   "metadata": {
    "id": "8q4c8oS-hpaE"
   },
   "source": [
    "\n",
    "# 1. Derivadas.\n",
    "\n",
    "\n",
    "En el metodo Smoothed-particle hydrodynamics ([SPH](!https://en.wikipedia.org/wiki/Smoothed-particle_hydrodynamics)) se emplean diferentes kernel de aproximación para calcular las propiedades  de un fluído en cada punto del espacio. Uno de ellos es el Kernel de Lucy detallado a continuación:\n",
    "\n",
    "### Lucy's Quartic Kernel \n",
    "\\begin{equation}\n",
    "W(R, h)= \\alpha_D \\left\\{\n",
    "  \\begin{matrix} \\left(1+q)^3(1- q\\right)^3 &  0\\leq q< h \\\\ \n",
    "  0 & in\\ the\\ other\\ case.\n",
    "  \\end{matrix}\n",
    "\\right.\n",
    "\\end{equation}\n",
    "\n",
    "donde, \n",
    "\n",
    "\\begin{equation}\n",
    "q=\\frac{|(\\vec{r}-\\vec{r}')|}{h}\n",
    "\\end{equation}\n",
    "\n",
    "y $\\alpha_D$ es la constante de normalización:\n",
    "\n",
    "- en 2 dimensiones, viene dada por:\n",
    "\\begin{equation}\n",
    "\\alpha_D = \\frac{5}{\\pi h^2}\n",
    "\\end{equation}\n",
    "\n",
    "- en 3 dimensiones, viene dada por:\n",
    "\\begin{equation}\n",
    "\\alpha_D = \\frac{105}{16\\pi h^3}\n",
    "\\end{equation}\n",
    "\n",
    "Para el kernel de Lucy en 2D encontrar su derivada a través de los siguientes pasos:\n",
    "\n",
    "1. Realizar un gráfico del kernel de Lucy."
   ]
  },
  {
   "cell_type": "code",
   "execution_count": null,
   "metadata": {},
   "outputs": [],
   "source": [
    "import numpy as np\n",
    "import matplotlib.pyplot as plt\n",
    "import scipy.misc as scm"
   ]
  },
  {
   "cell_type": "code",
   "execution_count": null,
   "metadata": {},
   "outputs": [],
   "source": [
    "#Consideremos un h de tamaño 5\n",
    "\n",
    "h = 5\n",
    "Q0 = np.linspace(-1,10,100)\n",
    "\n",
    "#Definimos el alpha_d para dos dimensiones\n",
    "\n",
    "alpha_d = 5/(np.pi*h**2)\n",
    "#w_ad = lambda q: alpha_d*[(1+q)(1-q)]**3\n",
    "\n",
    "def w_ad(Q0):\n",
    "    \n",
    "    W=np.zeros(len(Q0))\n",
    "    \n",
    "    for i in np.arange(len(Q0)):\n",
    "        if Q0[i]>=0 and Q0[i]<h:\n",
    "            W[i]=(-alpha_d*( Q0[i]**6 - 3*Q0[i]**4 + 3*Q0[i]**2 - 1))\n",
    "    else:\n",
    "        W[i]=0\n",
    "    return W"
   ]
  },
  {
   "cell_type": "code",
   "execution_count": null,
   "metadata": {},
   "outputs": [],
   "source": [
    "# Grafiquemos ahora el Kernell de Lucy, en el intervalo de 0\n",
    "\n",
    "plt.plot(Q0,w_ad(Q0))\n",
    "plt.title(\"Lucy's Quartic Kernel\",size=14)\n",
    "plt.xlabel('q',size=12)\n",
    "plt.ylabel('W(R,h)',size=12)"
   ]
  },
  {
   "cell_type": "markdown",
   "metadata": {},
   "source": [
    "2. Encontrar la derivada empleanda la libreria simbolica.\n",
    "**Solución:** \\\n",
    "Para encontrar la derivada simbólica usamos la librería sympy, luego transformamos la expresión symbólica a una numérica de Numpy."
   ]
  },
  {
   "cell_type": "code",
   "execution_count": 28,
   "metadata": {},
   "outputs": [],
   "source": [
    "# Importemos sympy y coloquemos las variables sobre la que queremos derivar\n",
    "\n",
    "import sympy as sy\n",
    "%matplotlib inline\n",
    "\n",
    "q, 𝛼  = sy.symbols('q 𝛼')\n",
    "\n",
    "W = lambda q: 𝛼 * ( 1 - 3*q**2 + 3*q**4 - q**6 )"
   ]
  },
  {
   "cell_type": "code",
   "execution_count": 29,
   "metadata": {},
   "outputs": [
    {
     "name": "stderr",
     "output_type": "stream",
     "text": [
      "/home/harold/anaconda3/lib/python3.9/site-packages/IPython/lib/latextools.py:126: MatplotlibDeprecationWarning: \n",
      "The to_png function was deprecated in Matplotlib 3.4 and will be removed two minor releases later. Use mathtext.math_to_image instead.\n",
      "  mt.to_png(f, s, fontsize=12, dpi=dpi, color=color)\n",
      "/home/harold/anaconda3/lib/python3.9/site-packages/IPython/lib/latextools.py:126: MatplotlibDeprecationWarning: \n",
      "The to_rgba function was deprecated in Matplotlib 3.4 and will be removed two minor releases later. Use mathtext.math_to_image instead.\n",
      "  mt.to_png(f, s, fontsize=12, dpi=dpi, color=color)\n",
      "/home/harold/anaconda3/lib/python3.9/site-packages/IPython/lib/latextools.py:126: MatplotlibDeprecationWarning: \n",
      "The to_mask function was deprecated in Matplotlib 3.4 and will be removed two minor releases later. Use mathtext.math_to_image instead.\n",
      "  mt.to_png(f, s, fontsize=12, dpi=dpi, color=color)\n",
      "/home/harold/anaconda3/lib/python3.9/site-packages/IPython/lib/latextools.py:126: MatplotlibDeprecationWarning: \n",
      "The MathtextBackendBitmap class was deprecated in Matplotlib 3.4 and will be removed two minor releases later. Use mathtext.math_to_image instead.\n",
      "  mt.to_png(f, s, fontsize=12, dpi=dpi, color=color)\n"
     ]
    },
    {
     "data": {
      "image/png": "[encoded data removed]",
      "text/latex": [
       "$\\displaystyle 𝛼 \\left(- 6 q^{5} + 12 q^{3} - 6 q\\right)$"
      ],
      "text/plain": [
       "  ⎛     5       3      ⎞\n",
       "𝛼⋅⎝- 6⋅q  + 12⋅q  - 6⋅q⎠"
      ]
     },
     "execution_count": 29,
     "metadata": {},
     "output_type": "execute_result"
    }
   ],
   "source": [
    "# Encontremos la derivada simbólica que depende de 𝛼 y q, pero 𝛼 es constante\n",
    "\n",
    "dW = sy.diff(W(q),q)\n",
    "sy.init_printing()\n",
    "dW"
   ]
  },
  {
   "cell_type": "code",
   "execution_count": 30,
   "metadata": {},
   "outputs": [
    {
     "data": {
      "text/plain": [
       "[<matplotlib.lines.Line2D at 0x7f9c4379ba30>]"
      ]
     },
     "execution_count": 30,
     "metadata": {},
     "output_type": "execute_result"
    },
    {
     "data": {
      "image/png": "[encoded data removed]",
      "text/plain": [
       "<Figure size 432x288 with 1 Axes>"
      ]
     },
     "metadata": {
      "needs_background": "light"
     },
     "output_type": "display_data"
    }
   ],
   "source": [
    "# Grafiquemos la derivada en el intervalo 0 <= q < h\n",
    "# Puesto que como la función es polinomial de nada nos sirve graficar en donde la función siempre se hace 0\n",
    "\n",
    "Q1 = np.arange(0,h,0.1)\n",
    "num = sy.lambdify([q,𝛼],dW)\n",
    "DW = num(Q1,alpha_d)\n",
    "\n",
    "plt.plot(Q1,DW)"
   ]
  },
  {
   "cell_type": "markdown",
   "metadata": {},
   "source": [
    "3. Realizar un grafico de los cálculos encontrados con la  libreria simbólica  y comparar con la derivada numérica de los datos del punto 1.\n",
    "\n",
    "**Solución:**\n",
    "\n",
    "Usando el intervalo de valores de 'q' entre 0 y h, además de la función de scipy.misc derivative, podemos determinar el valor de la derivada en cada punto del intervalo de 'q'."
   ]
  },
  {
   "cell_type": "code",
   "execution_count": 31,
   "metadata": {
    "scrolled": true
   },
   "outputs": [],
   "source": [
    "NumDW = np.zeros(len(Q1))\n",
    "W_R = lambda q : alpha_d*( 1 - 3*q**2 + 3*q**4 - q**6 )\n",
    "\n",
    "for i in range(len(Q1)):\n",
    "    NumDW[i] = scm.derivative(W_R,Q1[i],dx=1e-6)"
   ]
  },
  {
   "cell_type": "code",
   "execution_count": 32,
   "metadata": {},
   "outputs": [
    {
     "data": {
      "image/png": "[encoded data removed]",
      "text/plain": [
       "<Figure size 576x432 with 1 Axes>"
      ]
     },
     "metadata": {
      "needs_background": "light"
     },
     "output_type": "display_data"
    }
   ],
   "source": [
    "plt.figure(figsize=(8,6))\n",
    "plt.plot(Q1,NumDW,label='Numeric Derivate')\n",
    "plt.plot(Q1,DW,'g--',label='Simbolic Derivate',linewidth=3)\n",
    "plt.xlabel(\"Valores de q (Q)\")\n",
    "plt.ylabel(\"Derivada del 'Lucy's Kernel\")\n",
    "plt.legend()\n",
    "plt.grid()"
   ]
  },
  {
   "cell_type": "code",
   "execution_count": 33,
   "metadata": {},
   "outputs": [
    {
     "data": {
      "image/png": "[encoded data removed]",
      "text/plain": [
       "<Figure size 576x432 with 1 Axes>"
      ]
     },
     "metadata": {
      "needs_background": "light"
     },
     "output_type": "display_data"
    }
   ],
   "source": [
    "plt.figure(figsize=(8,6))\n",
    "plt.plot(Q1,NumDW,label='Numeric Derivate')\n",
    "plt.plot(Q1,DW,'g--',label='Simbolic Derivate',linewidth=3)\n",
    "plt.ylim(-0.2,0)\n",
    "plt.xlim(0,0.7)\n",
    "plt.xlabel(\"Valores de q (Q)\")\n",
    "plt.ylabel(\"Derivada del 'Lucy's Kernel\")\n",
    "plt.legend()\n",
    "plt.grid()"
   ]
  },
  {
   "cell_type": "code",
   "execution_count": 34,
   "metadata": {},
   "outputs": [
    {
     "name": "stdout",
     "output_type": "stream",
     "text": [
      "0.06366197723675814\n"
     ]
    }
   ],
   "source": [
    "print(alpha_d)"
   ]
  },
  {
   "cell_type": "markdown",
   "metadata": {},
   "source": [
    "Recuerde siempre comparar sus resultados con sus cálculos realizados en papel y lapiz."
   ]
  },
  {
   "cell_type": "markdown",
   "metadata": {},
   "source": [
    "Al hacer la comparación con lápiz y papel, y al considerar el $\\alpha$ anterior, tenemos por ejemplo que para $q=0.5$ tenemos un valor de $\\approx -0.11936$\n",
    "\n",
    "Mientras que los valores hallados simbólicamente y numéricamente en el PC corresponden en su orden a:"
   ]
  },
  {
   "cell_type": "code",
   "execution_count": 35,
   "metadata": {},
   "outputs": [
    {
     "name": "stdout",
     "output_type": "stream",
     "text": [
      "simbólicamete -0.10742958658702935\n",
      "numéricamente -0.10742958658424562\n"
     ]
    }
   ],
   "source": [
    "print(\"simbólicamete\", num(0.5,alpha_d))\n",
    "print(\"numéricamente\", scm.derivative(W_R,0.5,dx=1e-6))"
   ]
  },
  {
   "cell_type": "markdown",
   "metadata": {},
   "source": [
    "# 2.0 Integración\n",
    "\n",
    "1. Escribir en código Markdown la expresión para calcular una integral con la regla del Trapecio.\n",
    "**Solución:**\n",
    "    \n",
    "Sabemos que si usamos el método del trapecio para dos puntos ($x_0$, $x_1$) entonces el área bajo la curva que forma la función que queremos integrar estará dada por:\n",
    "\n",
    "$$ A = (x_1-x_0)f(x_0)+\\frac{x_1-x_0}{2}(f(x_1)-f(x_0)) $$\n",
    "\n",
    "Por lo tanto, si tomamos una cantidad 'n' de puntos entonces esta área que corresponde al valor de la integral estará dada por:\n",
    "\n",
    "$$\\int_{a}^{b}  \\ f(x) \\ dx = \\sum_{i=0}^{n-1} \\ \\left  [(x_{i+1}-x_i)f(x_i)+\\frac{x_{i+1}-x_i}{2}(f(x_{i+1})-f(x_i)) \\ \\right ] $$\n",
    "\n",
    "Ahora bien, sabemos que para obtener un mejor valor de la integral por este método hacemos 'n' particiones del dominio de la función; pero por la necesidad de ssacar un punto medio entre estos podemos establecer el valor de h como $h = \\frac{b-a}{2n}$\n",
    "\n",
    "$$\\int_{a}^{b}  \\ f(x) \\ dx = \\sum_{i=0}^{n-1} \\ \\left  [h\\ f(x_i)+\\frac{h}{2}[f(x_{i+1}) - f(x_i)] \\ \\right ] = \\sum_{i=0}^{n-1} \\ \\left  [\\frac{h}{2}[ f(x_i)+f(x_{i+1})] \\ \\right ] $$\n"
   ]
  },
  {
   "cell_type": "markdown",
   "metadata": {
    "id": "WV6dMBzK_odZ"
   },
   "source": [
    "2. Escribir en código Markdown la expresión para calcular una integral con la regla de Simpson.\n",
    "\n",
    "**Solución:**\n",
    "\n",
    "Considerando el método de integración numérica de la regla de Simpson sabemos que si tomamos tres puntos, de los cuales uno es el intermedio del otro, así, el valor entre los puntos está dado por $x_1 = x_0 + h,\\ h=\\frac{b-a}{2}$. Y el área bajo la curva estará dada por:\n",
    "\n",
    "$$ \\int_{x_0}^{x_2} \\ f(x) \\ dx = \\frac{h}{3}[f(x_0)+4f(x_1)+f(x2)] $$\n",
    "\n",
    "Donde $x_1$ es el punto medio y $x_2$ el punto final de la integral.\n",
    "\n",
    "Por lo tanto, si tomamos una cantidad 'n' de puntos entonces esta área que corresponde al valor de la integral estará dada por:\n",
    "\n",
    "$$\\int_{a}^{b}  \\ f(x) \\ dx = \\sum_{i=0}^{n-1} \\ \\left  [(x_{i+1}-x_i)f(x_i)+\\frac{x_{i+1}-x_i}{2}(f(x_{i+1})-f(x_i)) \\ \\right ] $$\n",
    "$$ = \\sum_{i=0}^{n-1} \\frac{1}{2}\\ \\left  [(x_{i+1}-x_i)f(x_i)+(x_{i+1}-x_i)(f(x_{i+1}) \\ \\right ] $$"
   ]
  },
  {
   "cell_type": "markdown",
   "metadata": {},
   "source": [
    "$$ = \\sum_{i=0}^{n-1} \\frac{ x_{i+1} - x_i }{2}\\ [ f(x_i)+(f(x_{i+1}) ] $$"
   ]
  },
  {
   "cell_type": "markdown",
   "metadata": {},
   "source": [
    "3. Calcular  una aproximación de las siguientes integrales  con los metodo 1,2 garantizando que el error sea menor a $\\varepsilon=1E-5$. \n",
    "\n",
    "- \n",
    " $$\n",
    " \\int_0^\\pi e^{1-\\sqrt{x}}\\, dx\n",
    " $$\n",
    "\n",
    "**Solución**\n",
    "\n",
    "Puesto que vamos a usar los métodos de las librerías de scipy, entonces necesitamos convertir la función dada en forma simbólica a un conjunto de puntos en el valor de $f(x)=y$, así, para nuestra función $e^{1-\\sqrt{x}}$, en el intervalo $I = [0,\\pi ]$ tenemos:"
   ]
  },
  {
   "cell_type": "code",
   "execution_count": 36,
   "metadata": {},
   "outputs": [
    {
     "name": "stdout",
     "output_type": "stream",
     "text": [
      "Usando el método del trapezoide: 2.8799225080144932\n",
      "Usando el método del simpson: 2.8797080265662682\n"
     ]
    }
   ],
   "source": [
    "import scipy.integrate as scin\n",
    "\n",
    "X = np.arange(0,np.pi+0.01,0.01)\n",
    "fx = lambda x: np.exp(1-x**(1/2))\n",
    "Y = fx(X)\n",
    "\n",
    "# Integramos usando el método del trapezoide con la función traída de scipy, tenemos:\n",
    "\n",
    "Itrap = scin.trapezoid(Y,X)\n",
    "print(\"Usando el método del trapezoide:\", Itrap)\n",
    "\n",
    "# Integramos por el método de Simpson:\n",
    "\n",
    "Isims = scin.simpson(Y,X)\n",
    "print(\"Usando el método del simpson:\", Isims)"
   ]
  },
  {
   "cell_type": "code",
   "execution_count": 37,
   "metadata": {},
   "outputs": [
    {
     "name": "stderr",
     "output_type": "stream",
     "text": [
      "/home/harold/anaconda3/lib/python3.9/site-packages/IPython/lib/latextools.py:126: MatplotlibDeprecationWarning: \n",
      "The to_png function was deprecated in Matplotlib 3.4 and will be removed two minor releases later. Use mathtext.math_to_image instead.\n",
      "  mt.to_png(f, s, fontsize=12, dpi=dpi, color=color)\n",
      "/home/harold/anaconda3/lib/python3.9/site-packages/IPython/lib/latextools.py:126: MatplotlibDeprecationWarning: \n",
      "The to_rgba function was deprecated in Matplotlib 3.4 and will be removed two minor releases later. Use mathtext.math_to_image instead.\n",
      "  mt.to_png(f, s, fontsize=12, dpi=dpi, color=color)\n",
      "/home/harold/anaconda3/lib/python3.9/site-packages/IPython/lib/latextools.py:126: MatplotlibDeprecationWarning: \n",
      "The to_mask function was deprecated in Matplotlib 3.4 and will be removed two minor releases later. Use mathtext.math_to_image instead.\n",
      "  mt.to_png(f, s, fontsize=12, dpi=dpi, color=color)\n",
      "/home/harold/anaconda3/lib/python3.9/site-packages/IPython/lib/latextools.py:126: MatplotlibDeprecationWarning: \n",
      "The MathtextBackendBitmap class was deprecated in Matplotlib 3.4 and will be removed two minor releases later. Use mathtext.math_to_image instead.\n",
      "  mt.to_png(f, s, fontsize=12, dpi=dpi, color=color)\n"
     ]
    },
    {
     "data": {
      "image/png": "[encoded data removed]",
      "text/latex": [
       "$\\displaystyle - 2 \\left(\\sqrt{x} + 1\\right) e^{1 - \\sqrt{x}}$"
      ],
      "text/plain": [
       "             1 - √x\n",
       "-2⋅(√x + 1)⋅ℯ      "
      ]
     },
     "execution_count": 37,
     "metadata": {},
     "output_type": "execute_result"
    }
   ],
   "source": [
    "# Ahora, intentemos econtrar el valor de la derivada usando la librería sympy\n",
    "\n",
    "import math as mt\n",
    "import sympy as sy\n",
    "%matplotlib inline\n",
    "\n",
    "x = sy.Symbol('x')\n",
    "\n",
    "f_x = sy.E ** (1 - sy.sqrt(x))\n",
    "\n",
    "Isimb = sy.integrate(f_x,x)\n",
    "sy.simplify(Isimb)"
   ]
  },
  {
   "cell_type": "code",
   "execution_count": 38,
   "metadata": {},
   "outputs": [
    {
     "name": "stdout",
     "output_type": "stream",
     "text": [
      "2.875491135437584\n"
     ]
    }
   ],
   "source": [
    "I_ind = sy.lambdify(x, Isimb, 'numpy')\n",
    "Ival = I_ind(np.pi) - I_ind(0)\n",
    "print(Ival)"
   ]
  },
  {
   "cell_type": "markdown",
   "metadata": {},
   "source": [
    "Además, al hacer la integral en Wolfram obtenemos la integral definida como:\n",
    "\n",
    "$$ \\int_{0}^{\\pi} e^{1-\\sqrt{x}} dx = 2e\\ \\left (1-e^{-\\sqrt{\\pi}} \\left (1+\\sqrt{\\pi}\\right)\\right ) \\approx 2.8755$$"
   ]
  },
  {
   "cell_type": "code",
   "execution_count": null,
   "metadata": {},
   "outputs": [],
   "source": []
  },
  {
   "cell_type": "markdown",
   "metadata": {},
   "source": [
    "- $$\n",
    " \\int_0^{\\pi/2} \\frac{1}{\\sqrt{\\tan x}}\\, dx\n",
    " $$\n",
    " \n",
    "Puesto que la función a integrar no está definida en el punto extremo izquiero $x=0$, entonces usando el método de solución de integrales con singularidades en el extremo izquierdo y dividiendo la integral en dos partes, tenemos:\n",
    "\n",
    "$$ \\int_{0}^{\\pi/2} \\frac{1}{\\sqrt{tan(x)}} = \\int_{0}^{\\pi/4} \\frac{1}{\\sqrt{tan(x)}} + \\int_{\\pi/4}^{\\pi/2} \\frac{1}{\\sqrt{tan(x)}} $$\n",
    "\n",
    "Usando la aproximación que mencionamos para singularidades de extremo izquierdo tenemos, que:\n",
    "\n",
    "$$t = tan(x)  \\Longrightarrow si \\ x=0 \\Rightarrow t = 0 \\ y \\ si \\ x=\\frac{\\pi}{4} \\Rightarrow t = 1 $$\n",
    "\n",
    "$$ \\int_{0}^{\\pi/4} \\frac{1}{\\sqrt{tan(x)}} = \\int_{0}^{1} \\frac{1}{\\sqrt{x)}} \\cdot \\frac{1}{1+t^2} dt $$"
   ]
  },
  {
   "cell_type": "markdown",
   "metadata": {},
   "source": [
    "$$ \\int_{0}^{\\pi/4} \\frac{1}{\\sqrt{tan(x)}} = \\int_{0}^{1} \\frac{G(t)}{\\sqrt{t}} dt + \\int_{0}^{1} \\frac{P_4(t)}{\\sqrt{t}} dt$$\n",
    "\n",
    "Donde $G(t)$ es una función por partes que depende de la función en términos de t y el cuarto polinomio de Taylor para esta función, de la siguiente manera:\n",
    "\n",
    "$$ G(t)=  \\left\\{\n",
    "\\begin{array}{ll}\n",
    "      g(t) - P_4(t) ,& 0<t\\leq 1 \\\\\n",
    "      0 ,& t=0 \\\\\n",
    "\\end{array} \n",
    "\\right. $$ \n",
    "\n",
    "$$ g(t) = \\frac{1}{1+t^2} $$\n",
    "\n",
    "$$ P_4(t) = g(0) + g'(0)t + \\frac{g''(0)t^2}{2!} + \\frac{g'''(0)t^3}{3!} + \\frac{g^(4)(0)t^4}{4!}$$ "
   ]
  },
  {
   "cell_type": "code",
   "execution_count": 39,
   "metadata": {},
   "outputs": [],
   "source": [
    "t  = sy.symbols('t')\n",
    "\n",
    "g = lambda t: 1/(1+t**2)\n",
    "\n",
    "der1 = sy.lambdify(t, sy.diff(g(t),t), 'numpy')\n",
    "der2 = sy.lambdify(t, sy.diff(g(t),t,2), 'numpy')\n",
    "der3 = sy.lambdify(t, sy.diff(g(t),t,3), 'numpy')\n",
    "der4 = sy.lambdify(t, sy.diff(g(t),t,4), 'numpy')\n",
    "\n",
    "def P4(t):\n",
    "    d1 = der1(0)*t\n",
    "    d2 = der2(0)*t**2/mt.factorial(2)\n",
    "    d3 = der3(0)*t**3/mt.factorial(3)\n",
    "    d4 = der4(0)*t**4/mt.factorial(4)\n",
    "    return g(0)+d1+d2+d3+d4\n",
    "\n",
    "def G_(t):\n",
    "    if t!=0:\n",
    "        G = g(t) - P4(t)\n",
    "    else:\n",
    "        G = 0\n",
    "    return G"
   ]
  },
  {
   "cell_type": "markdown",
   "metadata": {},
   "source": [
    "Ahora bien, con la intención de evitar el error de evaluar la función en $t=0$, definamos las funciones a integrar como $F1(t)= \\frac{G(t)}{\\sqrt{t}}$ y $F2(t)= \\frac{P_4(t)}{\\sqrt{t}}$:"
   ]
  },
  {
   "cell_type": "code",
   "execution_count": 40,
   "metadata": {},
   "outputs": [],
   "source": [
    "T = np.linspace(0,1,100)\n",
    "Y1 = np.zeros(len(T))\n",
    "Y2 = np.zeros(len(T))\n",
    "\n",
    "def F1_(t):\n",
    "    if t!=0:\n",
    "        F1 = G_(t)/np.sqrt(t)\n",
    "    else:\n",
    "        F1 = 0\n",
    "    return F1\n",
    "\n",
    "def F2_(t):\n",
    "    if t!=0:\n",
    "        F2 = P4(t)/np.sqrt(t)\n",
    "    else:\n",
    "        F2 = 0\n",
    "    return F2\n",
    "\n",
    "for i in range(len(T)):\n",
    "    Y1[i] = F1_(T[i])\n",
    "    Y2[i] = F2_(T[i])"
   ]
  },
  {
   "cell_type": "markdown",
   "metadata": {},
   "source": [
    "Ahora, podemos integrar numéricamente los valores de T,(Y1,Y2) aplicando la fórmula considera anteriormente."
   ]
  },
  {
   "cell_type": "code",
   "execution_count": 41,
   "metadata": {},
   "outputs": [
    {
     "data": {
      "image/png": "[encoded data removed]",
      "text/latex": [
       "$\\displaystyle -0.088295378034602$"
      ],
      "text/plain": [
       "-0.08829537803460202"
      ]
     },
     "execution_count": 41,
     "metadata": {},
     "output_type": "execute_result"
    }
   ],
   "source": [
    "scin.trapezoid(Y1,T)"
   ]
  },
  {
   "cell_type": "markdown",
   "metadata": {},
   "source": [
    "Del resultado anterior vemos que la integral que nos aporta $$ \\frac{G(t) - P4(t)}{\\sqrt{t}}$$"
   ]
  },
  {
   "cell_type": "code",
   "execution_count": 42,
   "metadata": {},
   "outputs": [
    {
     "name": "stdout",
     "output_type": "stream",
     "text": [
      "1.6754640866921386\n",
      "1.683826167636141\n",
      "Usando el método del trapezoide: 1.5871687086575366\n",
      "Usando el método del simpson: 1.595549605689727\n"
     ]
    }
   ],
   "source": [
    "# Integramos por el mértodo de trapezoide:\n",
    "\n",
    "Itrap1 = scin.trapezoid(Y1,T)\n",
    "Itrap2 = scin.trapezoid(Y2,T)\n",
    "print(Itrap2)\n",
    "# Integramos por el método de Simpson:\n",
    "\n",
    "Isims1 = scin.simpson(Y1,T)\n",
    "Isims2 = scin.simpson(Y2,T)\n",
    "print(Isims2)\n",
    "# Sabemos ahora, que la integral en total está dada por la suma de las dos integrales de F1 y F2, luego:\n",
    "\n",
    "print(\"Usando el método del trapezoide:\", Itrap1+Itrap2)\n",
    "print(\"Usando el método del simpson:\", Isims1+Isims2)"
   ]
  },
  {
   "cell_type": "markdown",
   "metadata": {},
   "source": [
    "Ahora bien, para calcular el valor de la otra parte de la integral, y para evitar que se produzca la indeterminación al evaluar x=0 en la función, usamos la identidad trignométrica que escribe la tangente en términos del seno y el coseno, luego obtenemos:\n",
    "\n",
    "$$ \\int_{\\pi/4}^{\\pi/2} \\frac{1}{\\sqrt{tan(x)}} \\ dx = \\int_{\\pi/4}^{\\pi/2} \\frac{\\sqrt{cos(x)}}{\\sqrt{sin(x)}} \\ dx $$"
   ]
  },
  {
   "cell_type": "code",
   "execution_count": 43,
   "metadata": {},
   "outputs": [],
   "source": [
    "def F_(x):\n",
    "    return np.sqrt(np.cos(x)/np.sin(x))\n",
    "\n",
    "h = 100\n",
    "Xa = np.linspace(np.pi/4,np.pi/2,h)\n",
    "Ya = F_(Xa)"
   ]
  },
  {
   "cell_type": "code",
   "execution_count": 44,
   "metadata": {},
   "outputs": [
    {
     "name": "stdout",
     "output_type": "stream",
     "text": [
      "Usando el método del trapezoide: 2.0745225526670925\n",
      "Usando el método del simpson: 2.0829571105244016\n"
     ]
    }
   ],
   "source": [
    "# Integramos por el mértodo de trapezoide:\n",
    "\n",
    "Itrap3 = scin.trapezoid(Ya,Xa)\n",
    "\n",
    "# Integramos por el método de Simpson:\n",
    "\n",
    "Isims3 = scin.simpson(Ya,Xa)\n",
    "\n",
    "# Sabemos ahora, que la integral en total está dada por la suma de las dos integrales de F1 y F2, luego:\n",
    "\n",
    "ItrapT = Itrap1+Itrap2+Itrap3\n",
    "IsimsT = Isims1+Isims2+Isims3\n",
    "print(\"Usando el método del trapezoide:\", ItrapT)\n",
    "print(\"Usando el método del simpson:\", IsimsT)"
   ]
  },
  {
   "cell_type": "code",
   "execution_count": null,
   "metadata": {},
   "outputs": [],
   "source": []
  },
  {
   "cell_type": "markdown",
   "metadata": {},
   "source": [
    "**Finalmente:** Usando Wolfram obtenemos que:\n",
    "\n",
    "$$ \\int_0^{\\pi/2} \\frac{1}{\\sqrt{\\tan x}}\\, dx = \\frac{\\pi}{\\sqrt{2}} \\approx 2.2214$$\n",
    "\n",
    "Esta integral no es evaluada en sympy, por lo que escribirla en Wolfram resultó la opción más viable"
   ]
  },
  {
   "cell_type": "code",
   "execution_count": null,
   "metadata": {},
   "outputs": [],
   "source": []
  },
  {
   "cell_type": "markdown",
   "metadata": {},
   "source": [
    "- \n",
    "\n",
    "$$\n",
    " \\int_{0}^{\\pi/4} \\int_{\\sin x}^{\\cos x} (2y\\sin x +\\cos^2 x)\\, dydx\n",
    " $$"
   ]
  },
  {
   "cell_type": "code",
   "execution_count": 45,
   "metadata": {},
   "outputs": [],
   "source": [
    "import numpy as np\n",
    "import matplotlib.pyplot as plt\n",
    "from sympy import *\n",
    "%matplotlib inline"
   ]
  },
  {
   "cell_type": "code",
   "execution_count": 46,
   "metadata": {},
   "outputs": [],
   "source": [
    "# Definimos la función de dos variables:\n",
    "\n",
    "def f(x,y):\n",
    "    return 2*y*np.sin(x)+np.cos(x)**2\n",
    "\n",
    "# Definimos las funciones que corresponden a los límites de integración para y\n",
    "def r(x):\n",
    "    return np.sin(x)\n",
    "\n",
    "def s(x):\n",
    "    return np.cos(x)"
   ]
  },
  {
   "cell_type": "code",
   "execution_count": 47,
   "metadata": {},
   "outputs": [],
   "source": [
    "# Definimos la función de integración por trapezoide para que se adapte a nuestro método:\n",
    "\n",
    "def Trapezoid(f,a,b,Ns):\n",
    "    if Ns==0:\n",
    "        return 0\n",
    "    \n",
    "    else:\n",
    "\n",
    "        #Ns: Numero de intervalos\n",
    "        x=np.linspace(a,b,Ns+1)\n",
    "\n",
    "    \n",
    "        h=x[1]-x[0]\n",
    "        suma=h/2*(f(x[0])+f(x[Ns]))\n",
    "    \n",
    "        for j in range(1,Ns-1 +1):\n",
    "            suma+=h*f(x[j])\n",
    "\n",
    "        return suma"
   ]
  },
  {
   "cell_type": "code",
   "execution_count": 48,
   "metadata": {},
   "outputs": [
    {
     "data": {
      "image/png": "[encoded data removed]",
      "text/plain": [
       "<Figure size 432x288 with 1 Axes>"
      ]
     },
     "metadata": {
      "needs_background": "light"
     },
     "output_type": "display_data"
    }
   ],
   "source": [
    "# Colocamos los límites de integración para 'x'\n",
    "# Consideramos que sobre el plano XY se toman 30 particiones en el intervalo de x entre los punto a y b\n",
    "\n",
    "a=0\n",
    "b=np.pi/4\n",
    "Nx=30\n",
    "\n",
    "x=np.linspace(a,b,Nx)\n",
    "hx=x[1]-x[0]\n",
    "\n",
    "plt.plot(x,r(x),color='blue')\n",
    "plt.plot(x,s(x),color='green')\n",
    "\n",
    "# Obtenemos la gráfica de como aparecen las particiones del piso de nuestro volumen\n",
    "# Donde cada área se halla mediante el método del trapezoide y luego se suman\n",
    "\n",
    "for i in range(Nx):\n",
    "    y=np.arange(r(x[i]),s(x[i])+hx,hx)\n",
    "    Ny=len(y)\n",
    "    y=np.linspace(r(x[i]),s(x[i]),Ny)\n",
    "    xi=[x[i]]*Ny\n",
    "    plt.plot(xi,y,'o--',color='red')"
   ]
  },
  {
   "cell_type": "code",
   "execution_count": 49,
   "metadata": {},
   "outputs": [],
   "source": [
    "# Luego de obtener el valor del área bajo la curva con la integración anterior nos resulta una función F(x)\n",
    "\n",
    "def F(x):\n",
    "    \n",
    "    def g(y):\n",
    "        return f(x,y)\n",
    "    \n",
    "    y=np.arange(r(x),s(x)+hx,hx)\n",
    "    Ny=len(y)\n",
    "\n",
    "    return Trapezoid(g,r(x),s(x),Ny-1)"
   ]
  },
  {
   "cell_type": "code",
   "execution_count": 66,
   "metadata": {},
   "outputs": [
    {
     "name": "stdout",
     "output_type": "stream",
     "text": [
      "El valor de la integral corresponde a: 0.5117234636377012\n"
     ]
    }
   ],
   "source": [
    "# Integramos nuevamente para hallar el volumen total\n",
    "\n",
    "Fs=np.zeros(len(x))\n",
    "\n",
    "for i in range(len(x)):\n",
    "    Fs[i]=np.abs(F(x[i]))\n",
    "\n",
    "print(\"El valor de la integral corresponde a:\",Trapezoid(F,a,b,Nx))"
   ]
  },
  {
   "cell_type": "markdown",
   "metadata": {},
   "source": [
    "**Finalmente:**  Al hacer esta misma integral en Wolfram obtenemos:\n",
    "\n",
    "$$ \\int_{0}^{\\pi/4} \\int_{\\sin x}^{\\cos x} (2y\\sin x +\\cos^2 x)\\, dydx \\approx 0.511845$$"
   ]
  },
  {
   "cell_type": "code",
   "execution_count": null,
   "metadata": {},
   "outputs": [],
   "source": []
  },
  {
   "cell_type": "markdown",
   "metadata": {},
   "source": [
    "### - \n",
    "$$\n",
    " \\int_{-\\infty}^{\\infty} \\frac{1}{1+x^2} \\, dx\n",
    " $$\n",
    "\n",
    "**Solución:**\n",
    "Dividiendo la integral en 3 partes para poder aplicar el cambio de variables en los valores de infinito, tenemos:\n",
    "\n",
    "$$ \\int_{-\\infty}^{\\infty} \\frac{1}{1+x^2} \\, dx =\n",
    " \\int_{-\\infty}^{1} \\frac{1}{1+x^2} \\ dx + \\int_{-1}^{1} \\frac{1}{1+x^2} \\ dx + \\int_{1}^{\\infty} \\frac{1}{1+x^2} \\ dx$$\n",
    " \n",
    "Sabiendo que la función que integramos es par y puesto que el tamaño del intervalo negativo es igual al positivo, tenemos:\n",
    "\n",
    "$$ \\int_{-\\infty}^{1} \\frac{1}{1+x^2} \\ dx =  \\int_{1}^{\\infty} \\frac{1}{1+x^2} \\ dx$$\n",
    "\n",
    "Al hacer la sustitución $t=(x+1)^{-1}$ obtenemos:\n",
    "\n",
    "$$ \\int_{1}^{\\infty} \\frac{1}{1+x^2} \\ dx = \\int_{0}^{1} \\frac{1}{1 + t^2} \\ dt $$"
   ]
  },
  {
   "cell_type": "code",
   "execution_count": 82,
   "metadata": {},
   "outputs": [
    {
     "data": {
      "image/png": "[encoded data removed]",
      "text/latex": [
       "$\\displaystyle \\operatorname{atan}{\\left(x \\right)}$"
      ],
      "text/plain": [
       "atan(x)"
      ]
     },
     "execution_count": 82,
     "metadata": {},
     "output_type": "execute_result"
    }
   ],
   "source": [
    "# Realizamos simbólicamente la integral completa para obtener el valor real\n",
    "import sympy as sy\n",
    "\n",
    "x = sy.symbols('x')\n",
    "%matplotlib inline\n",
    "\n",
    "Ireal = sy.integrate( (1/(x**2+1) ),x)\n",
    "Ireal"
   ]
  },
  {
   "cell_type": "code",
   "execution_count": 83,
   "metadata": {},
   "outputs": [
    {
     "data": {
      "image/png": "[encoded data removed]",
      "text/latex": [
       "$\\displaystyle 3.14159265358979$"
      ],
      "text/plain": [
       "3.141592653589793"
      ]
     },
     "execution_count": 83,
     "metadata": {},
     "output_type": "execute_result"
    }
   ],
   "source": [
    "IrealV = sy.lambdify(t,Ireal)\n",
    "#print(IrealV(1)) # Confirmamos que la función funciona\n",
    "\n",
    "# Luego la integral definida corresponde a\n",
    "\n",
    "Ireald = IrealV(np.Inf) - IrealV(np.NINF)\n",
    "Ireald"
   ]
  },
  {
   "cell_type": "markdown",
   "metadata": {},
   "source": [
    "Obtenemos que el valor esperado de la integral es el valor de $\\pi$."
   ]
  },
  {
   "cell_type": "code",
   "execution_count": 106,
   "metadata": {},
   "outputs": [],
   "source": [
    "# Realizemos inicialmente la integral entre -1 y 1 (Integral 1)\n",
    "\n",
    "Gx = lambda x: 1/(1+x**2)\n",
    "\n",
    "N = 100\n",
    "X = np.linspace(-1,1,N)\n",
    "Y1 =  Gx(X)"
   ]
  },
  {
   "cell_type": "code",
   "execution_count": 107,
   "metadata": {},
   "outputs": [
    {
     "name": "stdout",
     "output_type": "stream",
     "text": [
      "1.5707623166599438\n",
      "1.5707966702601486\n"
     ]
    }
   ],
   "source": [
    "I1s = scin.simpson(Y1,X)\n",
    "I1t = scin.trapezoid(Y1,X)\n",
    "print(I1t)\n",
    "print(I1s)"
   ]
  },
  {
   "cell_type": "code",
   "execution_count": 115,
   "metadata": {},
   "outputs": [],
   "source": [
    "# Realizemos ahora la integral con la sustitución y la multiplicamos por 2 (Integral 2)\n",
    "\n",
    "Ft = lambda t: 1/(1+t**2)\n",
    "\n",
    "def Inum2(N): #N número de puntos en el intervalo considerados\n",
    "    T = np.linspace(0,1,N)\n",
    "    Y = Ft(T)\n",
    "    I2t = 2*scin.trapezoid(Y,T)\n",
    "    I2s = 2*scin.simpson(Y,T)\n",
    "    \n",
    "    return I2t,I2s\n",
    "\n",
    "erabS = 1\n",
    "erabT = 1"
   ]
  },
  {
   "cell_type": "code",
   "execution_count": 123,
   "metadata": {},
   "outputs": [
    {
     "name": "stdout",
     "output_type": "stream",
     "text": [
      "3.401013496162619e-05 3.434652517952941e-07\n"
     ]
    }
   ],
   "source": [
    "while (erabS>1e-5 and erabT>1e-5):\n",
    "    erabT = np.abs(Ireald - Inum2(N)[0] - I1t)\n",
    "    erabS = np.abs(Ireald - Inum2(N)[1] - I1s)\n",
    "    N = N*10\n",
    "    \n",
    "print(erabT,erabS)"
   ]
  },
  {
   "cell_type": "code",
   "execution_count": 121,
   "metadata": {},
   "outputs": [
    {
     "name": "stdout",
     "output_type": "stream",
     "text": [
      "Valor usando trapezoide: 3.14155855995459\n",
      "Valor usando simpson: 3.1415929969296696\n"
     ]
    }
   ],
   "source": [
    "# Así, al considerara mil valores de la partición tenemos el error querido con los dos métodos\n",
    "\n",
    "print(\"Valor usando trapezoide:\",Inum2(1000)[0] + I1t)\n",
    "print(\"Valor usando simpson:\",Inum2(1000)[1]+I1s )"
   ]
  },
  {
   "cell_type": "code",
   "execution_count": null,
   "metadata": {},
   "outputs": [],
   "source": []
  },
  {
   "cell_type": "markdown",
   "metadata": {},
   "source": [
    "- \n",
    "$$\n",
    " \\int_{e}^{2e} \\frac{1}{\\ln x} \\, dx\n",
    " $$"
   ]
  },
  {
   "cell_type": "code",
   "execution_count": 128,
   "metadata": {},
   "outputs": [
    {
     "name": "stdout",
     "output_type": "stream",
     "text": [
      "El valor de la integral usando trapezoide es: 2.003810749013251\n",
      "El valor de la integral usando simpson es: 2.0038105619858713\n"
     ]
    }
   ],
   "source": [
    "# Definamos la función en términos de x\n",
    "\n",
    "FLn = lambda x: 1/np.log(x)\n",
    "\n",
    "X = np.linspace(np.exp(1),2*np.exp(1),1000)\n",
    "Y = FLn(X)\n",
    "\n",
    "Itrap = scin.trapezoid(Y,X,dx=1e-6)\n",
    "Isims = scin.simpson(Y,X,dx=1e-6)\n",
    "\n",
    "\n",
    "print(\"El valor de la integral usando trapezoide es:\",Itrap)\n",
    "print(\"El valor de la integral usando simpson es:\",Isims)"
   ]
  },
  {
   "cell_type": "markdown",
   "metadata": {},
   "source": [
    "**Finalmente:** Usando Wolfram obtenemos que la integral es:\n",
    "\n",
    "$$ \\int_{e}^{2e} \\frac{1}{\\ln x} \\, dx \\approx 2.003810561624024 $$"
   ]
  },
  {
   "cell_type": "code",
   "execution_count": 129,
   "metadata": {},
   "outputs": [
    {
     "name": "stdout",
     "output_type": "stream",
     "text": [
      "1.8738922724637064e-07 3.618474408995098e-10\n"
     ]
    }
   ],
   "source": [
    "Ireal = 2.003810561624024\n",
    "ErrTrap = np.abs(Ireal-Itrap)\n",
    "ErrSims = np.abs(Ireal-Isims)\n",
    "\n",
    "print(ErrTrap,ErrSims)"
   ]
  },
  {
   "cell_type": "markdown",
   "metadata": {
    "id": "6hJGsmCkF6Wv"
   },
   "source": [
    "4. Suppose a body of mass m is traveling vertically upward starting at the surface of the earth. If all\n",
    "resistance except gravity is neglected, the escape velocity v is given by\n",
    "\n",
    "$$\n",
    "v^2=2gR\\int_1 ^\\infty z^{-2} dz,\n",
    "$$\n",
    "\n",
    "where z=x/R, R is the earth radius and g de gravity aceleration. Approximate the scape velocity."
   ]
  },
  {
   "cell_type": "code",
   "execution_count": 133,
   "metadata": {},
   "outputs": [],
   "source": [
    "# Escribamos inicialmente los valores constantes a considerar\n",
    "\n",
    "g = 9.8 #m/s^2\n",
    "R = 6371000 #m"
   ]
  },
  {
   "cell_type": "markdown",
   "metadata": {},
   "source": [
    "Para evitarnos complicaciones al definir a z, hagamos la integral usando a ésta como variable. Donde al realizar manualmente esta integral obtenemos:\n",
    "\n",
    "$$\\int_1^\\infty z^{-2} dz = 1$$\n",
    "\n",
    "Ahora bien, veamos que numéricamente obtenemos que:"
   ]
  },
  {
   "cell_type": "code",
   "execution_count": 134,
   "metadata": {},
   "outputs": [],
   "source": [
    "f = lambda z: z**(-1)\n",
    "\n",
    "Z = np.linspace(1,1e20,100)"
   ]
  },
  {
   "cell_type": "markdown",
   "metadata": {},
   "source": [
    "Haciendo la sustitución $t=z^{-1}$, obtenemos que la integral se convierte en:\n",
    "\n",
    "$$ \\int_0^1 \\frac{1}{t^{2-2}} = \\int_0^1 dt = 1 $$\n",
    "\n",
    "Por lo tanto, $v = \\sqrt{2gR}$"
   ]
  },
  {
   "cell_type": "code",
   "execution_count": 135,
   "metadata": {},
   "outputs": [
    {
     "name": "stdout",
     "output_type": "stream",
     "text": [
      "Por lo tanto, el valor de escape es de: 11174.596189572132 m/s.\n"
     ]
    }
   ],
   "source": [
    "v = np.sqrt(2*g*R)\n",
    "print(\"Por lo tanto, el valor de escape es de:\",v, \"m/s.\")"
   ]
  },
  {
   "cell_type": "code",
   "execution_count": null,
   "metadata": {},
   "outputs": [],
   "source": []
  },
  {
   "cell_type": "markdown",
   "metadata": {
    "id": "dJVCeEtpX2sJ"
   },
   "source": [
    "\n",
    "6 Write a double precision program to integrate an arbitrary function numerically using the trapezoid rule, the Simpson rule, and Gaussian quadrature. For our assumed problems there is an analytics answer:\n",
    "\n",
    "\\begin{equation}\n",
    "\\frac{\\mathrm{d}N(t)}{\\mathrm{d}t}=e^{-t}\n",
    "\\end{equation}\n",
    "\n",
    "\\begin{equation}\n",
    "N(1)=\\int_0^{1}e^{-t} dt=1-e^{-1}\n",
    "\\end{equation}\n",
    "\n",
    "6.2. Compute the relative error $\\epsilon=|numerical-exact|/exact$ in each case. Present your data in the tabular form \n",
    "with space or tabas seprating the field. Try N values of 2, 10, 20 , 40 , 80, 160\n",
    "\n",
    "| N  |$\\epsilon_T$ | $\\epsilon_S$ | $\\epsilon_G$ |\n",
    "|----|---------------|--------------|--------------|\n",
    "|   2  |...|...|...|\n",
    "|   10  |...|...|...|"
   ]
  },
  {
   "cell_type": "markdown",
   "metadata": {
    "id": "X3Yyg-Hhhljo"
   },
   "source": [
    "Realicemos la integral"
   ]
  },
  {
   "cell_type": "code",
   "execution_count": 138,
   "metadata": {},
   "outputs": [],
   "source": [
    "# Definimos la función\n",
    "f = lambda t: np.exp(-t)\n",
    "\n",
    "# Colocamos el valor real de la integral de referencia\n",
    "Ireal = 1 - np.exp(-1)\n",
    "\n",
    "# Hacemos el arreglo de los valores\n",
    "N = np.array([2,10,20,40,80,160])\n",
    "\n",
    "# Hacemos el arreglo de errores asociados a cada método\n",
    "\n",
    "Err_trap = np.zeros(len(N))\n",
    "Err_sims = np.zeros(len(N))\n",
    "\n",
    "# Colocamos un ciclo que llene estas funciones de error\n",
    "# Por ahora solo consideramos trapecio y simpson\n",
    "\n",
    "for i in range(len(N)):\n",
    "    T = np.linspace(0,1,N[i])\n",
    "    \n",
    "    Itrap = scin.trapezoid(f(T),T)\n",
    "    Err_trap[i] = np.abs((Itrap-Ireal)/Ireal)\n",
    "    \n",
    "    Isims = scin.simpson(f(T),T)\n",
    "    Err_sims[i] = np.abs((Isims-Ireal)/Ireal)"
   ]
  },
  {
   "cell_type": "code",
   "execution_count": 167,
   "metadata": {},
   "outputs": [
    {
     "data": {
      "text/html": [
       "<div>\n",
       "<style scoped>\n",
       "    .dataframe tbody tr th:only-of-type {\n",
       "        vertical-align: middle;\n",
       "    }\n",
       "\n",
       "    .dataframe tbody tr th {\n",
       "        vertical-align: top;\n",
       "    }\n",
       "\n",
       "    .dataframe thead th {\n",
       "        text-align: right;\n",
       "    }\n",
       "</style>\n",
       "<table border=\"1\" class=\"dataframe\">\n",
       "  <thead>\n",
       "    <tr style=\"text-align: right;\">\n",
       "      <th></th>\n",
       "      <th>N</th>\n",
       "      <th>𝜖_T</th>\n",
       "      <th>𝜖_S</th>\n",
       "    </tr>\n",
       "  </thead>\n",
       "  <tbody>\n",
       "    <tr>\n",
       "      <th>0</th>\n",
       "      <td>2</td>\n",
       "      <td>0.081977</td>\n",
       "      <td>8.197671e-02</td>\n",
       "    </tr>\n",
       "    <tr>\n",
       "      <th>1</th>\n",
       "      <td>10</td>\n",
       "      <td>0.001029</td>\n",
       "      <td>1.214802e-04</td>\n",
       "    </tr>\n",
       "    <tr>\n",
       "      <th>2</th>\n",
       "      <td>20</td>\n",
       "      <td>0.000231</td>\n",
       "      <td>1.303125e-05</td>\n",
       "    </tr>\n",
       "    <tr>\n",
       "      <th>3</th>\n",
       "      <td>40</td>\n",
       "      <td>0.000055</td>\n",
       "      <td>1.513477e-06</td>\n",
       "    </tr>\n",
       "    <tr>\n",
       "      <th>4</th>\n",
       "      <td>80</td>\n",
       "      <td>0.000013</td>\n",
       "      <td>1.824856e-07</td>\n",
       "    </tr>\n",
       "    <tr>\n",
       "      <th>5</th>\n",
       "      <td>160</td>\n",
       "      <td>0.000003</td>\n",
       "      <td>2.240700e-08</td>\n",
       "    </tr>\n",
       "  </tbody>\n",
       "</table>\n",
       "</div>"
      ],
      "text/plain": [
       "     N       𝜖_T           𝜖_S\n",
       "0    2  0.081977  8.197671e-02\n",
       "1   10  0.001029  1.214802e-04\n",
       "2   20  0.000231  1.303125e-05\n",
       "3   40  0.000055  1.513477e-06\n",
       "4   80  0.000013  1.824856e-07\n",
       "5  160  0.000003  2.240700e-08"
      ]
     },
     "execution_count": 167,
     "metadata": {},
     "output_type": "execute_result"
    }
   ],
   "source": [
    "# Hacemos el dataframe asociado\n",
    "\n",
    "import pandas as pd\n",
    "\n",
    "df = pd.DataFrame({\"N\":N, \"𝜖_T\":Err_trap, \"𝜖_S\":Err_sims})\n",
    "df"
   ]
  },
  {
   "cell_type": "markdown",
   "metadata": {},
   "source": [
    "6.3. Make a log-log plot of relative errore versus. You should observe that \n",
    "$\\epsilon\\approx CN^{\\alpha}$, $\\mathrm{log} \\epsilon =\\alpha \\mathrm{log}N + \\mathrm{constant}$. This mean that a power-law dependence appears as a straight line on a log-log plot, and that if you use $\\log_{10}$, the the ordinate on your log-log plot will be the negative of the numver of decimal places of presicion in your calculation."
   ]
  },
  {
   "cell_type": "code",
   "execution_count": null,
   "metadata": {},
   "outputs": [],
   "source": [
    "from scipy.optimize import curve_fit"
   ]
  },
  {
   "cell_type": "code",
   "execution_count": 165,
   "metadata": {},
   "outputs": [
    {
     "data": {
      "image/png": "[encoded data removed]",
      "text/plain": [
       "<Figure size 432x288 with 1 Axes>"
      ]
     },
     "metadata": {
      "needs_background": "light"
     },
     "output_type": "display_data"
    }
   ],
   "source": [
    "# Graficamos el error relativo vs. los posibles valores de N\n",
    "# Sabiendo que se comportan como logaritmos, los linealizamos\n",
    "# Para la integral por trapezoide\n",
    "\n",
    "plt.scatter(np.log(N), np.log(Err_trap))\n",
    "plt.title(\"Error relativo de la integral con Trapezoide\",size=15)\n",
    "plt.xlabel(r\"$\\ln ( Número \\ de \\ particiones )$\")\n",
    "plt.ylabel(r\"$\\ln(\\epsilon_r)$\",size =13)\n",
    "plt.grid()"
   ]
  },
  {
   "cell_type": "code",
   "execution_count": 164,
   "metadata": {},
   "outputs": [
    {
     "data": {
      "image/png": "[encoded data removed]",
      "text/plain": [
       "<Figure size 432x288 with 1 Axes>"
      ]
     },
     "metadata": {
      "needs_background": "light"
     },
     "output_type": "display_data"
    }
   ],
   "source": [
    "# Para la integral por simpson\n",
    "\n",
    "plt.scatter(np.log(N), np.log(Err_sims))\n",
    "plt.title(\"Error relativo de la integral con Simpson\",size=15)\n",
    "plt.xlabel(r\"$\\ln ( Número \\ de \\ particiones )$\")\n",
    "plt.ylabel(r\"$\\ln(\\epsilon_r)$\",size =13)\n",
    "plt.grid()"
   ]
  },
  {
   "cell_type": "code",
   "execution_count": 181,
   "metadata": {},
   "outputs": [
    {
     "data": {
      "text/plain": [
       "array([-2.28881077, -1.26850937])"
      ]
     },
     "execution_count": 181,
     "metadata": {},
     "output_type": "execute_result"
    }
   ],
   "source": [
    "from scipy.optimize import curve_fit\n",
    "\n",
    "# Usemos los métodos de ajuste para obtener la pendiente e intercepto de la recta\n",
    "\n",
    "x = np.log(N)\n",
    "y1 = np.log(Err_trap)\n",
    "\n",
    "# Definamos la función de una recta en general\n",
    "\n",
    "def recta(x,a,b):\n",
    "    return (a*x+b)\n",
    "\n",
    "# Usemos curve_fit para obtener los valores de a y b\n",
    "p_parT, p_errT = curve_fit(recta,x,y1)\n",
    "p_parT"
   ]
  },
  {
   "cell_type": "code",
   "execution_count": 187,
   "metadata": {},
   "outputs": [
    {
     "name": "stdout",
     "output_type": "stream",
     "text": [
      "Luego 𝜖_T = -1.2685093736440067 N^ -2.2888107703114\n"
     ]
    }
   ],
   "source": [
    "# Donde estos valores corresponden a la pendiente y el intercepto respectivamente\n",
    "\n",
    "a = p_parT[0]\n",
    "b = p_parT[1]\n",
    "\n",
    "print(\"Luego 𝜖_T =\",b,\"N^\",a)"
   ]
  },
  {
   "cell_type": "code",
   "execution_count": 188,
   "metadata": {},
   "outputs": [
    {
     "name": "stdout",
     "output_type": "stream",
     "text": [
      "Luego 𝜖_S = -1.2685093736440067 N^ -2.2888107703114\n"
     ]
    }
   ],
   "source": [
    "x = np.log(N)\n",
    "y2 = np.log(Err_sims)\n",
    "\n",
    "p_parS, p_errS = curve_fit(recta,x,y1)\n",
    "\n",
    "a_ = p_parS[0]\n",
    "b_ = p_parS[1]\n",
    "\n",
    "print(\"Luego 𝜖_S =\",b_,\"N^\",a_)"
   ]
  }
 ],
 "metadata": {
  "colab": {
   "collapsed_sections": [],
   "name": "Tarea07_Derivada_integracion_01.ipynb",
   "provenance": []
  },
  "kernelspec": {
   "display_name": "Python 3",
   "language": "python",
   "name": "python3"
  },
  "language_info": {
   "codemirror_mode": {
    "name": "ipython",
    "version": 3
   },
   "file_extension": ".py",
   "mimetype": "text/x-python",
   "name": "python",
   "nbconvert_exporter": "python",
   "pygments_lexer": "ipython3",
   "version": "3.9.7"
  }
 },
 "nbformat": 4,
 "nbformat_minor": 1
}
