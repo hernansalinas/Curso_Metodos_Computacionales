{
 "cells": [
  {
   "cell_type": "markdown",
   "id": "45ac8bb4",
   "metadata": {},
   "source": [
    "## Tarea 2. Serie Exponencial y Errores \n",
    "\n",
    "- Write a program that calculates $e^{-x}$ \n",
    "\n",
    "\\begin{equation}\n",
    "e^{-x}=\\sum_{n=0}^{N}  (-1)^n \\frac{x^{n}}{n!}\n",
    "\\end{equation}"
   ]
  },
  {
   "cell_type": "code",
   "execution_count": 1,
   "id": "6bb95f49",
   "metadata": {},
   "outputs": [],
   "source": [
    "import numpy as np\n",
    "import matplotlib.pyplot as plt\n",
    "import math as mt"
   ]
  },
  {
   "cell_type": "code",
   "execution_count": 2,
   "id": "a887d519",
   "metadata": {},
   "outputs": [],
   "source": [
    "#Función que calcule e^(-x)\n",
    "\n",
    "#Calcula los an de la serie\n",
    "def exp_terms(x,i): \n",
    "    return (-x)**i/mt.factorial(i)\n",
    "\n",
    "#Realiza la sumatoria hasta un valor dado 'N'\n",
    "def exp_sum(x,N):\n",
    "    an = 0\n",
    "    for n in range(N+1):\n",
    "        an += exp_terms(x,n)\n",
    "        #print(n,'->',an)\n",
    "    return an "
   ]
  },
  {
   "cell_type": "markdown",
   "id": "a61c8a23",
   "metadata": {},
   "source": [
    "- Calculate your series for $x \\le 1$ and compare it to the built-in function\n",
    "exp(x) (you may assume that the built-in exponential function is exact).\n",
    "You should pick an N for which the next term in the series is no more\n",
    "than $10^{-7}$ of the sum up to that point\n",
    "\n",
    "\\begin{equation}\n",
    "\\left| \\frac{(-x)^{N+1}}{(N+1)!} \\right | \\le \\left| 10^{-7} \\sum_{N=0}^{N} \\frac{(-x)^{n}}{n!} \\right|\n",
    "\\end{equation}"
   ]
  },
  {
   "cell_type": "markdown",
   "id": "7e450fcd",
   "metadata": {},
   "source": [
    "**Solución**\n",
    "\n",
    "Para calcular el N t/q el siguiente término\n",
    "sea menor a 10^(-7) veces el término N\n",
    "consideramos realizar las iteraciones de la función que nos da la suma de los a_n hasta que:\n",
    "\n",
    "\\begin{equation}\n",
    "\\left| \\frac{\\frac{(-x)^{N+1}}{(N+1)!}}{\\sum_{N=0}^{N} \\frac{(-x)^{n}}{n!}} \\right | \\le 10^{-7}\n",
    "\\end{equation}"
   ]
  },
  {
   "cell_type": "code",
   "execution_count": 9,
   "id": "3acabbd5",
   "metadata": {},
   "outputs": [
    {
     "name": "stdout",
     "output_type": "stream",
     "text": [
      "8\n"
     ]
    }
   ],
   "source": [
    "# Así, econtramos el N usando la función:\n",
    "\n",
    "def Maxvalexp(x):\n",
    "    N = 0\n",
    "    while np.abs(exp_terms(x,N+1)/exp_sum(x,N)) >= 10**(-7):\n",
    "        N = N + 1\n",
    "    return N\n",
    "\n",
    "#Considerando los valores menores a 1 tenemos:\n",
    "\n",
    "x = 0.5\n",
    "N = Maxvalexp(x)\n",
    "print(N)"
   ]
  },
  {
   "cell_type": "code",
   "execution_count": 10,
   "id": "1ef093aa",
   "metadata": {},
   "outputs": [
    {
     "name": "stdout",
     "output_type": "stream",
     "text": [
      "El valor obtenido en nuestro programa es:\n",
      "0.6065306648375496\n",
      "\n",
      "mientras que el obtenido de la librería math es:\n",
      "0.6065306597126334\n",
      "\n",
      "Con errores absoluto 5.124916158116832e-09 y relativo 8.449558280442002e-09\n"
     ]
    }
   ],
   "source": [
    "\"\"\"Considerando el valor evaluado luego de\n",
    "   8 iteraciones y comparándolo con el obtenido\n",
    "   por defecto de python tenemos: \"\"\"\n",
    "\n",
    "e_mx = exp_sum(x,N)\n",
    "e_mxf = mt.exp(-x)\n",
    "print(f\"El valor obtenido en nuestro programa es:\")\n",
    "print(e_mx)\n",
    "\n",
    "print(f\"\\nmientras que el obtenido de la librería math es:\")\n",
    "print(e_mxf)\n",
    "\n",
    "#Calculemos los errores absoulto y relativo\n",
    "\n",
    "def erabs(valt,valc):\n",
    "    return np.abs(valt - valc)\n",
    "def errel(valt,valc):\n",
    "    return np.abs(valt - valc)/valt\n",
    "\n",
    "print(f\"\\nCon errores absoluto {erabs(e_mxf,e_mx)} y relativo {errel(e_mxf,e_mx)}\")"
   ]
  },
  {
   "cell_type": "markdown",
   "id": "42341477",
   "metadata": {},
   "source": [
    "- Examine the terms in the series for $x\\approx 10$ and observe the significant subtractive cancellations that occur when large terms add together to give small answers. In particular, print out the near-perfect cancellation\n",
    "at $n \\approx x − 1$."
   ]
  },
  {
   "cell_type": "code",
   "execution_count": 13,
   "id": "f65f6417",
   "metadata": {},
   "outputs": [
    {
     "name": "stdout",
     "output_type": "stream",
     "text": [
      "El número de iteraciones necesarias par el x = 9.87, es de 44\n",
      "\n",
      "Así, la función evaluada en 9.87, nos da un valor de 5.1702732903740044e-05\n",
      "Con unos errores absoluto de 4.28927799853672e-12 y relativo de 8.296037972233719e-08\n"
     ]
    }
   ],
   "source": [
    "# Considerando ahora un valor de x cercano a 10\n",
    "\n",
    "x = 9.87\n",
    "\n",
    "# Ahora veamos la cantidad de iteraciones a hacer\n",
    "\n",
    "N = Maxvalexp(x)\n",
    "print(f\"El número de iteraciones necesarias par el x = {x}, es de {N}\")\n",
    "\n",
    "def exp_sum1(x,N):\n",
    "    an = 0\n",
    "    for n in range(N+1):\n",
    "        an += exp_terms(x,n)\n",
    "    return an \n",
    "\n",
    "e_mx1 = exp_sum1(x,N)\n",
    "e_mxf1 = mt.exp(-x)\n",
    "\n",
    "abso = erabs(e_mxf1,e_mx1)\n",
    "rela = errel(e_mxf1,e_mx1)\n",
    "\n",
    "print(f\"\\nAsí, la función evaluada en {x}, nos da un valor de {e_mx1}\")\n",
    "print(f\"Con unos errores absoluto de {abso} y relativo de {rela}\")"
   ]
  },
  {
   "cell_type": "markdown",
   "id": "8ec94ef8",
   "metadata": {},
   "source": [
    "Ahora bien, consideremos no la suma de las 44 iteraciones calculadas sino que consideremos 43 y veamos la diferencia de los errores dada en comparación con el valor anterior."
   ]
  },
  {
   "cell_type": "code",
   "execution_count": 16,
   "id": "869f98b7",
   "metadata": {},
   "outputs": [
    {
     "name": "stdout",
     "output_type": "stream",
     "text": [
      "Valor calculado con N-1 iteraciones 5.170271175154852e-05\n",
      "Valor dado por la función de math 5.1702728614462046e-05\n",
      "Luego tiene un error absoluto de 1.6862913524578766e-11\n"
     ]
    }
   ],
   "source": [
    "e_mx2 = exp_sum1(x,N-1)\n",
    "\n",
    "print(f\"Valor calculado con N-1 iteraciones {e_mx2}\")\n",
    "print(f\"Valor dado por la función de math {e_mxf1}\")\n",
    "print(f\"Luego tiene un error absoluto de {erabs(e_mxf1,e_mx2)}\")"
   ]
  },
  {
   "cell_type": "markdown",
   "id": "1d5ca06d",
   "metadata": {},
   "source": [
    "- See if better precision is obtained by being clever and using exp(−x) = 1/ exp(x) for large x values. This eliminates subtractive cancellation, but does not eliminate all roundoff errors\n",
    "\n",
    "- By progressively increasing x from 1 to 10, and then from 10 to 100, use your program to determine experimentally when the series starts to lose accuracy, and when the series no longer converges\n",
    "\n",
    "- Make a series of graphs of the error versus N for different values of x."
   ]
  },
  {
   "cell_type": "code",
   "execution_count": null,
   "id": "d961200f",
   "metadata": {},
   "outputs": [],
   "source": []
  }
 ],
 "metadata": {
  "kernelspec": {
   "display_name": "Python 3",
   "language": "python",
   "name": "python3"
  },
  "language_info": {
   "codemirror_mode": {
    "name": "ipython",
    "version": 3
   },
   "file_extension": ".py",
   "mimetype": "text/x-python",
   "name": "python",
   "nbconvert_exporter": "python",
   "pygments_lexer": "ipython3",
   "version": "3.9.7"
  }
 },
 "nbformat": 4,
 "nbformat_minor": 5
}
