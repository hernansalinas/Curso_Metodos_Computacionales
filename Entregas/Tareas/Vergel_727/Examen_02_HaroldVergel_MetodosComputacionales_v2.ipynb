{
 "cells": [
  {
   "cell_type": "markdown",
   "metadata": {
    "id": "rARH0cdA-OaH"
   },
   "source": [
    "# Examen 02\n",
    "\n",
    "Metodos Computacionales\n",
    "\n",
    "Profesor: Hernan David Salinas Jimenez"
   ]
  },
  {
   "cell_type": "code",
   "execution_count": 71,
   "metadata": {},
   "outputs": [],
   "source": [
    "import numpy as np\n",
    "import matplotlib.pyplot as plt\n",
    "import scipy as sc\n",
    "import scipy.misc as scm\n",
    "import sympy as sy"
   ]
  },
  {
   "cell_type": "markdown",
   "metadata": {},
   "source": [
    "### Integracion \n",
    "1. (33%) I) The period of a pendulum of length l oscillating at a large angle $\\alpha$ is given by\n",
    "$$\n",
    "T=T_{0} \\frac{\\sqrt{2}}{\\pi} \\int_{0}^{\\alpha} \\frac{d \\theta}{(\\cos \\theta-\\cos \\alpha)^{\\frac{1}{2}}}\n",
    "$$\n",
    "where\n",
    "$$\n",
    "T_{0}=2 \\pi \\sqrt{\\frac{l}{g}}\n",
    "$$\n",
    "is the period of the same pendulum at small amplitudes. Any numerical evaluation of the integral as is would fail (explain why). If we change the variable by writing:\n",
    "$$\n",
    "\\sin \\frac{\\theta}{2}=\\sin \\frac{\\alpha}{2} \\sin \\phi\n",
    "$$\n",
    "we can get:\n",
    "$$\n",
    "T=\\frac{2 T_{0}}{\\pi} \\int_{0}^{\\frac{\\pi}{2}} \\frac{d \\phi}{\\left(1-\\sin ^{2} \\frac{\\alpha}{2} \\sin ^{2} \\phi\\right)^{\\frac{1}{2}}}\n",
    "$$\n",
    "which is a well-behaved integral. Write a program to use the above integral to calculate the ratio $T/T_0$ for integral amplitudes $0^\\circ \\le\\alpha \\le 90^\\circ$. Output these values as a pandas dataframe showing the amplitude in degrees and radians as well as $T/T_0$, and make a plot with the two columns. Explain the result when $\\alpha = 0.$ "
   ]
  },
  {
   "cell_type": "markdown",
   "metadata": {},
   "source": [
    "**Respuesta 1:** Si queremos evaluar numéricamente la primer integral esta fallaría debido a que existe una singularidad cuando evaluamos la función a integrar en el valor de $\\alpha$, puesto que el denominador nos quedaría valiendo 0 en el punto final del intervalo."
   ]
  },
  {
   "cell_type": "code",
   "execution_count": 72,
   "metadata": {},
   "outputs": [],
   "source": [
    "# Consideremos entonces la función dada en la segunda integral al realizar el cambio de variable.\n",
    "\n",
    "al, fi = sy.symbols('𝛼 𝜙')\n",
    "\n",
    "def f_fi(al,fi): #Escrita en términos de senos\n",
    "    return 1/np.sqrt(1 - (np.sin(al/2))**2 * (np.sin(fi))**2 )"
   ]
  },
  {
   "cell_type": "code",
   "execution_count": 73,
   "metadata": {},
   "outputs": [
    {
     "data": {
      "text/plain": [
       "15"
      ]
     },
     "execution_count": 73,
     "metadata": {},
     "output_type": "execute_result"
    }
   ],
   "source": [
    "# Usemos la integración numérica por método de Simpson para una cantidad de 15 alphas diferentes\n",
    "\n",
    "aldeg = np.linspace(0,90,15)\n",
    "alrad = np.pi/180 * aldeg\n",
    "len(alrad)"
   ]
  },
  {
   "cell_type": "code",
   "execution_count": 74,
   "metadata": {},
   "outputs": [
    {
     "data": {
      "text/plain": [
       "matrix([[0., 0., 0., ..., 0., 0., 0.],\n",
       "        [0., 0., 0., ..., 0., 0., 0.],\n",
       "        [0., 0., 0., ..., 0., 0., 0.],\n",
       "        ...,\n",
       "        [0., 0., 0., ..., 0., 0., 0.],\n",
       "        [0., 0., 0., ..., 0., 0., 0.],\n",
       "        [0., 0., 0., ..., 0., 0., 0.]])"
      ]
     },
     "execution_count": 74,
     "metadata": {},
     "output_type": "execute_result"
    }
   ],
   "source": [
    "import scipy.integrate as scin\n",
    "\n",
    "# Escribamos el arreglo de valores de fi sobre el que vamos a trabajar\n",
    "# Consideremos los vectores fila como cada valor asociado\n",
    "\n",
    "\n",
    "Fi = np.linspace(0,np.pi/2,100)\n",
    "FFial = np.zeros((100,15)) \n",
    "FFial = np.matrix(FFial)\n",
    "FFial"
   ]
  },
  {
   "cell_type": "code",
   "execution_count": 75,
   "metadata": {},
   "outputs": [
    {
     "data": {
      "text/plain": [
       "matrix([[1.        , 1.        , 1.        , ..., 1.        , 1.        ,\n",
       "         1.        ],\n",
       "        [1.        , 1.0000004 , 1.00000158, ..., 1.00004893, 1.00005589,\n",
       "         1.00006294],\n",
       "        [1.        , 1.00000158, 1.00000631, ..., 1.00019572, 1.00022356,\n",
       "         1.00025176],\n",
       "        ...,\n",
       "        [1.        , 1.00157407, 1.00632115, ..., 1.27863878, 1.34058711,\n",
       "         1.41350228],\n",
       "        [1.        , 1.00157527, 1.00632597, ..., 1.27894564, 1.34099109,\n",
       "         1.4140356 ],\n",
       "        [1.        , 1.00157566, 1.00632758, ..., 1.27904801, 1.34112587,\n",
       "         1.41421356]])"
      ]
     },
     "execution_count": 75,
     "metadata": {},
     "output_type": "execute_result"
    }
   ],
   "source": [
    "for i in range(15):\n",
    "    for j in range(100):\n",
    "        FFial[j,i] = f_fi(alrad[i],Fi[j]) \n",
    "FFial"
   ]
  },
  {
   "cell_type": "code",
   "execution_count": 76,
   "metadata": {},
   "outputs": [
    {
     "data": {
      "text/plain": [
       "array([0., 0., 0., 0., 0., 0., 0., 0., 0., 0., 0., 0., 0., 0., 0.])"
      ]
     },
     "execution_count": 76,
     "metadata": {},
     "output_type": "execute_result"
    }
   ],
   "source": [
    "TT0al = np.zeros(15)\n",
    "TT0al"
   ]
  },
  {
   "cell_type": "code",
   "execution_count": 77,
   "metadata": {},
   "outputs": [
    {
     "data": {
      "text/plain": [
       "array([1., 1., 1., 1., 1., 1., 1., 1., 1., 1., 1., 1., 1., 1., 1., 1., 1.,\n",
       "       1., 1., 1., 1., 1., 1., 1., 1., 1., 1., 1., 1., 1., 1., 1., 1., 1.,\n",
       "       1., 1., 1., 1., 1., 1., 1., 1., 1., 1., 1., 1., 1., 1., 1., 1., 1.,\n",
       "       1., 1., 1., 1., 1., 1., 1., 1., 1., 1., 1., 1., 1., 1., 1., 1., 1.,\n",
       "       1., 1., 1., 1., 1., 1., 1., 1., 1., 1., 1., 1., 1., 1., 1., 1., 1.,\n",
       "       1., 1., 1., 1., 1., 1., 1., 1., 1., 1., 1., 1., 1., 1., 1.])"
      ]
     },
     "execution_count": 77,
     "metadata": {},
     "output_type": "execute_result"
    }
   ],
   "source": [
    "N = np.array(np.transpose(FFial[:,0]))\n",
    "N[0]"
   ]
  },
  {
   "cell_type": "code",
   "execution_count": 78,
   "metadata": {},
   "outputs": [
    {
     "data": {
      "text/plain": [
       "array([1.        , 1.00078737, 1.0031563 , 1.0071275 , 1.012736  ,\n",
       "       1.02003212, 1.02908279, 1.03997334, 1.05280999, 1.06772305,\n",
       "       1.08487113, 1.10444668, 1.12668323, 1.1518651 , 1.1803405 ])"
      ]
     },
     "execution_count": 78,
     "metadata": {},
     "output_type": "execute_result"
    }
   ],
   "source": [
    "for k in range(15):\n",
    "    TT0al[k] = 2/np.pi * scin.simpson( np.array(np.transpose(FFial[:,k])),Fi )\n",
    "    \n",
    "TT0al"
   ]
  },
  {
   "cell_type": "code",
   "execution_count": 79,
   "metadata": {},
   "outputs": [
    {
     "data": {
      "text/html": [
       "<div>\n",
       "<style scoped>\n",
       "    .dataframe tbody tr th:only-of-type {\n",
       "        vertical-align: middle;\n",
       "    }\n",
       "\n",
       "    .dataframe tbody tr th {\n",
       "        vertical-align: top;\n",
       "    }\n",
       "\n",
       "    .dataframe thead th {\n",
       "        text-align: right;\n",
       "    }\n",
       "</style>\n",
       "<table border=\"1\" class=\"dataframe\">\n",
       "  <thead>\n",
       "    <tr style=\"text-align: right;\">\n",
       "      <th></th>\n",
       "      <th>Alpha_degradientes</th>\n",
       "      <th>Alpha_radianes</th>\n",
       "      <th>Relación T/T0</th>\n",
       "    </tr>\n",
       "  </thead>\n",
       "  <tbody>\n",
       "    <tr>\n",
       "      <th>0</th>\n",
       "      <td>0.000000</td>\n",
       "      <td>0.000000</td>\n",
       "      <td>1.000000</td>\n",
       "    </tr>\n",
       "    <tr>\n",
       "      <th>1</th>\n",
       "      <td>6.428571</td>\n",
       "      <td>0.112200</td>\n",
       "      <td>1.000787</td>\n",
       "    </tr>\n",
       "    <tr>\n",
       "      <th>2</th>\n",
       "      <td>12.857143</td>\n",
       "      <td>0.224399</td>\n",
       "      <td>1.003156</td>\n",
       "    </tr>\n",
       "    <tr>\n",
       "      <th>3</th>\n",
       "      <td>19.285714</td>\n",
       "      <td>0.336599</td>\n",
       "      <td>1.007127</td>\n",
       "    </tr>\n",
       "    <tr>\n",
       "      <th>4</th>\n",
       "      <td>25.714286</td>\n",
       "      <td>0.448799</td>\n",
       "      <td>1.012736</td>\n",
       "    </tr>\n",
       "    <tr>\n",
       "      <th>5</th>\n",
       "      <td>32.142857</td>\n",
       "      <td>0.560999</td>\n",
       "      <td>1.020032</td>\n",
       "    </tr>\n",
       "    <tr>\n",
       "      <th>6</th>\n",
       "      <td>38.571429</td>\n",
       "      <td>0.673198</td>\n",
       "      <td>1.029083</td>\n",
       "    </tr>\n",
       "    <tr>\n",
       "      <th>7</th>\n",
       "      <td>45.000000</td>\n",
       "      <td>0.785398</td>\n",
       "      <td>1.039973</td>\n",
       "    </tr>\n",
       "    <tr>\n",
       "      <th>8</th>\n",
       "      <td>51.428571</td>\n",
       "      <td>0.897598</td>\n",
       "      <td>1.052810</td>\n",
       "    </tr>\n",
       "    <tr>\n",
       "      <th>9</th>\n",
       "      <td>57.857143</td>\n",
       "      <td>1.009798</td>\n",
       "      <td>1.067723</td>\n",
       "    </tr>\n",
       "    <tr>\n",
       "      <th>10</th>\n",
       "      <td>64.285714</td>\n",
       "      <td>1.121997</td>\n",
       "      <td>1.084871</td>\n",
       "    </tr>\n",
       "    <tr>\n",
       "      <th>11</th>\n",
       "      <td>70.714286</td>\n",
       "      <td>1.234197</td>\n",
       "      <td>1.104447</td>\n",
       "    </tr>\n",
       "    <tr>\n",
       "      <th>12</th>\n",
       "      <td>77.142857</td>\n",
       "      <td>1.346397</td>\n",
       "      <td>1.126683</td>\n",
       "    </tr>\n",
       "    <tr>\n",
       "      <th>13</th>\n",
       "      <td>83.571429</td>\n",
       "      <td>1.458597</td>\n",
       "      <td>1.151865</td>\n",
       "    </tr>\n",
       "    <tr>\n",
       "      <th>14</th>\n",
       "      <td>90.000000</td>\n",
       "      <td>1.570796</td>\n",
       "      <td>1.180341</td>\n",
       "    </tr>\n",
       "  </tbody>\n",
       "</table>\n",
       "</div>"
      ],
      "text/plain": [
       "    Alpha_degradientes  Alpha_radianes  Relación T/T0\n",
       "0             0.000000        0.000000       1.000000\n",
       "1             6.428571        0.112200       1.000787\n",
       "2            12.857143        0.224399       1.003156\n",
       "3            19.285714        0.336599       1.007127\n",
       "4            25.714286        0.448799       1.012736\n",
       "5            32.142857        0.560999       1.020032\n",
       "6            38.571429        0.673198       1.029083\n",
       "7            45.000000        0.785398       1.039973\n",
       "8            51.428571        0.897598       1.052810\n",
       "9            57.857143        1.009798       1.067723\n",
       "10           64.285714        1.121997       1.084871\n",
       "11           70.714286        1.234197       1.104447\n",
       "12           77.142857        1.346397       1.126683\n",
       "13           83.571429        1.458597       1.151865\n",
       "14           90.000000        1.570796       1.180341"
      ]
     },
     "execution_count": 79,
     "metadata": {},
     "output_type": "execute_result"
    }
   ],
   "source": [
    "import pandas as pd\n",
    "\n",
    "RelTT0 = pd.DataFrame({'Alpha_degradientes':aldeg,'Alpha_radianes':alrad,'Relación T/T0':TT0al})\n",
    "RelTT0"
   ]
  },
  {
   "cell_type": "code",
   "execution_count": 80,
   "metadata": {},
   "outputs": [
    {
     "data": {
      "text/plain": [
       "Text(0, 0.5, 'Relación $T/T_0$')"
      ]
     },
     "execution_count": 80,
     "metadata": {},
     "output_type": "execute_result"
    },
    {
     "data": {
      "image/png": "[encoded data removed]",
      "text/plain": [
       "<Figure size 432x288 with 1 Axes>"
      ]
     },
     "metadata": {
      "needs_background": "light"
     },
     "output_type": "display_data"
    }
   ],
   "source": [
    "plt.plot(aldeg,TT0al)\n",
    "plt.xlabel(r'$\\alpha$ en degradientes')\n",
    "plt.ylabel(r'Relación $T/T_0$')"
   ]
  },
  {
   "cell_type": "markdown",
   "metadata": {},
   "source": [
    "### Derivación \n",
    "2. En el siguiente link ([datos_pendulo](https://github.com/hernansalinas/Curso_Metodos_Computacionales/tree/main/Entregas/Parciales/Parcial2/dataset)), se encuentran  datos experimentales de un péndulo simple tomadas a través de una cámara web y procesados con el programa [kinovea](https://www.kinovea.org/). Dados los datos en formato csv,  construir un programa que realice lo siguiente: \n",
    "\n",
    "- a. Leer el archivo csv a través de un Data Frame de Pandas, las columnas del data frame deberan ser:\n",
    "\n",
    "col=[\"Tiempo[ms]\", \"AnguloDeg\", \"AnguloRad\"]\n",
    "\n",
    "- b. Construya una grafica de :\n",
    "plt.plot(df['Tiempo[ms]'], df['AnguloDeg'],\"b-\")\n",
    "\n",
    "¿Qué puede concluir respecto al movimiento del pendulo?\n",
    "\n",
    "- c. Realice un gráfico de la rapidez angular como funcion del tiempo medio.$\\frac{\\mathrm{d}\\theta}{\\mathrm{d}t}$\n",
    "\n",
    "- d. realice un grafico de la  aceleración angular como funcion del tiempo medio  $\\frac{\\mathrm{d^2}\\theta}{\\mathrm{d}t^2}$"
   ]
  },
  {
   "cell_type": "code",
   "execution_count": 83,
   "metadata": {},
   "outputs": [
    {
     "data": {
      "text/html": [
       "<div>\n",
       "<style scoped>\n",
       "    .dataframe tbody tr th:only-of-type {\n",
       "        vertical-align: middle;\n",
       "    }\n",
       "\n",
       "    .dataframe tbody tr th {\n",
       "        vertical-align: top;\n",
       "    }\n",
       "\n",
       "    .dataframe thead th {\n",
       "        text-align: right;\n",
       "    }\n",
       "</style>\n",
       "<table border=\"1\" class=\"dataframe\">\n",
       "  <thead>\n",
       "    <tr style=\"text-align: right;\">\n",
       "      <th></th>\n",
       "      <th>Tiempo (ms)</th>\n",
       "      <th>Ángulo 1</th>\n",
       "    </tr>\n",
       "  </thead>\n",
       "  <tbody>\n",
       "    <tr>\n",
       "      <th>0</th>\n",
       "      <td>9</td>\n",
       "      <td>59,0289611816406</td>\n",
       "    </tr>\n",
       "    <tr>\n",
       "      <th>1</th>\n",
       "      <td>42</td>\n",
       "      <td>59,9823265075684</td>\n",
       "    </tr>\n",
       "    <tr>\n",
       "      <th>2</th>\n",
       "      <td>75</td>\n",
       "      <td>61,2374534606934</td>\n",
       "    </tr>\n",
       "    <tr>\n",
       "      <th>3</th>\n",
       "      <td>108</td>\n",
       "      <td>63,0049247741699</td>\n",
       "    </tr>\n",
       "    <tr>\n",
       "      <th>4</th>\n",
       "      <td>142</td>\n",
       "      <td>65,3887710571289</td>\n",
       "    </tr>\n",
       "    <tr>\n",
       "      <th>...</th>\n",
       "      <td>...</td>\n",
       "      <td>...</td>\n",
       "    </tr>\n",
       "    <tr>\n",
       "      <th>2842</th>\n",
       "      <td>94709</td>\n",
       "      <td>94,9375762939453</td>\n",
       "    </tr>\n",
       "    <tr>\n",
       "      <th>2843</th>\n",
       "      <td>94743</td>\n",
       "      <td>96,479850769043</td>\n",
       "    </tr>\n",
       "    <tr>\n",
       "      <th>2844</th>\n",
       "      <td>94776</td>\n",
       "      <td>97,9406890869141</td>\n",
       "    </tr>\n",
       "    <tr>\n",
       "      <th>2845</th>\n",
       "      <td>94809</td>\n",
       "      <td>99,3180923461914</td>\n",
       "    </tr>\n",
       "    <tr>\n",
       "      <th>2846</th>\n",
       "      <td>94843</td>\n",
       "      <td>100,637817382813</td>\n",
       "    </tr>\n",
       "  </tbody>\n",
       "</table>\n",
       "<p>2847 rows × 2 columns</p>\n",
       "</div>"
      ],
      "text/plain": [
       "      Tiempo (ms)          Ángulo 1\n",
       "0               9  59,0289611816406\n",
       "1              42  59,9823265075684\n",
       "2              75  61,2374534606934\n",
       "3             108  63,0049247741699\n",
       "4             142  65,3887710571289\n",
       "...           ...               ...\n",
       "2842        94709  94,9375762939453\n",
       "2843        94743   96,479850769043\n",
       "2844        94776  97,9406890869141\n",
       "2845        94809  99,3180923461914\n",
       "2846        94843  100,637817382813\n",
       "\n",
       "[2847 rows x 2 columns]"
      ]
     },
     "execution_count": 83,
     "metadata": {},
     "output_type": "execute_result"
    }
   ],
   "source": [
    "# Importemos el Dataset\n",
    "\n",
    "Angles = pd.read_csv('Pendulo_simple.csv',sep=';')\n",
    "pi = np.pi\n",
    "Angles"
   ]
  },
  {
   "cell_type": "markdown",
   "metadata": {},
   "source": [
    "### No aparecieron las tres columnas"
   ]
  },
  {
   "cell_type": "code",
   "execution_count": 139,
   "metadata": {},
   "outputs": [
    {
     "ename": "TypeError",
     "evalue": "can't multiply sequence by non-int of type 'float'",
     "output_type": "error",
     "traceback": [
      "\u001b[0;31m---------------------------------------------------------------------------\u001b[0m",
      "\u001b[0;31mTypeError\u001b[0m                                 Traceback (most recent call last)",
      "\u001b[0;32m~/anaconda3/lib/python3.9/site-packages/pandas/core/ops/array_ops.py\u001b[0m in \u001b[0;36m_na_arithmetic_op\u001b[0;34m(left, right, op, is_cmp)\u001b[0m\n\u001b[1;32m    165\u001b[0m     \u001b[0;32mtry\u001b[0m\u001b[0;34m:\u001b[0m\u001b[0;34m\u001b[0m\u001b[0;34m\u001b[0m\u001b[0m\n\u001b[0;32m--> 166\u001b[0;31m         \u001b[0mresult\u001b[0m \u001b[0;34m=\u001b[0m \u001b[0mfunc\u001b[0m\u001b[0;34m(\u001b[0m\u001b[0mleft\u001b[0m\u001b[0;34m,\u001b[0m \u001b[0mright\u001b[0m\u001b[0;34m)\u001b[0m\u001b[0;34m\u001b[0m\u001b[0;34m\u001b[0m\u001b[0m\n\u001b[0m\u001b[1;32m    167\u001b[0m     \u001b[0;32mexcept\u001b[0m \u001b[0mTypeError\u001b[0m\u001b[0;34m:\u001b[0m\u001b[0;34m\u001b[0m\u001b[0;34m\u001b[0m\u001b[0m\n",
      "\u001b[0;32m~/anaconda3/lib/python3.9/site-packages/pandas/core/computation/expressions.py\u001b[0m in \u001b[0;36mevaluate\u001b[0;34m(op, a, b, use_numexpr)\u001b[0m\n\u001b[1;32m    238\u001b[0m             \u001b[0;31m# error: \"None\" not callable\u001b[0m\u001b[0;34m\u001b[0m\u001b[0;34m\u001b[0m\u001b[0m\n\u001b[0;32m--> 239\u001b[0;31m             \u001b[0;32mreturn\u001b[0m \u001b[0m_evaluate\u001b[0m\u001b[0;34m(\u001b[0m\u001b[0mop\u001b[0m\u001b[0;34m,\u001b[0m \u001b[0mop_str\u001b[0m\u001b[0;34m,\u001b[0m \u001b[0ma\u001b[0m\u001b[0;34m,\u001b[0m \u001b[0mb\u001b[0m\u001b[0;34m)\u001b[0m  \u001b[0;31m# type: ignore[misc]\u001b[0m\u001b[0;34m\u001b[0m\u001b[0;34m\u001b[0m\u001b[0m\n\u001b[0m\u001b[1;32m    240\u001b[0m     \u001b[0;32mreturn\u001b[0m \u001b[0m_evaluate_standard\u001b[0m\u001b[0;34m(\u001b[0m\u001b[0mop\u001b[0m\u001b[0;34m,\u001b[0m \u001b[0mop_str\u001b[0m\u001b[0;34m,\u001b[0m \u001b[0ma\u001b[0m\u001b[0;34m,\u001b[0m \u001b[0mb\u001b[0m\u001b[0;34m)\u001b[0m\u001b[0;34m\u001b[0m\u001b[0;34m\u001b[0m\u001b[0m\n",
      "\u001b[0;32m~/anaconda3/lib/python3.9/site-packages/pandas/core/computation/expressions.py\u001b[0m in \u001b[0;36m_evaluate_numexpr\u001b[0;34m(op, op_str, a, b)\u001b[0m\n\u001b[1;32m    127\u001b[0m     \u001b[0;32mif\u001b[0m \u001b[0mresult\u001b[0m \u001b[0;32mis\u001b[0m \u001b[0;32mNone\u001b[0m\u001b[0;34m:\u001b[0m\u001b[0;34m\u001b[0m\u001b[0;34m\u001b[0m\u001b[0m\n\u001b[0;32m--> 128\u001b[0;31m         \u001b[0mresult\u001b[0m \u001b[0;34m=\u001b[0m \u001b[0m_evaluate_standard\u001b[0m\u001b[0;34m(\u001b[0m\u001b[0mop\u001b[0m\u001b[0;34m,\u001b[0m \u001b[0mop_str\u001b[0m\u001b[0;34m,\u001b[0m \u001b[0ma\u001b[0m\u001b[0;34m,\u001b[0m \u001b[0mb\u001b[0m\u001b[0;34m)\u001b[0m\u001b[0;34m\u001b[0m\u001b[0;34m\u001b[0m\u001b[0m\n\u001b[0m\u001b[1;32m    129\u001b[0m \u001b[0;34m\u001b[0m\u001b[0m\n",
      "\u001b[0;32m~/anaconda3/lib/python3.9/site-packages/pandas/core/computation/expressions.py\u001b[0m in \u001b[0;36m_evaluate_standard\u001b[0;34m(op, op_str, a, b)\u001b[0m\n\u001b[1;32m     68\u001b[0m         \u001b[0m_store_test_result\u001b[0m\u001b[0;34m(\u001b[0m\u001b[0;32mFalse\u001b[0m\u001b[0;34m)\u001b[0m\u001b[0;34m\u001b[0m\u001b[0;34m\u001b[0m\u001b[0m\n\u001b[0;32m---> 69\u001b[0;31m     \u001b[0;32mreturn\u001b[0m \u001b[0mop\u001b[0m\u001b[0;34m(\u001b[0m\u001b[0ma\u001b[0m\u001b[0;34m,\u001b[0m \u001b[0mb\u001b[0m\u001b[0;34m)\u001b[0m\u001b[0;34m\u001b[0m\u001b[0;34m\u001b[0m\u001b[0m\n\u001b[0m\u001b[1;32m     70\u001b[0m \u001b[0;34m\u001b[0m\u001b[0m\n",
      "\u001b[0;31mTypeError\u001b[0m: can't multiply sequence by non-int of type 'float'",
      "\nDuring handling of the above exception, another exception occurred:\n",
      "\u001b[0;31mTypeError\u001b[0m                                 Traceback (most recent call last)",
      "\u001b[0;32m/tmp/ipykernel_6118/4123417445.py\u001b[0m in \u001b[0;36m<module>\u001b[0;34m\u001b[0m\n\u001b[0;32m----> 1\u001b[0;31m \u001b[0mAngles\u001b[0m\u001b[0;34m[\u001b[0m\u001b[0;34m'Ángulo Radianes'\u001b[0m\u001b[0;34m]\u001b[0m \u001b[0;34m=\u001b[0m \u001b[0;34m(\u001b[0m\u001b[0mAngles\u001b[0m\u001b[0;34m[\u001b[0m\u001b[0;34m'Ángulo 1'\u001b[0m\u001b[0;34m]\u001b[0m\u001b[0;34m*\u001b[0m\u001b[0mpi\u001b[0m\u001b[0;34m)\u001b[0m\u001b[0;34m/\u001b[0m\u001b[0;36m180\u001b[0m\u001b[0;34m\u001b[0m\u001b[0;34m\u001b[0m\u001b[0m\n\u001b[0m",
      "\u001b[0;32m~/anaconda3/lib/python3.9/site-packages/pandas/core/ops/common.py\u001b[0m in \u001b[0;36mnew_method\u001b[0;34m(self, other)\u001b[0m\n\u001b[1;32m     67\u001b[0m         \u001b[0mother\u001b[0m \u001b[0;34m=\u001b[0m \u001b[0mitem_from_zerodim\u001b[0m\u001b[0;34m(\u001b[0m\u001b[0mother\u001b[0m\u001b[0;34m)\u001b[0m\u001b[0;34m\u001b[0m\u001b[0;34m\u001b[0m\u001b[0m\n\u001b[1;32m     68\u001b[0m \u001b[0;34m\u001b[0m\u001b[0m\n\u001b[0;32m---> 69\u001b[0;31m         \u001b[0;32mreturn\u001b[0m \u001b[0mmethod\u001b[0m\u001b[0;34m(\u001b[0m\u001b[0mself\u001b[0m\u001b[0;34m,\u001b[0m \u001b[0mother\u001b[0m\u001b[0;34m)\u001b[0m\u001b[0;34m\u001b[0m\u001b[0;34m\u001b[0m\u001b[0m\n\u001b[0m\u001b[1;32m     70\u001b[0m \u001b[0;34m\u001b[0m\u001b[0m\n\u001b[1;32m     71\u001b[0m     \u001b[0;32mreturn\u001b[0m \u001b[0mnew_method\u001b[0m\u001b[0;34m\u001b[0m\u001b[0;34m\u001b[0m\u001b[0m\n",
      "\u001b[0;32m~/anaconda3/lib/python3.9/site-packages/pandas/core/arraylike.py\u001b[0m in \u001b[0;36m__mul__\u001b[0;34m(self, other)\u001b[0m\n\u001b[1;32m    106\u001b[0m     \u001b[0;34m@\u001b[0m\u001b[0munpack_zerodim_and_defer\u001b[0m\u001b[0;34m(\u001b[0m\u001b[0;34m\"__mul__\"\u001b[0m\u001b[0;34m)\u001b[0m\u001b[0;34m\u001b[0m\u001b[0;34m\u001b[0m\u001b[0m\n\u001b[1;32m    107\u001b[0m     \u001b[0;32mdef\u001b[0m \u001b[0m__mul__\u001b[0m\u001b[0;34m(\u001b[0m\u001b[0mself\u001b[0m\u001b[0;34m,\u001b[0m \u001b[0mother\u001b[0m\u001b[0;34m)\u001b[0m\u001b[0;34m:\u001b[0m\u001b[0;34m\u001b[0m\u001b[0;34m\u001b[0m\u001b[0m\n\u001b[0;32m--> 108\u001b[0;31m         \u001b[0;32mreturn\u001b[0m \u001b[0mself\u001b[0m\u001b[0;34m.\u001b[0m\u001b[0m_arith_method\u001b[0m\u001b[0;34m(\u001b[0m\u001b[0mother\u001b[0m\u001b[0;34m,\u001b[0m \u001b[0moperator\u001b[0m\u001b[0;34m.\u001b[0m\u001b[0mmul\u001b[0m\u001b[0;34m)\u001b[0m\u001b[0;34m\u001b[0m\u001b[0;34m\u001b[0m\u001b[0m\n\u001b[0m\u001b[1;32m    109\u001b[0m \u001b[0;34m\u001b[0m\u001b[0m\n\u001b[1;32m    110\u001b[0m     \u001b[0;34m@\u001b[0m\u001b[0munpack_zerodim_and_defer\u001b[0m\u001b[0;34m(\u001b[0m\u001b[0;34m\"__rmul__\"\u001b[0m\u001b[0;34m)\u001b[0m\u001b[0;34m\u001b[0m\u001b[0;34m\u001b[0m\u001b[0m\n",
      "\u001b[0;32m~/anaconda3/lib/python3.9/site-packages/pandas/core/series.py\u001b[0m in \u001b[0;36m_arith_method\u001b[0;34m(self, other, op)\u001b[0m\n\u001b[1;32m   5524\u001b[0m \u001b[0;34m\u001b[0m\u001b[0m\n\u001b[1;32m   5525\u001b[0m         \u001b[0;32mwith\u001b[0m \u001b[0mnp\u001b[0m\u001b[0;34m.\u001b[0m\u001b[0merrstate\u001b[0m\u001b[0;34m(\u001b[0m\u001b[0mall\u001b[0m\u001b[0;34m=\u001b[0m\u001b[0;34m\"ignore\"\u001b[0m\u001b[0;34m)\u001b[0m\u001b[0;34m:\u001b[0m\u001b[0;34m\u001b[0m\u001b[0;34m\u001b[0m\u001b[0m\n\u001b[0;32m-> 5526\u001b[0;31m             \u001b[0mresult\u001b[0m \u001b[0;34m=\u001b[0m \u001b[0mops\u001b[0m\u001b[0;34m.\u001b[0m\u001b[0marithmetic_op\u001b[0m\u001b[0;34m(\u001b[0m\u001b[0mlvalues\u001b[0m\u001b[0;34m,\u001b[0m \u001b[0mrvalues\u001b[0m\u001b[0;34m,\u001b[0m \u001b[0mop\u001b[0m\u001b[0;34m)\u001b[0m\u001b[0;34m\u001b[0m\u001b[0;34m\u001b[0m\u001b[0m\n\u001b[0m\u001b[1;32m   5527\u001b[0m \u001b[0;34m\u001b[0m\u001b[0m\n\u001b[1;32m   5528\u001b[0m         \u001b[0;32mreturn\u001b[0m \u001b[0mself\u001b[0m\u001b[0;34m.\u001b[0m\u001b[0m_construct_result\u001b[0m\u001b[0;34m(\u001b[0m\u001b[0mresult\u001b[0m\u001b[0;34m,\u001b[0m \u001b[0mname\u001b[0m\u001b[0;34m=\u001b[0m\u001b[0mres_name\u001b[0m\u001b[0;34m)\u001b[0m\u001b[0;34m\u001b[0m\u001b[0;34m\u001b[0m\u001b[0m\n",
      "\u001b[0;32m~/anaconda3/lib/python3.9/site-packages/pandas/core/ops/array_ops.py\u001b[0m in \u001b[0;36marithmetic_op\u001b[0;34m(left, right, op)\u001b[0m\n\u001b[1;32m    222\u001b[0m         \u001b[0m_bool_arith_check\u001b[0m\u001b[0;34m(\u001b[0m\u001b[0mop\u001b[0m\u001b[0;34m,\u001b[0m \u001b[0mleft\u001b[0m\u001b[0;34m,\u001b[0m \u001b[0mright\u001b[0m\u001b[0;34m)\u001b[0m\u001b[0;34m\u001b[0m\u001b[0;34m\u001b[0m\u001b[0m\n\u001b[1;32m    223\u001b[0m \u001b[0;34m\u001b[0m\u001b[0m\n\u001b[0;32m--> 224\u001b[0;31m         \u001b[0mres_values\u001b[0m \u001b[0;34m=\u001b[0m \u001b[0m_na_arithmetic_op\u001b[0m\u001b[0;34m(\u001b[0m\u001b[0mleft\u001b[0m\u001b[0;34m,\u001b[0m \u001b[0mright\u001b[0m\u001b[0;34m,\u001b[0m \u001b[0mop\u001b[0m\u001b[0;34m)\u001b[0m\u001b[0;34m\u001b[0m\u001b[0;34m\u001b[0m\u001b[0m\n\u001b[0m\u001b[1;32m    225\u001b[0m \u001b[0;34m\u001b[0m\u001b[0m\n\u001b[1;32m    226\u001b[0m     \u001b[0;32mreturn\u001b[0m \u001b[0mres_values\u001b[0m\u001b[0;34m\u001b[0m\u001b[0;34m\u001b[0m\u001b[0m\n",
      "\u001b[0;32m~/anaconda3/lib/python3.9/site-packages/pandas/core/ops/array_ops.py\u001b[0m in \u001b[0;36m_na_arithmetic_op\u001b[0;34m(left, right, op, is_cmp)\u001b[0m\n\u001b[1;32m    171\u001b[0m             \u001b[0;31m# Don't do this for comparisons, as that will handle complex numbers\u001b[0m\u001b[0;34m\u001b[0m\u001b[0;34m\u001b[0m\u001b[0m\n\u001b[1;32m    172\u001b[0m             \u001b[0;31m#  incorrectly, see GH#32047\u001b[0m\u001b[0;34m\u001b[0m\u001b[0;34m\u001b[0m\u001b[0m\n\u001b[0;32m--> 173\u001b[0;31m             \u001b[0mresult\u001b[0m \u001b[0;34m=\u001b[0m \u001b[0m_masked_arith_op\u001b[0m\u001b[0;34m(\u001b[0m\u001b[0mleft\u001b[0m\u001b[0;34m,\u001b[0m \u001b[0mright\u001b[0m\u001b[0;34m,\u001b[0m \u001b[0mop\u001b[0m\u001b[0;34m)\u001b[0m\u001b[0;34m\u001b[0m\u001b[0;34m\u001b[0m\u001b[0m\n\u001b[0m\u001b[1;32m    174\u001b[0m         \u001b[0;32melse\u001b[0m\u001b[0;34m:\u001b[0m\u001b[0;34m\u001b[0m\u001b[0;34m\u001b[0m\u001b[0m\n\u001b[1;32m    175\u001b[0m             \u001b[0;32mraise\u001b[0m\u001b[0;34m\u001b[0m\u001b[0;34m\u001b[0m\u001b[0m\n",
      "\u001b[0;32m~/anaconda3/lib/python3.9/site-packages/pandas/core/ops/array_ops.py\u001b[0m in \u001b[0;36m_masked_arith_op\u001b[0;34m(x, y, op)\u001b[0m\n\u001b[1;32m    129\u001b[0m \u001b[0;34m\u001b[0m\u001b[0m\n\u001b[1;32m    130\u001b[0m         \u001b[0;32mif\u001b[0m \u001b[0mmask\u001b[0m\u001b[0;34m.\u001b[0m\u001b[0many\u001b[0m\u001b[0;34m(\u001b[0m\u001b[0;34m)\u001b[0m\u001b[0;34m:\u001b[0m\u001b[0;34m\u001b[0m\u001b[0;34m\u001b[0m\u001b[0m\n\u001b[0;32m--> 131\u001b[0;31m             \u001b[0mresult\u001b[0m\u001b[0;34m[\u001b[0m\u001b[0mmask\u001b[0m\u001b[0;34m]\u001b[0m \u001b[0;34m=\u001b[0m \u001b[0mop\u001b[0m\u001b[0;34m(\u001b[0m\u001b[0mxrav\u001b[0m\u001b[0;34m[\u001b[0m\u001b[0mmask\u001b[0m\u001b[0;34m]\u001b[0m\u001b[0;34m,\u001b[0m \u001b[0my\u001b[0m\u001b[0;34m)\u001b[0m\u001b[0;34m\u001b[0m\u001b[0;34m\u001b[0m\u001b[0m\n\u001b[0m\u001b[1;32m    132\u001b[0m \u001b[0;34m\u001b[0m\u001b[0m\n\u001b[1;32m    133\u001b[0m     \u001b[0mnp\u001b[0m\u001b[0;34m.\u001b[0m\u001b[0mputmask\u001b[0m\u001b[0;34m(\u001b[0m\u001b[0mresult\u001b[0m\u001b[0;34m,\u001b[0m \u001b[0;34m~\u001b[0m\u001b[0mmask\u001b[0m\u001b[0;34m,\u001b[0m \u001b[0mnp\u001b[0m\u001b[0;34m.\u001b[0m\u001b[0mnan\u001b[0m\u001b[0;34m)\u001b[0m\u001b[0;34m\u001b[0m\u001b[0;34m\u001b[0m\u001b[0m\n",
      "\u001b[0;31mTypeError\u001b[0m: can't multiply sequence by non-int of type 'float'"
     ]
    }
   ],
   "source": [
    "Angles['Ángulo Radianes'] = (Angles['Ángulo 1']*pi)/180"
   ]
  },
  {
   "cell_type": "markdown",
   "metadata": {},
   "source": [
    "Bonus \n",
    "\n",
    "Calcule la transformada de fourier de los datos obtenidos, para encontrar la frecuencia de oscilacion del sistema, para ello realice lo siguiente:\n",
    "\n",
    "- importe la librerias de scipy fft, fftfreq.\n",
    "- Aplique la transformada de fourier como sigue:\n",
    "\n",
    "```\n",
    "tf = fft(df['AnguloRad'].values)\n",
    "T = 33E-3 #Paso del tiempo\n",
    "N = len(df['Tiempo[ms]'])\n",
    "xf = fftfreq(N, T)[:N//2]\n",
    "\n",
    "plt.plot(xf[1:N//2], np.abs(tf[1:N//2]),\"o-\")\n",
    "plt.ylabel(\"TF\")\n",
    "plt.xlabel(\"Frecuencia\")\n",
    "plt.xlim(0, 2)\n",
    "\n",
    "```\n",
    "\n",
    "-  Para las valores en el eje x y eje y de la anterior gráfica, realice una interpolación. \n",
    "\n",
    "- Encuentre el valor máximo de frecuencia"
   ]
  },
  {
   "cell_type": "markdown",
   "metadata": {},
   "source": [
    "$\\lambda$"
   ]
  },
  {
   "cell_type": "markdown",
   "metadata": {},
   "source": [
    "### Matrices: Rotación  en el plano, autovalores y autovectores\n",
    "3.   Considere la siguiente matrix de rotación:\n",
    "\\begin{bmatrix} \n",
    "1 & 0 &0\\\\\n",
    "0&\\cos \\theta & -\\sin \\theta\\\\ \n",
    "0&\\sin \\theta & \\cos \\theta\n",
    "\\end{bmatrix}\n",
    "\n",
    "a) Encontrar el polinomio característico de A\n",
    "\n",
    "b) Encontrar los autovalores y autovectores\n",
    "\n",
    "c) construya la matriz diagonal con los autovalores y autovectores y compruebe su solución. \n",
    "\n",
    "Encontrar los autovalores y autovectores para $\\theta=45$."
   ]
  },
  {
   "cell_type": "code",
   "execution_count": 135,
   "metadata": {},
   "outputs": [],
   "source": [
    "import sympy as sy\n",
    "import scipy.linalg as lin\n",
    "sy.init_printing()\n",
    "\n",
    "th,lmb = sy.symbols('𝜃 𝜆')\n",
    "A1 = np.array([[1,0,0],[0,sy.cos(th),-1*sy.sin(th)],[0,sy.sin(th),sy.cos(th)]])\n",
    "A1 = sy.Matrix(A1)"
   ]
  },
  {
   "cell_type": "code",
   "execution_count": 136,
   "metadata": {},
   "outputs": [
    {
     "data": {
      "image/png": "[encoded data removed]",
      "text/latex": [
       "$\\displaystyle \\left\\{ 1 : 1, \\  - \\sqrt{\\left(\\cos{\\left(𝜃 \\right)} - 1\\right) \\left(\\cos{\\left(𝜃 \\right)} + 1\\right)} + \\cos{\\left(𝜃 \\right)} : 1, \\  \\sqrt{\\left(\\cos{\\left(𝜃 \\right)} - 1\\right) \\left(\\cos{\\left(𝜃 \\right)} + 1\\right)} + \\cos{\\left(𝜃 \\right)} : 1\\right\\}$"
      ],
      "text/plain": [
       "⎧          ___________________________                ________________________\n",
       "⎨1: 1, - ╲╱ (cos(𝜃) - 1)⋅(cos(𝜃) + 1)  + cos(𝜃): 1, ╲╱ (cos(𝜃) - 1)⋅(cos(𝜃) + \n",
       "⎩                                                                             \n",
       "\n",
       "___            ⎫\n",
       "1)  + cos(𝜃): 1⎬\n",
       "               ⎭"
      ]
     },
     "execution_count": 136,
     "metadata": {},
     "output_type": "execute_result"
    }
   ],
   "source": [
    "vals = A1.eigenvals()\n",
    "vals"
   ]
  },
  {
   "cell_type": "code",
   "execution_count": 138,
   "metadata": {},
   "outputs": [
    {
     "data": {
      "text/latex": [
       "$\\displaystyle \\left[ \\left( 1, \\  1, \\  \\left[ \\left[\\begin{matrix}1\\\\0\\\\0\\end{matrix}\\right]\\right]\\right), \\  \\left( - \\sqrt{\\left(\\cos{\\left(𝜃 \\right)} - 1\\right) \\left(\\cos{\\left(𝜃 \\right)} + 1\\right)} + \\cos{\\left(𝜃 \\right)}, \\  1, \\  \\left[ \\left[\\begin{matrix}0\\\\\\frac{\\sin{\\left(𝜃 \\right)}}{\\sqrt{\\cos^{2}{\\left(𝜃 \\right)} - 1}}\\\\1\\end{matrix}\\right]\\right]\\right), \\  \\left( \\sqrt{\\left(\\cos{\\left(𝜃 \\right)} - 1\\right) \\left(\\cos{\\left(𝜃 \\right)} + 1\\right)} + \\cos{\\left(𝜃 \\right)}, \\  1, \\  \\left[ \\left[\\begin{matrix}0\\\\- \\frac{\\sin{\\left(𝜃 \\right)}}{\\sqrt{\\cos^{2}{\\left(𝜃 \\right)} - 1}}\\\\1\\end{matrix}\\right]\\right]\\right)\\right]$"
      ],
      "text/plain": [
       "⎡               ⎛                                             ⎡⎡       0      \n",
       "⎢               ⎜                                             ⎢⎢              \n",
       "⎢⎛      ⎡⎡1⎤⎤⎞  ⎜                                             ⎢⎢     sin(𝜃)   \n",
       "⎢⎜      ⎢⎢ ⎥⎥⎟  ⎜    ___________________________              ⎢⎢──────────────\n",
       "⎢⎜1, 1, ⎢⎢0⎥⎥⎟, ⎜- ╲╱ (cos(𝜃) - 1)⋅(cos(𝜃) + 1)  + cos(𝜃), 1, ⎢⎢   ___________\n",
       "⎢⎜      ⎢⎢ ⎥⎥⎟  ⎜                                             ⎢⎢  ╱    2      \n",
       "⎢⎝      ⎣⎣0⎦⎦⎠  ⎜                                             ⎢⎢╲╱  cos (𝜃) - \n",
       "⎢               ⎜                                             ⎢⎢              \n",
       "⎣               ⎝                                             ⎣⎣       1      \n",
       "\n",
       "  ⎤⎤⎞  ⎛                                           ⎡⎡       0        ⎤⎤⎞⎤\n",
       "  ⎥⎥⎟  ⎜                                           ⎢⎢                ⎥⎥⎟⎥\n",
       "  ⎥⎥⎟  ⎜                                           ⎢⎢    -sin(𝜃)     ⎥⎥⎟⎥\n",
       "──⎥⎥⎟  ⎜  ___________________________              ⎢⎢────────────────⎥⎥⎟⎥\n",
       "__⎥⎥⎟, ⎜╲╱ (cos(𝜃) - 1)⋅(cos(𝜃) + 1)  + cos(𝜃), 1, ⎢⎢   _____________⎥⎥⎟⎥\n",
       "  ⎥⎥⎟  ⎜                                           ⎢⎢  ╱    2        ⎥⎥⎟⎥\n",
       "1 ⎥⎥⎟  ⎜                                           ⎢⎢╲╱  cos (𝜃) - 1 ⎥⎥⎟⎥\n",
       "  ⎥⎥⎟  ⎜                                           ⎢⎢                ⎥⎥⎟⎥\n",
       "  ⎦⎦⎠  ⎝                                           ⎣⎣       1        ⎦⎦⎠⎦"
      ]
     },
     "execution_count": 138,
     "metadata": {},
     "output_type": "execute_result"
    }
   ],
   "source": [
    "vects = A1.eigenvects()\n",
    "vects"
   ]
  },
  {
   "cell_type": "code",
   "execution_count": null,
   "metadata": {},
   "outputs": [],
   "source": []
  },
  {
   "cell_type": "code",
   "execution_count": null,
   "metadata": {},
   "outputs": [],
   "source": []
  },
  {
   "cell_type": "code",
   "execution_count": 97,
   "metadata": {},
   "outputs": [
    {
     "data": {
      "text/latex": [
       "$\\displaystyle \\left[\\begin{matrix}1.0 & 0 & 0\\\\0 & 1.0 & 0\\\\0 & 0 & 1.0\\end{matrix}\\right]$"
      ],
      "text/plain": [
       "Matrix([\n",
       "[1.0,   0,   0],\n",
       "[  0, 1.0,   0],\n",
       "[  0,   0, 1.0]])"
      ]
     },
     "execution_count": 97,
     "metadata": {},
     "output_type": "execute_result"
    }
   ],
   "source": [
    "I = np.identity(3)\n",
    "I1 = sy.Matrix(I)\n",
    "I1"
   ]
  },
  {
   "cell_type": "code",
   "execution_count": null,
   "metadata": {},
   "outputs": [],
   "source": []
  },
  {
   "cell_type": "code",
   "execution_count": 106,
   "metadata": {},
   "outputs": [
    {
     "data": {
      "text/latex": [
       "$\\displaystyle \\left[\\begin{matrix}1 - 1.0 𝜆 & 0 & 0\\\\0 & - 1.0 𝜆 + \\cos{\\left(𝜃 \\right)} & - \\sin{\\left(𝜃 \\right)}\\\\0 & \\sin{\\left(𝜃 \\right)} & - 1.0 𝜆 + \\cos{\\left(𝜃 \\right)}\\end{matrix}\\right]$"
      ],
      "text/plain": [
       "Matrix([\n",
       "[1 - 1.0*𝜆,               0,               0],\n",
       "[        0, -1.0*𝜆 + cos(𝜃),         -sin(𝜃)],\n",
       "[        0,          sin(𝜃), -1.0*𝜆 + cos(𝜃)]])"
      ]
     },
     "execution_count": 106,
     "metadata": {},
     "output_type": "execute_result"
    }
   ],
   "source": [
    "M = A1 - lmb*I1\n",
    "M"
   ]
  },
  {
   "cell_type": "code",
   "execution_count": 107,
   "metadata": {},
   "outputs": [
    {
     "data": {
      "text/latex": [
       "$\\displaystyle - 1.0 𝜆^{3} + 2.0 𝜆^{2} \\cos{\\left(𝜃 \\right)} + 1.0 𝜆^{2} - 1.0 𝜆 \\sin^{2}{\\left(𝜃 \\right)} - 1.0 𝜆 \\cos^{2}{\\left(𝜃 \\right)} - 2.0 𝜆 \\cos{\\left(𝜃 \\right)} + \\sin^{2}{\\left(𝜃 \\right)} + \\cos^{2}{\\left(𝜃 \\right)}$"
      ],
      "text/plain": [
       "-1.0*𝜆**3 + 2.0*𝜆**2*cos(𝜃) + 1.0*𝜆**2 - 1.0*𝜆*sin(𝜃)**2 - 1.0*𝜆*cos(𝜃)**2 - 2.0*𝜆*cos(𝜃) + sin(𝜃)**2 + cos(𝜃)**2"
      ]
     },
     "execution_count": 107,
     "metadata": {},
     "output_type": "execute_result"
    }
   ],
   "source": [
    "polyA = M.det()\n",
    "polyA"
   ]
  },
  {
   "cell_type": "code",
   "execution_count": 116,
   "metadata": {},
   "outputs": [
    {
     "data": {
      "text/latex": [
       "$\\displaystyle - 2.0 \\left(1.0 𝜆 - 1.0\\right) \\left(0.5 𝜆^{2} - 1.0 𝜆 \\cos{\\left(𝜃 \\right)} + 0.5 \\sin^{2}{\\left(𝜃 \\right)} + 0.5 \\cos^{2}{\\left(𝜃 \\right)}\\right)$"
      ],
      "text/plain": [
       "-2.0*(1.0*𝜆 - 1.0)*(0.5*𝜆**2 - 1.0*𝜆*cos(𝜃) + 0.5*sin(𝜃)**2 + 0.5*cos(𝜃)**2)"
      ]
     },
     "execution_count": 116,
     "metadata": {},
     "output_type": "execute_result"
    }
   ],
   "source": [
    "sy.factor(polyA)"
   ]
  },
  {
   "cell_type": "code",
   "execution_count": 118,
   "metadata": {},
   "outputs": [],
   "source": [
    "EigV = np.array([-2.0, 1.0*lmb - 1.0, 0.5*lmb**2 - 1.0*lmb*sy.cos(th) + 0.5*sy.sin(th)**2 + 0.5*sy.cos(th)**2])"
   ]
  },
  {
   "cell_type": "code",
   "execution_count": 121,
   "metadata": {},
   "outputs": [
    {
     "data": {
      "text/latex": [
       "$\\displaystyle \\left[\\begin{matrix}-2.0\\\\1.0 𝜆 - 1.0\\\\0.5 𝜆^{2} - 1.0 𝜆 \\cos{\\left(𝜃 \\right)} + 0.5 \\sin^{2}{\\left(𝜃 \\right)} + 0.5 \\cos^{2}{\\left(𝜃 \\right)}\\end{matrix}\\right]$"
      ],
      "text/plain": [
       "Matrix([\n",
       "[                                                   -2.0],\n",
       "[                                            1.0*𝜆 - 1.0],\n",
       "[0.5*𝜆**2 - 1.0*𝜆*cos(𝜃) + 0.5*sin(𝜃)**2 + 0.5*cos(𝜃)**2]])"
      ]
     },
     "execution_count": 121,
     "metadata": {},
     "output_type": "execute_result"
    }
   ],
   "source": [
    "EigV = sy.Matrix(EigV)\n",
    "EigV"
   ]
  },
  {
   "cell_type": "code",
   "execution_count": null,
   "metadata": {},
   "outputs": [],
   "source": []
  }
 ],
 "metadata": {
  "colab": {
   "name": "Examen_02MEtodosComptuacionales_v2.ipynb",
   "provenance": []
  },
  "kernelspec": {
   "display_name": "Python 3",
   "language": "python",
   "name": "python3"
  },
  "language_info": {
   "codemirror_mode": {
    "name": "ipython",
    "version": 3
   },
   "file_extension": ".py",
   "mimetype": "text/x-python",
   "name": "python",
   "nbconvert_exporter": "python",
   "pygments_lexer": "ipython3",
   "version": "3.9.7"
  }
 },
 "nbformat": 4,
 "nbformat_minor": 1
}
