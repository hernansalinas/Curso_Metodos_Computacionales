{
  "cells": [
    {
      "cell_type": "code",
      "execution_count": 130,
      "metadata": {
        "id": "HOLSgQBxw4N5"
      },
      "outputs": [],
      "source": [
        ""
      ]
    },
    {
      "cell_type": "markdown",
      "source": [
        "**RECOMENDABLE CORRER TODAS LAS CELDAS EN CASO DE CAMBIAR VALORES COMO LA VELOCIDAD INICIAL, DISTANCIA HORIZONTAL O ALTURA**"
      ],
      "metadata": {
        "id": "GFAc6fB-U0U0"
      }
    },
    {
      "cell_type": "markdown",
      "metadata": {
        "id": "qMsyRVC2w-4j"
      },
      "source": [
        "**Constantes:** \\\\\n",
        "$v_0$=Velocidad inicial \\\\\n",
        "$g$=Gravedad \\\\\n",
        "$h$=Altura del aro \\\\\n",
        "$d$=Distancia horizontal del aro \\\\\n",
        "$r$=Radio del aro \\\\\n",
        "$(d,h)$=Coordenada del aro \\\\\n",
        "\n",
        "\n",
        "**Parámetro:** $$0\\leq\\theta\\leq\\pi /2$$ \\\\\n",
        "**Ecuaciones:**$$x=x_0 + (v_0cos \\theta)t \\ \\ \\ \\ ,  \\ \\ \\ \\ 0<x_0<d \\ \\ (*)$$ \\\\\n",
        "$$y= (v_0sen \\theta)t - \\frac{1}{2}gt^{2}\\ \\ \\ \\ \\ \\ \\ \\ \\ \\ (**)$$ \\\\\n",
        "$$t=\\frac{v_0sen \\theta + \\sqrt{(v_0sen \\theta)^{2}-2gh}}{g}\\ \\ \\ \\ \\ \\ \\ \\ \\ \\ (***)$$"
      ]
    },
    {
      "cell_type": "markdown",
      "metadata": {
        "id": "L9U_c_QJw-vx"
      },
      "source": [
        ""
      ]
    },
    {
      "cell_type": "code",
      "execution_count": 130,
      "metadata": {
        "id": "eWjsBHcLwz60"
      },
      "outputs": [],
      "source": [
        ""
      ]
    },
    {
      "cell_type": "code",
      "execution_count": 131,
      "metadata": {
        "id": "iRFVE61_ykCK"
      },
      "outputs": [],
      "source": [
        "import numpy as np\n",
        "import matplotlib.pylab as plt"
      ]
    },
    {
      "cell_type": "markdown",
      "metadata": {
        "id": "xpXbUDJuw0SE"
      },
      "source": [
        ""
      ]
    },
    {
      "cell_type": "code",
      "execution_count": 132,
      "metadata": {
        "colab": {
          "base_uri": "https://localhost:8080/",
          "height": 375
        },
        "id": "pd--sJW_b5KK",
        "outputId": "bc7f01ca-ce42-4fd8-af37-0e0fe967ccc0"
      },
      "outputs": [
        {
          "output_type": "stream",
          "name": "stderr",
          "text": [
            "/usr/local/lib/python3.7/dist-packages/ipykernel_launcher.py:9: RuntimeWarning: invalid value encountered in sqrt\n",
            "  if __name__ == '__main__':\n"
          ]
        },
        {
          "output_type": "execute_result",
          "data": {
            "text/plain": [
              "<matplotlib.legend.Legend at 0x7fc470ce9e90>"
            ]
          },
          "metadata": {},
          "execution_count": 132
        },
        {
          "output_type": "display_data",
          "data": {
            "image/png": "[encoded data removed]",
            "text/plain": [
              "<Figure size 432x288 with 1 Axes>"
            ]
          },
          "metadata": {
            "needs_background": "light"
          }
        }
      ],
      "source": [
        "vo=20 #Velocidad inicial en m/s \n",
        "g=9.8 \n",
        "h=3 #Altura del aro en metros\n",
        "d=15 #Distancia horizontal del aro en metros\n",
        "THETA=np.linspace(0.01,np.pi/2,100) #Theta será el parámetro\n",
        "\n",
        "\n",
        "#Escribimos el tiempo en términos del ángulo para trabajar con un sólo parámetro\n",
        "t=((vo*np.sin(THETA)+np.sqrt((vo*np.sin(THETA))**2-2*g*h)))/g\n",
        "xo=d-vo*np.cos(THETA)*t\n",
        "x=vo*np.cos(THETA)*t + xo\n",
        "v=vo*np.sin(THETA) -g*t\n",
        "\n",
        "\n",
        "\n",
        "\n",
        "def xf(THETA, xo): #Función que calcula la posición final horizonal del balón\n",
        "    x=vo*np.cos(THETA)*t + xo\n",
        "    for i in range(0,100):\n",
        "        if 0<xo[i]<d and abs(x[i]-d)<0.3 and v[i]<0: #Se debe garantizar que la pelota pase por encima del aro y que esté dentro del diametro\n",
        "            return x[i]\n",
        "\n",
        "\n",
        "def xs(THETA):#Función que me da el ángulo, posición respecto al aro y tiempo de vuelo\n",
        "    for i in range(0,100):\n",
        "        if 0<xo[i]<d and abs(x[i]-d)<0.3 and v[i]<0: #Se debe garantizar que la pelota pase por encima del aro y que esté dentro del diametro\n",
        "            V = { \"Ángulo (°)\": THETA[i]*(180/np.pi),\"Posición (m)\": xo[i],\"Tiempo de vuelo (s)\": t[i] }\n",
        "               \n",
        "            return V\n",
        "\n",
        "\n",
        "#Ilustración\n",
        "plt.plot(xs(THETA)[ \"Ángulo (°)\"]*(np.pi/180),xs(THETA)[ \"Posición (m)\"],'o', color=\"blue\",label=\"Posición óptima de lazamiento\")\n",
        "plt.hlines(d+0.3,0,np.pi, color=\"red\", label=\"Díametro del aro\")\n",
        "plt.hlines(d-0.3,0,np.pi, color=\"red\")\n",
        "plt.hlines(0,0,np.pi, label=\"Origen\")\n",
        "plt.title(\"Posición VS Ángulo De Lanzamiento\")\n",
        "plt.plot(xs(THETA)[ \"Ángulo (°)\"]*(np.pi/180), xf(THETA, xo),'o',color=\"purple\", label=\"Posición final (aro)\")\n",
        "plt.xlabel(\"$rad$\")\n",
        "plt.ylabel(\"$x$\")\n",
        "plt.legend()\n"
      ]
    },
    {
      "cell_type": "code",
      "execution_count": 133,
      "metadata": {
        "colab": {
          "base_uri": "https://localhost:8080/"
        },
        "id": "XHN-Zl9nUxxj",
        "outputId": "5cb4e0e7-33d6-4291-d2ef-6cedad304688"
      },
      "outputs": [
        {
          "output_type": "execute_result",
          "data": {
            "text/plain": [
              "{'Posición (m)': 0.5201709459736836,\n",
              " 'Tiempo de vuelo (s)': 3.849771510003817,\n",
              " 'Ángulo (°)': 79.16035852062193}"
            ]
          },
          "metadata": {},
          "execution_count": 133
        }
      ],
      "source": [
        "xs(THETA)"
      ]
    },
    {
      "cell_type": "code",
      "execution_count": 134,
      "metadata": {
        "id": "IMyQJ6UZ4hBl"
      },
      "outputs": [],
      "source": [
        "#Variables por graficar la trayectoria \n",
        "\n",
        "t1=np.arange(0, xs(THETA)[\"Tiempo de vuelo (s)\"],0.01)\n",
        "x1=vo*np.cos(xs(THETA)[\"Ángulo (°)\"]*(np.pi/180))*t1 + xs(THETA)[\"Posición (m)\"]\n",
        "y1=vo*np.sin(xs(THETA)[\"Ángulo (°)\"]*(np.pi/180))*t1 -(0.5)*g*t1**2"
      ]
    },
    {
      "cell_type": "code",
      "execution_count": 135,
      "metadata": {
        "colab": {
          "base_uri": "https://localhost:8080/",
          "height": 316
        },
        "id": "CPP8f23oradE",
        "outputId": "e3ed7ec0-a3b6-475a-e0f7-e64acdcfaaff"
      },
      "outputs": [
        {
          "output_type": "execute_result",
          "data": {
            "text/plain": [
              "<matplotlib.legend.Legend at 0x7fc470c6d290>"
            ]
          },
          "metadata": {},
          "execution_count": 135
        },
        {
          "output_type": "display_data",
          "data": {
            "image/png": "[encoded data removed]",
            "text/plain": [
              "<Figure size 432x288 with 1 Axes>"
            ]
          },
          "metadata": {
            "needs_background": "light"
          }
        }
      ],
      "source": [
        "#Gráfica x vs t\n",
        "plt.figure()\n",
        "plt.plot(t1,x1)\n",
        "plt.title(\"$x$ vs $t$\")\n",
        "plt.xlabel(\"$t$\")\n",
        "plt.ylabel(\"$x$\")\n",
        "plt.vlines(xs(THETA)[\"Tiempo de vuelo (s)\"],0,d,color=\"black\", label=\"d\")\n",
        "plt.plot(xs(THETA)[\"Tiempo de vuelo (s)\"],d,'X',label=\"Aro\")\n",
        "plt.legend()\n"
      ]
    },
    {
      "cell_type": "code",
      "execution_count": 136,
      "metadata": {
        "colab": {
          "base_uri": "https://localhost:8080/",
          "height": 317
        },
        "id": "jPAVWMahrmx2",
        "outputId": "25367a6d-8254-4460-8857-06328c62368b"
      },
      "outputs": [
        {
          "output_type": "execute_result",
          "data": {
            "text/plain": [
              "<matplotlib.legend.Legend at 0x7fc470bbdd90>"
            ]
          },
          "metadata": {},
          "execution_count": 136
        },
        {
          "output_type": "display_data",
          "data": {
            "image/png": "[encoded data removed]",
            "text/plain": [
              "<Figure size 432x288 with 1 Axes>"
            ]
          },
          "metadata": {
            "needs_background": "light"
          }
        }
      ],
      "source": [
        "#Gráfica y vs t\n",
        "plt.figure()\n",
        "plt.plot(t1,y1)\n",
        "plt.title(\"$y$ vs $t$\")\n",
        "plt.xlabel(\"$t$\")\n",
        "plt.ylabel(\"$y$\")\n",
        "plt.vlines(xs(THETA)[\"Tiempo de vuelo (s)\"],0,h,color=\"black\", label=\"h\")\n",
        "plt.plot(xs(THETA)[\"Tiempo de vuelo (s)\"],h,'X',label=\"Aro\")\n",
        "plt.legend()\n",
        "\n"
      ]
    },
    {
      "cell_type": "code",
      "execution_count": 136,
      "metadata": {
        "id": "XuGnoH4Erm06"
      },
      "outputs": [],
      "source": [
        "\n",
        "\n"
      ]
    },
    {
      "cell_type": "code",
      "execution_count": 136,
      "metadata": {
        "id": "QW2QnaWtUxx_"
      },
      "outputs": [],
      "source": [
        ""
      ]
    },
    {
      "cell_type": "code",
      "execution_count": 136,
      "metadata": {
        "id": "ynWKUzKDUxyB"
      },
      "outputs": [],
      "source": [
        ""
      ]
    },
    {
      "cell_type": "code",
      "execution_count": 136,
      "metadata": {
        "id": "8O9mM8ViUxyC"
      },
      "outputs": [],
      "source": [
        ""
      ]
    },
    {
      "cell_type": "code",
      "execution_count": 136,
      "metadata": {
        "id": "q1EGXd7PUxyF"
      },
      "outputs": [],
      "source": [
        ""
      ]
    },
    {
      "cell_type": "code",
      "execution_count": 136,
      "metadata": {
        "id": "dvvLf0PsUxyR"
      },
      "outputs": [],
      "source": [
        ""
      ]
    }
  ],
  "metadata": {
    "colab": {
      "collapsed_sections": [],
      "name": "TareaTiroParabólico.ipynb",
      "provenance": []
    },
    "kernelspec": {
      "display_name": "Python 3 (ipykernel)",
      "language": "python",
      "name": "python3"
    },
    "language_info": {
      "codemirror_mode": {
        "name": "ipython",
        "version": 3
      },
      "file_extension": ".py",
      "mimetype": "text/x-python",
      "name": "python",
      "nbconvert_exporter": "python",
      "pygments_lexer": "ipython3",
      "version": "3.9.7"
    }
  },
  "nbformat": 4,
  "nbformat_minor": 0
}