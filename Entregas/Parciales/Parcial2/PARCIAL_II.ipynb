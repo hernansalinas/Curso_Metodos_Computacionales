{
 "cells": [
  {
   "cell_type": "code",
   "execution_count": 34,
   "metadata": {
    "id": "VlZ2XLholQAq"
   },
   "outputs": [],
   "source": [
    "\n",
    "import scipy.linalg as la\n",
    "from scipy import integrate\n",
    "import numpy as np\n",
    "import matplotlib.pyplot as plt\n",
    "import pandas as pd\n",
    "import sympy as sp\n",
    "\n",
    "\n"
   ]
  },
  {
   "cell_type": "code",
   "execution_count": 35,
   "metadata": {
    "colab": {
     "base_uri": "https://localhost:8080/"
    },
    "id": "7xNfKAxNBlXF",
    "outputId": "05e8898b-239d-457e-8dbe-d000e2628608"
   },
   "outputs": [
    {
     "data": {
      "text/plain": [
       "array([  0.        ,   6.64818715,  10.45824152,  13.88397131,\n",
       "        17.21382339,  20.51368518,  23.80375388,  27.09126164,\n",
       "        30.37899762,  33.66803702,  36.95874411,  40.25117791,\n",
       "        43.54526742,  46.8408907 ,  50.13791115,  53.43619407,\n",
       "        56.73561382,  60.03605635,  63.33741966,  66.63961316,\n",
       "        69.94255674,  73.24617955,  76.55041898,  79.85521959,\n",
       "        83.16053223,  86.46631319,  89.77252354,  93.07912851,\n",
       "        96.38609695,  99.69340092, 103.00101526, 106.30891726,\n",
       "       109.61708641, 112.92550409, 116.2341534 , 119.54301895,\n",
       "       122.8520867 , 126.1613438 , 129.47077848, 132.78037996,\n",
       "       136.09013831, 139.40004438, 142.71008974, 146.02026659,\n",
       "       149.33056771, 152.64098641, 155.95151649, 159.26215216,\n",
       "       162.57288807, 165.88371918, 169.19464084, 172.50564866,\n",
       "       175.81673857, 179.12790673, 182.43914956, 185.75046368,\n",
       "       189.06184593, 192.37329333, 195.68480307, 198.99637252,\n",
       "       202.30799917, 205.61968069, 208.93141484, 212.24319953,\n",
       "       215.55503275, 218.86691264, 222.17883739, 225.49080533,\n",
       "       228.80281483, 232.11486437, 235.42695249, 238.73907783,\n",
       "       242.05123904, 245.3634349 , 248.67566419, 251.98792579,\n",
       "       255.3002186 , 258.61254159, 261.92489377, 265.23727419,\n",
       "       268.54968193, 271.86211614, 275.17457599, 278.48706068,\n",
       "       281.79956945, 285.11210156, 288.42465632, 291.73723306,\n",
       "       295.04983112, 298.36244989, 301.67508878, 304.98774721,\n",
       "       308.30042463, 311.61312051, 314.92583435, 318.23856564,\n",
       "       321.55131392, 324.86407873, 328.17685963])"
      ]
     },
     "execution_count": 35,
     "metadata": {},
     "output_type": "execute_result"
    }
   ],
   "source": [
    "#1\n",
    "b=1\n",
    "a=np.arange(1,100,1)\n",
    "phi=np.linspace(0,np.pi/2,1000)\n",
    "\n",
    "def f(phi,a,b): #Función a intergrar\n",
    "  e=(a**2-b**2)/a**2\n",
    "  return 4*(a)*((a**2-b**2)/a**2)*(1-e*np.sin(phi))**0.5\n",
    "\n",
    "def Integral(f, phi, a, b): #Integral que depende de la función f, del intervalo de integración phi y los semiejes a y b \n",
    "  return integrate.trapz(f(phi,a,b),phi) #Integral por método del traprecio\n",
    "\n",
    "L=np.zeros(len(a)) #Valores de la integral paea caa valor de a\n",
    "for i in range(len(a)):\n",
    "  L[i]=Integral(f, phi, a[i], 1)\n",
    "\n",
    "\n",
    "\n",
    "L # Valores de la intergral\n"
   ]
  },
  {
   "cell_type": "code",
   "execution_count": 6,
   "metadata": {
    "colab": {
     "base_uri": "https://localhost:8080/"
    },
    "id": "fo18M0TMnNbe",
    "outputId": "739f7039-d41f-4b1a-99f9-afe7bbbd4d2d"
   },
   "outputs": [
    {
     "data": {
      "text/plain": [
       "array([0.        , 0.75      , 0.88888889, 0.9375    , 0.96      ,\n",
       "       0.97222222, 0.97959184, 0.984375  , 0.98765432, 0.99      ,\n",
       "       0.99173554, 0.99305556, 0.99408284, 0.99489796, 0.99555556,\n",
       "       0.99609375, 0.99653979, 0.99691358, 0.99722992, 0.9975    ,\n",
       "       0.99773243, 0.99793388, 0.99810964, 0.99826389, 0.9984    ,\n",
       "       0.99852071, 0.99862826, 0.99872449, 0.99881094, 0.99888889,\n",
       "       0.99895942, 0.99902344, 0.99908173, 0.99913495, 0.99918367,\n",
       "       0.9992284 , 0.99926954, 0.99930748, 0.99934254, 0.999375  ,\n",
       "       0.99940512, 0.99943311, 0.99945917, 0.99948347, 0.99950617,\n",
       "       0.99952741, 0.99954731, 0.99956597, 0.99958351, 0.9996    ,\n",
       "       0.99961553, 0.99963018, 0.999644  , 0.99965706, 0.99966942,\n",
       "       0.99968112, 0.99969221, 0.99970273, 0.99971273, 0.99972222,\n",
       "       0.99973126, 0.99973985, 0.99974805, 0.99975586, 0.99976331,\n",
       "       0.99977043, 0.99977723, 0.99978374, 0.99978996, 0.99979592,\n",
       "       0.99980163, 0.9998071 , 0.99981235, 0.99981738, 0.99982222,\n",
       "       0.99982687, 0.99983134, 0.99983563, 0.99983977, 0.99984375,\n",
       "       0.99984758, 0.99985128, 0.99985484, 0.99985828, 0.99986159,\n",
       "       0.99986479, 0.99986788, 0.99987087, 0.99987375, 0.99987654,\n",
       "       0.99987924, 0.99988185, 0.99988438, 0.99988683, 0.9998892 ,\n",
       "       0.99989149, 0.99989372, 0.99989588, 0.99989797])"
      ]
     },
     "execution_count": 6,
     "metadata": {},
     "output_type": "execute_result"
    }
   ],
   "source": [
    "e=(a**2-b**2)/a**2 #Valores de la excentricidad\n",
    "e"
   ]
  },
  {
   "cell_type": "code",
   "execution_count": 6,
   "metadata": {
    "id": "XpZbIBnYlsof"
   },
   "outputs": [],
   "source": []
  },
  {
   "cell_type": "code",
   "execution_count": 7,
   "metadata": {
    "colab": {
     "base_uri": "https://localhost:8080/",
     "height": 424
    },
    "id": "UJLXq1ItoAUg",
    "outputId": "830eb2d9-0d12-485e-c28b-dad9c1837538"
   },
   "outputs": [
    {
     "data": {
      "text/html": [
       "\n",
       "  <div id=\"df-d372ddca-7b84-4ac9-9a7a-7aaf88a607d1\">\n",
       "    <div class=\"colab-df-container\">\n",
       "      <div>\n",
       "<style scoped>\n",
       "    .dataframe tbody tr th:only-of-type {\n",
       "        vertical-align: middle;\n",
       "    }\n",
       "\n",
       "    .dataframe tbody tr th {\n",
       "        vertical-align: top;\n",
       "    }\n",
       "\n",
       "    .dataframe thead th {\n",
       "        text-align: right;\n",
       "    }\n",
       "</style>\n",
       "<table border=\"1\" class=\"dataframe\">\n",
       "  <thead>\n",
       "    <tr style=\"text-align: right;\">\n",
       "      <th></th>\n",
       "      <th>e</th>\n",
       "      <th>L</th>\n",
       "    </tr>\n",
       "  </thead>\n",
       "  <tbody>\n",
       "    <tr>\n",
       "      <th>0</th>\n",
       "      <td>0.000000</td>\n",
       "      <td>0.000000</td>\n",
       "    </tr>\n",
       "    <tr>\n",
       "      <th>1</th>\n",
       "      <td>0.750000</td>\n",
       "      <td>6.648187</td>\n",
       "    </tr>\n",
       "    <tr>\n",
       "      <th>2</th>\n",
       "      <td>0.888889</td>\n",
       "      <td>10.458242</td>\n",
       "    </tr>\n",
       "    <tr>\n",
       "      <th>3</th>\n",
       "      <td>0.937500</td>\n",
       "      <td>13.883971</td>\n",
       "    </tr>\n",
       "    <tr>\n",
       "      <th>4</th>\n",
       "      <td>0.960000</td>\n",
       "      <td>17.213823</td>\n",
       "    </tr>\n",
       "    <tr>\n",
       "      <th>...</th>\n",
       "      <td>...</td>\n",
       "      <td>...</td>\n",
       "    </tr>\n",
       "    <tr>\n",
       "      <th>94</th>\n",
       "      <td>0.999889</td>\n",
       "      <td>314.925834</td>\n",
       "    </tr>\n",
       "    <tr>\n",
       "      <th>95</th>\n",
       "      <td>0.999891</td>\n",
       "      <td>318.238566</td>\n",
       "    </tr>\n",
       "    <tr>\n",
       "      <th>96</th>\n",
       "      <td>0.999894</td>\n",
       "      <td>321.551314</td>\n",
       "    </tr>\n",
       "    <tr>\n",
       "      <th>97</th>\n",
       "      <td>0.999896</td>\n",
       "      <td>324.864079</td>\n",
       "    </tr>\n",
       "    <tr>\n",
       "      <th>98</th>\n",
       "      <td>0.999898</td>\n",
       "      <td>328.176860</td>\n",
       "    </tr>\n",
       "  </tbody>\n",
       "</table>\n",
       "<p>99 rows × 2 columns</p>\n",
       "</div>\n",
       "      <button class=\"colab-df-convert\" onclick=\"convertToInteractive('df-d372ddca-7b84-4ac9-9a7a-7aaf88a607d1')\"\n",
       "              title=\"Convert this dataframe to an interactive table.\"\n",
       "              style=\"display:none;\">\n",
       "        \n",
       "  <svg xmlns=\"http://www.w3.org/2000/svg\" height=\"24px\"viewBox=\"0 0 24 24\"\n",
       "       width=\"24px\">\n",
       "    <path d=\"M0 0h24v24H0V0z\" fill=\"none\"/>\n",
       "    <path d=\"M18.56 5.44l.94 2.06.94-2.06 2.06-.94-2.06-.94-.94-2.06-.94 2.06-2.06.94zm-11 1L8.5 8.5l.94-2.06 2.06-.94-2.06-.94L8.5 2.5l-.94 2.06-2.06.94zm10 10l.94 2.06.94-2.06 2.06-.94-2.06-.94-.94-2.06-.94 2.06-2.06.94z\"/><path d=\"M17.41 7.96l-1.37-1.37c-.4-.4-.92-.59-1.43-.59-.52 0-1.04.2-1.43.59L10.3 9.45l-7.72 7.72c-.78.78-.78 2.05 0 2.83L4 21.41c.39.39.9.59 1.41.59.51 0 1.02-.2 1.41-.59l7.78-7.78 2.81-2.81c.8-.78.8-2.07 0-2.86zM5.41 20L4 18.59l7.72-7.72 1.47 1.35L5.41 20z\"/>\n",
       "  </svg>\n",
       "      </button>\n",
       "      \n",
       "  <style>\n",
       "    .colab-df-container {\n",
       "      display:flex;\n",
       "      flex-wrap:wrap;\n",
       "      gap: 12px;\n",
       "    }\n",
       "\n",
       "    .colab-df-convert {\n",
       "      background-color: #E8F0FE;\n",
       "      border: none;\n",
       "      border-radius: 50%;\n",
       "      cursor: pointer;\n",
       "      display: none;\n",
       "      fill: #1967D2;\n",
       "      height: 32px;\n",
       "      padding: 0 0 0 0;\n",
       "      width: 32px;\n",
       "    }\n",
       "\n",
       "    .colab-df-convert:hover {\n",
       "      background-color: #E2EBFA;\n",
       "      box-shadow: 0px 1px 2px rgba(60, 64, 67, 0.3), 0px 1px 3px 1px rgba(60, 64, 67, 0.15);\n",
       "      fill: #174EA6;\n",
       "    }\n",
       "\n",
       "    [theme=dark] .colab-df-convert {\n",
       "      background-color: #3B4455;\n",
       "      fill: #D2E3FC;\n",
       "    }\n",
       "\n",
       "    [theme=dark] .colab-df-convert:hover {\n",
       "      background-color: #434B5C;\n",
       "      box-shadow: 0px 1px 3px 1px rgba(0, 0, 0, 0.15);\n",
       "      filter: drop-shadow(0px 1px 2px rgba(0, 0, 0, 0.3));\n",
       "      fill: #FFFFFF;\n",
       "    }\n",
       "  </style>\n",
       "\n",
       "      <script>\n",
       "        const buttonEl =\n",
       "          document.querySelector('#df-d372ddca-7b84-4ac9-9a7a-7aaf88a607d1 button.colab-df-convert');\n",
       "        buttonEl.style.display =\n",
       "          google.colab.kernel.accessAllowed ? 'block' : 'none';\n",
       "\n",
       "        async function convertToInteractive(key) {\n",
       "          const element = document.querySelector('#df-d372ddca-7b84-4ac9-9a7a-7aaf88a607d1');\n",
       "          const dataTable =\n",
       "            await google.colab.kernel.invokeFunction('convertToInteractive',\n",
       "                                                     [key], {});\n",
       "          if (!dataTable) return;\n",
       "\n",
       "          const docLinkHtml = 'Like what you see? Visit the ' +\n",
       "            '<a target=\"_blank\" href=https://colab.research.google.com/notebooks/data_table.ipynb>data table notebook</a>'\n",
       "            + ' to learn more about interactive tables.';\n",
       "          element.innerHTML = '';\n",
       "          dataTable['output_type'] = 'display_data';\n",
       "          await google.colab.output.renderOutput(dataTable, element);\n",
       "          const docLink = document.createElement('div');\n",
       "          docLink.innerHTML = docLinkHtml;\n",
       "          element.appendChild(docLink);\n",
       "        }\n",
       "      </script>\n",
       "    </div>\n",
       "  </div>\n",
       "  "
      ],
      "text/plain": [
       "           e           L\n",
       "0   0.000000    0.000000\n",
       "1   0.750000    6.648187\n",
       "2   0.888889   10.458242\n",
       "3   0.937500   13.883971\n",
       "4   0.960000   17.213823\n",
       "..       ...         ...\n",
       "94  0.999889  314.925834\n",
       "95  0.999891  318.238566\n",
       "96  0.999894  321.551314\n",
       "97  0.999896  324.864079\n",
       "98  0.999898  328.176860\n",
       "\n",
       "[99 rows x 2 columns]"
      ]
     },
     "execution_count": 7,
     "metadata": {},
     "output_type": "execute_result"
    }
   ],
   "source": [
    "df=pd.DataFrame({'e':e,'L':L})\n",
    "df\n"
   ]
  },
  {
   "cell_type": "code",
   "execution_count": 8,
   "metadata": {
    "colab": {
     "base_uri": "https://localhost:8080/",
     "height": 295
    },
    "id": "XzbvBufouZnV",
    "outputId": "a1026b87-a469-4128-b0b7-1606484b8577"
   },
   "outputs": [
    {
     "data": {
      "image/png": "[encoded data removed]",
      "text/plain": [
       "<Figure size 432x288 with 1 Axes>"
      ]
     },
     "metadata": {
      "needs_background": "light"
     },
     "output_type": "display_data"
    }
   ],
   "source": [
    "plt.plot(df.e,df.L)\n",
    "plt.title(\"L vs e\")\n",
    "plt.xlabel(\"e\")\n",
    "plt.ylabel(\"L\")\n",
    "plt.grid()"
   ]
  },
  {
   "cell_type": "code",
   "execution_count": 9,
   "metadata": {
    "id": "5CB3Kq3YsK6R"
   },
   "outputs": [],
   "source": [
    "df2=pd.read_csv(\"https://raw.githubusercontent.com/hernansalinas/Curso_Metodos_Computacionales/main/Entregas/Parciales/Parcial2/dataset/Pendulo_simple.csv\")"
   ]
  },
  {
   "cell_type": "code",
   "execution_count": 10,
   "metadata": {
    "colab": {
     "base_uri": "https://localhost:8080/",
     "height": 424
    },
    "id": "5z2tm8Ziw2cc",
    "outputId": "9e8dd9de-6847-4a6f-ab6a-2275459ebc93"
   },
   "outputs": [
    {
     "data": {
      "text/html": [
       "\n",
       "  <div id=\"df-961552f8-a711-4ae0-9163-69aadd6dd35b\">\n",
       "    <div class=\"colab-df-container\">\n",
       "      <div>\n",
       "<style scoped>\n",
       "    .dataframe tbody tr th:only-of-type {\n",
       "        vertical-align: middle;\n",
       "    }\n",
       "\n",
       "    .dataframe tbody tr th {\n",
       "        vertical-align: top;\n",
       "    }\n",
       "\n",
       "    .dataframe thead th {\n",
       "        text-align: right;\n",
       "    }\n",
       "</style>\n",
       "<table border=\"1\" class=\"dataframe\">\n",
       "  <thead>\n",
       "    <tr style=\"text-align: right;\">\n",
       "      <th></th>\n",
       "      <th>Tiempo (ms);Ángulo 1</th>\n",
       "    </tr>\n",
       "  </thead>\n",
       "  <tbody>\n",
       "    <tr>\n",
       "      <th>9;59</th>\n",
       "      <td>289611816406</td>\n",
       "    </tr>\n",
       "    <tr>\n",
       "      <th>42;59</th>\n",
       "      <td>9823265075684</td>\n",
       "    </tr>\n",
       "    <tr>\n",
       "      <th>75;61</th>\n",
       "      <td>2374534606934</td>\n",
       "    </tr>\n",
       "    <tr>\n",
       "      <th>108;63</th>\n",
       "      <td>49247741699</td>\n",
       "    </tr>\n",
       "    <tr>\n",
       "      <th>142;65</th>\n",
       "      <td>3887710571289</td>\n",
       "    </tr>\n",
       "    <tr>\n",
       "      <th>...</th>\n",
       "      <td>...</td>\n",
       "    </tr>\n",
       "    <tr>\n",
       "      <th>94709;94</th>\n",
       "      <td>9375762939453</td>\n",
       "    </tr>\n",
       "    <tr>\n",
       "      <th>94743;96</th>\n",
       "      <td>479850769043</td>\n",
       "    </tr>\n",
       "    <tr>\n",
       "      <th>94776;97</th>\n",
       "      <td>9406890869141</td>\n",
       "    </tr>\n",
       "    <tr>\n",
       "      <th>94809;99</th>\n",
       "      <td>3180923461914</td>\n",
       "    </tr>\n",
       "    <tr>\n",
       "      <th>94843;100</th>\n",
       "      <td>637817382813</td>\n",
       "    </tr>\n",
       "  </tbody>\n",
       "</table>\n",
       "<p>2847 rows × 1 columns</p>\n",
       "</div>\n",
       "      <button class=\"colab-df-convert\" onclick=\"convertToInteractive('df-961552f8-a711-4ae0-9163-69aadd6dd35b')\"\n",
       "              title=\"Convert this dataframe to an interactive table.\"\n",
       "              style=\"display:none;\">\n",
       "        \n",
       "  <svg xmlns=\"http://www.w3.org/2000/svg\" height=\"24px\"viewBox=\"0 0 24 24\"\n",
       "       width=\"24px\">\n",
       "    <path d=\"M0 0h24v24H0V0z\" fill=\"none\"/>\n",
       "    <path d=\"M18.56 5.44l.94 2.06.94-2.06 2.06-.94-2.06-.94-.94-2.06-.94 2.06-2.06.94zm-11 1L8.5 8.5l.94-2.06 2.06-.94-2.06-.94L8.5 2.5l-.94 2.06-2.06.94zm10 10l.94 2.06.94-2.06 2.06-.94-2.06-.94-.94-2.06-.94 2.06-2.06.94z\"/><path d=\"M17.41 7.96l-1.37-1.37c-.4-.4-.92-.59-1.43-.59-.52 0-1.04.2-1.43.59L10.3 9.45l-7.72 7.72c-.78.78-.78 2.05 0 2.83L4 21.41c.39.39.9.59 1.41.59.51 0 1.02-.2 1.41-.59l7.78-7.78 2.81-2.81c.8-.78.8-2.07 0-2.86zM5.41 20L4 18.59l7.72-7.72 1.47 1.35L5.41 20z\"/>\n",
       "  </svg>\n",
       "      </button>\n",
       "      \n",
       "  <style>\n",
       "    .colab-df-container {\n",
       "      display:flex;\n",
       "      flex-wrap:wrap;\n",
       "      gap: 12px;\n",
       "    }\n",
       "\n",
       "    .colab-df-convert {\n",
       "      background-color: #E8F0FE;\n",
       "      border: none;\n",
       "      border-radius: 50%;\n",
       "      cursor: pointer;\n",
       "      display: none;\n",
       "      fill: #1967D2;\n",
       "      height: 32px;\n",
       "      padding: 0 0 0 0;\n",
       "      width: 32px;\n",
       "    }\n",
       "\n",
       "    .colab-df-convert:hover {\n",
       "      background-color: #E2EBFA;\n",
       "      box-shadow: 0px 1px 2px rgba(60, 64, 67, 0.3), 0px 1px 3px 1px rgba(60, 64, 67, 0.15);\n",
       "      fill: #174EA6;\n",
       "    }\n",
       "\n",
       "    [theme=dark] .colab-df-convert {\n",
       "      background-color: #3B4455;\n",
       "      fill: #D2E3FC;\n",
       "    }\n",
       "\n",
       "    [theme=dark] .colab-df-convert:hover {\n",
       "      background-color: #434B5C;\n",
       "      box-shadow: 0px 1px 3px 1px rgba(0, 0, 0, 0.15);\n",
       "      filter: drop-shadow(0px 1px 2px rgba(0, 0, 0, 0.3));\n",
       "      fill: #FFFFFF;\n",
       "    }\n",
       "  </style>\n",
       "\n",
       "      <script>\n",
       "        const buttonEl =\n",
       "          document.querySelector('#df-961552f8-a711-4ae0-9163-69aadd6dd35b button.colab-df-convert');\n",
       "        buttonEl.style.display =\n",
       "          google.colab.kernel.accessAllowed ? 'block' : 'none';\n",
       "\n",
       "        async function convertToInteractive(key) {\n",
       "          const element = document.querySelector('#df-961552f8-a711-4ae0-9163-69aadd6dd35b');\n",
       "          const dataTable =\n",
       "            await google.colab.kernel.invokeFunction('convertToInteractive',\n",
       "                                                     [key], {});\n",
       "          if (!dataTable) return;\n",
       "\n",
       "          const docLinkHtml = 'Like what you see? Visit the ' +\n",
       "            '<a target=\"_blank\" href=https://colab.research.google.com/notebooks/data_table.ipynb>data table notebook</a>'\n",
       "            + ' to learn more about interactive tables.';\n",
       "          element.innerHTML = '';\n",
       "          dataTable['output_type'] = 'display_data';\n",
       "          await google.colab.output.renderOutput(dataTable, element);\n",
       "          const docLink = document.createElement('div');\n",
       "          docLink.innerHTML = docLinkHtml;\n",
       "          element.appendChild(docLink);\n",
       "        }\n",
       "      </script>\n",
       "    </div>\n",
       "  </div>\n",
       "  "
      ],
      "text/plain": [
       "           Tiempo (ms);Ángulo 1\n",
       "9;59               289611816406\n",
       "42;59             9823265075684\n",
       "75;61             2374534606934\n",
       "108;63              49247741699\n",
       "142;65            3887710571289\n",
       "...                         ...\n",
       "94709;94          9375762939453\n",
       "94743;96           479850769043\n",
       "94776;97          9406890869141\n",
       "94809;99          3180923461914\n",
       "94843;100          637817382813\n",
       "\n",
       "[2847 rows x 1 columns]"
      ]
     },
     "execution_count": 10,
     "metadata": {},
     "output_type": "execute_result"
    }
   ],
   "source": [
    "df2\n",
    "\n"
   ]
  },
  {
   "cell_type": "code",
   "execution_count": 10,
   "metadata": {
    "id": "e1hYIx0P9JV_"
   },
   "outputs": [],
   "source": []
  },
  {
   "cell_type": "code",
   "execution_count": 12,
   "metadata": {
    "colab": {
     "base_uri": "https://localhost:8080/"
    },
    "id": "J4QjLrCoF2PK",
    "outputId": "6758409b-2601-4f0e-8dbf-28bab4842b58"
   },
   "outputs": [
    {
     "data": {
      "text/plain": [
       "9;59          289611816406\n",
       "42;59        9823265075684\n",
       "75;61        2374534606934\n",
       "108;63         49247741699\n",
       "142;65       3887710571289\n",
       "                 ...      \n",
       "94709;94     9375762939453\n",
       "94743;96      479850769043\n",
       "94776;97     9406890869141\n",
       "94809;99     3180923461914\n",
       "94843;100     637817382813\n",
       "Name: Tiempo (ms);Ángulo 1, Length: 2847, dtype: int64"
      ]
     },
     "execution_count": 12,
     "metadata": {},
     "output_type": "execute_result"
    }
   ],
   "source": [
    "df2['Tiempo (ms);Ángulo 1']\n"
   ]
  },
  {
   "cell_type": "code",
   "execution_count": 13,
   "metadata": {
    "colab": {
     "base_uri": "https://localhost:8080/"
    },
    "id": "ohIPCvlUFX8K",
    "outputId": "e85c6c64-5bcb-4acc-affa-f749c60b1097"
   },
   "outputs": [
    {
     "data": {
      "text/plain": [
       "{'Time': Index(['9;59', '42;59', '75;61', '108;63', '142;65', '175;68', '209;72',\n",
       "        '242;76', '275;80', '308;86',\n",
       "        ...\n",
       "        '94543;87', '94576;88', '94609;90', '94643;91', '94676;93', '94709;94',\n",
       "        '94743;96', '94776;97', '94809;99', '94843;100'],\n",
       "       dtype='object', length=2847)}"
      ]
     },
     "execution_count": 13,
     "metadata": {},
     "output_type": "execute_result"
    }
   ],
   "source": [
    "{'Time':df2.index }"
   ]
  },
  {
   "cell_type": "code",
   "execution_count": 15,
   "metadata": {
    "colab": {
     "base_uri": "https://localhost:8080/",
     "height": 294
    },
    "id": "CpfLhp6twwXo",
    "outputId": "3b11f939-7a1b-4d20-d63d-6d4a20844dfc"
   },
   "outputs": [
    {
     "data": {
      "text/plain": [
       "[<matplotlib.lines.Line2D at 0x7f55db043410>]"
      ]
     },
     "execution_count": 15,
     "metadata": {},
     "output_type": "execute_result"
    },
    {
     "data": {
      "image/png": "[encoded data removed]",
      "text/plain": [
       "<Figure size 432x288 with 1 Axes>"
      ]
     },
     "metadata": {
      "needs_background": "light"
     },
     "output_type": "display_data"
    }
   ],
   "source": [
    "plt.plot(df2)"
   ]
  },
  {
   "cell_type": "code",
   "execution_count": 17,
   "metadata": {
    "id": "fQxHcW-USUBQ"
   },
   "outputs": [],
   "source": [
    "#3"
   ]
  },
  {
   "cell_type": "markdown",
   "metadata": {
    "id": "W2oKkBA5rkJS"
   },
   "source": [
    "Hallemos los valores propios de la siguiente matriz \\\n",
    "\n",
    "$$A=\\begin{pmatrix}\n",
    "cos\\theta & -sen\\theta \\\\\n",
    "sen\\theta & cos\\theta \\\\ \n",
    "\\end{pmatrix}$$\n",
    "\\\n",
    "Haciendo \n",
    "$$p(\\lambda)=\\begin{vmatrix}\n",
    "cos\\theta -λ & -sen\\theta \\\\\n",
    "sen\\theta & cos\\theta -λ\\\\ \n",
    "\\end{vmatrix}$$\n",
    "\\\n",
    "Obtenemos $$λ_1 = cos\\theta + isen\\theta$$ $$λ_2 = cos\\theta - isen\\theta$$ \\\n",
    "Reemplazando en la matriz cada valor de lambda obtenemos \\\n",
    "$$A(λ_1)=\\begin{pmatrix}\n",
    "-isen\\theta & -sen\\theta \\\\\n",
    "sen\\theta & -isen\\theta \\\\ \n",
    "\\end{pmatrix}$$ \\\n",
    "$$A(λ_2)=\\begin{pmatrix}\n",
    "isen\\theta & -sen\\theta \\\\\n",
    "sen\\theta & isen\\theta \\\\ \n",
    "\\end{pmatrix}$$ \\\n",
    "\\\n",
    "Particularmente tomaremos $\\theta=45°$"
   ]
  },
  {
   "cell_type": "code",
   "execution_count": 18,
   "metadata": {
    "id": "9KHtwSBCwkGo"
   },
   "outputs": [],
   "source": [
    "x=sp.symbols('x')"
   ]
  },
  {
   "cell_type": "code",
   "execution_count": 25,
   "metadata": {
    "colab": {
     "base_uri": "https://localhost:8080/",
     "height": 58
    },
    "id": "_TW1K2VIvb3o",
    "outputId": "cdb33a44-cef1-479d-8c3f-b3ccba6b43d2"
   },
   "outputs": [
    {
     "data": {
      "text/latex": [
       "$\\displaystyle \\left[\\begin{matrix}0.707106781186548 & -0.707106781186548\\\\0.707106781186548 & 0.707106781186548\\end{matrix}\\right]$"
      ],
      "text/plain": [
       "Matrix([\n",
       "[0.707106781186548, -0.707106781186548],\n",
       "[0.707106781186548,  0.707106781186548]])"
      ]
     },
     "execution_count": 25,
     "metadata": {},
     "output_type": "execute_result"
    }
   ],
   "source": [
    "A=np.array([[(2**0.5)/2, -(2**0.5)/2], #Matriz con theta=45°\n",
    "         [(2**0.5)/2, (2**0.5)/2]])\n",
    "sp.Matrix(A)\n"
   ]
  },
  {
   "cell_type": "markdown",
   "metadata": {
    "id": "zE2oqbJs0ii_"
   },
   "source": []
  },
  {
   "cell_type": "code",
   "execution_count": 27,
   "metadata": {
    "id": "PGV5fDqJzgYK"
   },
   "outputs": [],
   "source": [
    "λ  = sp.var(\"λ\")"
   ]
  },
  {
   "cell_type": "code",
   "execution_count": 29,
   "metadata": {
    "colab": {
     "base_uri": "https://localhost:8080/",
     "height": 58
    },
    "id": "gLyiZmVq0f-o",
    "outputId": "e63f9116-8f89-4988-f37f-2318014ada60"
   },
   "outputs": [
    {
     "data": {
      "text/latex": [
       "$\\displaystyle \\left[\\begin{matrix}λ & 0\\\\0 & λ\\end{matrix}\\right]$"
      ],
      "text/plain": [
       "Matrix([\n",
       "[λ, 0],\n",
       "[0, λ]])"
      ]
     },
     "execution_count": 29,
     "metadata": {},
     "output_type": "execute_result"
    }
   ],
   "source": [
    "I = sp.Matrix(np.array([[λ,0],[0,λ]])) #Matriz identidad multiplicada por λ\n",
    "sp.Matrix(I)"
   ]
  },
  {
   "cell_type": "code",
   "execution_count": 30,
   "metadata": {
    "colab": {
     "base_uri": "https://localhost:8080/",
     "height": 58
    },
    "id": "ku8JMr_zzqi1",
    "outputId": "62dafeb1-91a4-4ade-8f04-ed2bb6b61c83"
   },
   "outputs": [
    {
     "data": {
      "text/latex": [
       "$\\displaystyle \\left[\\begin{matrix}0.707106781186548 - λ & -0.707106781186548\\\\0.707106781186548 & 0.707106781186548 - λ\\end{matrix}\\right]$"
      ],
      "text/plain": [
       "Matrix([\n",
       "[0.707106781186548 - λ,    -0.707106781186548],\n",
       "[    0.707106781186548, 0.707106781186548 - λ]])"
      ]
     },
     "execution_count": 30,
     "metadata": {},
     "output_type": "execute_result"
    }
   ],
   "source": [
    "M = A - I\n",
    "sp.Matrix(M) "
   ]
  },
  {
   "cell_type": "code",
   "execution_count": 31,
   "metadata": {
    "colab": {
     "base_uri": "https://localhost:8080/",
     "height": 38
    },
    "id": "Selt6QlTztQ5",
    "outputId": "50cd33ea-0fe2-43b7-8741-c196d0b40029"
   },
   "outputs": [
    {
     "data": {
      "text/latex": [
       "$\\displaystyle λ^{2} - 1.4142135623731 λ + 1.0$"
      ],
      "text/plain": [
       "λ**2 - 1.4142135623731*λ + 1.0"
      ]
     },
     "execution_count": 31,
     "metadata": {},
     "output_type": "execute_result"
    }
   ],
   "source": [
    "M.det() #Polinomio característico"
   ]
  },
  {
   "cell_type": "code",
   "execution_count": 39,
   "metadata": {
    "id": "Hiv9YUPX3Qw_"
   },
   "outputs": [],
   "source": [
    "autovalores, autovectores = np.linalg.eig(A)"
   ]
  },
  {
   "cell_type": "code",
   "execution_count": 40,
   "metadata": {
    "colab": {
     "base_uri": "https://localhost:8080/"
    },
    "id": "0yrip1BA5dYq",
    "outputId": "d11a8dff-0fea-4adf-9306-a5e4bbeb8699"
   },
   "outputs": [
    {
     "data": {
      "text/plain": [
       "array([0.70710678+0.70710678j, 0.70710678-0.70710678j])"
      ]
     },
     "execution_count": 40,
     "metadata": {},
     "output_type": "execute_result"
    }
   ],
   "source": [
    "autovalores # Valores propios"
   ]
  },
  {
   "cell_type": "code",
   "execution_count": 41,
   "metadata": {
    "colab": {
     "base_uri": "https://localhost:8080/"
    },
    "id": "KfK7NsKx5gi5",
    "outputId": "60ccaee1-a0c0-4263-d3fe-b9167bf04324"
   },
   "outputs": [
    {
     "data": {
      "text/plain": [
       "array([[ 0.        -0.70710678j,  0.        +0.70710678j],\n",
       "       [-0.70710678+0.j        , -0.70710678-0.j        ]])"
      ]
     },
     "execution_count": 41,
     "metadata": {},
     "output_type": "execute_result"
    }
   ],
   "source": [
    "autovectores # Vectores propios\n"
   ]
  },
  {
   "cell_type": "code",
   "execution_count": 44,
   "metadata": {
    "colab": {
     "base_uri": "https://localhost:8080/",
     "height": 58
    },
    "id": "D0bk1ayg7jZe",
    "outputId": "cf91c017-967e-4eed-8183-1028639c8158"
   },
   "outputs": [
    {
     "data": {
      "text/latex": [
       "$\\displaystyle \\left[\\begin{matrix}0.707106781186548 + 0.707106781186548 i & 0\\\\0 & 0.707106781186548 - 0.707106781186548 i\\end{matrix}\\right]$"
      ],
      "text/plain": [
       "Matrix([\n",
       "[0.707106781186548 + 0.707106781186548*I,                                       0],\n",
       "[                                      0, 0.707106781186548 - 0.707106781186548*I]])"
      ]
     },
     "execution_count": 44,
     "metadata": {},
     "output_type": "execute_result"
    }
   ],
   "source": [
    "D=np.diag(autovalores) #Matriz de valores propios\n",
    "sp.Matrix(D)"
   ]
  },
  {
   "cell_type": "code",
   "execution_count": 46,
   "metadata": {
    "colab": {
     "base_uri": "https://localhost:8080/",
     "height": 58
    },
    "id": "_Y9zgh_v87qx",
    "outputId": "8de58195-d169-4d3a-fad9-80ac3bbfbf68"
   },
   "outputs": [
    {
     "data": {
      "text/latex": [
       "$\\displaystyle \\left[\\begin{matrix}- 0.707106781186547 i & 0.707106781186547 i\\\\-0.707106781186548 & -0.707106781186548\\end{matrix}\\right]$"
      ],
      "text/plain": [
       "Matrix([\n",
       "[-0.707106781186547*I, 0.707106781186547*I],\n",
       "[  -0.707106781186548,  -0.707106781186548]])"
      ]
     },
     "execution_count": 46,
     "metadata": {},
     "output_type": "execute_result"
    }
   ],
   "source": [
    "P=autovectores #Matriz de vectores propios\n",
    "sp.Matrix(P)"
   ]
  },
  {
   "cell_type": "code",
   "execution_count": 47,
   "metadata": {
    "colab": {
     "base_uri": "https://localhost:8080/",
     "height": 58
    },
    "id": "zXEhy9yP9UEL",
    "outputId": "5727618d-38a0-4a93-aff4-a16971330674"
   },
   "outputs": [
    {
     "data": {
      "text/latex": [
       "$\\displaystyle \\left[\\begin{matrix}0.707106781186548 i & -0.707106781186547\\\\- 0.707106781186548 i & -0.707106781186547\\end{matrix}\\right]$"
      ],
      "text/plain": [
       "Matrix([\n",
       "[ 0.707106781186548*I, -0.707106781186547],\n",
       "[-0.707106781186548*I, -0.707106781186547]])"
      ]
     },
     "execution_count": 47,
     "metadata": {},
     "output_type": "execute_result"
    }
   ],
   "source": [
    "P_ = np.matrix(P)\n",
    "D_ = np.matrix(D)\n",
    "\n",
    "P_.I#Matriz inversa\n",
    "sp.Matrix(P_.I)"
   ]
  },
  {
   "cell_type": "code",
   "execution_count": 48,
   "metadata": {
    "colab": {
     "base_uri": "https://localhost:8080/",
     "height": 58
    },
    "id": "V39WRKxg9rK8",
    "outputId": "b2000799-b919-4a43-f1b2-759dfc424e64"
   },
   "outputs": [
    {
     "data": {
      "text/latex": [
       "$\\displaystyle \\left[\\begin{matrix}0.707106781186548 - 2.29934717029309 \\cdot 10^{-17} i & -0.707106781186548\\\\0.707106781186548 + 2.29934717029309 \\cdot 10^{-17} i & 0.707106781186548 - 2.29934717029309 \\cdot 10^{-17} i\\end{matrix}\\right]$"
      ],
      "text/plain": [
       "Matrix([\n",
       "[0.707106781186548 - 2.29934717029309e-17*I,                         -0.707106781186548],\n",
       "[0.707106781186548 + 2.29934717029309e-17*I, 0.707106781186548 - 2.29934717029309e-17*I]])"
      ]
     },
     "execution_count": 48,
     "metadata": {},
     "output_type": "execute_result"
    }
   ],
   "source": [
    "PRUEBA= P_@D_@P_.I\n",
    "sp.Matrix(PRUEBA)"
   ]
  }
 ],
 "metadata": {
  "colab": {
   "collapsed_sections": [],
   "name": "PARCIAL II.ipynb",
   "provenance": []
  },
  "kernelspec": {
   "display_name": "Python 3 (ipykernel)",
   "language": "python",
   "name": "python3"
  },
  "language_info": {
   "codemirror_mode": {
    "name": "ipython",
    "version": 3
   },
   "file_extension": ".py",
   "mimetype": "text/x-python",
   "name": "python",
   "nbconvert_exporter": "python",
   "pygments_lexer": "ipython3",
   "version": "3.8.12"
  }
 },
 "nbformat": 4,
 "nbformat_minor": 1
}
