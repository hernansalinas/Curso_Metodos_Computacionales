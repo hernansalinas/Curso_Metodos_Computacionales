{
  "nbformat": 4,
  "nbformat_minor": 0,
  "metadata": {
    "colab": {
      "name": "Examen_01_MetodosComputacionales.ipynb",
      "provenance": []
    },
    "kernelspec": {
      "name": "python3",
      "display_name": "Python 3"
    },
    "language_info": {
      "name": "python"
    }
  },
  "cells": [
    {
      "cell_type": "markdown",
      "source": [
        "# Examen 01, Metodos Computacionales.\n",
        "\n",
        "Profesor: Hernán Salinas \n",
        "La entrega debe ser realizada a través del github, en el directorio [parciales](https://github.com/hernansalinas/Curso_Metodos_Computacionales/tree/main/Entregas/Parciales/Parcial1).\n",
        "\n",
        "\n",
        "1. (50%) En la teoria de campo medio, La magnetización como función de la temperatura de un material magnético  puede ser calculada como:\n",
        "\n",
        "\\begin{equation}\n",
        "m(T) = \\tanh\\left( \\frac{m(T)}{T} \\right)\n",
        "\\end{equation}\n",
        "\n",
        "donde m y T son la magnetizacion y temperatura reducida respectivamente\n",
        "\n",
        "Para T = 0.5, determine:\n",
        "\n",
        "a. La magnetización reducida empleando el metodo de la secante(Muestre su resultado con 4 cifras)\n",
        "\n",
        "b. Valide su respuestado con el metodo de punto fijo.\n",
        "(Muestre su resultado con 4 cifras)\n",
        "\n",
        "d. Defina T = np.linspace(0.1,0.99,100), y emple el metodo de la secante para construir un gráfico de magnetización reducida como función de la temperatura para los  100 valores  de T.\n",
        "\n",
        "*Bonus*, No es necesario hacer el numeral e.\n",
        "\n",
        "e. Para los 100 puntos anteriores, emplee el metodo de interpolación de lagrange y cubic-spline. Realizar una gráfica mostrando los puntos y el polinomio de interpolación para cada unos de los metodos. ¿Que puede concluir de los metodos?\n",
        "\n",
        "Nota: \n",
        "- Puede emplear las librerias de scipy.\n",
        "\n",
        "- Para el punto e, realice un subplot, en el  primer gráfico ingrese todo lo relacionado con la interpolación de lagrange y la segunda el metodo de  CubicSpline. Reemplace los valores $x$ y $y$ que deteminó en las lineas plt.plot() del siguiente fragmento de código.\n",
        "\n",
        "  ```\n",
        "  # Lagrange\n",
        "  plt.figure(figsize=(12, 4))\n",
        "  plt.subplot(121)\n",
        "  plt.plot(x,y  , label=\"lagrange\")\n",
        "  plt.xlabel(\"T\",fontsize=14)\n",
        "  plt.ylabel(\"m\",fontsize=14)\n",
        "  plt.xticks(fontsize=14)\n",
        "  plt.yticks(fontsize=14)\n",
        "  plt.legend()\n",
        "\n",
        "  #Cubic Spline\n",
        "  plt.subplot(122)\n",
        "  plt.plot(x,y  ,\"o-\", label=\"CubicSpline\")\n",
        "  plt.xlabel(\"T\",fontsize=14)\n",
        "  plt.ylabel(\"m\",fontsize=14)\n",
        "  plt.xticks(fontsize=14)\n",
        "  plt.yticks(fontsize=14)\n",
        "  plt.legend()\n",
        "\n",
        "  plt.show()\n",
        "\n",
        "```"
      ],
      "metadata": {
        "id": "pAz1mYUAMEds"
      }
    },
    {
      "cell_type": "markdown",
      "source": [
        "2 (50%) El dataset [Temperature_Bogota_Barcelona](https://github.com/hernansalinas/Curso_Metodos_Computacionales/blob/main/Entregas/Parciales/Parcial1/dataset/Temperature_Bogota_Barcelona.csv)\n",
        " contiene información de la temperatura (en grados Fahrenheit) promedio de Bogotá y Barcelona desde el año 1995. Para el presente dataset realizar lo siguiente:\n",
        "\n",
        " a. Leer el dataset desde el link sugerido.\n",
        "\n",
        " b. Eliminar las columnas Month,  day y Unnamed\n",
        "\n",
        " c. Adicionar una nueva columna AvgTempCelcius con la temperatura en grados celcius. $ C=(F-32)/1.8$\n",
        "\n",
        " d. Realizar un gráfico de AvgTempCelcius como función del año para la ciudad de Bogotá.\n",
        "\n",
        " e. Realizar un grafico de AvgTempCelcius como funcion del año para la ciudad de Barcelona.\n",
        "\n",
        " f. Realizar interpolacion de Hermite de grado 5 y Cubic Spline con los datos de  la ciudad de Bogotá, comparelos en una misma gráfica\n",
        "\n",
        " g. Determinar el valor mínimo de temperatura empleando el metodo de fmin powell.\n",
        "\n",
        "\n",
        "\n",
        "Referencia: \n",
        "- Dataset tomado y modificado de : https://www.kaggle.com/sudalairajkumar/daily-temperature-of-major-cities\n",
        "\n",
        "\n",
        "\n",
        "\n",
        "\n"
      ],
      "metadata": {
        "id": "20lLKwo2yzcf"
      }
    }
  ]
}