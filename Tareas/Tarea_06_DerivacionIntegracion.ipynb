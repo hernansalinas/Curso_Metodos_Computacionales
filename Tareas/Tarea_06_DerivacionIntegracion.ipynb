{
  "nbformat": 4,
  "nbformat_minor": 0,
  "metadata": {
    "colab": {
      "name": "Tarea07_Derivada_integracion_01.ipynb",
      "provenance": [],
      "collapsed_sections": []
    },
    "kernelspec": {
      "display_name": "Python 3",
      "language": "python",
      "name": "python3"
    },
    "language_info": {
      "codemirror_mode": {
        "name": "ipython",
        "version": 3
      },
      "file_extension": ".py",
      "mimetype": "text/x-python",
      "name": "python",
      "nbconvert_exporter": "python",
      "pygments_lexer": "ipython3",
      "version": "3.7.2"
    }
  },
  "cells": [
    {
      "cell_type": "markdown",
      "metadata": {
        "id": "8q4c8oS-hpaE"
      },
      "source": [
        "\n",
        "#1. Derivadas.\n",
        "\n",
        "\n",
        "En el metodo Smoothed-particle hydrodynamics ([SPH](!https://en.wikipedia.org/wiki/Smoothed-particle_hydrodynamics)) se emplean diferentes kernel de aproximación para calcular las propiedades  de un fluído en cada punto del espacio. Uno de ellos es el Kernel de Lucy detallado a continuación:\n",
        "\n",
        "### Lucy's Quartic Kernel \n",
        "\\begin{equation}\n",
        "W(R, h)= \\alpha_D \\left\\{\n",
        "  \\begin{matrix} \\left(1+3q)(1- q^3\\right) &  0\\leq q< h \\\\ \n",
        "  0 & in\\ the\\ other\\ case.\n",
        "  \\end{matrix}\n",
        "\\right.\n",
        "\\end{equation}\n",
        "\n",
        "donde, \n",
        "\n",
        "\\begin{equation}\n",
        "q=\\frac{|(\\vec{r}-\\vec{r}')|}{h}\n",
        "\\end{equation}\n",
        "\n",
        "y $\\alpha_D$ es la constante de normalización:\n",
        "\n",
        "- en 2 dimensiones, viene dada por:\n",
        "\\begin{equation}\n",
        "\\alpha_D = \\frac{5}{\\pi h^2}\n",
        "\\end{equation}\n",
        "\n",
        "- en 3 dimensiones, viene dada por:\n",
        "\\begin{equation}\n",
        "\\alpha_D = \\frac{105}{16\\pi h^3}\n",
        "\\end{equation}\n",
        "\n",
        "Para el kernel de Lucy en 2D encontrar su derivada a través de los siguientes pasos:\n",
        "\n",
        "1. Realizar un gráfico del kernel de Lucy.\n",
        "2. Encontrar la derivada empleanda la libreria simbolica\n",
        "3. Realizar un grafico de los cálculos encontrados con la  libreria simbólica  y comparar con la derivada numérica de los datos del punto 1. \n",
        "\n",
        "Recuerde siempre comparar sus resultados con sus cálculos realizados en papel y lapiz.\n",
        "\n",
        "\n",
        "Opcional.\n",
        "\n",
        "Resolver el problema en 3D\n",
        "\n",
        "\n",
        "\n",
        "\n"
      ]
    },
    {
      "cell_type": "markdown",
      "metadata": {
        "id": "WV6dMBzK_odZ"
      },
      "source": [
        "\n",
        "\n",
        "\n",
        "# 2.0 Integración\n",
        "\n",
        "1. Escribir en código Markdown la expresión para calcular una integral con la regla del trapecio.\n",
        "\n",
        "2. Escribir en código Markdown la expresión para calcular una integral con la regla del simpson\n",
        "\n",
        "\n",
        "3. Escribir en código Markdown la expresión para calcular una integral con el metodo de cuadratura.\n",
        "\n",
        "4. Calcular una aproximación con el metodo 1,2,3 de las siguientes integrales\n",
        "\n",
        "- \n",
        " $$\n",
        " \\int_0^\\pi e^{1-\\sqrt{x}}\\, dx\n",
        " $$\n",
        "\n",
        "\n",
        "- $$\n",
        " \\int_0^{\\pi/2} \\frac{1}{\\sqrt{\\tan x}}\\, dx\n",
        " $$\n",
        "\n",
        "- \n",
        "$$\n",
        " \\int_{-\\infty}^{\\infty} \\frac{1}{1+x^2} \\, dx\n",
        " $$\n",
        "\n",
        "\n",
        "- \n",
        "\n",
        "$$\n",
        " \\int_{0}^{\\pi/4} \\int_{\\sin x}^{\\cos x} (2y\\sin x +\\cos^2 x)\\, dxdy\n",
        " $$\n",
        "\n",
        "\n",
        "- \n",
        "$$\n",
        " \\int_{-\\infty}^{\\infty} \\frac{1}{1+x^2} \\, dx\n",
        " $$\n",
        "\n",
        "\n",
        "- \n",
        "$$\n",
        " \\int_{e}^{2e} \\frac{1}{\\ln x} \\, dx\n",
        " $$\n",
        "\n",
        "\n",
        "garantizando  que el error sea menor a $\\varepsilon=1E-5$.  "
      ]
    },
    {
      "cell_type": "markdown",
      "metadata": {
        "id": "6hJGsmCkF6Wv"
      },
      "source": [
        "5. Suppose a body of mass m is traveling vertically upward starting at the surface of the earth. If all\n",
        "resistance except gravity is neglected, the escape velocity v is given by\n",
        "\n",
        "$$\n",
        "v^2=2gR\\int_1 ^\\infty z^{-2} dz,\n",
        "$$\n",
        "\n",
        "where z=x/R, R is the earth radius and g de gravity aceleration. Approximate the scape velocity"
      ]
    },
    {
      "cell_type": "markdown",
      "metadata": {
        "id": "dJVCeEtpX2sJ"
      },
      "source": [
        "\n",
        "6 Write a double precision program to integrate an arbitrary function numerically using the trapezoid rule, the Simpson rule, and Gaussian quadrature. For our assumed problems there is an analytics answer:\n",
        "\n",
        "\\begin{equation}\n",
        "\\frac{\\mathrm{d}N(t)}{\\mathrm{d}t}=e^{-t}\n",
        "\\end{equation}\n",
        "\n",
        "\\begin{equation}\n",
        "N(1)=\\int_0^{1}e^{-t} dt=1-e^{-1}\n",
        "\\end{equation}\n",
        "\n",
        "6.2. Compute the relative error $\\epsilon=|numerical-exact|/exact$ in each case. Present your data in the tabular form \n",
        "with space or tabas seprating the field. Try N values of 2, 10, 20 , 40 , 80, 160\n",
        "\n",
        "| N  |$\\epsilon_T$ | $\\epsilon_S$ | $\\epsilon_G$ |\n",
        "|----|---------------|--------------|--------------|\n",
        "|   2  |...|...|...|\n",
        "|   10  |...|...|...|\n",
        "\n",
        "6.3. Make a log-log plot of relative errore versus. You should observe that \n",
        "$\\epsilon\\approx CN^{\\alpha}$, $\\mathrm{log} \\epsilon =\\alpha \\mathrm{log}N + \\mathrm{constant}$. This mean that a power-law dependence appears as a straight line on a log-log plot, and that if you use $\\log_{10}$, the the ordinate on your log-log plot will be the negative of the numver of decimal places of presicion in your calculation.\n",
        "6.4. Use your plot or table to stimate the power-law dependence of the error $\\epsilon$ on the number of points N and to determine the number of decimal places of presicion in your calculation. Do this for both the trapezoid and simpsons rules and for both the algolrithmic and round-off error regimes. (Note that if may be hard to reach the round-off error regime for the trapezoid rule becasue the aproximation ) error is so large"
      ]
    },
    {
      "cell_type": "markdown",
      "metadata": {
        "id": "hly3b-GsYi-a"
      },
      "source": [
        ""
      ]
    },
    {
      "cell_type": "code",
      "metadata": {
        "id": "X3Yyg-Hhhljo"
      },
      "source": [
        ""
      ],
      "execution_count": null,
      "outputs": []
    }
  ]
}
