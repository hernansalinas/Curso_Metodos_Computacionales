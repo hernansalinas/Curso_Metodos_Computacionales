{
  "nbformat": 4,
  "nbformat_minor": 0,
  "metadata": {
    "colab": {
      "name": "Tarea05_Interpolación.ipynb",
      "provenance": [],
      "collapsed_sections": []
    },
    "kernelspec": {
      "name": "python3",
      "display_name": "Python 3"
    },
    "language_info": {
      "name": "python"
    }
  },
  "cells": [
    {
      "cell_type": "code",
      "execution_count": 23,
      "metadata": {
        "id": "iY_Kb_FA5MSZ"
      },
      "outputs": [],
      "source": [
        "import numpy as np\n",
        "import pandas as pd\n",
        "import matplotlib.pyplot as plt\n",
        "from scipy import optimize\n",
        "from scipy.interpolate import lagrange\n",
        "from scipy.interpolate import CubicSpline\n"
      ]
    },
    {
      "cell_type": "markdown",
      "source": [
        "# 1. Movimiento de proyectiles en presencia de viento.\n",
        "\n",
        "Supongamos que un proyectil es lanzado desde el origen con una rapidez $v=vo( \\cos \\theta , \\sin \\theta) $. Supongamos además que el efecto del viento sobre el proyectil es el de una fuerza proporcional a la velocidad relativa entre el viento y el proyectil. Teniendo presente que si $u$ es la velocidad del viento y $\\alpha$ el ángulo que hace dirección de esta velocidad con el eje x, se puede entrontrar las siguientes ecuaciones diferenciales, asociada al estado de movimiento del [proyectil](https://iopscience.iop.org/article/10.1088/0143-0807/36/2/025016/meta):\n",
        "\n",
        "\n",
        "\\begin{equation}\n",
        "m\\frac{dv_x}{dt} = -mb(v_x-u\\cos \\alpha )\n",
        "\\end{equation}\n",
        "\n",
        "\\begin{equation}\n",
        "m\\frac{dv_y}{dt} = -mg-mb(v_x-u\\sin \\alpha ),\n",
        "\\end{equation}\n",
        "\n",
        "donde b es el párametro de rozamiento. La soluciones a las ecuaciones anteriores vienen dadas por:\n",
        "\n",
        "Posición en x\n",
        "\\begin{equation}\n",
        "x=(u\\cos \\alpha) t + \\frac{1}{b} (v_0\\cos \\theta_0 -u \\cos\\alpha)(1-\\mathrm{exp}(-bt))\n",
        "\\end{equation}\n",
        "\n",
        "Posicion en y \n",
        "\\begin{equation}\n",
        "y= \\frac{1}{b}\\left(\\frac{g}{b}+v_0 \\sin \\theta_0 -u\\sin\\alpha \\right)(1-\\mathrm{exp}(-bt))-\\left( \\frac{g}{b}-u\\sin\\alpha\\right)t\n",
        "\\end{equation}\n",
        "\n",
        "Ver imagen:  http://www.sc.ehu.es/sbweb/fisica3/fluidos/viento/parabolico.html\n",
        "\n",
        "\n",
        "0. Establezca las siguietnes condiciones inciales.\n",
        "\n",
        "1. Defina dos funciones, una para x y otra para y. \n",
        "\n",
        "2. Construya un diccionario con las claves \"X\", \"Y\", \"Tiempo\"\n",
        "\n",
        "3. Con el diccionario construya un data frame de pandas llamado df con los nombres de columnas \"X\", \"Y\", \"Tiempo\"  https://pandas.pydata.org/docs/reference/api/pandas.DataFrame.from_dict.html. Defina 1000 registros para el intervalo de tiempo elegido.\n",
        "\n",
        "\n",
        "4. Realice un gráfico de x como función del tiempo, de y como función del tiempo y la trayectoria de la partícula (df[\"X\"], df[\"tiempo\"], df[\"Y\"]).\n",
        "\n",
        "\n",
        "5. Determine el alcance máximo de la partícula, para ello tome  la solucion teórica con $y=0$, solucione numéricamente la ecuación para t y remplace este valor en la ecuación para x. Resuelvalo para $\\theta=45^{o}$.  \n",
        "\n",
        "6. Construya una  grafica del alcance máximo R como función de $\\theta$, varie $\\theta$  entre 10 y 90 grados cada 5 grados.\n",
        "\n",
        "7. Realice una interpolacion de R como función de theta."
      ],
      "metadata": {
        "id": "OZAwLq696x3k"
      }
    },
    {
      "cell_type": "code",
      "source": [
        "# Incializzacion de parametros\n",
        "v0 = 50 #Velocidad en m/s\n",
        "alpha = np.pi #Angulo del viento\n",
        "theta = np.deg2rad(45) #Angulo de lanzamiento\n",
        "u = v0/2             #rapidez del viento\n",
        "b = 0.05             #Parametro de friccion \n",
        "g = 9.8 #Aceleracion de la gravedad m/s2\n",
        "params = v0, theta, u, alpha,  g, b\n",
        "t = np.linspace(0, 20, 100)"
      ],
      "metadata": {
        "id": "3Pr-x-X78B5P"
      },
      "execution_count": 24,
      "outputs": []
    },
    {
      "cell_type": "code",
      "source": [
        "#Posicion en x\n",
        "def pos_x(t, v0, theta, u, alpha, g, b):  \n",
        "  T1 =  (u * np.cos(alpha))*t\n",
        "  T2 =  (1./b)*(v0*np.cos(theta) - u*np.cos(alpha))\n",
        "  T3 =  1-np.exp(-b*t)\n",
        "  x = T1 + T2 * T3   \n",
        "  return x\n",
        "\n",
        "#Posicion en y\n",
        "def pos_y(t, v0, theta, u, alpha, g, b):  \n",
        "  T1 = (1/b) * (g/b + v0 * np.sin(theta) - u*np.sin(alpha))\n",
        "  T2 =  1-np.exp(-b * t)\n",
        "  T3 =  (g/b - u * np.sin(alpha))*t\n",
        "  y = T1*T2 - T3 \n",
        "  return y "
      ],
      "metadata": {
        "id": "Paag8Jti7DZi"
      },
      "execution_count": 25,
      "outputs": []
    },
    {
      "cell_type": "code",
      "source": [
        "x = pos_x(t, *params)\n",
        "y = pos_y(t, *params)\n",
        "\n",
        "plt.figure(figsize = (12,4))\n",
        "plt.subplot(131)\n",
        "plt.plot(t, x)\n",
        "plt.xlabel(\"t\")\n",
        "plt.ylabel(\"x\")\n",
        "\n",
        "plt.subplot(132)\n",
        "plt.plot(t, y)\n",
        "plt.xlabel(\"t\")\n",
        "plt.ylabel(\"y\")\n",
        "\n",
        "plt.subplot(133)\n",
        "plt.plot(x, y,\"b-\")\n",
        "plt.xlabel(\"x\")\n",
        "plt.ylabel(\"y\")"
      ],
      "metadata": {
        "colab": {
          "base_uri": "https://localhost:8080/",
          "height": 297
        },
        "id": "deC_4md_7vhp",
        "outputId": "137fed0a-c51d-4498-ac93-31b35cacfcd8"
      },
      "execution_count": 26,
      "outputs": [
        {
          "output_type": "execute_result",
          "data": {
            "text/plain": [
              "Text(0, 0.5, 'y')"
            ]
          },
          "metadata": {},
          "execution_count": 26
        },
        {
          "output_type": "display_data",
          "data": {
            "image/png": "[encoded data removed]",
            "text/plain": [
              "<Figure size 864x288 with 3 Axes>"
            ]
          },
          "metadata": {
            "needs_background": "light"
          }
        }
      ]
    },
    {
      "cell_type": "code",
      "source": [
        "t_alcance = optimize.newton(pos_y, 10,  args=params)\n",
        "R = pos_x(t_alcance, *params)\n",
        "\n",
        "t=np.linspace(0,t_alcance,100)\n",
        "plt.plot(pos_x(t,*params), pos_y(t, *params), label=f\"{np.rad2deg(theta)}\" )\n",
        "plt.legend()\n",
        "plt.show()\n",
        "\n"
      ],
      "metadata": {
        "colab": {
          "base_uri": "https://localhost:8080/",
          "height": 265
        },
        "id": "M2QHc2az8Yw_",
        "outputId": "7f69bcf3-97dd-4d60-815a-24bd5fb67156"
      },
      "execution_count": 27,
      "outputs": [
        {
          "output_type": "display_data",
          "data": {
            "image/png": "[encoded data removed]",
            "text/plain": [
              "<Figure size 432x288 with 1 Axes>"
            ]
          },
          "metadata": {
            "needs_background": "light"
          }
        }
      ]
    },
    {
      "cell_type": "code",
      "source": [
        "theta_r= np.array([10.        , 12.05128205, 14.1025641 , 16.15384615, 18.20512821,\\\n",
        "       20.25641026, 22.30769231, 24.35897436, 26.41025641, 28.46153846,\\\n",
        "       30.51282051, 32.56410256, 34.61538462, 36.66666667, 38.71794872,\\\n",
        "       40.76923077, 42.82051282, 44.87179487, 46.92307692, 48.97435897,\\\n",
        "       51.02564103, 53.07692308, 55.12820513, 57.17948718, 59.23076923,\\\n",
        "       61.28205128, 63.33333333, 65.38461538, 67.43589744, 69.48717949,\\\n",
        "       71.53846154, 73.58974359, 75.64102564, 77.69230769, 79.74358974,\\\n",
        "       81.79487179, 83.84615385, 85.8974359 , 87.94871795, 90.        ])"
      ],
      "metadata": {
        "id": "jbKUeDEG8ZsG"
      },
      "execution_count": 28,
      "outputs": []
    },
    {
      "cell_type": "code",
      "source": [
        "R = np.array([114.09205021, 133.6067617 , 151.67449721, 168.2576939 ,\n",
        "       183.32649926, 196.85846542, 208.83823555, 219.25722563,\n",
        "       228.11330425, 235.41047287, 241.15854847, 245.37285036,\n",
        "       248.07389237, 249.28708162, 249.04242469, 247.37424188,\n",
        "       244.32088996, 239.92449375, 234.23068672, 227.28836065,\n",
        "       219.14942415, 209.86857017, 199.50305207, 188.11246793,\n",
        "       175.7585531 , 162.50498019, 148.41716644, 133.5620879 ,\n",
        "       118.00810006, 101.82476434,  85.08268022,  67.85332228,\n",
        "        50.20888191,  32.22211314,  13.96618204,  -4.48548058,\n",
        "       -23.05932377, -41.68181874, -60.27959928, -78.7796008 ])"
      ],
      "metadata": {
        "id": "4O-1tOkE8iQA"
      },
      "execution_count": 29,
      "outputs": []
    },
    {
      "cell_type": "code",
      "source": [
        "theta = np.deg2rad(theta_r)\n",
        "\n",
        "p = CubicSpline(theta, R) #Interpolacion\n",
        "theta_ = np.linspace(np.min(theta), np.max(theta),100) #Valores de theta\n",
        "\n",
        "plt.plot(theta,R,\"o\",color='red' )\n",
        "plt.plot(theta_, p(theta_),color=\"blue\" )\n",
        "#plt.xlim(0.175,1.25)\n",
        "#plt.ylim(0,300)"
      ],
      "metadata": {
        "colab": {
          "base_uri": "https://localhost:8080/",
          "height": 283
        },
        "id": "sTw-ate08pz1",
        "outputId": "9202d4c5-075a-4aa5-f9df-a6ba08eb2778"
      },
      "execution_count": 30,
      "outputs": [
        {
          "output_type": "execute_result",
          "data": {
            "text/plain": [
              "[<matplotlib.lines.Line2D at 0x7f195e48c490>]"
            ]
          },
          "metadata": {},
          "execution_count": 30
        },
        {
          "output_type": "display_data",
          "data": {
            "image/png": "[encoded data removed]",
            "text/plain": [
              "<Figure size 432x288 with 1 Axes>"
            ]
          },
          "metadata": {
            "needs_background": "light"
          }
        }
      ]
    },
    {
      "cell_type": "code",
      "source": [
        ""
      ],
      "metadata": {
        "id": "VuV5OGS39LqI"
      },
      "execution_count": 30,
      "outputs": []
    },
    {
      "cell_type": "markdown",
      "source": [
        "# 2  Interpolación lagrange\n",
        "\n",
        "Consideremos la función: \n",
        "\\begin{equation*}\n",
        "     f(x) = \\frac{1}{1+25x^2}\n",
        "\\end{equation*}\n",
        "en el intervalo $[-1, 1]$, definamos un conjunto de puntos $n+1$  equiespaciados en $[-1,1]$.\n",
        "\n",
        " 1. Representar gráficamente la función junto al polinomio de interpolación de Lagrange, $p_n(x)$, para $n=\\{ 4, 8, 12, 16, 20 \\}$. \n",
        " 2. Comprobar gráficamente cómo el error aumenta con $n$. Emplee la libreria, simbolica de sympy y encuente el error en la interpolación.\n",
        " \n",
        " Para este numeral, emplee que: \n",
        " \n",
        " \n",
        "La cota del  error , viene dado por: \n",
        "\\begin{equation}\n",
        "f(x) - P(x) = \\epsilon = \\frac{1}{(n+1)!} f^{(n+1)}(\\xi)(x - x_0)(x - x_1) ... (x - x_n)\n",
        "\\end{equation}, emplee la libreria simbolica para realizar la estimación de dicha cuota, sólo para n = 4, en el punto 0.5"
      ],
      "metadata": {
        "id": "N0P88ZXp9MjM"
      }
    },
    {
      "cell_type": "code",
      "source": [
        "import sympy as sp # Cargamos sympy como sp\n",
        "import numpy as np\n",
        "import matplotlib.pylab as plt\n",
        "\n",
        "f_s = lambda x: 1/(1+25*x**2)\n",
        "sp.init_printing() # Usar LaTeX para dibujar ecuaciones\n",
        "\n",
        "x = sp.symbols(\"x\") # x será una variable simbólica\n",
        "f_s(x)\n",
        "print(sp.diff(f_s(x),x))\n",
        "print(sp.diff(f_s(x),x, 1))\n",
        "print(sp.diff(f_s(x),x, 2))\n",
        "print(sp.diff(f_s(x),x, 3))\n",
        "print(sp.diff(f_s(x),x, 4))\n",
        "print(sp.diff(f_s(x),x, 5))\n",
        "f5 = sp.diff(f_s(x),x, 5)\n",
        "fxn5 = sp.lambdify(x,f5,'numpy') #numpy funcion\n",
        "\n",
        "x_ = np.linspace(-1, 1, 100)\n",
        "\n",
        "plt.figure()\n",
        "plt.plot(x_, fxn5(x_) )\n",
        "plt.show()"
      ],
      "metadata": {
        "colab": {
          "base_uri": "https://localhost:8080/",
          "height": 375
        },
        "id": "0AaQ_MUR9LtH",
        "outputId": "fee2397c-324e-4e33-fa65-5da13461d84d"
      },
      "execution_count": 31,
      "outputs": [
        {
          "output_type": "stream",
          "name": "stdout",
          "text": [
            "-50*x/(25*x**2 + 1)**2\n",
            "-50*x/(25*x**2 + 1)**2\n",
            "50*(100*x**2/(25*x**2 + 1) - 1)/(25*x**2 + 1)**2\n",
            "15000*x*(-50*x**2/(25*x**2 + 1) + 1)/(25*x**2 + 1)**3\n",
            "15000*(10000*x**4/(25*x**2 + 1)**2 - 300*x**2/(25*x**2 + 1) + 1)/(25*x**2 + 1)**3\n",
            "3750000*x*(-10000*x**4/(25*x**2 + 1)**2 + 400*x**2/(25*x**2 + 1) - 3)/(25*x**2 + 1)**4\n"
          ]
        },
        {
          "output_type": "display_data",
          "data": {
            "image/png": "[encoded data removed]",
            "text/plain": [
              "<Figure size 432x288 with 1 Axes>"
            ]
          },
          "metadata": {
            "needs_background": "light"
          }
        }
      ]
    },
    {
      "cell_type": "code",
      "source": [
        "x=np.array([0.9,1.3,1.9,2.1,2.6,3.0,3.9,4.4,4.7,5.0,6.0,7.0,8.0,9.2,10.5,11.3,11.6,12.0,12.6,13.0,13.3])\n",
        "y=np.array([1.3,1.5,1.85,2.1,2.6,2.7,2.4,2.15,2.05,2.1,2.25,2.3,2.25,1.95,1.4,0.9,0.7,0.6,0.5,0.4,0.25])"
      ],
      "metadata": {
        "id": "Ch9rnnJ_9c89"
      },
      "execution_count": 49,
      "outputs": []
    },
    {
      "cell_type": "markdown",
      "source": [
        "# 4. Spline Cúbico\n",
        "\n",
        "Consideremos la imagen ![paloma](https://github.com/hernansalinas/Metodos_Computacionales_taller/blob/main/Asignaciones/Tareas/Enunciados_2021_02/figuras/Fig.png?raw=true).\n",
        "\n",
        "Con los datos dados en la tabla:\n",
        "\n",
        "1. Representar gráficamente la imagen, usando las órdenes `imread` e `imshow` de python (estas órdenes están contenidas en el paquete `matplotlib`) \n",
        "\n",
        "2. Definir una lista de puntos, $x_i$,$y_i$ de la paloma.\n",
        "\n",
        "3. Representar el polinomio de interpolación de Lagrange en estos puntos, para aproximar el dibujo.\n",
        "\n",
        "4. Repetir el proceso de interpolación mediante *splines* cúbicos. Para ello, utilizar la función `CubicSpline` (contenida en `scipy.interpolate`), \n",
        "\n",
        "\n",
        "5. Comparar los resultados. ¿Alguna de las interpolaciones presenta oscilaciones? ¿A qué se debe este fenómeno?\n",
        "\n",
        "Ref: Metodos numericos, Burden."
      ],
      "metadata": {
        "id": "fHwXVWqh9shF"
      }
    },
    {
      "cell_type": "code",
      "source": [
        "df.x[20]"
      ],
      "metadata": {
        "colab": {
          "base_uri": "https://localhost:8080/",
          "height": 37
        },
        "id": "zhs22fLE91WJ",
        "outputId": "c0bfbd7c-b7c9-4ebf-863a-78d574a176e4"
      },
      "execution_count": 61,
      "outputs": [
        {
          "output_type": "execute_result",
          "data": {
            "image/png": "[encoded data removed]",
            "text/latex": "$\\displaystyle 13.3$",
            "text/plain": [
              "13.3"
            ]
          },
          "metadata": {},
          "execution_count": 61
        }
      ]
    },
    {
      "cell_type": "code",
      "source": [
        "x=np.array([0.9,1.3,1.9,2.1,2.6,3.0,3.9,4.4,4.7,5.0,6.0,7.0,8.0,9.2,10.5,11.3,11.6,12.0,12.6,13.0,13.3])\n",
        "y=np.array([1.3,1.5,1.85,2.1,2.6,2.7,2.4,2.15,2.05,2.1,2.25,2.3,2.25,1.95,1.4,0.9,0.7,0.6,0.5,0.4,0.25])\n",
        "df=pd.DataFrame({'x':x,'y':y}) #Dataframe\n",
        "df"
      ],
      "metadata": {
        "colab": {
          "base_uri": "https://localhost:8080/",
          "height": 708
        },
        "id": "t9I7l_A6_kMv",
        "outputId": "7f0a5b00-1b5b-44e4-c1aa-b68df7f217dd"
      },
      "execution_count": 65,
      "outputs": [
        {
          "output_type": "execute_result",
          "data": {
            "text/html": [
              "\n",
              "  <div id=\"df-e81a6576-ddda-417e-955f-f117a16a156b\">\n",
              "    <div class=\"colab-df-container\">\n",
              "      <div>\n",
              "<style scoped>\n",
              "    .dataframe tbody tr th:only-of-type {\n",
              "        vertical-align: middle;\n",
              "    }\n",
              "\n",
              "    .dataframe tbody tr th {\n",
              "        vertical-align: top;\n",
              "    }\n",
              "\n",
              "    .dataframe thead th {\n",
              "        text-align: right;\n",
              "    }\n",
              "</style>\n",
              "<table border=\"1\" class=\"dataframe\">\n",
              "  <thead>\n",
              "    <tr style=\"text-align: right;\">\n",
              "      <th></th>\n",
              "      <th>x</th>\n",
              "      <th>y</th>\n",
              "    </tr>\n",
              "  </thead>\n",
              "  <tbody>\n",
              "    <tr>\n",
              "      <th>0</th>\n",
              "      <td>0.9</td>\n",
              "      <td>1.30</td>\n",
              "    </tr>\n",
              "    <tr>\n",
              "      <th>1</th>\n",
              "      <td>1.3</td>\n",
              "      <td>1.50</td>\n",
              "    </tr>\n",
              "    <tr>\n",
              "      <th>2</th>\n",
              "      <td>1.9</td>\n",
              "      <td>1.85</td>\n",
              "    </tr>\n",
              "    <tr>\n",
              "      <th>3</th>\n",
              "      <td>2.1</td>\n",
              "      <td>2.10</td>\n",
              "    </tr>\n",
              "    <tr>\n",
              "      <th>4</th>\n",
              "      <td>2.6</td>\n",
              "      <td>2.60</td>\n",
              "    </tr>\n",
              "    <tr>\n",
              "      <th>5</th>\n",
              "      <td>3.0</td>\n",
              "      <td>2.70</td>\n",
              "    </tr>\n",
              "    <tr>\n",
              "      <th>6</th>\n",
              "      <td>3.9</td>\n",
              "      <td>2.40</td>\n",
              "    </tr>\n",
              "    <tr>\n",
              "      <th>7</th>\n",
              "      <td>4.4</td>\n",
              "      <td>2.15</td>\n",
              "    </tr>\n",
              "    <tr>\n",
              "      <th>8</th>\n",
              "      <td>4.7</td>\n",
              "      <td>2.05</td>\n",
              "    </tr>\n",
              "    <tr>\n",
              "      <th>9</th>\n",
              "      <td>5.0</td>\n",
              "      <td>2.10</td>\n",
              "    </tr>\n",
              "    <tr>\n",
              "      <th>10</th>\n",
              "      <td>6.0</td>\n",
              "      <td>2.25</td>\n",
              "    </tr>\n",
              "    <tr>\n",
              "      <th>11</th>\n",
              "      <td>7.0</td>\n",
              "      <td>2.30</td>\n",
              "    </tr>\n",
              "    <tr>\n",
              "      <th>12</th>\n",
              "      <td>8.0</td>\n",
              "      <td>2.25</td>\n",
              "    </tr>\n",
              "    <tr>\n",
              "      <th>13</th>\n",
              "      <td>9.2</td>\n",
              "      <td>1.95</td>\n",
              "    </tr>\n",
              "    <tr>\n",
              "      <th>14</th>\n",
              "      <td>10.5</td>\n",
              "      <td>1.40</td>\n",
              "    </tr>\n",
              "    <tr>\n",
              "      <th>15</th>\n",
              "      <td>11.3</td>\n",
              "      <td>0.90</td>\n",
              "    </tr>\n",
              "    <tr>\n",
              "      <th>16</th>\n",
              "      <td>11.6</td>\n",
              "      <td>0.70</td>\n",
              "    </tr>\n",
              "    <tr>\n",
              "      <th>17</th>\n",
              "      <td>12.0</td>\n",
              "      <td>0.60</td>\n",
              "    </tr>\n",
              "    <tr>\n",
              "      <th>18</th>\n",
              "      <td>12.6</td>\n",
              "      <td>0.50</td>\n",
              "    </tr>\n",
              "    <tr>\n",
              "      <th>19</th>\n",
              "      <td>13.0</td>\n",
              "      <td>0.40</td>\n",
              "    </tr>\n",
              "    <tr>\n",
              "      <th>20</th>\n",
              "      <td>13.3</td>\n",
              "      <td>0.25</td>\n",
              "    </tr>\n",
              "  </tbody>\n",
              "</table>\n",
              "</div>\n",
              "      <button class=\"colab-df-convert\" onclick=\"convertToInteractive('df-e81a6576-ddda-417e-955f-f117a16a156b')\"\n",
              "              title=\"Convert this dataframe to an interactive table.\"\n",
              "              style=\"display:none;\">\n",
              "        \n",
              "  <svg xmlns=\"http://www.w3.org/2000/svg\" height=\"24px\"viewBox=\"0 0 24 24\"\n",
              "       width=\"24px\">\n",
              "    <path d=\"M0 0h24v24H0V0z\" fill=\"none\"/>\n",
              "    <path d=\"M18.56 5.44l.94 2.06.94-2.06 2.06-.94-2.06-.94-.94-2.06-.94 2.06-2.06.94zm-11 1L8.5 8.5l.94-2.06 2.06-.94-2.06-.94L8.5 2.5l-.94 2.06-2.06.94zm10 10l.94 2.06.94-2.06 2.06-.94-2.06-.94-.94-2.06-.94 2.06-2.06.94z\"/><path d=\"M17.41 7.96l-1.37-1.37c-.4-.4-.92-.59-1.43-.59-.52 0-1.04.2-1.43.59L10.3 9.45l-7.72 7.72c-.78.78-.78 2.05 0 2.83L4 21.41c.39.39.9.59 1.41.59.51 0 1.02-.2 1.41-.59l7.78-7.78 2.81-2.81c.8-.78.8-2.07 0-2.86zM5.41 20L4 18.59l7.72-7.72 1.47 1.35L5.41 20z\"/>\n",
              "  </svg>\n",
              "      </button>\n",
              "      \n",
              "  <style>\n",
              "    .colab-df-container {\n",
              "      display:flex;\n",
              "      flex-wrap:wrap;\n",
              "      gap: 12px;\n",
              "    }\n",
              "\n",
              "    .colab-df-convert {\n",
              "      background-color: #E8F0FE;\n",
              "      border: none;\n",
              "      border-radius: 50%;\n",
              "      cursor: pointer;\n",
              "      display: none;\n",
              "      fill: #1967D2;\n",
              "      height: 32px;\n",
              "      padding: 0 0 0 0;\n",
              "      width: 32px;\n",
              "    }\n",
              "\n",
              "    .colab-df-convert:hover {\n",
              "      background-color: #E2EBFA;\n",
              "      box-shadow: 0px 1px 2px rgba(60, 64, 67, 0.3), 0px 1px 3px 1px rgba(60, 64, 67, 0.15);\n",
              "      fill: #174EA6;\n",
              "    }\n",
              "\n",
              "    [theme=dark] .colab-df-convert {\n",
              "      background-color: #3B4455;\n",
              "      fill: #D2E3FC;\n",
              "    }\n",
              "\n",
              "    [theme=dark] .colab-df-convert:hover {\n",
              "      background-color: #434B5C;\n",
              "      box-shadow: 0px 1px 3px 1px rgba(0, 0, 0, 0.15);\n",
              "      filter: drop-shadow(0px 1px 2px rgba(0, 0, 0, 0.3));\n",
              "      fill: #FFFFFF;\n",
              "    }\n",
              "  </style>\n",
              "\n",
              "      <script>\n",
              "        const buttonEl =\n",
              "          document.querySelector('#df-e81a6576-ddda-417e-955f-f117a16a156b button.colab-df-convert');\n",
              "        buttonEl.style.display =\n",
              "          google.colab.kernel.accessAllowed ? 'block' : 'none';\n",
              "\n",
              "        async function convertToInteractive(key) {\n",
              "          const element = document.querySelector('#df-e81a6576-ddda-417e-955f-f117a16a156b');\n",
              "          const dataTable =\n",
              "            await google.colab.kernel.invokeFunction('convertToInteractive',\n",
              "                                                     [key], {});\n",
              "          if (!dataTable) return;\n",
              "\n",
              "          const docLinkHtml = 'Like what you see? Visit the ' +\n",
              "            '<a target=\"_blank\" href=https://colab.research.google.com/notebooks/data_table.ipynb>data table notebook</a>'\n",
              "            + ' to learn more about interactive tables.';\n",
              "          element.innerHTML = '';\n",
              "          dataTable['output_type'] = 'display_data';\n",
              "          await google.colab.output.renderOutput(dataTable, element);\n",
              "          const docLink = document.createElement('div');\n",
              "          docLink.innerHTML = docLinkHtml;\n",
              "          element.appendChild(docLink);\n",
              "        }\n",
              "      </script>\n",
              "    </div>\n",
              "  </div>\n",
              "  "
            ],
            "text/plain": [
              "       x     y\n",
              "0    0.9  1.30\n",
              "1    1.3  1.50\n",
              "2    1.9  1.85\n",
              "3    2.1  2.10\n",
              "4    2.6  2.60\n",
              "5    3.0  2.70\n",
              "6    3.9  2.40\n",
              "7    4.4  2.15\n",
              "8    4.7  2.05\n",
              "9    5.0  2.10\n",
              "10   6.0  2.25\n",
              "11   7.0  2.30\n",
              "12   8.0  2.25\n",
              "13   9.2  1.95\n",
              "14  10.5  1.40\n",
              "15  11.3  0.90\n",
              "16  11.6  0.70\n",
              "17  12.0  0.60\n",
              "18  12.6  0.50\n",
              "19  13.0  0.40\n",
              "20  13.3  0.25"
            ]
          },
          "metadata": {},
          "execution_count": 65
        }
      ]
    },
    {
      "cell_type": "code",
      "source": [
        "poly=lagrange(df.x,df.y) #Lagrange\n",
        "poly"
      ],
      "metadata": {
        "colab": {
          "base_uri": "https://localhost:8080/"
        },
        "id": "A0AKndG-CF8M",
        "outputId": "6d6a153f-2b67-44c6-e880-2dadc29ed84c"
      },
      "execution_count": 64,
      "outputs": [
        {
          "output_type": "execute_result",
          "data": {
            "text/plain": [
              "poly1d([-3.07453078e-11,  4.27948927e-09, -2.77283085e-07,  1.11075895e-05,\n",
              "       -3.08159189e-04,  6.28589967e-03, -9.76903801e-02,  1.18284032e+00,\n",
              "       -1.13160516e+01,  8.62513980e+01, -5.25812754e+02,  2.56420131e+03,\n",
              "       -9.96897886e+03,  3.06776350e+04, -7.38665657e+04,  1.36777900e+05,\n",
              "       -1.89850973e+05,  1.89994993e+05, -1.28683406e+05,  5.24625803e+04,\n",
              "       -9.65278508e+03])"
            ]
          },
          "metadata": {},
          "execution_count": 64
        }
      ]
    },
    {
      "cell_type": "code",
      "source": [
        "X=np.linspace(df.x.min(),df.x.max(),1000)"
      ],
      "metadata": {
        "id": "L33Nod5bEKih"
      },
      "execution_count": 82,
      "outputs": []
    },
    {
      "cell_type": "code",
      "source": [
        "\n",
        "plt.scatter(df.x,df.y,color='red')\n",
        "plt.plot(X,poly(X))\n",
        "plt.grid()\n",
        "plt.title(\"Gráfica por Método de Lagrange\")\n",
        "plt.xlabel(\"$X$\")\n",
        "plt.ylabel(\"$Y$\")"
      ],
      "metadata": {
        "colab": {
          "base_uri": "https://localhost:8080/",
          "height": 315
        },
        "id": "SkK5PmQNC4b8",
        "outputId": "c4d24186-7c9a-473e-8949-42916f04dae6"
      },
      "execution_count": 85,
      "outputs": [
        {
          "output_type": "execute_result",
          "data": {
            "text/plain": [
              "Text(0, 0.5, '$Y$')"
            ]
          },
          "metadata": {},
          "execution_count": 85
        },
        {
          "output_type": "display_data",
          "data": {
            "image/png": "[encoded data removed]",
            "text/plain": [
              "<Figure size 432x288 with 1 Axes>"
            ]
          },
          "metadata": {
            "needs_background": "light"
          }
        }
      ]
    },
    {
      "cell_type": "code",
      "source": [
        "CS=CubicSpline(df.x,df.y)\n",
        "plt.plot(X,CS(X))\n",
        "plt.scatter(df.x,df.y,color='red')\n",
        "plt.grid()\n",
        "plt.title(\"Gráfica por Método de Splines Cúbicos\")\n",
        "plt.xlabel(\"$X$\")\n",
        "plt.ylabel(\"$Y$\")"
      ],
      "metadata": {
        "colab": {
          "base_uri": "https://localhost:8080/",
          "height": 315
        },
        "id": "AEqSe0AtCbVr",
        "outputId": "f9ffe689-be5e-4017-a35e-53fc6657e77b"
      },
      "execution_count": 86,
      "outputs": [
        {
          "output_type": "execute_result",
          "data": {
            "text/plain": [
              "Text(0, 0.5, '$Y$')"
            ]
          },
          "metadata": {},
          "execution_count": 86
        },
        {
          "output_type": "display_data",
          "data": {
            "image/png": "[encoded data removed]",
            "text/plain": [
              "<Figure size 432x288 with 1 Axes>"
            ]
          },
          "metadata": {
            "needs_background": "light"
          }
        }
      ]
    },
    {
      "cell_type": "code",
      "source": [
        "#La interpolación por Lagrage presenta oscilaciones debido a que no es tan exacta como rl método de Splines Cúbicos"
      ],
      "metadata": {
        "colab": {
          "base_uri": "https://localhost:8080/"
        },
        "id": "vbldl3KkDgiA",
        "outputId": "675cdb2b-f07a-4a52-c99b-6ff079e3d1d2"
      },
      "execution_count": 74,
      "outputs": [
        {
          "output_type": "execute_result",
          "data": {
            "text/plain": [
              "<scipy.interpolate._cubic.CubicSpline at 0x7f195d43b5f0>"
            ]
          },
          "metadata": {},
          "execution_count": 74
        }
      ]
    }
  ]
}