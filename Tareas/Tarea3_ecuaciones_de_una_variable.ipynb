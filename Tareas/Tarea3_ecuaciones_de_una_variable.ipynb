{
  "nbformat": 4,
  "nbformat_minor": 0,
  "metadata": {
    "colab": {
      "name": "Tarea3-ecuaciones_de_una_variable.ipynb",
      "provenance": [],
      "collapsed_sections": []
    },
    "kernelspec": {
      "name": "python3",
      "display_name": "Python 3"
    },
    "language_info": {
      "name": "python"
    }
  },
  "cells": [
    {
      "cell_type": "code",
      "execution_count": 71,
      "metadata": {
        "id": "w_wW5fILbwAC"
      },
      "outputs": [],
      "source": [
        "import numpy as np\n",
        "import matplotlib.pylab as plt\n",
        "import pandas as pd \n",
        "from scipy import optimize\n",
        "\n",
        "def bisec(f,a,b,tol): #Método de Bisección\n",
        "  if f(a)*f(b)<0: #f debe tocar el eje x\n",
        "    p=(a+b)/2 #Punto medio\n",
        "    i=0 #Iniciar\n",
        "    while abs(f(p))>tol:\n",
        "      if f(a)*f(p)<0:\n",
        "        b=p\n",
        "      elif f(b)*f(p)<0:\n",
        "        a=p\n",
        "            \n",
        "        \n",
        "      i=i+1 #Parar\n",
        "      p=(a+b)/2 #Tomar otro p\n",
        "    x=np.linspace(a-1,b+1,100)\n",
        "    plt.plot(x,f(x),label=\"$f(x)$\" )\n",
        "    plt.plot(p,f(p),\"o\",color=\"red\",label=\"Raíz\")             \n",
        "    plt.title(\"Gráfica por método de Bisección\")\n",
        "    plt.xlabel(\"$x$\")\n",
        "    plt.ylabel(\"$f(x)$\")\n",
        "    plt.grid()\n",
        "    plt.legend()\n",
        "    V={\"Raíz por método de bisección\":p}   \n",
        "    return V\n",
        "        \n",
        "\n",
        "  else:\n",
        "    return \"HEERRROR\" #Error\n",
        "\n",
        "def NR(f,xo,tol): # Método de Newton \n",
        "  i=xo\n",
        "  while abs(f(i))>tol:\n",
        "    i=i-f(i)*(1e-7)/(f(i+1e-7)-f(i))\n",
        "  x=np.linspace(0,i+1,100)\n",
        "  plt.plot(x,f(x),label='$f(x)$')\n",
        "  plt.plot(i,f(i),\"o\",color='red',label=\"Raíz\")\n",
        "  plt.title(\"Gráfica por método de Newton\")\n",
        "  plt.xlabel(\"$x$\")\n",
        "  plt.ylabel(\"$f(x)$\")\n",
        "  plt.grid()\n",
        "  plt.legend()\n",
        "  V={\"Raíz por método de Newton\":i}\n",
        "  return V\n",
        "\n",
        "def punto_fijo(po,f,Nmax): #Punto fijo \n",
        "  g=lambda x:f(x)+x\n",
        "  i=0\n",
        "  p=po\n",
        "    \n",
        "  while i<Nmax:\n",
        "    p=g(p)\n",
        "    i+=1\n",
        "        \n",
        "  return p\n",
        "\n",
        "def secante(f,p0,p1,tol): #Método secante\n",
        "  n=0\n",
        "  pn_1=p1\n",
        "  pn_2=p0\n",
        "  while abs(pn_1-pn_2) > tol:\n",
        "    pn=pn_1-(f(pn_1)*(pn_1-pn_2))/(f(pn_1)-f(pn_2))\n",
        "        \n",
        "    #Descarto    0,1,2....\n",
        "    pn_2 = pn_1 #1,2,3...\n",
        "    pn_1 = pn   #2,3,4...\n",
        "        \n",
        "    n+=1\n",
        "        \n",
        "  #print('Raiz encontrada en',n,'iteraciones')\n",
        "  return pn"
      ]
    },
    {
      "cell_type": "code",
      "source": [
        ""
      ],
      "metadata": {
        "id": "qQTPZ0VqnTSK"
      },
      "execution_count": 38,
      "outputs": []
    },
    {
      "cell_type": "code",
      "source": [
        ""
      ],
      "metadata": {
        "id": "GNH_J3qsCwhk"
      },
      "execution_count": 38,
      "outputs": []
    },
    {
      "cell_type": "markdown",
      "source": [
        "**1)** Encontrar la raíz de $e^x -2=cos(e^x -2)$ "
      ],
      "metadata": {
        "id": "8KdqABuSieGp"
      }
    },
    {
      "cell_type": "code",
      "source": [
        "j=lambda x: np.cos(np.exp(-x)-2)+2-np.exp(-x)\n",
        "bisec(j,-10,10,1e-7)"
      ],
      "metadata": {
        "colab": {
          "base_uri": "https://localhost:8080/",
          "height": 313
        },
        "id": "q0Rvy7Uki9ae",
        "outputId": "509c2856-5c99-4c93-d04d-93704d885703"
      },
      "execution_count": 39,
      "outputs": [
        {
          "output_type": "execute_result",
          "data": {
            "text/plain": [
              "{'Raíz por método de bisección': -1.0076239705085754}"
            ]
          },
          "metadata": {},
          "execution_count": 39
        },
        {
          "output_type": "display_data",
          "data": {
            "image/png": "[encoded data removed]",
            "text/plain": [
              "<Figure size 432x288 with 1 Axes>"
            ]
          },
          "metadata": {
            "needs_background": "light"
          }
        }
      ]
    },
    {
      "cell_type": "code",
      "source": [
        "\n"
      ],
      "metadata": {
        "id": "ZZ9TLFR_j7Yp"
      },
      "execution_count": 39,
      "outputs": []
    },
    {
      "cell_type": "code",
      "source": [
        ""
      ],
      "metadata": {
        "id": "WzkWja6go_mf"
      },
      "execution_count": 39,
      "outputs": []
    },
    {
      "cell_type": "markdown",
      "source": [
        "**2)** Una particula parte del reposo sobre un plano inclinado uniforme, cuyo ángulo \n",
        "$\\theta$ cambia con una rapidez constante de : \n",
        "\n",
        "\\begin{equation}\n",
        "\\frac{\\mathrm{d}\\theta}{\\mathrm{d} t} = \\omega < 0\n",
        "\\end{equation}\n",
        "\n",
        "Al final de t segundos, la posición del objeto esta dada por: \n",
        "\n",
        "\n",
        "\\begin{equation}\n",
        "x(t) = -\\frac{g}{2\\omega^2} \\left( \\frac{e^{\\omega t}-e^{-\\omega t}}{2}\\right) -\\sin\\omega t\n",
        "\\end{equation}\n",
        "\n",
        "\n",
        "Suponga que la partícula se desplazo 0.51m en 1s. Encuentre, con una exactitud de $10^{-5}$, la rapidez $\\omega$ con que $\\theta$ cambia. Suponga que $g=9.76m/s$\n",
        "\n",
        "\n",
        "![Plano Inclinado](https://raw.githubusercontent.com/hernansalinas/Metodos_Computacionales_taller/main/sesiones/images/ecuacion_1_variable/Fig0.png)\n",
        " "
      ],
      "metadata": {
        "id": "7yr6DXVZpBgz"
      }
    },
    {
      "cell_type": "code",
      "source": [
        "G=lambda w: (9.76/2*w**2)*np.sinh(w)+ np.sin(w)-0.51\n",
        "bisec(G,-2,1,1e-7)"
      ],
      "metadata": {
        "colab": {
          "base_uri": "https://localhost:8080/",
          "height": 313
        },
        "id": "A04EOO9SpGsB",
        "outputId": "ce8da66f-e363-4b2d-f93b-f07c3c942123"
      },
      "execution_count": 40,
      "outputs": [
        {
          "output_type": "execute_result",
          "data": {
            "text/plain": [
              "{'Raíz por método de bisección': 0.33283667266368866}"
            ]
          },
          "metadata": {},
          "execution_count": 40
        },
        {
          "output_type": "display_data",
          "data": {
            "image/png": "[encoded data removed]",
            "text/plain": [
              "<Figure size 432x288 with 1 Axes>"
            ]
          },
          "metadata": {
            "needs_background": "light"
          }
        }
      ]
    },
    {
      "cell_type": "code",
      "source": [
        ""
      ],
      "metadata": {
        "id": "ti0KAMrUpj5m"
      },
      "execution_count": 40,
      "outputs": []
    },
    {
      "cell_type": "markdown",
      "source": [
        "**3.** Un reservorio de longitud L tiene una seccion transveral en forma de semicirculo con radio r.\n",
        "\n",
        "\\begin{equation}\n",
        "V=L \\left ( \\frac{1}{2}\\pi r^2 -r^2 \\arcsin{\\frac{h}{r}}-h(r^2-h^2) ^{1/2} \\right)\n",
        "\\end{equation}\n",
        "\n",
        "Determinar la profundidad del agua para L=10pies, r=1pies, V=12.4pies\n",
        "\n",
        "\n",
        "![Reservorio](https://raw.githubusercontent.com/hernansalinas/Metodos_Computacionales_taller/main/sesiones/images/ecuacion_1_variable/Fig1.png)\n"
      ],
      "metadata": {
        "id": "VBX_AxJjpkMK"
      }
    },
    {
      "cell_type": "code",
      "source": [
        "L=10 \n",
        "r=1 \n",
        "V=12.4\n",
        "\n",
        "\n",
        "Z=lambda h: (r**2)*np.arcsin(h/r)+h*(r**2-h**2)**(0.5)+V/L-(0.5)*np.pi*r**2 #Profundidad\n",
        "bisec(Z,-1,1,1e-7)"
      ],
      "metadata": {
        "colab": {
          "base_uri": "https://localhost:8080/",
          "height": 387
        },
        "id": "NkDYhYEfplkp",
        "outputId": "0ca8eda9-36d3-4d38-95dc-f4de6875b6da"
      },
      "execution_count": 52,
      "outputs": [
        {
          "output_type": "stream",
          "name": "stderr",
          "text": [
            "/usr/local/lib/python3.7/dist-packages/ipykernel_launcher.py:6: RuntimeWarning: invalid value encountered in arcsin\n",
            "  \n",
            "/usr/local/lib/python3.7/dist-packages/ipykernel_launcher.py:6: RuntimeWarning: invalid value encountered in sqrt\n",
            "  \n"
          ]
        },
        {
          "output_type": "execute_result",
          "data": {
            "text/plain": [
              "{'Raíz por método de bisección': 0.16616606712341309}"
            ]
          },
          "metadata": {},
          "execution_count": 52
        },
        {
          "output_type": "display_data",
          "data": {
            "image/png": "[encoded data removed]",
            "text/plain": [
              "<Figure size 432x288 with 1 Axes>"
            ]
          },
          "metadata": {
            "needs_background": "light"
          }
        }
      ]
    },
    {
      "cell_type": "code",
      "source": [
        ""
      ],
      "metadata": {
        "id": "x6JQYV5prZ38"
      },
      "execution_count": 53,
      "outputs": []
    },
    {
      "cell_type": "code",
      "source": [
        "NR(Z,0,1e-7)"
      ],
      "metadata": {
        "id": "G5D_mZCsG0QV",
        "colab": {
          "base_uri": "https://localhost:8080/",
          "height": 387
        },
        "outputId": "81608b6d-c5ce-4723-8365-a022d32cc4dd"
      },
      "execution_count": 55,
      "outputs": [
        {
          "output_type": "stream",
          "name": "stderr",
          "text": [
            "/usr/local/lib/python3.7/dist-packages/ipykernel_launcher.py:6: RuntimeWarning: invalid value encountered in arcsin\n",
            "  \n",
            "/usr/local/lib/python3.7/dist-packages/ipykernel_launcher.py:6: RuntimeWarning: invalid value encountered in sqrt\n",
            "  \n"
          ]
        },
        {
          "output_type": "execute_result",
          "data": {
            "text/plain": [
              "{'Raíz por método de Newton': 0.16616598445223288}"
            ]
          },
          "metadata": {},
          "execution_count": 55
        },
        {
          "output_type": "display_data",
          "data": {
            "image/png": "[encoded data removed]",
            "text/plain": [
              "<Figure size 432x288 with 1 Axes>"
            ]
          },
          "metadata": {
            "needs_background": "light"
          }
        }
      ]
    },
    {
      "cell_type": "markdown",
      "source": [
        "\n",
        "**4.** Resolver la siguiente situación\n",
        "\n",
        "\n",
        "![Ruedas](https://github.com/hernansalinas/Curso_Metodos_Computacionales/blob/main/Tareas/figuras/fig1.png?raw=true)\n",
        "\n",
        "En el diseño de los vehiculos para todo tipo de terreno,  es necesario tener encuentra fallas cuando se trata de liberar dos tipos de obstáculos. Una es la falla por rozamiento, y ocurre cuando el vehiculo \n",
        "intenta cruzar un obstáculo que hace que su fondo toque el suelo. La otra recibie el nombre de falla por colision de la defensa delantera y ocurre cuando el vehiculo desciende por una zanja y la defensa delantera toca el suelo.\n",
        "\n",
        "\n",
        "\n",
        "La figura muestra las componentes asociados al segundo tipo  de falla. En ella se indeca el ángulo máximo $\\alpha$ que puede alcanzar un vehiculo cuando $\\beta$ es el angulo maximo en que no ocurre la falla \n",
        "por rozamiento y satisface la siguiente ecuación: \n",
        "\n",
        "\n",
        "\\begin{equation}\n",
        "A \\sin(\\alpha) \\cos(\\alpha)+B \\sin^2(\\alpha) - C \\cos(\\alpha) -  E  \\sin(\\alpha)=0\n",
        "\\end{equation}\n",
        "\n",
        "donde; \n",
        "\\begin{equation}\n",
        "A = l \\sin(\\beta)\n",
        "\\end{equation}\n",
        "\n",
        "\\begin{equation}\n",
        "B = l \\cos(\\beta)\n",
        "\\end{equation}\n",
        "\\begin{equation}\n",
        "C = (h + 0.5 D )\\sin(\\beta) - 0.5 D \\tan(\\beta)\n",
        "\\end{equation}\n",
        "\n",
        "\\begin{equation}\n",
        "E = (h + 0.5 D ) \\cos(\\beta) - 0.5 * D\n",
        "\\end{equation}\n",
        "\n",
        "\n",
        "Para $l=89$pulg, $h=49$pul, $D=55$, $\\beta=11.5$ , el angulo se aproximara a 33. Verificar este resultados\n",
        "\n",
        "Referencias: Numerical Analysis Book by J. Douglas Faires and Richard L. Burden\n",
        "\n",
        "```\n",
        "# Tiene formato de código\n",
        "```\n",
        "\n"
      ],
      "metadata": {
        "id": "sq2YvTMSG0mR"
      }
    },
    {
      "cell_type": "code",
      "source": [
        "l=89 #pulgadas\n",
        "h=49 #pulgadas\n",
        "D=55\n",
        "beta=11.5 #Grados\n",
        "\n",
        "\n",
        "A=l*np.sin(np.deg2rad(beta))\n",
        "B=l*np.cos(np.deg2rad(beta))\n",
        "C=(h+0.5*D)*np.sin(np.deg2rad(beta))-0.5*D*np.tan(np.deg2rad(beta))\n",
        "E=(h+0.5*D)*np.cos(np.deg2rad(beta))-0.5*D\n",
        "\n",
        "\n",
        "F= lambda alpha:A*np.sin(alpha)*np.cos(alpha)+B*(np.sin(alpha))**2-C*np.cos(alpha)-E*np.sin(alpha)"
      ],
      "metadata": {
        "id": "wJAVxi4kG_Go"
      },
      "execution_count": 57,
      "outputs": []
    },
    {
      "cell_type": "markdown",
      "source": [
        ""
      ],
      "metadata": {
        "id": "hJ8A2CkAJQ01"
      }
    },
    {
      "cell_type": "code",
      "source": [
        "#abs((30-np.rad2deg(bisec(f4,0,2,1e-7)[\"Raíz por método de bisección\"]))/30) #Error relativo\n",
        "np.rad2deg(bisec(F,0,2,1e-7)[\"Raíz por método de bisección\"])#Pasar a grados"
      ],
      "metadata": {
        "colab": {
          "base_uri": "https://localhost:8080/",
          "height": 313
        },
        "id": "epTJJwXTIRvQ",
        "outputId": "ba70e499-a2c3-4ca7-be6b-77e0d1684591"
      },
      "execution_count": 58,
      "outputs": [
        {
          "output_type": "execute_result",
          "data": {
            "text/plain": [
              "32.972174727630026"
            ]
          },
          "metadata": {},
          "execution_count": 58
        },
        {
          "output_type": "display_data",
          "data": {
            "image/png": "[encoded data removed]",
            "text/plain": [
              "<Figure size 432x288 with 1 Axes>"
            ]
          },
          "metadata": {
            "needs_background": "light"
          }
        }
      ]
    },
    {
      "cell_type": "code",
      "source": [
        ""
      ],
      "metadata": {
        "id": "wCOMy5ioPIao"
      },
      "execution_count": 45,
      "outputs": []
    },
    {
      "cell_type": "code",
      "source": [
        ""
      ],
      "metadata": {
        "id": "AowYX7euPQrE"
      },
      "execution_count": 45,
      "outputs": []
    },
    {
      "cell_type": "markdown",
      "source": [
        "**5.** Hallar el área de un segmento circular cuya area sea igual a una cuarta parte del área del circulo. Para la solución se sugiere lo siguiente:\n",
        "\n",
        "a) Encontrar la ecuacion trascendental.\n",
        "\n",
        "b) Con la ecuación anterior, definir una funcion $f(\\theta)=0$. Emplee la funcion labmda de python.\n",
        "\n",
        "c) Construir una data frame de pandas con la columna \"theta\" con 1000 registros(filas) entre $[-2\\pi, 2\\pi]$. Sugerencia, para construir el data frame emplee la función linspace como sigue : np.linspace(-2*np.pi, 2*np.pi, 1000 )\n",
        "\n",
        "d) Construir una segunda columna titulada \"F_theta\" con los registros f(theta)\n",
        "\n",
        "f) Realice un gráfico de  \"F_theta\" vs \"theta\". Identifique el intervalo de la raiz.\n",
        "\n",
        "Estime el valor del ángulo empleando los siguientes metodos(Emplee  la documentacion):\n",
        "\n",
        "g) [Bisección](https://docs.scipy.org/doc/scipy/reference/generated/scipy.optimize.bisect.html)\n",
        "\n",
        "h) [Newton-Rapshon](https://docs.scipy.org/doc/scipy/reference/generated/scipy.optimize.newton.html)\n",
        "\n",
        "i) [Secante](https://docs.scipy.org/doc/scipy/reference/generated/scipy.optimize.newton.html) \n",
        "\n",
        "j) [Punto Fijo](https://docs.scipy.org/doc/scipy/reference/generated/scipy.optimize.fixed_point.html)"
      ],
      "metadata": {
        "id": "S3Sl9GgzRHNX"
      }
    },
    {
      "cell_type": "code",
      "source": [
        ""
      ],
      "metadata": {
        "id": "XqJxEGRdRIZr"
      },
      "execution_count": 45,
      "outputs": []
    },
    {
      "cell_type": "markdown",
      "source": [
        "![Circulo.png](data:image/png;base64,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) \\\n",
        "\\\n",
        "Área del triangulo $-->$ $A_T = \\frac{1}{2}[2r^2sen(\\frac{\\theta}{2})cos(\\frac{\\theta}{2})]=\\frac{1}{2}r^2sen\\theta$ \n",
        "\n",
        "\\\n",
        "Área del sector circular $-->$ $A_S = \\frac{1}{2}\\theta r^2$ \n",
        "\n",
        "\\\n",
        "Área del sección transversal $-->$ $A_{ST} = A_S -A_T =\\frac{1}{2}\\theta r^2 -\\frac{1}{2}r^2sen=\\frac{\\pi r^2}{4}$\n",
        "\\\n",
        "Resolviendo la ecuación obtenemos $$f(\\theta)=\\theta - sen(\\theta) -\\frac{\\pi}{2}$$\n"
      ],
      "metadata": {
        "id": "JafQuqfkSSQ9"
      }
    },
    {
      "cell_type": "code",
      "source": [
        "f=lambda theta:theta-np.sin(theta)-np.pi/2\n",
        "g:lambda theta: np.sin(theta)+np.pi/2\n",
        "\n",
        "theta=np.linspace(-2*np.pi,2*np.pi,1000)"
      ],
      "metadata": {
        "id": "lMz_ujZfaVDB"
      },
      "execution_count": 67,
      "outputs": []
    },
    {
      "cell_type": "code",
      "source": [
        ""
      ],
      "metadata": {
        "id": "BRnI1UfybAlG"
      },
      "execution_count": 46,
      "outputs": []
    },
    {
      "cell_type": "code",
      "source": [
        "df = pd.DataFrame({'theta':theta,'f(theta)':f(theta)})"
      ],
      "metadata": {
        "id": "Lnh0V6iKaVKu"
      },
      "execution_count": 47,
      "outputs": []
    },
    {
      "cell_type": "code",
      "source": [
        "df #DataFrame theta vs"
      ],
      "metadata": {
        "colab": {
          "base_uri": "https://localhost:8080/",
          "height": 424
        },
        "id": "YpyJVcsNaBx7",
        "outputId": "e7909d5c-f01c-469f-ebae-d1f0b543ef1d"
      },
      "execution_count": 48,
      "outputs": [
        {
          "output_type": "execute_result",
          "data": {
            "text/html": [
              "\n",
              "  <div id=\"df-0fdf3a42-5246-4367-b120-c77ea173dbf6\">\n",
              "    <div class=\"colab-df-container\">\n",
              "      <div>\n",
              "<style scoped>\n",
              "    .dataframe tbody tr th:only-of-type {\n",
              "        vertical-align: middle;\n",
              "    }\n",
              "\n",
              "    .dataframe tbody tr th {\n",
              "        vertical-align: top;\n",
              "    }\n",
              "\n",
              "    .dataframe thead th {\n",
              "        text-align: right;\n",
              "    }\n",
              "</style>\n",
              "<table border=\"1\" class=\"dataframe\">\n",
              "  <thead>\n",
              "    <tr style=\"text-align: right;\">\n",
              "      <th></th>\n",
              "      <th>theta</th>\n",
              "      <th>f(theta)</th>\n",
              "    </tr>\n",
              "  </thead>\n",
              "  <tbody>\n",
              "    <tr>\n",
              "      <th>0</th>\n",
              "      <td>-6.283185</td>\n",
              "      <td>-7.853982</td>\n",
              "    </tr>\n",
              "    <tr>\n",
              "      <th>1</th>\n",
              "      <td>-6.270606</td>\n",
              "      <td>-7.853981</td>\n",
              "    </tr>\n",
              "    <tr>\n",
              "      <th>2</th>\n",
              "      <td>-6.258027</td>\n",
              "      <td>-7.853979</td>\n",
              "    </tr>\n",
              "    <tr>\n",
              "      <th>3</th>\n",
              "      <td>-6.245448</td>\n",
              "      <td>-7.853973</td>\n",
              "    </tr>\n",
              "    <tr>\n",
              "      <th>4</th>\n",
              "      <td>-6.232870</td>\n",
              "      <td>-7.853960</td>\n",
              "    </tr>\n",
              "    <tr>\n",
              "      <th>...</th>\n",
              "      <td>...</td>\n",
              "      <td>...</td>\n",
              "    </tr>\n",
              "    <tr>\n",
              "      <th>995</th>\n",
              "      <td>6.232870</td>\n",
              "      <td>4.712368</td>\n",
              "    </tr>\n",
              "    <tr>\n",
              "      <th>996</th>\n",
              "      <td>6.245448</td>\n",
              "      <td>4.712380</td>\n",
              "    </tr>\n",
              "    <tr>\n",
              "      <th>997</th>\n",
              "      <td>6.258027</td>\n",
              "      <td>4.712386</td>\n",
              "    </tr>\n",
              "    <tr>\n",
              "      <th>998</th>\n",
              "      <td>6.270606</td>\n",
              "      <td>4.712389</td>\n",
              "    </tr>\n",
              "    <tr>\n",
              "      <th>999</th>\n",
              "      <td>6.283185</td>\n",
              "      <td>4.712389</td>\n",
              "    </tr>\n",
              "  </tbody>\n",
              "</table>\n",
              "<p>1000 rows × 2 columns</p>\n",
              "</div>\n",
              "      <button class=\"colab-df-convert\" onclick=\"convertToInteractive('df-0fdf3a42-5246-4367-b120-c77ea173dbf6')\"\n",
              "              title=\"Convert this dataframe to an interactive table.\"\n",
              "              style=\"display:none;\">\n",
              "        \n",
              "  <svg xmlns=\"http://www.w3.org/2000/svg\" height=\"24px\"viewBox=\"0 0 24 24\"\n",
              "       width=\"24px\">\n",
              "    <path d=\"M0 0h24v24H0V0z\" fill=\"none\"/>\n",
              "    <path d=\"M18.56 5.44l.94 2.06.94-2.06 2.06-.94-2.06-.94-.94-2.06-.94 2.06-2.06.94zm-11 1L8.5 8.5l.94-2.06 2.06-.94-2.06-.94L8.5 2.5l-.94 2.06-2.06.94zm10 10l.94 2.06.94-2.06 2.06-.94-2.06-.94-.94-2.06-.94 2.06-2.06.94z\"/><path d=\"M17.41 7.96l-1.37-1.37c-.4-.4-.92-.59-1.43-.59-.52 0-1.04.2-1.43.59L10.3 9.45l-7.72 7.72c-.78.78-.78 2.05 0 2.83L4 21.41c.39.39.9.59 1.41.59.51 0 1.02-.2 1.41-.59l7.78-7.78 2.81-2.81c.8-.78.8-2.07 0-2.86zM5.41 20L4 18.59l7.72-7.72 1.47 1.35L5.41 20z\"/>\n",
              "  </svg>\n",
              "      </button>\n",
              "      \n",
              "  <style>\n",
              "    .colab-df-container {\n",
              "      display:flex;\n",
              "      flex-wrap:wrap;\n",
              "      gap: 12px;\n",
              "    }\n",
              "\n",
              "    .colab-df-convert {\n",
              "      background-color: #E8F0FE;\n",
              "      border: none;\n",
              "      border-radius: 50%;\n",
              "      cursor: pointer;\n",
              "      display: none;\n",
              "      fill: #1967D2;\n",
              "      height: 32px;\n",
              "      padding: 0 0 0 0;\n",
              "      width: 32px;\n",
              "    }\n",
              "\n",
              "    .colab-df-convert:hover {\n",
              "      background-color: #E2EBFA;\n",
              "      box-shadow: 0px 1px 2px rgba(60, 64, 67, 0.3), 0px 1px 3px 1px rgba(60, 64, 67, 0.15);\n",
              "      fill: #174EA6;\n",
              "    }\n",
              "\n",
              "    [theme=dark] .colab-df-convert {\n",
              "      background-color: #3B4455;\n",
              "      fill: #D2E3FC;\n",
              "    }\n",
              "\n",
              "    [theme=dark] .colab-df-convert:hover {\n",
              "      background-color: #434B5C;\n",
              "      box-shadow: 0px 1px 3px 1px rgba(0, 0, 0, 0.15);\n",
              "      filter: drop-shadow(0px 1px 2px rgba(0, 0, 0, 0.3));\n",
              "      fill: #FFFFFF;\n",
              "    }\n",
              "  </style>\n",
              "\n",
              "      <script>\n",
              "        const buttonEl =\n",
              "          document.querySelector('#df-0fdf3a42-5246-4367-b120-c77ea173dbf6 button.colab-df-convert');\n",
              "        buttonEl.style.display =\n",
              "          google.colab.kernel.accessAllowed ? 'block' : 'none';\n",
              "\n",
              "        async function convertToInteractive(key) {\n",
              "          const element = document.querySelector('#df-0fdf3a42-5246-4367-b120-c77ea173dbf6');\n",
              "          const dataTable =\n",
              "            await google.colab.kernel.invokeFunction('convertToInteractive',\n",
              "                                                     [key], {});\n",
              "          if (!dataTable) return;\n",
              "\n",
              "          const docLinkHtml = 'Like what you see? Visit the ' +\n",
              "            '<a target=\"_blank\" href=https://colab.research.google.com/notebooks/data_table.ipynb>data table notebook</a>'\n",
              "            + ' to learn more about interactive tables.';\n",
              "          element.innerHTML = '';\n",
              "          dataTable['output_type'] = 'display_data';\n",
              "          await google.colab.output.renderOutput(dataTable, element);\n",
              "          const docLink = document.createElement('div');\n",
              "          docLink.innerHTML = docLinkHtml;\n",
              "          element.appendChild(docLink);\n",
              "        }\n",
              "      </script>\n",
              "    </div>\n",
              "  </div>\n",
              "  "
            ],
            "text/plain": [
              "        theta  f(theta)\n",
              "0   -6.283185 -7.853982\n",
              "1   -6.270606 -7.853981\n",
              "2   -6.258027 -7.853979\n",
              "3   -6.245448 -7.853973\n",
              "4   -6.232870 -7.853960\n",
              "..        ...       ...\n",
              "995  6.232870  4.712368\n",
              "996  6.245448  4.712380\n",
              "997  6.258027  4.712386\n",
              "998  6.270606  4.712389\n",
              "999  6.283185  4.712389\n",
              "\n",
              "[1000 rows x 2 columns]"
            ]
          },
          "metadata": {},
          "execution_count": 48
        }
      ]
    },
    {
      "cell_type": "code",
      "source": [
        "bisec(f,0,3,1e-7)#Raíz más gráfica"
      ],
      "metadata": {
        "colab": {
          "base_uri": "https://localhost:8080/",
          "height": 313
        },
        "id": "z5KPIaMCaR9z",
        "outputId": "73f319ed-c62b-4fe3-d7a3-065d00866c7b"
      },
      "execution_count": 61,
      "outputs": [
        {
          "output_type": "execute_result",
          "data": {
            "text/plain": [
              "{'Raíz por método de bisección': 2.30988147854805}"
            ]
          },
          "metadata": {},
          "execution_count": 61
        },
        {
          "output_type": "display_data",
          "data": {
            "image/png": "[encoded data removed]",
            "text/plain": [
              "<Figure size 432x288 with 1 Axes>"
            ]
          },
          "metadata": {
            "needs_background": "light"
          }
        }
      ]
    },
    {
      "cell_type": "code",
      "source": [
        "NR(f,1,1e-7) #Newton"
      ],
      "metadata": {
        "colab": {
          "base_uri": "https://localhost:8080/",
          "height": 313
        },
        "id": "uHAr79LdgFMx",
        "outputId": "d4e733e5-e771-42a4-da69-112617b977be"
      },
      "execution_count": 60,
      "outputs": [
        {
          "output_type": "execute_result",
          "data": {
            "text/plain": [
              "{'Raíz por método de Newton': 2.309881466454413}"
            ]
          },
          "metadata": {},
          "execution_count": 60
        },
        {
          "output_type": "display_data",
          "data": {
            "image/png": "[encoded data removed]",
            "text/plain": [
              "<Figure size 432x288 with 1 Axes>"
            ]
          },
          "metadata": {
            "needs_background": "light"
          }
        }
      ]
    },
    {
      "cell_type": "code",
      "source": [
        "optimize.fixed_point(g,2) #Punto fijo"
      ],
      "metadata": {
        "id": "19RLHl-UDX9T",
        "colab": {
          "base_uri": "https://localhost:8080/"
        },
        "outputId": "2c3d5dc7-2e03-494a-9514-3202d8fcdaca"
      },
      "execution_count": 69,
      "outputs": [
        {
          "output_type": "execute_result",
          "data": {
            "text/plain": [
              "array(1.572608)"
            ]
          },
          "metadata": {},
          "execution_count": 69
        }
      ]
    },
    {
      "cell_type": "code",
      "source": [
        "secante(f,1,3,1e-7) #Secante"
      ],
      "metadata": {
        "id": "WCvVJ7OFFbqy",
        "colab": {
          "base_uri": "https://localhost:8080/"
        },
        "outputId": "4ffa7af9-4763-459f-fff2-ab2d87903c4c"
      },
      "execution_count": 72,
      "outputs": [
        {
          "output_type": "execute_result",
          "data": {
            "text/plain": [
              "2.3098814600100823"
            ]
          },
          "metadata": {},
          "execution_count": 72
        }
      ]
    },
    {
      "cell_type": "code",
      "source": [
        ""
      ],
      "metadata": {
        "id": "BRkCrld42XBy"
      },
      "execution_count": 113,
      "outputs": []
    }
  ]
}